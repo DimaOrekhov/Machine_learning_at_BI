{
 "cells": [
  {
   "cell_type": "code",
   "execution_count": 385,
   "metadata": {},
   "outputs": [],
   "source": [
    "import pandas as pd\n",
    "import numpy as np\n",
    "import matplotlib.pyplot as plt\n",
    "import seaborn as sns\n",
    "from sklearn.model_selection import train_test_split\n",
    "from tqdm import tqdm_notebook\n",
    "import gc"
   ]
  },
  {
   "cell_type": "code",
   "execution_count": 765,
   "metadata": {},
   "outputs": [],
   "source": [
    "def get_best_features(data, labels, fnames, num_plots=3):\n",
    "    roc_arr = []\n",
    "    pos = (labels == 1).sum()\n",
    "    neg = (labels == 0).sum()\n",
    "    for j in range(data.shape[1]):\n",
    "        vals = np.unique(data[:, j])\n",
    "        ths = np.pad((vals[:-1] + vals[1:])/2, (1, 1), mode='constant', \n",
    "                     constant_values=(vals[0], vals[-1]+0.0001))\n",
    "        tpr_fpr = np.zeros([ths.shape[0], 2])\n",
    "        for i, t in enumerate(ths):\n",
    "            preds = data[:, j] >= t\n",
    "            tpr_fpr[i, 1] = np.logical_and(labels == 0, preds).sum()/neg\n",
    "            tpr_fpr[i, 0] = np.logical_and(labels, preds).sum()/pos   \n",
    "        tpr_fpr = tpr_fpr[tpr_fpr[:, 0].argsort(kind='mergesort')]\n",
    "        roc_auc = np.trapz(y=tpr_fpr[:, 0], x=tpr_fpr[:, 1])\n",
    "        if (roc_auc < 0.5):\n",
    "            tpr_fpr = tpr_fpr[:, [1, 0]]\n",
    "            roc_auc = np.trapz(y=tpr_fpr[:, 0], x=tpr_fpr[:, 1])\n",
    "        roc_arr.append([roc_auc, tpr_fpr, j])\n",
    "    roc_arr = sorted(roc_arr, key=lambda x: x[0], reverse=True)\n",
    "    fig, axarr = plt.subplots(1, num_plots, figsize = [16, 7])\n",
    "    fig.suptitle(f'{num_plots} best features by ROC AUC')\n",
    "    for i in range(num_plots):\n",
    "        axarr[i].plot(np.linspace(0, 1, 20), np.linspace(0, 1, 20), linestyle='--')\n",
    "        axarr[i].plot(roc_arr[i][1][:, 1], roc_arr[i][1][:, 0], \n",
    "                      label=f'ROC AUC = {round(roc_arr[i][0], 3)}\\nFeature: {fnames[roc_arr[i][2]]}')\n",
    "        axarr[i].legend(loc=4)\n",
    "        axarr[i].grid()\n",
    "        axarr[i].set_xlabel('FPR')\n",
    "        axarr[i].set_ylabel('TPR')\n",
    "\n",
    "def my_accuracy(labels, preds):\n",
    "    return (labels == preds).sum()/len(labels)\n",
    "\n",
    "def get_unique_models(acc_arr):\n",
    "    acc_dic = {}\n",
    "    for acc, model in acc_arr:\n",
    "        if acc not in acc_dic.keys():\n",
    "            acc_dic[acc] = model\n",
    "        elif acc_dic[acc].max_depth > model.max_depth:\n",
    "            acc_dic[acc] = model\n",
    "    return acc_dic"
   ]
  },
  {
   "cell_type": "code",
   "execution_count": 748,
   "metadata": {},
   "outputs": [],
   "source": [
    "from sklearn.base import BaseEstimator\n",
    "\n",
    "#IMPURITIES:\n",
    "\n",
    "def gini(labels):\n",
    "    p = np.bincount(labels)/len(labels)\n",
    "    return np.dot(p, 1-p)\n",
    "\n",
    "def entropy(labels):\n",
    "    p = np.bincount(labels)/len(labels)\n",
    "    return -np.dot(p, np.log2(p))\n",
    "\n",
    "def misclass_err(labels):\n",
    "    p = np.bincount(labels)/len(labels)\n",
    "    try:\n",
    "        return 1 - max(p)\n",
    "    except:\n",
    "        return 0\n",
    "\n",
    "class Node:\n",
    "    \n",
    "    data = None\n",
    "    labels = None\n",
    "    \n",
    "    def __init__(self, indices, max_depth, parent=None):\n",
    "        \n",
    "        self.max_depth = max_depth\n",
    "        if parent == None:\n",
    "            self.depth = 0\n",
    "        else:\n",
    "            self.depth = parent.depth + 1\n",
    "        \n",
    "        if self.depth >= self.max_depth:\n",
    "            self.is_leaf = True\n",
    "        else:\n",
    "            self.is_leaf = False\n",
    "        \n",
    "        self.indices = indices  \n",
    "            \n",
    "    def extend(self, stack, impurity):\n",
    "        \n",
    "        labs = self.labels[self.indices]\n",
    "        \n",
    "        if self.is_leaf:\n",
    "            try:\n",
    "                self.prob = (np.bincount(labs)/len(labs))[1]\n",
    "            except:\n",
    "                self.prob = 0\n",
    "            return \n",
    "        \n",
    "        data_set = self.data[self.indices, :]\n",
    "        \n",
    "        max_gain = np.NINF\n",
    "        best_j = None\n",
    "        best_t = None\n",
    "        best_lind = None\n",
    "        best_rind = None\n",
    "        \n",
    "        for j in range(data_set.shape[1]):\n",
    "            vals = np.unique(data_set[:, j])\n",
    "            ths = np.pad((vals[:-1] + vals[1:])/2, (1, 1), mode='constant', \n",
    "                         constant_values=(vals[0], vals[-1]+0.0001))\n",
    "            for t in ths:\n",
    "                node_imp = (data_set.shape[0]/self.data.shape[0])*impurity(labs)\n",
    "                rind = np.logical_and(self.indices, self.data[:, j] >= t)\n",
    "                right_imp = (rind.sum()/self.data.shape[0])*impurity(self.labels[rind])\n",
    "                lind = np.logical_and(self.indices, self.data[:, j] < t)\n",
    "                left_imp = (lind.sum()/self.data.shape[0])*impurity(self.labels[lind])\n",
    "                gain = node_imp - (right_imp + left_imp)\n",
    "                assert(np.logical_xor(rind, lind).sum() == data_set.shape[0])\n",
    "                if gain > max_gain:\n",
    "                    max_gain = gain\n",
    "                    best_j = j\n",
    "                    best_t = t\n",
    "                    best_lind = lind\n",
    "                    best_rind = rind\n",
    "                    \n",
    "        if max_gain > 0:\n",
    "            self.feature = best_j\n",
    "            self.threshold = best_t\n",
    "            self.left_child = Node(best_lind, self.max_depth, self)\n",
    "            self.right_child = Node(best_rind, self.max_depth, self) \n",
    "            stack.append(self.left_child)\n",
    "            stack.append(self.right_child)\n",
    "        else:\n",
    "            self.is_leaf = True\n",
    "            try:\n",
    "                self.prob = (np.bincount(labs)/len(labs))[1]\n",
    "            except:\n",
    "                self.prob = 0\n",
    "    \n",
    "    def decide(self, example):\n",
    "        if self.is_leaf:\n",
    "            return self.prob\n",
    "        else:\n",
    "            if example[self.feature] >= self.threshold:\n",
    "                return self.right_child\n",
    "            else:\n",
    "                return self.left_child\n",
    "\n",
    "class Decision_Tree(BaseEstimator):\n",
    "    \n",
    "    def __init__(self, impurity, max_depth=5):\n",
    "        self.impurity = impurity\n",
    "        self.max_depth = max_depth\n",
    "        Node.data = None\n",
    "        Node.labels = None\n",
    "        \n",
    "    def __del__(self):\n",
    "        Node.data = None\n",
    "        Node.labels = None\n",
    "    \n",
    "    def fit(self, data_set, labels):\n",
    "        Node.data = data_set\n",
    "        Node.labels = labels\n",
    "        self.root = Node(np.full(data_set.shape[0], True), max_depth=self.max_depth)\n",
    "        self.NodeStack = [self.root]\n",
    "        while self.NodeStack:\n",
    "            curr = self.NodeStack.pop()\n",
    "            curr.extend(self.NodeStack, self.impurity)\n",
    "            \n",
    "    def predict_proba(self, data):\n",
    "        probas = np.zeros([data.shape[0], 2])\n",
    "        for i, x in enumerate(data):\n",
    "            curr = self.root\n",
    "            while not curr.is_leaf:\n",
    "                curr = curr.decide(x)\n",
    "            p = curr.decide(x)\n",
    "            probas[i, :] = [1 - p, p]\n",
    "        return probas\n",
    "    \n",
    "    def predict(self, data):\n",
    "        probas = self.predict_proba(data)\n",
    "        preds = probas[:, 1] > 0.5\n",
    "        return preds"
   ]
  },
  {
   "cell_type": "markdown",
   "metadata": {},
   "source": [
    "## Cancer data:"
   ]
  },
  {
   "cell_type": "code",
   "execution_count": 301,
   "metadata": {},
   "outputs": [
    {
     "name": "stdout",
     "output_type": "stream",
     "text": [
      "Index(['M', 'B'], dtype='object')\n"
     ]
    },
    {
     "data": {
      "text/html": [
       "<div>\n",
       "<style scoped>\n",
       "    .dataframe tbody tr th:only-of-type {\n",
       "        vertical-align: middle;\n",
       "    }\n",
       "\n",
       "    .dataframe tbody tr th {\n",
       "        vertical-align: top;\n",
       "    }\n",
       "\n",
       "    .dataframe thead th {\n",
       "        text-align: right;\n",
       "    }\n",
       "</style>\n",
       "<table border=\"1\" class=\"dataframe\">\n",
       "  <thead>\n",
       "    <tr style=\"text-align: right;\">\n",
       "      <th></th>\n",
       "      <th>label</th>\n",
       "      <th>1</th>\n",
       "      <th>2</th>\n",
       "      <th>3</th>\n",
       "      <th>4</th>\n",
       "      <th>5</th>\n",
       "      <th>6</th>\n",
       "      <th>7</th>\n",
       "      <th>8</th>\n",
       "      <th>9</th>\n",
       "      <th>...</th>\n",
       "      <th>21</th>\n",
       "      <th>22</th>\n",
       "      <th>23</th>\n",
       "      <th>24</th>\n",
       "      <th>25</th>\n",
       "      <th>26</th>\n",
       "      <th>27</th>\n",
       "      <th>28</th>\n",
       "      <th>29</th>\n",
       "      <th>30</th>\n",
       "    </tr>\n",
       "  </thead>\n",
       "  <tbody>\n",
       "    <tr>\n",
       "      <th>0</th>\n",
       "      <td>0</td>\n",
       "      <td>17.99</td>\n",
       "      <td>10.38</td>\n",
       "      <td>122.80</td>\n",
       "      <td>1001.0</td>\n",
       "      <td>0.11840</td>\n",
       "      <td>0.27760</td>\n",
       "      <td>0.3001</td>\n",
       "      <td>0.14710</td>\n",
       "      <td>0.2419</td>\n",
       "      <td>...</td>\n",
       "      <td>25.38</td>\n",
       "      <td>17.33</td>\n",
       "      <td>184.60</td>\n",
       "      <td>2019.0</td>\n",
       "      <td>0.1622</td>\n",
       "      <td>0.6656</td>\n",
       "      <td>0.7119</td>\n",
       "      <td>0.2654</td>\n",
       "      <td>0.4601</td>\n",
       "      <td>0.11890</td>\n",
       "    </tr>\n",
       "    <tr>\n",
       "      <th>1</th>\n",
       "      <td>0</td>\n",
       "      <td>20.57</td>\n",
       "      <td>17.77</td>\n",
       "      <td>132.90</td>\n",
       "      <td>1326.0</td>\n",
       "      <td>0.08474</td>\n",
       "      <td>0.07864</td>\n",
       "      <td>0.0869</td>\n",
       "      <td>0.07017</td>\n",
       "      <td>0.1812</td>\n",
       "      <td>...</td>\n",
       "      <td>24.99</td>\n",
       "      <td>23.41</td>\n",
       "      <td>158.80</td>\n",
       "      <td>1956.0</td>\n",
       "      <td>0.1238</td>\n",
       "      <td>0.1866</td>\n",
       "      <td>0.2416</td>\n",
       "      <td>0.1860</td>\n",
       "      <td>0.2750</td>\n",
       "      <td>0.08902</td>\n",
       "    </tr>\n",
       "    <tr>\n",
       "      <th>2</th>\n",
       "      <td>0</td>\n",
       "      <td>19.69</td>\n",
       "      <td>21.25</td>\n",
       "      <td>130.00</td>\n",
       "      <td>1203.0</td>\n",
       "      <td>0.10960</td>\n",
       "      <td>0.15990</td>\n",
       "      <td>0.1974</td>\n",
       "      <td>0.12790</td>\n",
       "      <td>0.2069</td>\n",
       "      <td>...</td>\n",
       "      <td>23.57</td>\n",
       "      <td>25.53</td>\n",
       "      <td>152.50</td>\n",
       "      <td>1709.0</td>\n",
       "      <td>0.1444</td>\n",
       "      <td>0.4245</td>\n",
       "      <td>0.4504</td>\n",
       "      <td>0.2430</td>\n",
       "      <td>0.3613</td>\n",
       "      <td>0.08758</td>\n",
       "    </tr>\n",
       "    <tr>\n",
       "      <th>3</th>\n",
       "      <td>0</td>\n",
       "      <td>11.42</td>\n",
       "      <td>20.38</td>\n",
       "      <td>77.58</td>\n",
       "      <td>386.1</td>\n",
       "      <td>0.14250</td>\n",
       "      <td>0.28390</td>\n",
       "      <td>0.2414</td>\n",
       "      <td>0.10520</td>\n",
       "      <td>0.2597</td>\n",
       "      <td>...</td>\n",
       "      <td>14.91</td>\n",
       "      <td>26.50</td>\n",
       "      <td>98.87</td>\n",
       "      <td>567.7</td>\n",
       "      <td>0.2098</td>\n",
       "      <td>0.8663</td>\n",
       "      <td>0.6869</td>\n",
       "      <td>0.2575</td>\n",
       "      <td>0.6638</td>\n",
       "      <td>0.17300</td>\n",
       "    </tr>\n",
       "    <tr>\n",
       "      <th>4</th>\n",
       "      <td>0</td>\n",
       "      <td>20.29</td>\n",
       "      <td>14.34</td>\n",
       "      <td>135.10</td>\n",
       "      <td>1297.0</td>\n",
       "      <td>0.10030</td>\n",
       "      <td>0.13280</td>\n",
       "      <td>0.1980</td>\n",
       "      <td>0.10430</td>\n",
       "      <td>0.1809</td>\n",
       "      <td>...</td>\n",
       "      <td>22.54</td>\n",
       "      <td>16.67</td>\n",
       "      <td>152.20</td>\n",
       "      <td>1575.0</td>\n",
       "      <td>0.1374</td>\n",
       "      <td>0.2050</td>\n",
       "      <td>0.4000</td>\n",
       "      <td>0.1625</td>\n",
       "      <td>0.2364</td>\n",
       "      <td>0.07678</td>\n",
       "    </tr>\n",
       "  </tbody>\n",
       "</table>\n",
       "<p>5 rows × 31 columns</p>\n",
       "</div>"
      ],
      "text/plain": [
       "   label      1      2       3       4        5        6       7        8  \\\n",
       "0      0  17.99  10.38  122.80  1001.0  0.11840  0.27760  0.3001  0.14710   \n",
       "1      0  20.57  17.77  132.90  1326.0  0.08474  0.07864  0.0869  0.07017   \n",
       "2      0  19.69  21.25  130.00  1203.0  0.10960  0.15990  0.1974  0.12790   \n",
       "3      0  11.42  20.38   77.58   386.1  0.14250  0.28390  0.2414  0.10520   \n",
       "4      0  20.29  14.34  135.10  1297.0  0.10030  0.13280  0.1980  0.10430   \n",
       "\n",
       "        9   ...        21     22      23      24      25      26      27  \\\n",
       "0  0.2419   ...     25.38  17.33  184.60  2019.0  0.1622  0.6656  0.7119   \n",
       "1  0.1812   ...     24.99  23.41  158.80  1956.0  0.1238  0.1866  0.2416   \n",
       "2  0.2069   ...     23.57  25.53  152.50  1709.0  0.1444  0.4245  0.4504   \n",
       "3  0.2597   ...     14.91  26.50   98.87   567.7  0.2098  0.8663  0.6869   \n",
       "4  0.1809   ...     22.54  16.67  152.20  1575.0  0.1374  0.2050  0.4000   \n",
       "\n",
       "       28      29       30  \n",
       "0  0.2654  0.4601  0.11890  \n",
       "1  0.1860  0.2750  0.08902  \n",
       "2  0.2430  0.3613  0.08758  \n",
       "3  0.2575  0.6638  0.17300  \n",
       "4  0.1625  0.2364  0.07678  \n",
       "\n",
       "[5 rows x 31 columns]"
      ]
     },
     "execution_count": 301,
     "metadata": {},
     "output_type": "execute_result"
    }
   ],
   "source": [
    "df_cancer = pd.read_csv('Data/cancer.csv')\n",
    "df_cancer['label'], enc = pd.factorize(df_cancer['label'])\n",
    "print(enc)\n",
    "df_cancer.head()"
   ]
  },
  {
   "cell_type": "code",
   "execution_count": 305,
   "metadata": {},
   "outputs": [],
   "source": [
    "num_data_canc = df_cancer.drop(columns='label').values\n",
    "labels_canc = df_cancer['label'].values"
   ]
  },
  {
   "cell_type": "markdown",
   "metadata": {},
   "source": [
    "### Three best features for making a decision rule:"
   ]
  },
  {
   "cell_type": "code",
   "execution_count": 694,
   "metadata": {},
   "outputs": [
    {
     "data": {
      "image/png": "[encoded data removed]",
      "text/plain": [
       "<Figure size 1152x504 with 3 Axes>"
      ]
     },
     "metadata": {},
     "output_type": "display_data"
    }
   ],
   "source": [
    "get_best_features(num_data_canc, labels_canc, fnames=df_cancer.columns[1:], num_plots=3)"
   ]
  },
  {
   "cell_type": "markdown",
   "metadata": {},
   "source": [
    "### Train-validate split:"
   ]
  },
  {
   "cell_type": "code",
   "execution_count": 696,
   "metadata": {},
   "outputs": [
    {
     "name": "stdout",
     "output_type": "stream",
     "text": [
      "Initial proportions: \n",
      "1    0.627417\n",
      "0    0.372583\n",
      "Name: label, dtype: float64\n",
      "Proportions after splitting: \n",
      "Train: \n",
      "[[ 0.          0.37362637]\n",
      " [ 1.          0.62637363]]\n",
      "Validate: \n",
      "[[ 0.          0.36842105]\n",
      " [ 1.          0.63157895]]\n"
     ]
    }
   ],
   "source": [
    "print('Initial proportions: \\n', df_cancer['label'].value_counts(normalize=True), sep='')\n",
    "X_tc, X_vc, y_tc, y_vc = train_test_split(num_data_canc, labels_canc, test_size=0.2,\n",
    "                                     shuffle=True, stratify=labels_canc)\n",
    "tu, tc = np.unique(y_t, return_counts=True)\n",
    "print('Proportions after splitting: \\n', 'Train: \\n', np.vstack((tu, tc/tc.sum())).T, sep='')\n",
    "vu, vc = np.unique(y_v, return_counts=True)\n",
    "print('Validate: \\n', np.vstack((vu, vc/vc.sum())).T, sep='')"
   ]
  },
  {
   "cell_type": "markdown",
   "metadata": {},
   "source": [
    "### Choosing best trees according to accuracy:"
   ]
  },
  {
   "cell_type": "code",
   "execution_count": 749,
   "metadata": {},
   "outputs": [
    {
     "data": {
      "application/vnd.jupyter.widget-view+json": {
       "model_id": "f7e075b6cc454d3384d101c9d4f2e9cb",
       "version_major": 2,
       "version_minor": 0
      },
      "text/html": [
       "<p>Failed to display Jupyter Widget of type <code>HBox</code>.</p>\n",
       "<p>\n",
       "  If you're reading this message in the Jupyter Notebook or JupyterLab Notebook, it may mean\n",
       "  that the widgets JavaScript is still loading. If this message persists, it\n",
       "  likely means that the widgets JavaScript library is either not installed or\n",
       "  not enabled. See the <a href=\"https://ipywidgets.readthedocs.io/en/stable/user_install.html\">Jupyter\n",
       "  Widgets Documentation</a> for setup instructions.\n",
       "</p>\n",
       "<p>\n",
       "  If you're reading this message in another frontend (for example, a static\n",
       "  rendering on GitHub or <a href=\"https://nbviewer.jupyter.org/\">NBViewer</a>),\n",
       "  it may mean that your frontend doesn't currently support widgets.\n",
       "</p>\n"
      ],
      "text/plain": [
       "HBox(children=(IntProgress(value=1, bar_style='info', max=1), HTML(value='')))"
      ]
     },
     "metadata": {},
     "output_type": "display_data"
    },
    {
     "name": "stdout",
     "output_type": "stream",
     "text": [
      "\n"
     ]
    }
   ],
   "source": [
    "import warnings\n",
    "from itertools import product\n",
    "from tqdm import tqdm_notebook\n",
    "warnings.filterwarnings('ignore')\n",
    "acc_arr = []\n",
    "for depth, impurity in tqdm_notebook(product(range(1, 11), [gini, entropy, misclass_err])):\n",
    "    model = Decision_Tree(impurity, max_depth=depth)\n",
    "    model.fit(X_tc, y_tc)\n",
    "    preds = model.predict(X_vc)\n",
    "    acc_arr.append((my_accuracy(y_vc, preds), model))"
   ]
  },
  {
   "cell_type": "code",
   "execution_count": 769,
   "metadata": {},
   "outputs": [
    {
     "name": "stdout",
     "output_type": "stream",
     "text": [
      "Best parameters: \n",
      "MaxDepth = 4; Impurity: gini Accuracy = 0.9649122807\n",
      "MaxDepth = 4; Impurity: entropy Accuracy = 0.9561403509\n",
      "MaxDepth = 5; Impurity: entropy Accuracy = 0.9385964912\n"
     ]
    }
   ],
   "source": [
    "top_c = get_unique_models(acc_arr)\n",
    "top_c = [(k, top_c[k]) for k in sorted(top_c, reverse=True)]\n",
    "print('Best parameters: ')\n",
    "for i, tup in enumerate(top_c):\n",
    "    print(f'MaxDepth = {tup[1].max_depth};', \n",
    "          f'Impurity: {tup[1].impurity.__name__}', \n",
    "          f'Accuracy = {round(tup[0], 10)}')\n",
    "    if i == 2: break"
   ]
  },
  {
   "cell_type": "markdown",
   "metadata": {},
   "source": [
    "### Building ROCs for best models:"
   ]
  },
  {
   "cell_type": "code",
   "execution_count": 812,
   "metadata": {},
   "outputs": [],
   "source": [
    "def top_rocs(top, test, labels):\n",
    "    probas_arr = [model.predict_proba(test) for _, model in top]\n",
    "    fig, axarr = plt.subplots(1, 3, figsize=[16, 7])\n",
    "    fig.suptitle('ROC curves:')\n",
    "    for i, ax in enumerate(axarr):\n",
    "        fpr, tpr, score = my_roc_curve(labels, probas_arr[i][:, 1])\n",
    "        ax.plot(np.linspace(0, 1, 20), np.linspace(0, 1, 20), linestyle='--')\n",
    "        ax.plot(fpr, tpr,\n",
    "               label='ROC AUC = {}\\nMax Depth = {}\\nImpurity: {}'\\\n",
    "               .format(round(score, 3), top[i][1].max_depth, top[i][1].impurity.__name__))\n",
    "        ax.legend(loc=4)\n",
    "        ax.grid()\n",
    "        ax.set_xlabel('FPR')\n",
    "        ax.set_ylabel('TPR')\n",
    "        \n",
    "def my_roc_curve(labels, preds):\n",
    "    vals = np.unique(preds)\n",
    "    ths = np.pad((vals[:-1] + vals[1:])/2, (1, 1), mode='constant', \n",
    "                    constant_values=(vals[0], vals[-1]+0.0001))\n",
    "    tpr_fpr = np.zeros([ths.shape[0]+1, 2])\n",
    "    for i, t in enumerate(ths):\n",
    "        p = preds >= t\n",
    "        tpr_fpr[i, 0] = np.logical_and(labels == 1, p).sum()/(labels == 1).sum()\n",
    "        tpr_fpr[i, 1] = np.logical_and(labels == 0, p).sum()/(labels == 0).sum()\n",
    "    tpr_fpr = tpr_fpr[tpr_fpr[:, 0].argsort(kind='mergesort')]\n",
    "    roc_auc = np.trapz(y=tpr_fpr[:, 0], x=tpr_fpr[:, 1])\n",
    "    return tpr_fpr[:, 1], tpr_fpr[:, 0], roc_auc"
   ]
  },
  {
   "cell_type": "code",
   "execution_count": 813,
   "metadata": {},
   "outputs": [
    {
     "data": {
      "image/png": "[encoded data removed]",
      "text/plain": [
       "<Figure size 1152x504 with 3 Axes>"
      ]
     },
     "metadata": {},
     "output_type": "display_data"
    }
   ],
   "source": [
    "top_rocs(top_c, X_vc, y_vc)"
   ]
  },
  {
   "cell_type": "markdown",
   "metadata": {},
   "source": [
    "## Spam data:"
   ]
  },
  {
   "cell_type": "code",
   "execution_count": 175,
   "metadata": {},
   "outputs": [
    {
     "data": {
      "text/html": [
       "<div>\n",
       "<style scoped>\n",
       "    .dataframe tbody tr th:only-of-type {\n",
       "        vertical-align: middle;\n",
       "    }\n",
       "\n",
       "    .dataframe tbody tr th {\n",
       "        vertical-align: top;\n",
       "    }\n",
       "\n",
       "    .dataframe thead th {\n",
       "        text-align: right;\n",
       "    }\n",
       "</style>\n",
       "<table border=\"1\" class=\"dataframe\">\n",
       "  <thead>\n",
       "    <tr style=\"text-align: right;\">\n",
       "      <th></th>\n",
       "      <th>word_freq_make</th>\n",
       "      <th>word_freq_address</th>\n",
       "      <th>word_freq_all</th>\n",
       "      <th>word_freq_3d</th>\n",
       "      <th>word_freq_our</th>\n",
       "      <th>word_freq_over</th>\n",
       "      <th>word_freq_remove</th>\n",
       "      <th>word_freq_internet</th>\n",
       "      <th>word_freq_order</th>\n",
       "      <th>word_freq_mail</th>\n",
       "      <th>...</th>\n",
       "      <th>char_freq_:</th>\n",
       "      <th>char_freq_(</th>\n",
       "      <th>char_freq_[</th>\n",
       "      <th>char_freq_!</th>\n",
       "      <th>char_freq_$</th>\n",
       "      <th>char_freq_#</th>\n",
       "      <th>capital_run_length_average</th>\n",
       "      <th>capital_run_length_longest</th>\n",
       "      <th>capital_run_length_total</th>\n",
       "      <th>label</th>\n",
       "    </tr>\n",
       "  </thead>\n",
       "  <tbody>\n",
       "    <tr>\n",
       "      <th>0</th>\n",
       "      <td>0.00</td>\n",
       "      <td>0.64</td>\n",
       "      <td>0.64</td>\n",
       "      <td>0.0</td>\n",
       "      <td>0.32</td>\n",
       "      <td>0.00</td>\n",
       "      <td>0.00</td>\n",
       "      <td>0.00</td>\n",
       "      <td>0.00</td>\n",
       "      <td>0.00</td>\n",
       "      <td>...</td>\n",
       "      <td>0.00</td>\n",
       "      <td>0.000</td>\n",
       "      <td>0.0</td>\n",
       "      <td>0.778</td>\n",
       "      <td>0.000</td>\n",
       "      <td>0.000</td>\n",
       "      <td>3.756</td>\n",
       "      <td>61</td>\n",
       "      <td>278</td>\n",
       "      <td>1</td>\n",
       "    </tr>\n",
       "    <tr>\n",
       "      <th>1</th>\n",
       "      <td>0.21</td>\n",
       "      <td>0.28</td>\n",
       "      <td>0.50</td>\n",
       "      <td>0.0</td>\n",
       "      <td>0.14</td>\n",
       "      <td>0.28</td>\n",
       "      <td>0.21</td>\n",
       "      <td>0.07</td>\n",
       "      <td>0.00</td>\n",
       "      <td>0.94</td>\n",
       "      <td>...</td>\n",
       "      <td>0.00</td>\n",
       "      <td>0.132</td>\n",
       "      <td>0.0</td>\n",
       "      <td>0.372</td>\n",
       "      <td>0.180</td>\n",
       "      <td>0.048</td>\n",
       "      <td>5.114</td>\n",
       "      <td>101</td>\n",
       "      <td>1028</td>\n",
       "      <td>1</td>\n",
       "    </tr>\n",
       "    <tr>\n",
       "      <th>2</th>\n",
       "      <td>0.06</td>\n",
       "      <td>0.00</td>\n",
       "      <td>0.71</td>\n",
       "      <td>0.0</td>\n",
       "      <td>1.23</td>\n",
       "      <td>0.19</td>\n",
       "      <td>0.19</td>\n",
       "      <td>0.12</td>\n",
       "      <td>0.64</td>\n",
       "      <td>0.25</td>\n",
       "      <td>...</td>\n",
       "      <td>0.01</td>\n",
       "      <td>0.143</td>\n",
       "      <td>0.0</td>\n",
       "      <td>0.276</td>\n",
       "      <td>0.184</td>\n",
       "      <td>0.010</td>\n",
       "      <td>9.821</td>\n",
       "      <td>485</td>\n",
       "      <td>2259</td>\n",
       "      <td>1</td>\n",
       "    </tr>\n",
       "    <tr>\n",
       "      <th>3</th>\n",
       "      <td>0.00</td>\n",
       "      <td>0.00</td>\n",
       "      <td>0.00</td>\n",
       "      <td>0.0</td>\n",
       "      <td>0.63</td>\n",
       "      <td>0.00</td>\n",
       "      <td>0.31</td>\n",
       "      <td>0.63</td>\n",
       "      <td>0.31</td>\n",
       "      <td>0.63</td>\n",
       "      <td>...</td>\n",
       "      <td>0.00</td>\n",
       "      <td>0.137</td>\n",
       "      <td>0.0</td>\n",
       "      <td>0.137</td>\n",
       "      <td>0.000</td>\n",
       "      <td>0.000</td>\n",
       "      <td>3.537</td>\n",
       "      <td>40</td>\n",
       "      <td>191</td>\n",
       "      <td>1</td>\n",
       "    </tr>\n",
       "    <tr>\n",
       "      <th>4</th>\n",
       "      <td>0.00</td>\n",
       "      <td>0.00</td>\n",
       "      <td>0.00</td>\n",
       "      <td>0.0</td>\n",
       "      <td>0.63</td>\n",
       "      <td>0.00</td>\n",
       "      <td>0.31</td>\n",
       "      <td>0.63</td>\n",
       "      <td>0.31</td>\n",
       "      <td>0.63</td>\n",
       "      <td>...</td>\n",
       "      <td>0.00</td>\n",
       "      <td>0.135</td>\n",
       "      <td>0.0</td>\n",
       "      <td>0.135</td>\n",
       "      <td>0.000</td>\n",
       "      <td>0.000</td>\n",
       "      <td>3.537</td>\n",
       "      <td>40</td>\n",
       "      <td>191</td>\n",
       "      <td>1</td>\n",
       "    </tr>\n",
       "  </tbody>\n",
       "</table>\n",
       "<p>5 rows × 58 columns</p>\n",
       "</div>"
      ],
      "text/plain": [
       "   word_freq_make  word_freq_address  word_freq_all  word_freq_3d  \\\n",
       "0            0.00               0.64           0.64           0.0   \n",
       "1            0.21               0.28           0.50           0.0   \n",
       "2            0.06               0.00           0.71           0.0   \n",
       "3            0.00               0.00           0.00           0.0   \n",
       "4            0.00               0.00           0.00           0.0   \n",
       "\n",
       "   word_freq_our  word_freq_over  word_freq_remove  word_freq_internet  \\\n",
       "0           0.32            0.00              0.00                0.00   \n",
       "1           0.14            0.28              0.21                0.07   \n",
       "2           1.23            0.19              0.19                0.12   \n",
       "3           0.63            0.00              0.31                0.63   \n",
       "4           0.63            0.00              0.31                0.63   \n",
       "\n",
       "   word_freq_order  word_freq_mail  ...    char_freq_:  char_freq_(  \\\n",
       "0             0.00            0.00  ...           0.00        0.000   \n",
       "1             0.00            0.94  ...           0.00        0.132   \n",
       "2             0.64            0.25  ...           0.01        0.143   \n",
       "3             0.31            0.63  ...           0.00        0.137   \n",
       "4             0.31            0.63  ...           0.00        0.135   \n",
       "\n",
       "   char_freq_[  char_freq_!  char_freq_$  char_freq_#  \\\n",
       "0          0.0        0.778        0.000        0.000   \n",
       "1          0.0        0.372        0.180        0.048   \n",
       "2          0.0        0.276        0.184        0.010   \n",
       "3          0.0        0.137        0.000        0.000   \n",
       "4          0.0        0.135        0.000        0.000   \n",
       "\n",
       "   capital_run_length_average  capital_run_length_longest  \\\n",
       "0                       3.756                          61   \n",
       "1                       5.114                         101   \n",
       "2                       9.821                         485   \n",
       "3                       3.537                          40   \n",
       "4                       3.537                          40   \n",
       "\n",
       "   capital_run_length_total  label  \n",
       "0                       278      1  \n",
       "1                      1028      1  \n",
       "2                      2259      1  \n",
       "3                       191      1  \n",
       "4                       191      1  \n",
       "\n",
       "[5 rows x 58 columns]"
      ]
     },
     "execution_count": 175,
     "metadata": {},
     "output_type": "execute_result"
    }
   ],
   "source": [
    "df_spam = pd.read_csv('Data/spam.csv')\n",
    "df_spam.head()"
   ]
  },
  {
   "cell_type": "code",
   "execution_count": 187,
   "metadata": {},
   "outputs": [],
   "source": [
    "num_data_spam = df_spam.drop(columns='label').values\n",
    "labels_spam = df_spam['label'].values"
   ]
  },
  {
   "cell_type": "code",
   "execution_count": 695,
   "metadata": {},
   "outputs": [
    {
     "data": {
      "image/png": "[encoded data removed]",
      "text/plain": [
       "<Figure size 1152x504 with 3 Axes>"
      ]
     },
     "metadata": {},
     "output_type": "display_data"
    }
   ],
   "source": [
    "get_best_features(num_data_spam, labels_spam, fnames=df_spam.columns[:-1])"
   ]
  },
  {
   "cell_type": "markdown",
   "metadata": {},
   "source": [
    "### Train-validate split:"
   ]
  },
  {
   "cell_type": "code",
   "execution_count": 814,
   "metadata": {},
   "outputs": [
    {
     "name": "stdout",
     "output_type": "stream",
     "text": [
      "Initial proportions: \n",
      "0    0.605955\n",
      "1    0.394045\n",
      "Name: label, dtype: float64\n",
      "Proportions after splitting: \n",
      "Train: \n",
      "[[ 0.          0.60597826]\n",
      " [ 1.          0.39402174]]\n",
      "Validate: \n",
      "[[ 0.          0.60586319]\n",
      " [ 1.          0.39413681]]\n"
     ]
    }
   ],
   "source": [
    "print('Initial proportions: \\n', df_spam['label'].value_counts(normalize=True), sep='')\n",
    "X_ts, X_vs, y_ts, y_vs = train_test_split(num_data_spam, labels_spam, test_size=0.2,\n",
    "                                     shuffle=True, stratify=labels_spam)\n",
    "tu, tc = np.unique(y_ts, return_counts=True)\n",
    "print('Proportions after splitting: \\n', 'Train: \\n', np.vstack((tu, tc/tc.sum())).T, sep='')\n",
    "vu, vc = np.unique(y_vs, return_counts=True)\n",
    "print('Validate: \\n', np.vstack((vu, vc/vc.sum())).T, sep='')"
   ]
  },
  {
   "cell_type": "markdown",
   "metadata": {},
   "source": [
    "### Choosing best trees according to accuracy:"
   ]
  },
  {
   "cell_type": "code",
   "execution_count": 815,
   "metadata": {},
   "outputs": [
    {
     "data": {
      "application/vnd.jupyter.widget-view+json": {
       "model_id": "0f69c42dfe9f4e85bddc8fa767cf398f",
       "version_major": 2,
       "version_minor": 0
      },
      "text/html": [
       "<p>Failed to display Jupyter Widget of type <code>HBox</code>.</p>\n",
       "<p>\n",
       "  If you're reading this message in the Jupyter Notebook or JupyterLab Notebook, it may mean\n",
       "  that the widgets JavaScript is still loading. If this message persists, it\n",
       "  likely means that the widgets JavaScript library is either not installed or\n",
       "  not enabled. See the <a href=\"https://ipywidgets.readthedocs.io/en/stable/user_install.html\">Jupyter\n",
       "  Widgets Documentation</a> for setup instructions.\n",
       "</p>\n",
       "<p>\n",
       "  If you're reading this message in another frontend (for example, a static\n",
       "  rendering on GitHub or <a href=\"https://nbviewer.jupyter.org/\">NBViewer</a>),\n",
       "  it may mean that your frontend doesn't currently support widgets.\n",
       "</p>\n"
      ],
      "text/plain": [
       "HBox(children=(IntProgress(value=1, bar_style='info', max=1), HTML(value='')))"
      ]
     },
     "metadata": {},
     "output_type": "display_data"
    },
    {
     "name": "stdout",
     "output_type": "stream",
     "text": [
      "\n"
     ]
    }
   ],
   "source": [
    "acc_arrs = []\n",
    "for depth, impurity in tqdm_notebook(product(range(1, 11), [gini, entropy, misclass_err])):\n",
    "    model = Decision_Tree(impurity, max_depth=depth)\n",
    "    model.fit(X_ts, y_ts)\n",
    "    preds = model.predict(X_vs)\n",
    "    acc_arrs.append((my_accuracy(y_vs, preds), model))"
   ]
  },
  {
   "cell_type": "code",
   "execution_count": 828,
   "metadata": {},
   "outputs": [
    {
     "name": "stdout",
     "output_type": "stream",
     "text": [
      "Best parameters: \n",
      "MaxDepth = 9; Impurity: entropy Accuracy = 0.9239956569\n",
      "MaxDepth = 10; Impurity: gini Accuracy = 0.9218241042\n",
      "MaxDepth = 7; Impurity: entropy Accuracy = 0.9207383279\n"
     ]
    }
   ],
   "source": [
    "top_s = get_unique_models(acc_arrs)\n",
    "top_s = [(k, top_s[k]) for k in sorted(top_s, reverse=True)]\n",
    "print('Best parameters: ')\n",
    "for i, tup in enumerate(top_s):\n",
    "    print(f'MaxDepth = {tup[1].max_depth};', \n",
    "          f'Impurity: {tup[1].impurity.__name__}', \n",
    "          f'Accuracy = {round(tup[0], 10)}')\n",
    "    if i == 2: break"
   ]
  },
  {
   "cell_type": "markdown",
   "metadata": {},
   "source": [
    "### Building ROCs for best models:"
   ]
  },
  {
   "cell_type": "code",
   "execution_count": 829,
   "metadata": {},
   "outputs": [
    {
     "data": {
      "image/png": "[encoded data removed]",
      "text/plain": [
       "<Figure size 1152x504 with 3 Axes>"
      ]
     },
     "metadata": {},
     "output_type": "display_data"
    }
   ],
   "source": [
    "top_rocs(top_s, X_vs, y_vs)"
   ]
  }
 ],
 "metadata": {
  "kernelspec": {
   "display_name": "Python 3",
   "language": "python",
   "name": "python3"
  },
  "language_info": {
   "codemirror_mode": {
    "name": "ipython",
    "version": 3
   },
   "file_extension": ".py",
   "mimetype": "text/x-python",
   "name": "python",
   "nbconvert_exporter": "python",
   "pygments_lexer": "ipython3",
   "version": "3.6.8"
  },
  "widgets": {
   "application/vnd.jupyter.widget-state+json": {
    "state": {
     "00965845ba40456ea41274151d71a2da": {
      "model_module": "@jupyter-widgets/base",
      "model_module_version": "1.0.0",
      "model_name": "LayoutModel",
      "state": {}
     },
     "01a1ce9f5380489b8710169e4536db39": {
      "model_module": "@jupyter-widgets/controls",
      "model_module_version": "1.1.0",
      "model_name": "IntProgressModel",
      "state": {
       "bar_style": "success",
       "layout": "IPY_MODEL_98ca9aa584f0458fa52a210b4197e256",
       "max": 30,
       "style": "IPY_MODEL_84af776505494225b97f23c0b268776b",
       "value": 30
      }
     },
     "03049715fb2c40f1a5bd3fcf5edd4e86": {
      "model_module": "@jupyter-widgets/base",
      "model_module_version": "1.0.0",
      "model_name": "LayoutModel",
      "state": {}
     },
     "043408897c424f0f893acef959f306ed": {
      "model_module": "@jupyter-widgets/base",
      "model_module_version": "1.0.0",
      "model_name": "LayoutModel",
      "state": {}
     },
     "04604e2a1f684a6facd5bfcd4291d9d0": {
      "model_module": "@jupyter-widgets/controls",
      "model_module_version": "1.1.0",
      "model_name": "HBoxModel",
      "state": {
       "children": [
        "IPY_MODEL_8f985e87b7c24c8eaf54056e2a2c2d0f",
        "IPY_MODEL_d5ae850a960949fd879cb1ff5998d6a0"
       ],
       "layout": "IPY_MODEL_59699f37dc954734a22f5b6a9d7f5e00"
      }
     },
     "04b32a628c1f4dcea24f9bdb95a7c624": {
      "model_module": "@jupyter-widgets/controls",
      "model_module_version": "1.1.0",
      "model_name": "ProgressStyleModel",
      "state": {
       "description_width": ""
      }
     },
     "04e44d8bbdc547808707cbfe9ba24203": {
      "model_module": "@jupyter-widgets/controls",
      "model_module_version": "1.1.0",
      "model_name": "HBoxModel",
      "state": {
       "children": [
        "IPY_MODEL_855d83b02afc4f4ca27a62c1f81c3538",
        "IPY_MODEL_7a46ad38befb45eb959756638ccbddfd"
       ],
       "layout": "IPY_MODEL_50650bc4b3c94fc3812b48dd66a858e7"
      }
     },
     "052d34b6d3df4177b1d6cad72910328c": {
      "model_module": "@jupyter-widgets/controls",
      "model_module_version": "1.1.0",
      "model_name": "HBoxModel",
      "state": {
       "children": [
        "IPY_MODEL_fa5e997634744607b16b4705bd512c92",
        "IPY_MODEL_ba669112d7684dbabbe0d1c2bf36908c"
       ],
       "layout": "IPY_MODEL_18ee6de5efab410f849dde43f6fb553b"
      }
     },
     "05479620d15045f699e1bc652151d33b": {
      "model_module": "@jupyter-widgets/controls",
      "model_module_version": "1.1.0",
      "model_name": "ProgressStyleModel",
      "state": {
       "description_width": ""
      }
     },
     "0577704414824e8da90aa68ecf491d12": {
      "model_module": "@jupyter-widgets/base",
      "model_module_version": "1.0.0",
      "model_name": "LayoutModel",
      "state": {}
     },
     "0695689f9bb94438a428b69303600bc5": {
      "model_module": "@jupyter-widgets/controls",
      "model_module_version": "1.1.0",
      "model_name": "IntProgressModel",
      "state": {
       "bar_style": "success",
       "layout": "IPY_MODEL_76885c95c6bf43dd95227dc37acdb320",
       "max": 1,
       "style": "IPY_MODEL_c07c56ffcd6d43039b15c1d60fa24af0",
       "value": 1
      }
     },
     "071ffbe281ab46b68f5582fb89b72717": {
      "model_module": "@jupyter-widgets/controls",
      "model_module_version": "1.1.0",
      "model_name": "DescriptionStyleModel",
      "state": {
       "description_width": ""
      }
     },
     "07caa33d666b4157915c6e3163cf7998": {
      "model_module": "@jupyter-widgets/base",
      "model_module_version": "1.0.0",
      "model_name": "LayoutModel",
      "state": {}
     },
     "07db3857e0164087b015b9fbef7d1fb0": {
      "model_module": "@jupyter-widgets/base",
      "model_module_version": "1.0.0",
      "model_name": "LayoutModel",
      "state": {}
     },
     "08088721e1ba4abaa4264d92e239a851": {
      "model_module": "@jupyter-widgets/controls",
      "model_module_version": "1.1.0",
      "model_name": "DescriptionStyleModel",
      "state": {
       "description_width": ""
      }
     },
     "0808a20ce97a44a78ea3589890e568bb": {
      "model_module": "@jupyter-widgets/controls",
      "model_module_version": "1.1.0",
      "model_name": "DescriptionStyleModel",
      "state": {
       "description_width": ""
      }
     },
     "08eaeb8834d344dabe0c552e2e99cfd8": {
      "model_module": "@jupyter-widgets/controls",
      "model_module_version": "1.1.0",
      "model_name": "HBoxModel",
      "state": {
       "children": [
        "IPY_MODEL_7eae380d33344bf19cea53cc85bcefd6",
        "IPY_MODEL_6ea5f992b0214d43ab8c3a231a263c71"
       ],
       "layout": "IPY_MODEL_48d0447195a54b9bb07b85625dc095d4"
      }
     },
     "0cb990a0439e40b1936437809effc35a": {
      "model_module": "@jupyter-widgets/controls",
      "model_module_version": "1.1.0",
      "model_name": "HBoxModel",
      "state": {
       "children": [
        "IPY_MODEL_f91e1789e1794f34a5ce6e52381e940f",
        "IPY_MODEL_8b4767a7ef1a4fa0b593b5c4af9409dc"
       ],
       "layout": "IPY_MODEL_6e47956ad063416d9fcf7e0a0937ba54"
      }
     },
     "0cf23cff5ecf431699d32eb558f41261": {
      "model_module": "@jupyter-widgets/controls",
      "model_module_version": "1.1.0",
      "model_name": "HBoxModel",
      "state": {
       "children": [
        "IPY_MODEL_0fbfb4a2eef74fd5ab66d1e923d17dba",
        "IPY_MODEL_c52b3c90c2824745b089740c96d88822"
       ],
       "layout": "IPY_MODEL_21eefcb77e574651b5c75597df3e2246"
      }
     },
     "0dcfa0db9ff9460aada5c9112ef9c20c": {
      "model_module": "@jupyter-widgets/controls",
      "model_module_version": "1.1.0",
      "model_name": "DescriptionStyleModel",
      "state": {
       "description_width": ""
      }
     },
     "0f69c42dfe9f4e85bddc8fa767cf398f": {
      "model_module": "@jupyter-widgets/controls",
      "model_module_version": "1.1.0",
      "model_name": "HBoxModel",
      "state": {
       "children": [
        "IPY_MODEL_9ec13ede64fb491ba9d268f753fec79f",
        "IPY_MODEL_eb33295389f8465c93d24f3619b91d10"
       ],
       "layout": "IPY_MODEL_ba5e35c8c7124dea880f019af26ffae0"
      }
     },
     "0fbfb4a2eef74fd5ab66d1e923d17dba": {
      "model_module": "@jupyter-widgets/controls",
      "model_module_version": "1.1.0",
      "model_name": "IntProgressModel",
      "state": {
       "bar_style": "success",
       "layout": "IPY_MODEL_73a401bad0134149bc3b3d99bd0da721",
       "max": 1,
       "style": "IPY_MODEL_cce926d91c7749c4ab6af59e2f094017",
       "value": 1
      }
     },
     "10d77078651d45e5a6339013b0bcd11b": {
      "model_module": "@jupyter-widgets/base",
      "model_module_version": "1.0.0",
      "model_name": "LayoutModel",
      "state": {}
     },
     "11456e176d294cfa8d5f63311ad3aae0": {
      "model_module": "@jupyter-widgets/controls",
      "model_module_version": "1.1.0",
      "model_name": "DescriptionStyleModel",
      "state": {
       "description_width": ""
      }
     },
     "148fad0fdf024bdcace80d27e0147bc7": {
      "model_module": "@jupyter-widgets/controls",
      "model_module_version": "1.1.0",
      "model_name": "HBoxModel",
      "state": {
       "children": [
        "IPY_MODEL_6d92e202e41d402297e434f3155f4f97",
        "IPY_MODEL_cdd6154b8685484b998d65ad69375170"
       ],
       "layout": "IPY_MODEL_2b260f98a6924523be682cbfe0223b7d"
      }
     },
     "151054cb59cd407d8c576f432bc9d523": {
      "model_module": "@jupyter-widgets/base",
      "model_module_version": "1.0.0",
      "model_name": "LayoutModel",
      "state": {}
     },
     "1684729c1fe04a878d092227ccdb12c1": {
      "model_module": "@jupyter-widgets/controls",
      "model_module_version": "1.1.0",
      "model_name": "DescriptionStyleModel",
      "state": {
       "description_width": ""
      }
     },
     "18ee6de5efab410f849dde43f6fb553b": {
      "model_module": "@jupyter-widgets/base",
      "model_module_version": "1.0.0",
      "model_name": "LayoutModel",
      "state": {}
     },
     "19b01008bca640f99bf8f44109fb73c1": {
      "model_module": "@jupyter-widgets/base",
      "model_module_version": "1.0.0",
      "model_name": "LayoutModel",
      "state": {}
     },
     "1d551b0978714fe5902c3f4e382b1f32": {
      "model_module": "@jupyter-widgets/base",
      "model_module_version": "1.0.0",
      "model_name": "LayoutModel",
      "state": {}
     },
     "1e63767b0099448f8e1764df729464f1": {
      "model_module": "@jupyter-widgets/controls",
      "model_module_version": "1.1.0",
      "model_name": "IntProgressModel",
      "state": {
       "bar_style": "danger",
       "layout": "IPY_MODEL_7d6da09b024c475aa3f4a35f633c68dc",
       "max": 30,
       "style": "IPY_MODEL_aa6956bb61894d0ca235c1bb66abaeaf"
      }
     },
     "2097465028a24f76a92e21a2336720f3": {
      "model_module": "@jupyter-widgets/controls",
      "model_module_version": "1.1.0",
      "model_name": "DescriptionStyleModel",
      "state": {
       "description_width": ""
      }
     },
     "21eefcb77e574651b5c75597df3e2246": {
      "model_module": "@jupyter-widgets/base",
      "model_module_version": "1.0.0",
      "model_name": "LayoutModel",
      "state": {}
     },
     "221cbc0457cf4c7593e027a7a72f44d6": {
      "model_module": "@jupyter-widgets/controls",
      "model_module_version": "1.1.0",
      "model_name": "ProgressStyleModel",
      "state": {
       "description_width": ""
      }
     },
     "2275c5a7fa4e48969106f3beebba5e8f": {
      "model_module": "@jupyter-widgets/controls",
      "model_module_version": "1.1.0",
      "model_name": "HBoxModel",
      "state": {
       "children": [
        "IPY_MODEL_f25be1f7f9b24ffaa32e7dd35507c8ab",
        "IPY_MODEL_9fb2c92fc0e642adb32af4fd3960c70d"
       ],
       "layout": "IPY_MODEL_553cee27d72c4ed0ae70764aabda1ebf"
      }
     },
     "25729e5f2b104446bca804afcd2340b0": {
      "model_module": "@jupyter-widgets/controls",
      "model_module_version": "1.1.0",
      "model_name": "DescriptionStyleModel",
      "state": {
       "description_width": ""
      }
     },
     "25d9c461e34e45eaa15da644332104e9": {
      "model_module": "@jupyter-widgets/controls",
      "model_module_version": "1.1.0",
      "model_name": "ProgressStyleModel",
      "state": {
       "description_width": ""
      }
     },
     "262c50648bdc4099bd69a83df6959237": {
      "model_module": "@jupyter-widgets/controls",
      "model_module_version": "1.1.0",
      "model_name": "ProgressStyleModel",
      "state": {
       "description_width": ""
      }
     },
     "26d77853a53e4c2ab5d62678cf4aa1d5": {
      "model_module": "@jupyter-widgets/base",
      "model_module_version": "1.0.0",
      "model_name": "LayoutModel",
      "state": {}
     },
     "2ac6e798ec454776b9de2968954d1ef6": {
      "model_module": "@jupyter-widgets/base",
      "model_module_version": "1.0.0",
      "model_name": "LayoutModel",
      "state": {}
     },
     "2b260f98a6924523be682cbfe0223b7d": {
      "model_module": "@jupyter-widgets/base",
      "model_module_version": "1.0.0",
      "model_name": "LayoutModel",
      "state": {}
     },
     "2cd5bbfafb2e4be2a8fc464a3eff9fd6": {
      "model_module": "@jupyter-widgets/base",
      "model_module_version": "1.0.0",
      "model_name": "LayoutModel",
      "state": {}
     },
     "2d93825c3f3d43aaa2792dd0e2693376": {
      "model_module": "@jupyter-widgets/controls",
      "model_module_version": "1.1.0",
      "model_name": "HBoxModel",
      "state": {
       "children": [
        "IPY_MODEL_6425300a46b44884b96f4611f21aef2d",
        "IPY_MODEL_8392732f4a1d4e00b9d23dea63ed5326"
       ],
       "layout": "IPY_MODEL_a05a8bca02c44f31a6ea68dd422b2635"
      }
     },
     "2dcdfc24a4e5424da6f3a6c375ae853c": {
      "model_module": "@jupyter-widgets/base",
      "model_module_version": "1.0.0",
      "model_name": "LayoutModel",
      "state": {}
     },
     "2ec0f63f71a44a5f9e456287ae54d1cb": {
      "model_module": "@jupyter-widgets/controls",
      "model_module_version": "1.1.0",
      "model_name": "ProgressStyleModel",
      "state": {
       "description_width": ""
      }
     },
     "3322ef82131d4f70a2dade1ae49088da": {
      "model_module": "@jupyter-widgets/base",
      "model_module_version": "1.0.0",
      "model_name": "LayoutModel",
      "state": {}
     },
     "338f0c1e009846629ce38a67eb30804d": {
      "model_module": "@jupyter-widgets/controls",
      "model_module_version": "1.1.0",
      "model_name": "HBoxModel",
      "state": {
       "children": [
        "IPY_MODEL_7548b58aea7849bb858995eaf65dc6ae",
        "IPY_MODEL_3845c247e24f451b882a1f9d45562a19"
       ],
       "layout": "IPY_MODEL_5f36776efcd642bb9a7cda4cf03bada6"
      }
     },
     "344e118edd6b4777b3346c939801fb53": {
      "model_module": "@jupyter-widgets/base",
      "model_module_version": "1.0.0",
      "model_name": "LayoutModel",
      "state": {}
     },
     "357bf84a698247e59c778ab54f19e170": {
      "model_module": "@jupyter-widgets/base",
      "model_module_version": "1.0.0",
      "model_name": "LayoutModel",
      "state": {}
     },
     "359653224f4b4696a3e516c2400d21a7": {
      "model_module": "@jupyter-widgets/controls",
      "model_module_version": "1.1.0",
      "model_name": "IntProgressModel",
      "state": {
       "bar_style": "success",
       "layout": "IPY_MODEL_7a33fa28031f4edcb305c215f97ce48d",
       "max": 57,
       "style": "IPY_MODEL_05479620d15045f699e1bc652151d33b",
       "value": 57
      }
     },
     "35bb14fd75e24552a8713783eadcc763": {
      "model_module": "@jupyter-widgets/base",
      "model_module_version": "1.0.0",
      "model_name": "LayoutModel",
      "state": {}
     },
     "35f1fc698b5d44d19a2a25addf2870bd": {
      "model_module": "@jupyter-widgets/controls",
      "model_module_version": "1.1.0",
      "model_name": "ProgressStyleModel",
      "state": {
       "description_width": ""
      }
     },
     "35fbdabb90684cc79d8bac7bee4348db": {
      "model_module": "@jupyter-widgets/controls",
      "model_module_version": "1.1.0",
      "model_name": "HTMLModel",
      "state": {
       "layout": "IPY_MODEL_54332aaa44ff4b28b2c08bdfa724e88c",
       "style": "IPY_MODEL_d72c8aa55a9b41848b3d74b37c2276a1",
       "value": "100% 30/30 [00:00&lt;00:00, 122.99it/s]"
      }
     },
     "376296797b89485a9c3b1cfe20a88069": {
      "model_module": "@jupyter-widgets/controls",
      "model_module_version": "1.1.0",
      "model_name": "HTMLModel",
      "state": {
       "layout": "IPY_MODEL_4841fbff06174b4ea04c4a04a1222fa2",
       "style": "IPY_MODEL_0808a20ce97a44a78ea3589890e568bb",
       "value": "100% 30/30 [00:00&lt;00:00, 98.15it/s]"
      }
     },
     "3845c247e24f451b882a1f9d45562a19": {
      "model_module": "@jupyter-widgets/controls",
      "model_module_version": "1.1.0",
      "model_name": "HTMLModel",
      "state": {
       "layout": "IPY_MODEL_5c25bfedc03a493baf7e93825507bee5",
       "style": "IPY_MODEL_c845c5d59a874c5b8e514cde7a4b1d5e",
       "value": "  0% 0/30 [00:00&lt;?, ?it/s]"
      }
     },
     "38e1caec6e2048b0abf00062f4bfc11a": {
      "model_module": "@jupyter-widgets/base",
      "model_module_version": "1.0.0",
      "model_name": "LayoutModel",
      "state": {}
     },
     "394183d853e24b318e202e6e5e1e1947": {
      "model_module": "@jupyter-widgets/controls",
      "model_module_version": "1.1.0",
      "model_name": "IntProgressModel",
      "state": {
       "bar_style": "success",
       "layout": "IPY_MODEL_c9b279a04e3e4aeb88cc6e7991be9485",
       "max": 1,
       "style": "IPY_MODEL_2ec0f63f71a44a5f9e456287ae54d1cb",
       "value": 1
      }
     },
     "3c819631bfda421f887c20f287ec736a": {
      "model_module": "@jupyter-widgets/base",
      "model_module_version": "1.0.0",
      "model_name": "LayoutModel",
      "state": {}
     },
     "3e8b7c9e806e40a4b3b14dcf157748f0": {
      "model_module": "@jupyter-widgets/controls",
      "model_module_version": "1.1.0",
      "model_name": "IntProgressModel",
      "state": {
       "bar_style": "success",
       "layout": "IPY_MODEL_c9c3d8a2d64d4ee9b6690afa5aee3a8a",
       "max": 30,
       "style": "IPY_MODEL_221cbc0457cf4c7593e027a7a72f44d6",
       "value": 30
      }
     },
     "40e186fa99954c9fa39952b32684902b": {
      "model_module": "@jupyter-widgets/controls",
      "model_module_version": "1.1.0",
      "model_name": "HTMLModel",
      "state": {
       "layout": "IPY_MODEL_5512e56270ed4ba29a415ce03bb598af",
       "style": "IPY_MODEL_8ffe1c2a3481493ba93d0d153f6e15d7",
       "value": "30it [00:58,  1.96s/it]"
      }
     },
     "419fd9353eb942ae9965ed494ae6af8f": {
      "model_module": "@jupyter-widgets/controls",
      "model_module_version": "1.1.0",
      "model_name": "ProgressStyleModel",
      "state": {
       "description_width": ""
      }
     },
     "42262ee59da7400c8af11e655c1afa65": {
      "model_module": "@jupyter-widgets/controls",
      "model_module_version": "1.1.0",
      "model_name": "ProgressStyleModel",
      "state": {
       "description_width": ""
      }
     },
     "44cd3a56e6c344cbb55b5571ee6012c2": {
      "model_module": "@jupyter-widgets/base",
      "model_module_version": "1.0.0",
      "model_name": "LayoutModel",
      "state": {}
     },
     "4783fc9e719548429fc7f200e690beba": {
      "model_module": "@jupyter-widgets/controls",
      "model_module_version": "1.1.0",
      "model_name": "DescriptionStyleModel",
      "state": {
       "description_width": ""
      }
     },
     "4841fbff06174b4ea04c4a04a1222fa2": {
      "model_module": "@jupyter-widgets/base",
      "model_module_version": "1.0.0",
      "model_name": "LayoutModel",
      "state": {}
     },
     "48cb9f59351b4a499412e394d7dc5c1e": {
      "model_module": "@jupyter-widgets/controls",
      "model_module_version": "1.1.0",
      "model_name": "DescriptionStyleModel",
      "state": {
       "description_width": ""
      }
     },
     "48d0447195a54b9bb07b85625dc095d4": {
      "model_module": "@jupyter-widgets/base",
      "model_module_version": "1.0.0",
      "model_name": "LayoutModel",
      "state": {}
     },
     "497a7df7764444dd9016a45540098a4e": {
      "model_module": "@jupyter-widgets/controls",
      "model_module_version": "1.1.0",
      "model_name": "ProgressStyleModel",
      "state": {
       "description_width": ""
      }
     },
     "4ab2ef6b60994182806f18f4e56c630d": {
      "model_module": "@jupyter-widgets/base",
      "model_module_version": "1.0.0",
      "model_name": "LayoutModel",
      "state": {}
     },
     "4b66bcdded854e7f96a39665beecf625": {
      "model_module": "@jupyter-widgets/controls",
      "model_module_version": "1.1.0",
      "model_name": "DescriptionStyleModel",
      "state": {
       "description_width": ""
      }
     },
     "4c4d640afd6b4e689e144c31eb27e909": {
      "model_module": "@jupyter-widgets/controls",
      "model_module_version": "1.1.0",
      "model_name": "DescriptionStyleModel",
      "state": {
       "description_width": ""
      }
     },
     "4d03a6183c554831a80d54f643aa0c4f": {
      "model_module": "@jupyter-widgets/controls",
      "model_module_version": "1.1.0",
      "model_name": "ProgressStyleModel",
      "state": {
       "description_width": ""
      }
     },
     "4d3402116b804c01850327803529d9e7": {
      "model_module": "@jupyter-widgets/base",
      "model_module_version": "1.0.0",
      "model_name": "LayoutModel",
      "state": {}
     },
     "4e1f8f7076da4d6689d3e4dccfc4d260": {
      "model_module": "@jupyter-widgets/base",
      "model_module_version": "1.0.0",
      "model_name": "LayoutModel",
      "state": {}
     },
     "4e2ce36e3b924655bcbf854c9849e02e": {
      "model_module": "@jupyter-widgets/controls",
      "model_module_version": "1.1.0",
      "model_name": "HTMLModel",
      "state": {
       "layout": "IPY_MODEL_b2d6a775ba65403180799d20ed8e9f41",
       "style": "IPY_MODEL_4c4d640afd6b4e689e144c31eb27e909",
       "value": "141it [00:01, 104.47it/s]"
      }
     },
     "4e6741576e67436fa8223a2f04790e0f": {
      "model_module": "@jupyter-widgets/controls",
      "model_module_version": "1.1.0",
      "model_name": "IntProgressModel",
      "state": {
       "bar_style": "success",
       "layout": "IPY_MODEL_9a22182b195b4a0798b4ab7477bfb8c9",
       "max": 1,
       "style": "IPY_MODEL_f4830097e327430caf0b5759e36f9a14",
       "value": 1
      }
     },
     "4e793acddab14ca18639ce015b56af41": {
      "model_module": "@jupyter-widgets/controls",
      "model_module_version": "1.1.0",
      "model_name": "DescriptionStyleModel",
      "state": {
       "description_width": ""
      }
     },
     "4f41d04df90c4082bb9c0a76b0803fd2": {
      "model_module": "@jupyter-widgets/controls",
      "model_module_version": "1.1.0",
      "model_name": "HTMLModel",
      "state": {
       "layout": "IPY_MODEL_b5a231f5f770436ab36b1c564f4a8d09",
       "style": "IPY_MODEL_510dc14a330f4eae9acdc2cdca5f1dcb",
       "value": "100% 57/57 [00:00&lt;00:00, 118.61it/s]"
      }
     },
     "50650bc4b3c94fc3812b48dd66a858e7": {
      "model_module": "@jupyter-widgets/base",
      "model_module_version": "1.0.0",
      "model_name": "LayoutModel",
      "state": {}
     },
     "510dc14a330f4eae9acdc2cdca5f1dcb": {
      "model_module": "@jupyter-widgets/controls",
      "model_module_version": "1.1.0",
      "model_name": "DescriptionStyleModel",
      "state": {
       "description_width": ""
      }
     },
     "51bcf9a5ebba4514bb34c0bb03122c8e": {
      "model_module": "@jupyter-widgets/base",
      "model_module_version": "1.0.0",
      "model_name": "LayoutModel",
      "state": {}
     },
     "525fda5f354e469fa4d9d5a698a5b27e": {
      "model_module": "@jupyter-widgets/controls",
      "model_module_version": "1.1.0",
      "model_name": "HBoxModel",
      "state": {
       "children": [
        "IPY_MODEL_b7c94bea23b646e79dd8c8d7053389b2",
        "IPY_MODEL_35fbdabb90684cc79d8bac7bee4348db"
       ],
       "layout": "IPY_MODEL_043408897c424f0f893acef959f306ed"
      }
     },
     "52e1fa3bb4c54d13a499ca5a721105df": {
      "model_module": "@jupyter-widgets/base",
      "model_module_version": "1.0.0",
      "model_name": "LayoutModel",
      "state": {}
     },
     "54332aaa44ff4b28b2c08bdfa724e88c": {
      "model_module": "@jupyter-widgets/base",
      "model_module_version": "1.0.0",
      "model_name": "LayoutModel",
      "state": {}
     },
     "5512e56270ed4ba29a415ce03bb598af": {
      "model_module": "@jupyter-widgets/base",
      "model_module_version": "1.0.0",
      "model_name": "LayoutModel",
      "state": {}
     },
     "553cee27d72c4ed0ae70764aabda1ebf": {
      "model_module": "@jupyter-widgets/base",
      "model_module_version": "1.0.0",
      "model_name": "LayoutModel",
      "state": {}
     },
     "570e4c64207c4d7c8dd7b037255e0dae": {
      "model_module": "@jupyter-widgets/controls",
      "model_module_version": "1.1.0",
      "model_name": "HBoxModel",
      "state": {
       "children": [
        "IPY_MODEL_a2cd25211d404483a928713c25054b98",
        "IPY_MODEL_82af3b68cdc84f278a8685192c4ce1e9"
       ],
       "layout": "IPY_MODEL_6779ee6913d74a209eb6a9348c4e3a00"
      }
     },
     "587f2a0d71cf40aa8d7e9bf517fcf426": {
      "model_module": "@jupyter-widgets/base",
      "model_module_version": "1.0.0",
      "model_name": "LayoutModel",
      "state": {}
     },
     "59699f37dc954734a22f5b6a9d7f5e00": {
      "model_module": "@jupyter-widgets/base",
      "model_module_version": "1.0.0",
      "model_name": "LayoutModel",
      "state": {}
     },
     "5bac34e99eee46e9b55153bd2d99dcb5": {
      "model_module": "@jupyter-widgets/controls",
      "model_module_version": "1.1.0",
      "model_name": "HBoxModel",
      "state": {
       "children": [
        "IPY_MODEL_87874728d3934de196a3846e7f10b3c2",
        "IPY_MODEL_4f41d04df90c4082bb9c0a76b0803fd2"
       ],
       "layout": "IPY_MODEL_cea01d4742124b699fb7a6aa8d998538"
      }
     },
     "5c25bfedc03a493baf7e93825507bee5": {
      "model_module": "@jupyter-widgets/base",
      "model_module_version": "1.0.0",
      "model_name": "LayoutModel",
      "state": {}
     },
     "5c5e46cc288c4c38a47f483515d22073": {
      "model_module": "@jupyter-widgets/controls",
      "model_module_version": "1.1.0",
      "model_name": "DescriptionStyleModel",
      "state": {
       "description_width": ""
      }
     },
     "5eb05f675b154219b21b01b403eb1e86": {
      "model_module": "@jupyter-widgets/controls",
      "model_module_version": "1.1.0",
      "model_name": "HTMLModel",
      "state": {
       "layout": "IPY_MODEL_dc5bcc0610a0490dbab8298a19e25421",
       "style": "IPY_MODEL_11456e176d294cfa8d5f63311ad3aae0",
       "value": "  0% 0/30 [00:00&lt;?, ?it/s]"
      }
     },
     "5f36776efcd642bb9a7cda4cf03bada6": {
      "model_module": "@jupyter-widgets/base",
      "model_module_version": "1.0.0",
      "model_name": "LayoutModel",
      "state": {}
     },
     "60aa551c23b140109b19d6887afab394": {
      "model_module": "@jupyter-widgets/base",
      "model_module_version": "1.0.0",
      "model_name": "LayoutModel",
      "state": {}
     },
     "60f6bdc034f34770b00b69e405deb085": {
      "model_module": "@jupyter-widgets/base",
      "model_module_version": "1.0.0",
      "model_name": "LayoutModel",
      "state": {}
     },
     "6105225df72f421ab0d38b693b0a7048": {
      "model_module": "@jupyter-widgets/base",
      "model_module_version": "1.0.0",
      "model_name": "LayoutModel",
      "state": {}
     },
     "6152b5c4d529410aaef8a37275d1b8bc": {
      "model_module": "@jupyter-widgets/controls",
      "model_module_version": "1.1.0",
      "model_name": "DescriptionStyleModel",
      "state": {
       "description_width": ""
      }
     },
     "62ced581694a4c8b8de58918827e05b5": {
      "model_module": "@jupyter-widgets/controls",
      "model_module_version": "1.1.0",
      "model_name": "HTMLModel",
      "state": {
       "layout": "IPY_MODEL_cc133b96ba7a43b9809dfe09b74dec8e",
       "style": "IPY_MODEL_bb23efa17cec4278a5f8e91b2d046756",
       "value": "  0% 0/30 [00:00&lt;?, ?it/s]"
      }
     },
     "6425300a46b44884b96f4611f21aef2d": {
      "model_module": "@jupyter-widgets/controls",
      "model_module_version": "1.1.0",
      "model_name": "IntProgressModel",
      "state": {
       "bar_style": "success",
       "layout": "IPY_MODEL_ef810d0f29dc4a85a74893a935c8a9f2",
       "max": 57,
       "style": "IPY_MODEL_8a6e952538f5460bb203462ab0d43f8e",
       "value": 57
      }
     },
     "653c826015b543cabad535ff34ccb82d": {
      "model_module": "@jupyter-widgets/controls",
      "model_module_version": "1.1.0",
      "model_name": "HTMLModel",
      "state": {
       "layout": "IPY_MODEL_fd6fdf84fe82463f8accfbbc28e6e229",
       "style": "IPY_MODEL_25729e5f2b104446bca804afcd2340b0",
       "value": "100% 30/30 [00:00&lt;00:00, 102.71it/s]"
      }
     },
     "66bdaa8dfa344f5d80580d03cf6e2a08": {
      "model_module": "@jupyter-widgets/base",
      "model_module_version": "1.0.0",
      "model_name": "LayoutModel",
      "state": {}
     },
     "672b98ba79aa4a2583e2702665375be6": {
      "model_module": "@jupyter-widgets/controls",
      "model_module_version": "1.1.0",
      "model_name": "DescriptionStyleModel",
      "state": {
       "description_width": ""
      }
     },
     "6779ee6913d74a209eb6a9348c4e3a00": {
      "model_module": "@jupyter-widgets/base",
      "model_module_version": "1.0.0",
      "model_name": "LayoutModel",
      "state": {}
     },
     "67975c43001c41acb1e369637d3e8456": {
      "model_module": "@jupyter-widgets/base",
      "model_module_version": "1.0.0",
      "model_name": "LayoutModel",
      "state": {}
     },
     "67c17aede2ca48f2a8aaf4cb5433e8af": {
      "model_module": "@jupyter-widgets/controls",
      "model_module_version": "1.1.0",
      "model_name": "HTMLModel",
      "state": {
       "layout": "IPY_MODEL_587f2a0d71cf40aa8d7e9bf517fcf426",
       "style": "IPY_MODEL_f1739d21923f40a791fabe983368aba3",
       "value": "200it [00:01, 100.66it/s]"
      }
     },
     "67e221c914114aebaf9c43533161e213": {
      "model_module": "@jupyter-widgets/controls",
      "model_module_version": "1.1.0",
      "model_name": "HTMLModel",
      "state": {
       "layout": "IPY_MODEL_76e1b5253f984280941a09e855b2f9fa",
       "style": "IPY_MODEL_4e793acddab14ca18639ce015b56af41",
       "value": "100% 57/57 [00:00&lt;00:00, 110.90it/s]"
      }
     },
     "682085bf2b1f441a8c857c9fab27f7ca": {
      "model_module": "@jupyter-widgets/base",
      "model_module_version": "1.0.0",
      "model_name": "LayoutModel",
      "state": {}
     },
     "68738e9a1a1848c596339006b6f11a39": {
      "model_module": "@jupyter-widgets/controls",
      "model_module_version": "1.1.0",
      "model_name": "HBoxModel",
      "state": {
       "children": [
        "IPY_MODEL_a481d7210aa849bcb3d34c4b8d6ba70a",
        "IPY_MODEL_40e186fa99954c9fa39952b32684902b"
       ],
       "layout": "IPY_MODEL_151054cb59cd407d8c576f432bc9d523"
      }
     },
     "6931304eb46e4f29bb2397ca851c5272": {
      "model_module": "@jupyter-widgets/controls",
      "model_module_version": "1.1.0",
      "model_name": "IntProgressModel",
      "state": {
       "bar_style": "danger",
       "layout": "IPY_MODEL_35bb14fd75e24552a8713783eadcc763",
       "max": 30,
       "style": "IPY_MODEL_f6f46841a9bd424a978d2fba50de6931"
      }
     },
     "6afc58c408284b5792a79f420592605f": {
      "model_module": "@jupyter-widgets/controls",
      "model_module_version": "1.1.0",
      "model_name": "DescriptionStyleModel",
      "state": {
       "description_width": ""
      }
     },
     "6cff3bbcbfe84accad9d38e2e3497942": {
      "model_module": "@jupyter-widgets/controls",
      "model_module_version": "1.1.0",
      "model_name": "ProgressStyleModel",
      "state": {
       "description_width": ""
      }
     },
     "6d92e202e41d402297e434f3155f4f97": {
      "model_module": "@jupyter-widgets/controls",
      "model_module_version": "1.1.0",
      "model_name": "IntProgressModel",
      "state": {
       "bar_style": "success",
       "layout": "IPY_MODEL_26d77853a53e4c2ab5d62678cf4aa1d5",
       "max": 30,
       "style": "IPY_MODEL_ffb297db0c284fb3893259fce5e00f02",
       "value": 30
      }
     },
     "6e47956ad063416d9fcf7e0a0937ba54": {
      "model_module": "@jupyter-widgets/base",
      "model_module_version": "1.0.0",
      "model_name": "LayoutModel",
      "state": {}
     },
     "6ea5f992b0214d43ab8c3a231a263c71": {
      "model_module": "@jupyter-widgets/controls",
      "model_module_version": "1.1.0",
      "model_name": "HTMLModel",
      "state": {
       "layout": "IPY_MODEL_c2b4c09dfe044901adcc6da1a7c1ba6c",
       "style": "IPY_MODEL_48cb9f59351b4a499412e394d7dc5c1e",
       "value": "30it [00:58,  1.96s/it]"
      }
     },
     "6ec08f3d71884da8a39a94c75653f5f5": {
      "model_module": "@jupyter-widgets/controls",
      "model_module_version": "1.1.0",
      "model_name": "DescriptionStyleModel",
      "state": {
       "description_width": ""
      }
     },
     "6fa0812d49464da9bc7abb9e5f89adf9": {
      "model_module": "@jupyter-widgets/base",
      "model_module_version": "1.0.0",
      "model_name": "LayoutModel",
      "state": {}
     },
     "71c0cdde80114626878e31bc463dd169": {
      "model_module": "@jupyter-widgets/base",
      "model_module_version": "1.0.0",
      "model_name": "LayoutModel",
      "state": {}
     },
     "71d6cd94c60642a5a6f362e4b9c8eed1": {
      "model_module": "@jupyter-widgets/controls",
      "model_module_version": "1.1.0",
      "model_name": "ProgressStyleModel",
      "state": {
       "description_width": ""
      }
     },
     "720d8b4d870a4b0993caeaf0882c0452": {
      "model_module": "@jupyter-widgets/controls",
      "model_module_version": "1.1.0",
      "model_name": "HBoxModel",
      "state": {
       "children": [
        "IPY_MODEL_394183d853e24b318e202e6e5e1e1947",
        "IPY_MODEL_4e2ce36e3b924655bcbf854c9849e02e"
       ],
       "layout": "IPY_MODEL_60f6bdc034f34770b00b69e405deb085"
      }
     },
     "7330c04815ad43b9b09904db6ce7589e": {
      "model_module": "@jupyter-widgets/controls",
      "model_module_version": "1.1.0",
      "model_name": "IntProgressModel",
      "state": {
       "bar_style": "success",
       "layout": "IPY_MODEL_e547c0897ff84c2cb1e1de2c3cd28b1e",
       "max": 30,
       "style": "IPY_MODEL_e1466ada3ac44e91a01e2a17270ddb2f",
       "value": 30
      }
     },
     "73a401bad0134149bc3b3d99bd0da721": {
      "model_module": "@jupyter-widgets/base",
      "model_module_version": "1.0.0",
      "model_name": "LayoutModel",
      "state": {}
     },
     "745bb7b1cdd8438bbc43d266752bf80b": {
      "model_module": "@jupyter-widgets/base",
      "model_module_version": "1.0.0",
      "model_name": "LayoutModel",
      "state": {}
     },
     "7548b58aea7849bb858995eaf65dc6ae": {
      "model_module": "@jupyter-widgets/controls",
      "model_module_version": "1.1.0",
      "model_name": "IntProgressModel",
      "state": {
       "bar_style": "danger",
       "layout": "IPY_MODEL_8e4bf07e83da4f1788875b84543068ce",
       "max": 30,
       "style": "IPY_MODEL_e66325fed9e148b9a2042adafefd01fa"
      }
     },
     "76885c95c6bf43dd95227dc37acdb320": {
      "model_module": "@jupyter-widgets/base",
      "model_module_version": "1.0.0",
      "model_name": "LayoutModel",
      "state": {}
     },
     "76e1b5253f984280941a09e855b2f9fa": {
      "model_module": "@jupyter-widgets/base",
      "model_module_version": "1.0.0",
      "model_name": "LayoutModel",
      "state": {}
     },
     "7a33fa28031f4edcb305c215f97ce48d": {
      "model_module": "@jupyter-widgets/base",
      "model_module_version": "1.0.0",
      "model_name": "LayoutModel",
      "state": {}
     },
     "7a46ad38befb45eb959756638ccbddfd": {
      "model_module": "@jupyter-widgets/controls",
      "model_module_version": "1.1.0",
      "model_name": "HTMLModel",
      "state": {
       "layout": "IPY_MODEL_3c819631bfda421f887c20f287ec736a",
       "style": "IPY_MODEL_672b98ba79aa4a2583e2702665375be6",
       "value": "100% 30/30 [00:20&lt;00:00,  1.45it/s]"
      }
     },
     "7ab54cfb834148cd8652f2b749a84242": {
      "model_module": "@jupyter-widgets/base",
      "model_module_version": "1.0.0",
      "model_name": "LayoutModel",
      "state": {}
     },
     "7b0ba0ec1a3e4ccb8f40806ef34c34a1": {
      "model_module": "@jupyter-widgets/controls",
      "model_module_version": "1.1.0",
      "model_name": "HTMLModel",
      "state": {
       "layout": "IPY_MODEL_71c0cdde80114626878e31bc463dd169",
       "style": "IPY_MODEL_0dcfa0db9ff9460aada5c9112ef9c20c",
       "value": "100% 30/30 [00:00&lt;00:00, 129.94it/s]"
      }
     },
     "7d6da09b024c475aa3f4a35f633c68dc": {
      "model_module": "@jupyter-widgets/base",
      "model_module_version": "1.0.0",
      "model_name": "LayoutModel",
      "state": {}
     },
     "7eae380d33344bf19cea53cc85bcefd6": {
      "model_module": "@jupyter-widgets/controls",
      "model_module_version": "1.1.0",
      "model_name": "IntProgressModel",
      "state": {
       "bar_style": "success",
       "layout": "IPY_MODEL_bdb93577c0fc41be849a5cd3e2123dff",
       "max": 1,
       "style": "IPY_MODEL_9f24b94d5c234175b0fb16b63b57b532",
       "value": 1
      }
     },
     "82af3b68cdc84f278a8685192c4ce1e9": {
      "model_module": "@jupyter-widgets/controls",
      "model_module_version": "1.1.0",
      "model_name": "HTMLModel",
      "state": {
       "layout": "IPY_MODEL_1d551b0978714fe5902c3f4e382b1f32",
       "style": "IPY_MODEL_6ec08f3d71884da8a39a94c75653f5f5",
       "value": "  0% 0/30 [00:00&lt;?, ?it/s]"
      }
     },
     "8392732f4a1d4e00b9d23dea63ed5326": {
      "model_module": "@jupyter-widgets/controls",
      "model_module_version": "1.1.0",
      "model_name": "HTMLModel",
      "state": {
       "layout": "IPY_MODEL_4ab2ef6b60994182806f18f4e56c630d",
       "style": "IPY_MODEL_1684729c1fe04a878d092227ccdb12c1",
       "value": "100% 57/57 [00:00&lt;00:00, 106.68it/s]"
      }
     },
     "84af776505494225b97f23c0b268776b": {
      "model_module": "@jupyter-widgets/controls",
      "model_module_version": "1.1.0",
      "model_name": "ProgressStyleModel",
      "state": {
       "description_width": ""
      }
     },
     "8543b65a06b04938967c855176e84600": {
      "model_module": "@jupyter-widgets/controls",
      "model_module_version": "1.1.0",
      "model_name": "HBoxModel",
      "state": {
       "children": [
        "IPY_MODEL_3e8b7c9e806e40a4b3b14dcf157748f0",
        "IPY_MODEL_376296797b89485a9c3b1cfe20a88069"
       ],
       "layout": "IPY_MODEL_00965845ba40456ea41274151d71a2da"
      }
     },
     "855d83b02afc4f4ca27a62c1f81c3538": {
      "model_module": "@jupyter-widgets/controls",
      "model_module_version": "1.1.0",
      "model_name": "IntProgressModel",
      "state": {
       "bar_style": "success",
       "layout": "IPY_MODEL_8d47621e5c044d62ba0b6765d5d7ea33",
       "max": 30,
       "style": "IPY_MODEL_a2cd1fc6af6245f8a10973d825f001c8",
       "value": 30
      }
     },
     "8616a28c896a4f298d8edb3c3ef7d10f": {
      "model_module": "@jupyter-widgets/base",
      "model_module_version": "1.0.0",
      "model_name": "LayoutModel",
      "state": {}
     },
     "87874728d3934de196a3846e7f10b3c2": {
      "model_module": "@jupyter-widgets/controls",
      "model_module_version": "1.1.0",
      "model_name": "IntProgressModel",
      "state": {
       "bar_style": "success",
       "layout": "IPY_MODEL_67975c43001c41acb1e369637d3e8456",
       "max": 57,
       "style": "IPY_MODEL_acc0ff0de22f4307859a5ee80aecacd4",
       "value": 57
      }
     },
     "8a6e952538f5460bb203462ab0d43f8e": {
      "model_module": "@jupyter-widgets/controls",
      "model_module_version": "1.1.0",
      "model_name": "ProgressStyleModel",
      "state": {
       "description_width": ""
      }
     },
     "8b4767a7ef1a4fa0b593b5c4af9409dc": {
      "model_module": "@jupyter-widgets/controls",
      "model_module_version": "1.1.0",
      "model_name": "HTMLModel",
      "state": {
       "layout": "IPY_MODEL_4d3402116b804c01850327803529d9e7",
       "style": "IPY_MODEL_5c5e46cc288c4c38a47f483515d22073",
       "value": "42it [00:00, 102.87it/s]"
      }
     },
     "8d47621e5c044d62ba0b6765d5d7ea33": {
      "model_module": "@jupyter-widgets/base",
      "model_module_version": "1.0.0",
      "model_name": "LayoutModel",
      "state": {}
     },
     "8e30186e019242728bb73c212967bf8c": {
      "model_module": "@jupyter-widgets/controls",
      "model_module_version": "1.1.0",
      "model_name": "HBoxModel",
      "state": {
       "children": [
        "IPY_MODEL_bed55e35af0144c29fad24a8b1b58903",
        "IPY_MODEL_67e221c914114aebaf9c43533161e213"
       ],
       "layout": "IPY_MODEL_ad05cd86b3f543ac88ef1cf6c57f11bf"
      }
     },
     "8e4bf07e83da4f1788875b84543068ce": {
      "model_module": "@jupyter-widgets/base",
      "model_module_version": "1.0.0",
      "model_name": "LayoutModel",
      "state": {}
     },
     "8f985e87b7c24c8eaf54056e2a2c2d0f": {
      "model_module": "@jupyter-widgets/controls",
      "model_module_version": "1.1.0",
      "model_name": "IntProgressModel",
      "state": {
       "bar_style": "success",
       "layout": "IPY_MODEL_dabd2986ab194d219ba3a3d94dbac8a8",
       "max": 30,
       "style": "IPY_MODEL_6cff3bbcbfe84accad9d38e2e3497942",
       "value": 30
      }
     },
     "8ffe1c2a3481493ba93d0d153f6e15d7": {
      "model_module": "@jupyter-widgets/controls",
      "model_module_version": "1.1.0",
      "model_name": "DescriptionStyleModel",
      "state": {
       "description_width": ""
      }
     },
     "94848bf4b9e5443aa0f0406427d1fec9": {
      "model_module": "@jupyter-widgets/controls",
      "model_module_version": "1.1.0",
      "model_name": "DescriptionStyleModel",
      "state": {
       "description_width": ""
      }
     },
     "98ca9aa584f0458fa52a210b4197e256": {
      "model_module": "@jupyter-widgets/base",
      "model_module_version": "1.0.0",
      "model_name": "LayoutModel",
      "state": {}
     },
     "9a22182b195b4a0798b4ab7477bfb8c9": {
      "model_module": "@jupyter-widgets/base",
      "model_module_version": "1.0.0",
      "model_name": "LayoutModel",
      "state": {}
     },
     "9c294db0661d42c1a1c8fed418dc2a10": {
      "model_module": "@jupyter-widgets/base",
      "model_module_version": "1.0.0",
      "model_name": "LayoutModel",
      "state": {}
     },
     "9ec13ede64fb491ba9d268f753fec79f": {
      "model_module": "@jupyter-widgets/controls",
      "model_module_version": "1.1.0",
      "model_name": "IntProgressModel",
      "state": {
       "bar_style": "success",
       "layout": "IPY_MODEL_51bcf9a5ebba4514bb34c0bb03122c8e",
       "max": 1,
       "style": "IPY_MODEL_25d9c461e34e45eaa15da644332104e9",
       "value": 1
      }
     },
     "9f24b94d5c234175b0fb16b63b57b532": {
      "model_module": "@jupyter-widgets/controls",
      "model_module_version": "1.1.0",
      "model_name": "ProgressStyleModel",
      "state": {
       "description_width": ""
      }
     },
     "9fb2c92fc0e642adb32af4fd3960c70d": {
      "model_module": "@jupyter-widgets/controls",
      "model_module_version": "1.1.0",
      "model_name": "HTMLModel",
      "state": {
       "layout": "IPY_MODEL_2dcdfc24a4e5424da6f3a6c375ae853c",
       "style": "IPY_MODEL_fedf904d769045e99d89b26180912c95",
       "value": "100% 57/57 [00:00&lt;00:00, 110.05it/s]"
      }
     },
     "a05a8bca02c44f31a6ea68dd422b2635": {
      "model_module": "@jupyter-widgets/base",
      "model_module_version": "1.0.0",
      "model_name": "LayoutModel",
      "state": {}
     },
     "a1ef5b57e8124f6dad36bcc3f186f386": {
      "model_module": "@jupyter-widgets/base",
      "model_module_version": "1.0.0",
      "model_name": "LayoutModel",
      "state": {}
     },
     "a2cc56bf16d3486aaf6fa157b963bf3c": {
      "model_module": "@jupyter-widgets/controls",
      "model_module_version": "1.1.0",
      "model_name": "HBoxModel",
      "state": {
       "children": [
        "IPY_MODEL_c817b613828743d8879ba945025b54ed",
        "IPY_MODEL_f5692b2cb3124833b4106901f0c3171f"
       ],
       "layout": "IPY_MODEL_b1197957b4474134a736efd453d580af"
      }
     },
     "a2cd1fc6af6245f8a10973d825f001c8": {
      "model_module": "@jupyter-widgets/controls",
      "model_module_version": "1.1.0",
      "model_name": "ProgressStyleModel",
      "state": {
       "description_width": ""
      }
     },
     "a2cd25211d404483a928713c25054b98": {
      "model_module": "@jupyter-widgets/controls",
      "model_module_version": "1.1.0",
      "model_name": "IntProgressModel",
      "state": {
       "bar_style": "danger",
       "layout": "IPY_MODEL_de45a0948ebe4fc1a4ee6b25aaab5cc7",
       "max": 30,
       "style": "IPY_MODEL_71d6cd94c60642a5a6f362e4b9c8eed1"
      }
     },
     "a2ef58bc69d24b9194f44996b63a8d46": {
      "model_module": "@jupyter-widgets/controls",
      "model_module_version": "1.1.0",
      "model_name": "HBoxModel",
      "state": {
       "children": [
        "IPY_MODEL_7330c04815ad43b9b09904db6ce7589e",
        "IPY_MODEL_653c826015b543cabad535ff34ccb82d"
       ],
       "layout": "IPY_MODEL_d2bfbe3ab4474c33b0f0849125053742"
      }
     },
     "a481d7210aa849bcb3d34c4b8d6ba70a": {
      "model_module": "@jupyter-widgets/controls",
      "model_module_version": "1.1.0",
      "model_name": "IntProgressModel",
      "state": {
       "bar_style": "success",
       "layout": "IPY_MODEL_c6b6dc73846146e89a609eacc943d04b",
       "max": 1,
       "style": "IPY_MODEL_419fd9353eb942ae9965ed494ae6af8f",
       "value": 1
      }
     },
     "a486033aa6de4cc29abb25a5055757bf": {
      "model_module": "@jupyter-widgets/controls",
      "model_module_version": "1.1.0",
      "model_name": "HBoxModel",
      "state": {
       "children": [
        "IPY_MODEL_0695689f9bb94438a428b69303600bc5",
        "IPY_MODEL_e22711f6deca457f8e9c34296d811fcd"
       ],
       "layout": "IPY_MODEL_a1ef5b57e8124f6dad36bcc3f186f386"
      }
     },
     "a77f3605901c4164b7e5925efa691cbc": {
      "model_module": "@jupyter-widgets/controls",
      "model_module_version": "1.1.0",
      "model_name": "HBoxModel",
      "state": {
       "children": [
        "IPY_MODEL_b8111d4b4da54e9bb8ff5e819aa7cbd7",
        "IPY_MODEL_b7919aaa0fdf425db2ad00c08b00b17e"
       ],
       "layout": "IPY_MODEL_7ab54cfb834148cd8652f2b749a84242"
      }
     },
     "a95948487f9c439ead7a296810874583": {
      "model_module": "@jupyter-widgets/base",
      "model_module_version": "1.0.0",
      "model_name": "LayoutModel",
      "state": {}
     },
     "aa6956bb61894d0ca235c1bb66abaeaf": {
      "model_module": "@jupyter-widgets/controls",
      "model_module_version": "1.1.0",
      "model_name": "ProgressStyleModel",
      "state": {
       "description_width": ""
      }
     },
     "ac02f22182e3418f8ef96833db01fb85": {
      "model_module": "@jupyter-widgets/base",
      "model_module_version": "1.0.0",
      "model_name": "LayoutModel",
      "state": {}
     },
     "acc0ff0de22f4307859a5ee80aecacd4": {
      "model_module": "@jupyter-widgets/controls",
      "model_module_version": "1.1.0",
      "model_name": "ProgressStyleModel",
      "state": {
       "description_width": ""
      }
     },
     "ad05cd86b3f543ac88ef1cf6c57f11bf": {
      "model_module": "@jupyter-widgets/base",
      "model_module_version": "1.0.0",
      "model_name": "LayoutModel",
      "state": {}
     },
     "ade9a1b6bff8498dbd3858b40bb3a82a": {
      "model_module": "@jupyter-widgets/base",
      "model_module_version": "1.0.0",
      "model_name": "LayoutModel",
      "state": {}
     },
     "b1197957b4474134a736efd453d580af": {
      "model_module": "@jupyter-widgets/base",
      "model_module_version": "1.0.0",
      "model_name": "LayoutModel",
      "state": {}
     },
     "b2d6a775ba65403180799d20ed8e9f41": {
      "model_module": "@jupyter-widgets/base",
      "model_module_version": "1.0.0",
      "model_name": "LayoutModel",
      "state": {}
     },
     "b2ded32f46174257b11bf867bae26144": {
      "model_module": "@jupyter-widgets/controls",
      "model_module_version": "1.1.0",
      "model_name": "DescriptionStyleModel",
      "state": {
       "description_width": ""
      }
     },
     "b5a231f5f770436ab36b1c564f4a8d09": {
      "model_module": "@jupyter-widgets/base",
      "model_module_version": "1.0.0",
      "model_name": "LayoutModel",
      "state": {}
     },
     "b7919aaa0fdf425db2ad00c08b00b17e": {
      "model_module": "@jupyter-widgets/controls",
      "model_module_version": "1.1.0",
      "model_name": "HTMLModel",
      "state": {
       "layout": "IPY_MODEL_66bdaa8dfa344f5d80580d03cf6e2a08",
       "style": "IPY_MODEL_6152b5c4d529410aaef8a37275d1b8bc",
       "value": "100% 57/57 [00:00&lt;00:00, 103.29it/s]"
      }
     },
     "b7c94bea23b646e79dd8c8d7053389b2": {
      "model_module": "@jupyter-widgets/controls",
      "model_module_version": "1.1.0",
      "model_name": "IntProgressModel",
      "state": {
       "bar_style": "success",
       "layout": "IPY_MODEL_19b01008bca640f99bf8f44109fb73c1",
       "max": 30,
       "style": "IPY_MODEL_4d03a6183c554831a80d54f643aa0c4f",
       "value": 30
      }
     },
     "b8111d4b4da54e9bb8ff5e819aa7cbd7": {
      "model_module": "@jupyter-widgets/controls",
      "model_module_version": "1.1.0",
      "model_name": "IntProgressModel",
      "state": {
       "bar_style": "success",
       "layout": "IPY_MODEL_682085bf2b1f441a8c857c9fab27f7ca",
       "max": 57,
       "style": "IPY_MODEL_04b32a628c1f4dcea24f9bdb95a7c624",
       "value": 57
      }
     },
     "b9f05506a3174cf0b5e0d0c0442042f0": {
      "model_module": "@jupyter-widgets/controls",
      "model_module_version": "1.1.0",
      "model_name": "ProgressStyleModel",
      "state": {
       "description_width": ""
      }
     },
     "ba5e35c8c7124dea880f019af26ffae0": {
      "model_module": "@jupyter-widgets/base",
      "model_module_version": "1.0.0",
      "model_name": "LayoutModel",
      "state": {}
     },
     "ba669112d7684dbabbe0d1c2bf36908c": {
      "model_module": "@jupyter-widgets/controls",
      "model_module_version": "1.1.0",
      "model_name": "HTMLModel",
      "state": {
       "layout": "IPY_MODEL_4e1f8f7076da4d6689d3e4dccfc4d260",
       "style": "IPY_MODEL_dcb5eb9cd052460eb66b4ee6c5e470ed",
       "value": "100% 57/57 [02:12&lt;00:00,  2.32s/it]"
      }
     },
     "bb23efa17cec4278a5f8e91b2d046756": {
      "model_module": "@jupyter-widgets/controls",
      "model_module_version": "1.1.0",
      "model_name": "DescriptionStyleModel",
      "state": {
       "description_width": ""
      }
     },
     "bdb93577c0fc41be849a5cd3e2123dff": {
      "model_module": "@jupyter-widgets/base",
      "model_module_version": "1.0.0",
      "model_name": "LayoutModel",
      "state": {}
     },
     "bed55e35af0144c29fad24a8b1b58903": {
      "model_module": "@jupyter-widgets/controls",
      "model_module_version": "1.1.0",
      "model_name": "IntProgressModel",
      "state": {
       "bar_style": "success",
       "layout": "IPY_MODEL_9c294db0661d42c1a1c8fed418dc2a10",
       "max": 57,
       "style": "IPY_MODEL_b9f05506a3174cf0b5e0d0c0442042f0",
       "value": 57
      }
     },
     "c0191cd62d1c4756bdbf7b44dda98b35": {
      "model_module": "@jupyter-widgets/controls",
      "model_module_version": "1.1.0",
      "model_name": "DescriptionStyleModel",
      "state": {
       "description_width": ""
      }
     },
     "c07c56ffcd6d43039b15c1d60fa24af0": {
      "model_module": "@jupyter-widgets/controls",
      "model_module_version": "1.1.0",
      "model_name": "ProgressStyleModel",
      "state": {
       "description_width": ""
      }
     },
     "c2b4c09dfe044901adcc6da1a7c1ba6c": {
      "model_module": "@jupyter-widgets/base",
      "model_module_version": "1.0.0",
      "model_name": "LayoutModel",
      "state": {}
     },
     "c527ad15047a4f3babb941fee0bb3bb8": {
      "model_module": "@jupyter-widgets/controls",
      "model_module_version": "1.1.0",
      "model_name": "HBoxModel",
      "state": {
       "children": [
        "IPY_MODEL_dea82dbc134543688e59d4c4b70fc912",
        "IPY_MODEL_ee25a878293f4913b8e36c7e67199e77"
       ],
       "layout": "IPY_MODEL_357bf84a698247e59c778ab54f19e170"
      }
     },
     "c52b3c90c2824745b089740c96d88822": {
      "model_module": "@jupyter-widgets/controls",
      "model_module_version": "1.1.0",
      "model_name": "HTMLModel",
      "state": {
       "layout": "IPY_MODEL_3322ef82131d4f70a2dade1ae49088da",
       "style": "IPY_MODEL_4783fc9e719548429fc7f200e690beba",
       "value": "213it [00:02, 104.38it/s]"
      }
     },
     "c6b6dc73846146e89a609eacc943d04b": {
      "model_module": "@jupyter-widgets/base",
      "model_module_version": "1.0.0",
      "model_name": "LayoutModel",
      "state": {}
     },
     "c817b613828743d8879ba945025b54ed": {
      "model_module": "@jupyter-widgets/controls",
      "model_module_version": "1.1.0",
      "model_name": "IntProgressModel",
      "state": {
       "bar_style": "success",
       "layout": "IPY_MODEL_344e118edd6b4777b3346c939801fb53",
       "max": 30,
       "style": "IPY_MODEL_262c50648bdc4099bd69a83df6959237",
       "value": 30
      }
     },
     "c845c5d59a874c5b8e514cde7a4b1d5e": {
      "model_module": "@jupyter-widgets/controls",
      "model_module_version": "1.1.0",
      "model_name": "DescriptionStyleModel",
      "state": {
       "description_width": ""
      }
     },
     "c8fa47bd282243718e4b95ed3ccd07f2": {
      "model_module": "@jupyter-widgets/base",
      "model_module_version": "1.0.0",
      "model_name": "LayoutModel",
      "state": {}
     },
     "c9b279a04e3e4aeb88cc6e7991be9485": {
      "model_module": "@jupyter-widgets/base",
      "model_module_version": "1.0.0",
      "model_name": "LayoutModel",
      "state": {}
     },
     "c9c3d8a2d64d4ee9b6690afa5aee3a8a": {
      "model_module": "@jupyter-widgets/base",
      "model_module_version": "1.0.0",
      "model_name": "LayoutModel",
      "state": {}
     },
     "cc133b96ba7a43b9809dfe09b74dec8e": {
      "model_module": "@jupyter-widgets/base",
      "model_module_version": "1.0.0",
      "model_name": "LayoutModel",
      "state": {}
     },
     "cce926d91c7749c4ab6af59e2f094017": {
      "model_module": "@jupyter-widgets/controls",
      "model_module_version": "1.1.0",
      "model_name": "ProgressStyleModel",
      "state": {
       "description_width": ""
      }
     },
     "cdac0ec4919d4ff199777c72427f298d": {
      "model_module": "@jupyter-widgets/controls",
      "model_module_version": "1.1.0",
      "model_name": "HBoxModel",
      "state": {
       "children": [
        "IPY_MODEL_4e6741576e67436fa8223a2f04790e0f",
        "IPY_MODEL_e81a6185424d44ee9a8a0156d1584972"
       ],
       "layout": "IPY_MODEL_6fa0812d49464da9bc7abb9e5f89adf9"
      }
     },
     "cdd6154b8685484b998d65ad69375170": {
      "model_module": "@jupyter-widgets/controls",
      "model_module_version": "1.1.0",
      "model_name": "HTMLModel",
      "state": {
       "layout": "IPY_MODEL_e6871b261c854feebe0acfd9db6ebae4",
       "style": "IPY_MODEL_6afc58c408284b5792a79f420592605f",
       "value": "100% 30/30 [00:00&lt;00:00, 126.12it/s]"
      }
     },
     "cea01d4742124b699fb7a6aa8d998538": {
      "model_module": "@jupyter-widgets/base",
      "model_module_version": "1.0.0",
      "model_name": "LayoutModel",
      "state": {}
     },
     "d248d7c590364d3fa9d14e6e034c476b": {
      "model_module": "@jupyter-widgets/controls",
      "model_module_version": "1.1.0",
      "model_name": "HBoxModel",
      "state": {
       "children": [
        "IPY_MODEL_6931304eb46e4f29bb2397ca851c5272",
        "IPY_MODEL_62ced581694a4c8b8de58918827e05b5"
       ],
       "layout": "IPY_MODEL_c8fa47bd282243718e4b95ed3ccd07f2"
      }
     },
     "d2bfbe3ab4474c33b0f0849125053742": {
      "model_module": "@jupyter-widgets/base",
      "model_module_version": "1.0.0",
      "model_name": "LayoutModel",
      "state": {}
     },
     "d474d460e8cb4b1ea346a942840eb1cd": {
      "model_module": "@jupyter-widgets/controls",
      "model_module_version": "1.1.0",
      "model_name": "HBoxModel",
      "state": {
       "children": [
        "IPY_MODEL_01a1ce9f5380489b8710169e4536db39",
        "IPY_MODEL_7b0ba0ec1a3e4ccb8f40806ef34c34a1"
       ],
       "layout": "IPY_MODEL_e7f1043cb0434c7cb2deaf9334a61a7c"
      }
     },
     "d56c926dadec4fa9abbd5d139072c613": {
      "model_module": "@jupyter-widgets/controls",
      "model_module_version": "1.1.0",
      "model_name": "IntProgressModel",
      "state": {
       "bar_style": "success",
       "layout": "IPY_MODEL_745bb7b1cdd8438bbc43d266752bf80b",
       "max": 1,
       "style": "IPY_MODEL_42262ee59da7400c8af11e655c1afa65",
       "value": 1
      }
     },
     "d5ae850a960949fd879cb1ff5998d6a0": {
      "model_module": "@jupyter-widgets/controls",
      "model_module_version": "1.1.0",
      "model_name": "HTMLModel",
      "state": {
       "layout": "IPY_MODEL_60aa551c23b140109b19d6887afab394",
       "style": "IPY_MODEL_4b66bcdded854e7f96a39665beecf625",
       "value": "100% 30/30 [00:00&lt;00:00, 117.46it/s]"
      }
     },
     "d72c8aa55a9b41848b3d74b37c2276a1": {
      "model_module": "@jupyter-widgets/controls",
      "model_module_version": "1.1.0",
      "model_name": "DescriptionStyleModel",
      "state": {
       "description_width": ""
      }
     },
     "dabd2986ab194d219ba3a3d94dbac8a8": {
      "model_module": "@jupyter-widgets/base",
      "model_module_version": "1.0.0",
      "model_name": "LayoutModel",
      "state": {}
     },
     "dae0c53a14324d5283bfa0141cccc98b": {
      "model_module": "@jupyter-widgets/controls",
      "model_module_version": "1.1.0",
      "model_name": "HBoxModel",
      "state": {
       "children": [
        "IPY_MODEL_359653224f4b4696a3e516c2400d21a7",
        "IPY_MODEL_ea16ec516d0e4b159918fb02f13dd356"
       ],
       "layout": "IPY_MODEL_6105225df72f421ab0d38b693b0a7048"
      }
     },
     "dc5bcc0610a0490dbab8298a19e25421": {
      "model_module": "@jupyter-widgets/base",
      "model_module_version": "1.0.0",
      "model_name": "LayoutModel",
      "state": {}
     },
     "dcb5eb9cd052460eb66b4ee6c5e470ed": {
      "model_module": "@jupyter-widgets/controls",
      "model_module_version": "1.1.0",
      "model_name": "DescriptionStyleModel",
      "state": {
       "description_width": ""
      }
     },
     "de45a0948ebe4fc1a4ee6b25aaab5cc7": {
      "model_module": "@jupyter-widgets/base",
      "model_module_version": "1.0.0",
      "model_name": "LayoutModel",
      "state": {}
     },
     "dea82dbc134543688e59d4c4b70fc912": {
      "model_module": "@jupyter-widgets/controls",
      "model_module_version": "1.1.0",
      "model_name": "IntProgressModel",
      "state": {
       "bar_style": "success",
       "layout": "IPY_MODEL_8616a28c896a4f298d8edb3c3ef7d10f",
       "max": 30,
       "style": "IPY_MODEL_497a7df7764444dd9016a45540098a4e",
       "value": 30
      }
     },
     "df119a94a4054aa5bed5b319ba5da988": {
      "model_module": "@jupyter-widgets/base",
      "model_module_version": "1.0.0",
      "model_name": "LayoutModel",
      "state": {}
     },
     "df257b808de5403bbea365ea67177d34": {
      "model_module": "@jupyter-widgets/controls",
      "model_module_version": "1.1.0",
      "model_name": "ProgressStyleModel",
      "state": {
       "description_width": ""
      }
     },
     "e1466ada3ac44e91a01e2a17270ddb2f": {
      "model_module": "@jupyter-widgets/controls",
      "model_module_version": "1.1.0",
      "model_name": "ProgressStyleModel",
      "state": {
       "description_width": ""
      }
     },
     "e22711f6deca457f8e9c34296d811fcd": {
      "model_module": "@jupyter-widgets/controls",
      "model_module_version": "1.1.0",
      "model_name": "HTMLModel",
      "state": {
       "layout": "IPY_MODEL_ac02f22182e3418f8ef96833db01fb85",
       "style": "IPY_MODEL_94848bf4b9e5443aa0f0406427d1fec9",
       "value": "30it [01:00,  2.01s/it]"
      }
     },
     "e321c95de5b84852b988968fe02476db": {
      "model_module": "@jupyter-widgets/controls",
      "model_module_version": "1.1.0",
      "model_name": "HBoxModel",
      "state": {
       "children": [
        "IPY_MODEL_e5837c2ff9e746d8903b7a1d2dd5d8d3",
        "IPY_MODEL_67c17aede2ca48f2a8aaf4cb5433e8af"
       ],
       "layout": "IPY_MODEL_10d77078651d45e5a6339013b0bcd11b"
      }
     },
     "e547c0897ff84c2cb1e1de2c3cd28b1e": {
      "model_module": "@jupyter-widgets/base",
      "model_module_version": "1.0.0",
      "model_name": "LayoutModel",
      "state": {}
     },
     "e5837c2ff9e746d8903b7a1d2dd5d8d3": {
      "model_module": "@jupyter-widgets/controls",
      "model_module_version": "1.1.0",
      "model_name": "IntProgressModel",
      "state": {
       "bar_style": "danger",
       "layout": "IPY_MODEL_2ac6e798ec454776b9de2968954d1ef6",
       "max": 1,
       "style": "IPY_MODEL_fe874af9986c469a84fdcb7308e4a7c1",
       "value": 1
      }
     },
     "e66325fed9e148b9a2042adafefd01fa": {
      "model_module": "@jupyter-widgets/controls",
      "model_module_version": "1.1.0",
      "model_name": "ProgressStyleModel",
      "state": {
       "description_width": ""
      }
     },
     "e6871b261c854feebe0acfd9db6ebae4": {
      "model_module": "@jupyter-widgets/base",
      "model_module_version": "1.0.0",
      "model_name": "LayoutModel",
      "state": {}
     },
     "e7f1043cb0434c7cb2deaf9334a61a7c": {
      "model_module": "@jupyter-widgets/base",
      "model_module_version": "1.0.0",
      "model_name": "LayoutModel",
      "state": {}
     },
     "e81a6185424d44ee9a8a0156d1584972": {
      "model_module": "@jupyter-widgets/controls",
      "model_module_version": "1.1.0",
      "model_name": "HTMLModel",
      "state": {
       "layout": "IPY_MODEL_07caa33d666b4157915c6e3163cf7998",
       "style": "IPY_MODEL_e8ada307c2004e798d35192a54136bd5",
       "value": "170it [00:01, 105.69it/s]"
      }
     },
     "e8ada307c2004e798d35192a54136bd5": {
      "model_module": "@jupyter-widgets/controls",
      "model_module_version": "1.1.0",
      "model_name": "DescriptionStyleModel",
      "state": {
       "description_width": ""
      }
     },
     "e8d132d2b0364bca9893e4c15a0a2a40": {
      "model_module": "@jupyter-widgets/controls",
      "model_module_version": "1.1.0",
      "model_name": "ProgressStyleModel",
      "state": {
       "description_width": ""
      }
     },
     "ea16ec516d0e4b159918fb02f13dd356": {
      "model_module": "@jupyter-widgets/controls",
      "model_module_version": "1.1.0",
      "model_name": "HTMLModel",
      "state": {
       "layout": "IPY_MODEL_a95948487f9c439ead7a296810874583",
       "style": "IPY_MODEL_b2ded32f46174257b11bf867bae26144",
       "value": "100% 57/57 [00:00&lt;00:00, 109.69it/s]"
      }
     },
     "eb33295389f8465c93d24f3619b91d10": {
      "model_module": "@jupyter-widgets/controls",
      "model_module_version": "1.1.0",
      "model_name": "HTMLModel",
      "state": {
       "layout": "IPY_MODEL_03049715fb2c40f1a5bd3fcf5edd4e86",
       "style": "IPY_MODEL_c0191cd62d1c4756bdbf7b44dda98b35",
       "value": "30it [05:01, 10.07s/it]"
      }
     },
     "ee25a878293f4913b8e36c7e67199e77": {
      "model_module": "@jupyter-widgets/controls",
      "model_module_version": "1.1.0",
      "model_name": "HTMLModel",
      "state": {
       "layout": "IPY_MODEL_ade9a1b6bff8498dbd3858b40bb3a82a",
       "style": "IPY_MODEL_071ffbe281ab46b68f5582fb89b72717",
       "value": "100% 30/30 [00:00&lt;00:00, 124.82it/s]"
      }
     },
     "ef810d0f29dc4a85a74893a935c8a9f2": {
      "model_module": "@jupyter-widgets/base",
      "model_module_version": "1.0.0",
      "model_name": "LayoutModel",
      "state": {}
     },
     "f1739d21923f40a791fabe983368aba3": {
      "model_module": "@jupyter-widgets/controls",
      "model_module_version": "1.1.0",
      "model_name": "DescriptionStyleModel",
      "state": {
       "description_width": ""
      }
     },
     "f25be1f7f9b24ffaa32e7dd35507c8ab": {
      "model_module": "@jupyter-widgets/controls",
      "model_module_version": "1.1.0",
      "model_name": "IntProgressModel",
      "state": {
       "bar_style": "success",
       "layout": "IPY_MODEL_52e1fa3bb4c54d13a499ca5a721105df",
       "max": 57,
       "style": "IPY_MODEL_35f1fc698b5d44d19a2a25addf2870bd",
       "value": 57
      }
     },
     "f4830097e327430caf0b5759e36f9a14": {
      "model_module": "@jupyter-widgets/controls",
      "model_module_version": "1.1.0",
      "model_name": "ProgressStyleModel",
      "state": {
       "description_width": ""
      }
     },
     "f5692b2cb3124833b4106901f0c3171f": {
      "model_module": "@jupyter-widgets/controls",
      "model_module_version": "1.1.0",
      "model_name": "HTMLModel",
      "state": {
       "layout": "IPY_MODEL_38e1caec6e2048b0abf00062f4bfc11a",
       "style": "IPY_MODEL_2097465028a24f76a92e21a2336720f3",
       "value": "100% 30/30 [00:00&lt;00:00, 127.71it/s]"
      }
     },
     "f6f46841a9bd424a978d2fba50de6931": {
      "model_module": "@jupyter-widgets/controls",
      "model_module_version": "1.1.0",
      "model_name": "ProgressStyleModel",
      "state": {
       "description_width": ""
      }
     },
     "f7e075b6cc454d3384d101c9d4f2e9cb": {
      "model_module": "@jupyter-widgets/controls",
      "model_module_version": "1.1.0",
      "model_name": "HBoxModel",
      "state": {
       "children": [
        "IPY_MODEL_d56c926dadec4fa9abbd5d139072c613",
        "IPY_MODEL_faa501c69c94430f8eb9781618ea839c"
       ],
       "layout": "IPY_MODEL_2cd5bbfafb2e4be2a8fc464a3eff9fd6"
      }
     },
     "f91e1789e1794f34a5ce6e52381e940f": {
      "model_module": "@jupyter-widgets/controls",
      "model_module_version": "1.1.0",
      "model_name": "IntProgressModel",
      "state": {
       "bar_style": "success",
       "layout": "IPY_MODEL_df119a94a4054aa5bed5b319ba5da988",
       "max": 1,
       "style": "IPY_MODEL_df257b808de5403bbea365ea67177d34",
       "value": 1
      }
     },
     "fa5e997634744607b16b4705bd512c92": {
      "model_module": "@jupyter-widgets/controls",
      "model_module_version": "1.1.0",
      "model_name": "IntProgressModel",
      "state": {
       "bar_style": "success",
       "layout": "IPY_MODEL_0577704414824e8da90aa68ecf491d12",
       "max": 57,
       "style": "IPY_MODEL_e8d132d2b0364bca9893e4c15a0a2a40",
       "value": 57
      }
     },
     "faa501c69c94430f8eb9781618ea839c": {
      "model_module": "@jupyter-widgets/controls",
      "model_module_version": "1.1.0",
      "model_name": "HTMLModel",
      "state": {
       "layout": "IPY_MODEL_44cd3a56e6c344cbb55b5571ee6012c2",
       "style": "IPY_MODEL_08088721e1ba4abaa4264d92e239a851",
       "value": "30it [01:00,  2.00s/it]"
      }
     },
     "fd6fdf84fe82463f8accfbbc28e6e229": {
      "model_module": "@jupyter-widgets/base",
      "model_module_version": "1.0.0",
      "model_name": "LayoutModel",
      "state": {}
     },
     "fe123ccecef445bb90a5785e34a628ed": {
      "model_module": "@jupyter-widgets/controls",
      "model_module_version": "1.1.0",
      "model_name": "HBoxModel",
      "state": {
       "children": [
        "IPY_MODEL_1e63767b0099448f8e1764df729464f1",
        "IPY_MODEL_5eb05f675b154219b21b01b403eb1e86"
       ],
       "layout": "IPY_MODEL_07db3857e0164087b015b9fbef7d1fb0"
      }
     },
     "fe874af9986c469a84fdcb7308e4a7c1": {
      "model_module": "@jupyter-widgets/controls",
      "model_module_version": "1.1.0",
      "model_name": "ProgressStyleModel",
      "state": {
       "description_width": ""
      }
     },
     "fedf904d769045e99d89b26180912c95": {
      "model_module": "@jupyter-widgets/controls",
      "model_module_version": "1.1.0",
      "model_name": "DescriptionStyleModel",
      "state": {
       "description_width": ""
      }
     },
     "ffb297db0c284fb3893259fce5e00f02": {
      "model_module": "@jupyter-widgets/controls",
      "model_module_version": "1.1.0",
      "model_name": "ProgressStyleModel",
      "state": {
       "description_width": ""
      }
     }
    },
    "version_major": 2,
    "version_minor": 0
   }
  }
 },
 "nbformat": 4,
 "nbformat_minor": 2
}
