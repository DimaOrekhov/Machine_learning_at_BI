{
 "cells": [
  {
   "cell_type": "code",
   "execution_count": 1,
   "metadata": {},
   "outputs": [
    {
     "data": {
      "text/plain": [
       "<torch._C.Generator at 0x7f04aeeb0c30>"
      ]
     },
     "execution_count": 1,
     "metadata": {},
     "output_type": "execute_result"
    }
   ],
   "source": [
    "import pandas as pd\n",
    "import numpy as np\n",
    "import matplotlib.pyplot as plt\n",
    "from tqdm import tqdm_notebook\n",
    "import gc\n",
    "\n",
    "import torch\n",
    "import torchvision\n",
    "import torch.nn as nn\n",
    "from torchvision import transforms\n",
    "from torch.utils.data import Dataset, DataLoader, random_split\n",
    "\n",
    "torch.manual_seed(19)"
   ]
  },
  {
   "cell_type": "code",
   "execution_count": 140,
   "metadata": {},
   "outputs": [],
   "source": [
    "class MNIST_dataset(Dataset):\n",
    "    \n",
    "    def __init__(self, df, lcol, height, width, n_classes=10, transform=transforms.ToTensor(), oh_enc=True):\n",
    "        self.df = df.drop(columns=lcol).values.reshape(-1, height, width, 1)\n",
    "        temp = torch.from_numpy(df[lcol].values)\n",
    "        if oh_enc:\n",
    "            self.labels = torch.zeros((self.df.shape[0], n_classes))\n",
    "            self.labels.scatter_(1, temp.view(-1, 1), 1).type('torch.LongTensor')\n",
    "        else:\n",
    "            self.labels = temp.type('torch.LongTensor')\n",
    "        self.transform = transform\n",
    "        \n",
    "    def __len__(self):\n",
    "        return self.df.shape[0]\n",
    "        \n",
    "    def __getitem__(self, idx):\n",
    "        label = self.labels[idx]\n",
    "        if self.transform:\n",
    "            item = self.transform(self.df[idx]).type('torch.FloatTensor')\n",
    "        return item, label\n",
    "    \n",
    "    def train_test_split(self, test_size):\n",
    "        test_length = int(test_size * len(self))\n",
    "        train_length = len(self) - test_length\n",
    "        return random_split(self, [train_length, test_length])\n",
    "    \n",
    "    def draw(self, idx):\n",
    "        lab = torch.argmax(self.labels[idx])\n",
    "        print(lab.item())\n",
    "        plt.imshow(self.df[idx].reshape(self.df[idx].shape[1], -1))\n",
    "        \n",
    "class Flatten(nn.Module):\n",
    "    \n",
    "    def forward(self, x):\n",
    "        _, C, H, W = x.shape\n",
    "        return x.view(-1, C*H*W)"
   ]
  },
  {
   "cell_type": "markdown",
   "metadata": {},
   "source": [
    "# MNIST data set:"
   ]
  },
  {
   "cell_type": "code",
   "execution_count": 141,
   "metadata": {},
   "outputs": [
    {
     "data": {
      "text/html": [
       "<div>\n",
       "<style scoped>\n",
       "    .dataframe tbody tr th:only-of-type {\n",
       "        vertical-align: middle;\n",
       "    }\n",
       "\n",
       "    .dataframe tbody tr th {\n",
       "        vertical-align: top;\n",
       "    }\n",
       "\n",
       "    .dataframe thead th {\n",
       "        text-align: right;\n",
       "    }\n",
       "</style>\n",
       "<table border=\"1\" class=\"dataframe\">\n",
       "  <thead>\n",
       "    <tr style=\"text-align: right;\">\n",
       "      <th></th>\n",
       "      <th>label</th>\n",
       "      <th>0</th>\n",
       "      <th>1</th>\n",
       "      <th>2</th>\n",
       "      <th>3</th>\n",
       "      <th>4</th>\n",
       "      <th>5</th>\n",
       "      <th>6</th>\n",
       "      <th>7</th>\n",
       "      <th>8</th>\n",
       "      <th>...</th>\n",
       "      <th>774</th>\n",
       "      <th>775</th>\n",
       "      <th>776</th>\n",
       "      <th>777</th>\n",
       "      <th>778</th>\n",
       "      <th>779</th>\n",
       "      <th>780</th>\n",
       "      <th>781</th>\n",
       "      <th>782</th>\n",
       "      <th>783</th>\n",
       "    </tr>\n",
       "  </thead>\n",
       "  <tbody>\n",
       "    <tr>\n",
       "      <th>0</th>\n",
       "      <td>7</td>\n",
       "      <td>0</td>\n",
       "      <td>0</td>\n",
       "      <td>0</td>\n",
       "      <td>0</td>\n",
       "      <td>0</td>\n",
       "      <td>0</td>\n",
       "      <td>0</td>\n",
       "      <td>0</td>\n",
       "      <td>0</td>\n",
       "      <td>...</td>\n",
       "      <td>0</td>\n",
       "      <td>0</td>\n",
       "      <td>0</td>\n",
       "      <td>0</td>\n",
       "      <td>0</td>\n",
       "      <td>0</td>\n",
       "      <td>0</td>\n",
       "      <td>0</td>\n",
       "      <td>0</td>\n",
       "      <td>0</td>\n",
       "    </tr>\n",
       "    <tr>\n",
       "      <th>1</th>\n",
       "      <td>2</td>\n",
       "      <td>0</td>\n",
       "      <td>0</td>\n",
       "      <td>0</td>\n",
       "      <td>0</td>\n",
       "      <td>0</td>\n",
       "      <td>0</td>\n",
       "      <td>0</td>\n",
       "      <td>0</td>\n",
       "      <td>0</td>\n",
       "      <td>...</td>\n",
       "      <td>0</td>\n",
       "      <td>0</td>\n",
       "      <td>0</td>\n",
       "      <td>0</td>\n",
       "      <td>0</td>\n",
       "      <td>0</td>\n",
       "      <td>0</td>\n",
       "      <td>0</td>\n",
       "      <td>0</td>\n",
       "      <td>0</td>\n",
       "    </tr>\n",
       "    <tr>\n",
       "      <th>2</th>\n",
       "      <td>1</td>\n",
       "      <td>0</td>\n",
       "      <td>0</td>\n",
       "      <td>0</td>\n",
       "      <td>0</td>\n",
       "      <td>0</td>\n",
       "      <td>0</td>\n",
       "      <td>0</td>\n",
       "      <td>0</td>\n",
       "      <td>0</td>\n",
       "      <td>...</td>\n",
       "      <td>0</td>\n",
       "      <td>0</td>\n",
       "      <td>0</td>\n",
       "      <td>0</td>\n",
       "      <td>0</td>\n",
       "      <td>0</td>\n",
       "      <td>0</td>\n",
       "      <td>0</td>\n",
       "      <td>0</td>\n",
       "      <td>0</td>\n",
       "    </tr>\n",
       "    <tr>\n",
       "      <th>3</th>\n",
       "      <td>0</td>\n",
       "      <td>0</td>\n",
       "      <td>0</td>\n",
       "      <td>0</td>\n",
       "      <td>0</td>\n",
       "      <td>0</td>\n",
       "      <td>0</td>\n",
       "      <td>0</td>\n",
       "      <td>0</td>\n",
       "      <td>0</td>\n",
       "      <td>...</td>\n",
       "      <td>0</td>\n",
       "      <td>0</td>\n",
       "      <td>0</td>\n",
       "      <td>0</td>\n",
       "      <td>0</td>\n",
       "      <td>0</td>\n",
       "      <td>0</td>\n",
       "      <td>0</td>\n",
       "      <td>0</td>\n",
       "      <td>0</td>\n",
       "    </tr>\n",
       "    <tr>\n",
       "      <th>4</th>\n",
       "      <td>4</td>\n",
       "      <td>0</td>\n",
       "      <td>0</td>\n",
       "      <td>0</td>\n",
       "      <td>0</td>\n",
       "      <td>0</td>\n",
       "      <td>0</td>\n",
       "      <td>0</td>\n",
       "      <td>0</td>\n",
       "      <td>0</td>\n",
       "      <td>...</td>\n",
       "      <td>0</td>\n",
       "      <td>0</td>\n",
       "      <td>0</td>\n",
       "      <td>0</td>\n",
       "      <td>0</td>\n",
       "      <td>0</td>\n",
       "      <td>0</td>\n",
       "      <td>0</td>\n",
       "      <td>0</td>\n",
       "      <td>0</td>\n",
       "    </tr>\n",
       "  </tbody>\n",
       "</table>\n",
       "<p>5 rows × 785 columns</p>\n",
       "</div>"
      ],
      "text/plain": [
       "   label  0  1  2  3  4  5  6  7  8  ...  774  775  776  777  778  779  780  \\\n",
       "0      7  0  0  0  0  0  0  0  0  0  ...    0    0    0    0    0    0    0   \n",
       "1      2  0  0  0  0  0  0  0  0  0  ...    0    0    0    0    0    0    0   \n",
       "2      1  0  0  0  0  0  0  0  0  0  ...    0    0    0    0    0    0    0   \n",
       "3      0  0  0  0  0  0  0  0  0  0  ...    0    0    0    0    0    0    0   \n",
       "4      4  0  0  0  0  0  0  0  0  0  ...    0    0    0    0    0    0    0   \n",
       "\n",
       "   781  782  783  \n",
       "0    0    0    0  \n",
       "1    0    0    0  \n",
       "2    0    0    0  \n",
       "3    0    0    0  \n",
       "4    0    0    0  \n",
       "\n",
       "[5 rows x 785 columns]"
      ]
     },
     "execution_count": 141,
     "metadata": {},
     "output_type": "execute_result"
    }
   ],
   "source": [
    "mnist = pd.read_csv('Data/mnist.csv')\n",
    "mnist.head()"
   ]
  },
  {
   "cell_type": "markdown",
   "metadata": {},
   "source": [
    "Creating torch data set, row vectors will be converted to **(height x width)** matrices:"
   ]
  },
  {
   "cell_type": "code",
   "execution_count": 142,
   "metadata": {},
   "outputs": [],
   "source": [
    "data = MNIST_dataset(mnist, 'label', height=28, width=28, oh_enc=False)"
   ]
  },
  {
   "cell_type": "code",
   "execution_count": 150,
   "metadata": {},
   "outputs": [
    {
     "name": "stdout",
     "output_type": "stream",
     "text": [
      "6\n"
     ]
    },
    {
     "data": {
      "image/png": "[encoded data removed]",
      "text/plain": [
       "<Figure size 432x288 with 1 Axes>"
      ]
     },
     "metadata": {},
     "output_type": "display_data"
    }
   ],
   "source": [
    "data.draw(11)"
   ]
  },
  {
   "cell_type": "markdown",
   "metadata": {},
   "source": [
    "Splitting the data:"
   ]
  },
  {
   "cell_type": "code",
   "execution_count": 152,
   "metadata": {},
   "outputs": [],
   "source": [
    "train, test = data.train_test_split(test_size=0.2)"
   ]
  },
  {
   "cell_type": "markdown",
   "metadata": {},
   "source": [
    "Specifying netwrork's architecture:"
   ]
  },
  {
   "cell_type": "code",
   "execution_count": 269,
   "metadata": {},
   "outputs": [],
   "source": [
    "class CNN_MNIST(nn.Module):\n",
    "    \n",
    "    def __init__(self, activation):\n",
    "        super().__init__()\n",
    "        self.activation = activation()\n",
    "        self.conv = nn.ModuleList([nn.Conv2d(1, 8, 3),\n",
    "                     nn.Conv2d(8, 8, 3),\n",
    "                     nn.Conv2d(8, 8, 3)])\n",
    "        self.pool = nn.MaxPool2d(2, 2)\n",
    "        self.flat = Flatten()\n",
    "        self.fc1 = nn.Linear(8, 64)\n",
    "        self.fc2 = nn.Linear(64, 64)\n",
    "        self.out = nn.Linear(64, 10)\n",
    "        \n",
    "    def forward(self, x):\n",
    "        for layer in self.conv:\n",
    "            x = self.pool(self.activation(layer(x)))\n",
    "        x = self.flat(x)\n",
    "        x = self.activation(self.fc1(x))\n",
    "        x = self.activation(self.fc2(x))\n",
    "        x = self.out(x)\n",
    "        return x\n",
    "        \n",
    "    def fit(self, dataset, loss, opt, n_epochs, batch_size):\n",
    "        \n",
    "        loss = loss\n",
    "        d_loader = DataLoader(dataset, batch_size=batch_size, shuffle=True)\n",
    "        \n",
    "        for i in tqdm_notebook(range(n_epochs)):\n",
    "            j = 0\n",
    "            rloss = 0\n",
    "            for X_batch, y_batch in d_loader: \n",
    "                opt.zero_grad()\n",
    "                \n",
    "                out = self(X_batch)\n",
    "                \n",
    "                loss_val = loss(out, y_batch)\n",
    "                \n",
    "                rloss += loss_val.item()\n",
    "                j += 1\n",
    "                \n",
    "                loss_val.backward()\n",
    "                \n",
    "                opt.step()\n",
    "            print(f'Epoch #{i}: Mean LOSS = {rloss/j}')\n",
    "                \n",
    "    def assess_accuracy(self, dataset):\n",
    "        \n",
    "        self.eval()\n",
    "        \n",
    "        corr = torch.zeros(10)\n",
    "        total = torch.zeros(10)\n",
    "        for X, y in DataLoader(dataset, batch_size=1024):\n",
    "            \n",
    "            out = torch.argmax(self(X), 1)\n",
    "            \n",
    "            res = out == y\n",
    "            for i, lab in enumerate(y):\n",
    "                corr[lab] += res[i]\n",
    "                total[lab] += 1\n",
    "        \n",
    "        o_string = ''\n",
    "        acc = corr.div(total)\n",
    "        for i in range(10):\n",
    "            o_string += f'Accuracy of {i}: {round(acc[i].item(), 3)}\\n'\n",
    "        print(o_string)\n",
    "        print(f'Total accuracy = {round(torch.mean(acc).item(), 3)}')"
   ]
  },
  {
   "cell_type": "markdown",
   "metadata": {},
   "source": [
    "### Sigmoid activation function:"
   ]
  },
  {
   "cell_type": "code",
   "execution_count": 270,
   "metadata": {},
   "outputs": [],
   "source": [
    "SIGMOID_MNIST = CNN_MNIST(nn.Sigmoid)\n",
    "\n",
    "optimizer = torch.optim.Adam(SIGMOID_MNIST.parameters(), weight_decay=0.01)\n",
    "loss = nn.CrossEntropyLoss(reduction='sum')"
   ]
  },
  {
   "cell_type": "code",
   "execution_count": 271,
   "metadata": {},
   "outputs": [
    {
     "data": {
      "application/vnd.jupyter.widget-view+json": {
       "model_id": "7d409c1ca10d45f6ab0f1af9dd58d7ca",
       "version_major": 2,
       "version_minor": 0
      },
      "text/plain": [
       "HBox(children=(IntProgress(value=0, max=200), HTML(value='')))"
      ]
     },
     "metadata": {},
     "output_type": "display_data"
    },
    {
     "name": "stdout",
     "output_type": "stream",
     "text": [
      "Epoch #0: Mean LOSS = 292.68028743683345\n",
      "Epoch #1: Mean LOSS = 292.53336249457465\n",
      "Epoch #2: Mean LOSS = 292.42884923541357\n",
      "Epoch #3: Mean LOSS = 292.48744298541357\n",
      "Epoch #4: Mean LOSS = 292.3601551358662\n",
      "Epoch #5: Mean LOSS = 291.995109194801\n",
      "Epoch #6: Mean LOSS = 288.1599372984871\n",
      "Epoch #7: Mean LOSS = 261.9282506306966\n",
      "Epoch #8: Mean LOSS = 232.5427012367854\n",
      "Epoch #9: Mean LOSS = 219.9820786733476\n",
      "Epoch #10: Mean LOSS = 211.43647862994482\n",
      "Epoch #11: Mean LOSS = 203.92601134285096\n",
      "Epoch #12: Mean LOSS = 198.57206459650916\n",
      "Epoch #13: Mean LOSS = 193.91632237510075\n",
      "Epoch #14: Mean LOSS = 189.8921340457977\n",
      "Epoch #15: Mean LOSS = 186.30078706287202\n",
      "Epoch #16: Mean LOSS = 183.47843690902468\n",
      "Epoch #17: Mean LOSS = 180.82798936631946\n",
      "Epoch #18: Mean LOSS = 178.08445703415643\n",
      "Epoch #19: Mean LOSS = 175.6264185829768\n",
      "Epoch #20: Mean LOSS = 173.43406398712642\n",
      "Epoch #21: Mean LOSS = 171.7160873413086\n",
      "Epoch #22: Mean LOSS = 170.16642458476719\n",
      "Epoch #23: Mean LOSS = 167.52740623837425\n",
      "Epoch #24: Mean LOSS = 165.72050173320469\n",
      "Epoch #25: Mean LOSS = 164.37200189015223\n",
      "Epoch #26: Mean LOSS = 162.41727350628565\n",
      "Epoch #27: Mean LOSS = 160.90451292007688\n",
      "Epoch #28: Mean LOSS = 159.7358840457977\n",
      "Epoch #29: Mean LOSS = 157.82269420321026\n",
      "Epoch #30: Mean LOSS = 156.2929918803866\n",
      "Epoch #31: Mean LOSS = 154.9538038950118\n",
      "Epoch #32: Mean LOSS = 153.606811402336\n",
      "Epoch #33: Mean LOSS = 151.42246427990142\n",
      "Epoch #34: Mean LOSS = 150.05847882467603\n",
      "Epoch #35: Mean LOSS = 148.61866384839254\n",
      "Epoch #36: Mean LOSS = 145.69906761532738\n",
      "Epoch #37: Mean LOSS = 143.48475889175657\n",
      "Epoch #38: Mean LOSS = 139.80275193471758\n",
      "Epoch #39: Mean LOSS = 135.97251492454893\n",
      "Epoch #40: Mean LOSS = 130.64264775836278\n",
      "Epoch #41: Mean LOSS = 125.58928662254696\n",
      "Epoch #42: Mean LOSS = 120.31769131857251\n",
      "Epoch #43: Mean LOSS = 116.65946409437392\n",
      "Epoch #44: Mean LOSS = 112.66393455626472\n",
      "Epoch #45: Mean LOSS = 109.1592191060384\n",
      "Epoch #46: Mean LOSS = 106.21651343693809\n",
      "Epoch #47: Mean LOSS = 103.67590683225602\n",
      "Epoch #48: Mean LOSS = 101.8087502736894\n",
      "Epoch #49: Mean LOSS = 98.92942652626643\n",
      "Epoch #50: Mean LOSS = 96.34791298518105\n",
      "Epoch #51: Mean LOSS = 94.71882163153754\n",
      "Epoch #52: Mean LOSS = 92.2497448996892\n",
      "Epoch #53: Mean LOSS = 89.71862472049774\n",
      "Epoch #54: Mean LOSS = 87.87924375988189\n",
      "Epoch #55: Mean LOSS = 85.08672235882472\n",
      "Epoch #56: Mean LOSS = 82.79742716229151\n",
      "Epoch #57: Mean LOSS = 80.80702233692956\n",
      "Epoch #58: Mean LOSS = 78.99909264700753\n",
      "Epoch #59: Mean LOSS = 76.95841677226717\n",
      "Epoch #60: Mean LOSS = 75.34794695415194\n",
      "Epoch #61: Mean LOSS = 74.27372868855794\n",
      "Epoch #62: Mean LOSS = 72.9077599843343\n",
      "Epoch #63: Mean LOSS = 71.51962371099563\n",
      "Epoch #64: Mean LOSS = 70.67923167395213\n",
      "Epoch #65: Mean LOSS = 68.83317111787342\n",
      "Epoch #66: Mean LOSS = 67.95888319469634\n",
      "Epoch #67: Mean LOSS = 67.0630109272306\n",
      "Epoch #68: Mean LOSS = 66.10759326389858\n",
      "Epoch #69: Mean LOSS = 65.47077027578203\n",
      "Epoch #70: Mean LOSS = 64.3507345290411\n",
      "Epoch #71: Mean LOSS = 64.03556548224554\n",
      "Epoch #72: Mean LOSS = 62.40792864844913\n",
      "Epoch #73: Mean LOSS = 61.731383520459374\n",
      "Epoch #74: Mean LOSS = 61.35466584705171\n",
      "Epoch #75: Mean LOSS = 59.941148455180816\n",
      "Epoch #76: Mean LOSS = 59.45313063121977\n",
      "Epoch #77: Mean LOSS = 58.98781482757084\n",
      "Epoch #78: Mean LOSS = 57.553269461979944\n",
      "Epoch #79: Mean LOSS = 57.545626473805264\n",
      "Epoch #80: Mean LOSS = 56.42098160395547\n",
      "Epoch #81: Mean LOSS = 56.33356451609778\n",
      "Epoch #82: Mean LOSS = 55.83439954121908\n",
      "Epoch #83: Mean LOSS = 54.90605532933795\n",
      "Epoch #84: Mean LOSS = 53.89146765451583\n",
      "Epoch #85: Mean LOSS = 53.72680488465324\n",
      "Epoch #86: Mean LOSS = 53.49483323475671\n",
      "Epoch #87: Mean LOSS = 52.44928350902739\n",
      "Epoch #88: Mean LOSS = 52.03750452919612\n",
      "Epoch #89: Mean LOSS = 51.65654694087922\n",
      "Epoch #90: Mean LOSS = 50.957384260873944\n",
      "Epoch #91: Mean LOSS = 50.470452142140225\n",
      "Epoch #92: Mean LOSS = 49.987664056202725\n",
      "Epoch #93: Mean LOSS = 49.64634592570956\n",
      "Epoch #94: Mean LOSS = 49.4814338684082\n",
      "Epoch #95: Mean LOSS = 48.46808895232186\n",
      "Epoch #96: Mean LOSS = 48.76618966602144\n",
      "Epoch #97: Mean LOSS = 48.09070859636579\n",
      "Epoch #98: Mean LOSS = 47.242671270219105\n",
      "Epoch #99: Mean LOSS = 47.65299551827567\n",
      "Epoch #100: Mean LOSS = 46.658261813814676\n",
      "Epoch #101: Mean LOSS = 46.01527907356383\n",
      "Epoch #102: Mean LOSS = 45.70610052441794\n",
      "Epoch #103: Mean LOSS = 45.0684763287741\n",
      "Epoch #104: Mean LOSS = 44.96461259751093\n",
      "Epoch #105: Mean LOSS = 44.241268157958984\n",
      "Epoch #106: Mean LOSS = 44.114706069704084\n",
      "Epoch #107: Mean LOSS = 44.27047175452823\n",
      "Epoch #108: Mean LOSS = 44.15692977299766\n",
      "Epoch #109: Mean LOSS = 42.831991256229465\n",
      "Epoch #110: Mean LOSS = 42.6666140480647\n",
      "Epoch #111: Mean LOSS = 43.12271190824963\n",
      "Epoch #112: Mean LOSS = 42.256167184738885\n",
      "Epoch #113: Mean LOSS = 42.212791563972594\n",
      "Epoch #114: Mean LOSS = 41.77628096323165\n",
      "Epoch #115: Mean LOSS = 41.40929715595548\n",
      "Epoch #116: Mean LOSS = 41.13486669933985\n",
      "Epoch #117: Mean LOSS = 40.74184687175448\n",
      "Epoch #118: Mean LOSS = 40.623114419361904\n",
      "Epoch #119: Mean LOSS = 40.39291563488188\n",
      "Epoch #120: Mean LOSS = 39.774692141820516\n",
      "Epoch #121: Mean LOSS = 39.69486360701303\n",
      "Epoch #122: Mean LOSS = 40.25367611173599\n",
      "Epoch #123: Mean LOSS = 39.46974727085659\n",
      "Epoch #124: Mean LOSS = 39.153963300916885\n",
      "Epoch #125: Mean LOSS = 39.176594734191895\n",
      "Epoch #126: Mean LOSS = 38.67639580983964\n",
      "Epoch #127: Mean LOSS = 38.384481490604465\n",
      "Epoch #128: Mean LOSS = 38.239058025299556\n",
      "Epoch #129: Mean LOSS = 38.264023826235814\n",
      "Epoch #130: Mean LOSS = 37.49613580249605\n",
      "Epoch #131: Mean LOSS = 37.46982625931028\n",
      "Epoch #132: Mean LOSS = 37.27994861300029\n",
      "Epoch #133: Mean LOSS = 36.97613399747818\n",
      "Epoch #134: Mean LOSS = 36.776581173851376\n",
      "Epoch #135: Mean LOSS = 36.58156522115072\n",
      "Epoch #136: Mean LOSS = 36.64977305276053\n",
      "Epoch #137: Mean LOSS = 35.865139885554235\n",
      "Epoch #138: Mean LOSS = 35.73892569163489\n",
      "Epoch #139: Mean LOSS = 35.180082230340865\n",
      "Epoch #140: Mean LOSS = 35.06493562365335\n",
      "Epoch #141: Mean LOSS = 35.060864978366425\n",
      "Epoch #142: Mean LOSS = 34.76710697961232\n",
      "Epoch #143: Mean LOSS = 34.26566641671317\n",
      "Epoch #144: Mean LOSS = 34.6684895318652\n",
      "Epoch #145: Mean LOSS = 34.124600788903614\n",
      "Epoch #146: Mean LOSS = 34.04021808079311\n",
      "Epoch #147: Mean LOSS = 33.52056952885219\n",
      "Epoch #148: Mean LOSS = 33.27230956062438\n",
      "Epoch #149: Mean LOSS = 33.44785025763133\n",
      "Epoch #150: Mean LOSS = 33.211998591347346\n",
      "Epoch #151: Mean LOSS = 33.33146706838456\n",
      "Epoch #152: Mean LOSS = 32.679081825982955\n",
      "Epoch #153: Mean LOSS = 32.80114391871861\n",
      "Epoch #154: Mean LOSS = 32.46871939159575\n",
      "Epoch #155: Mean LOSS = 32.16613421364436\n",
      "Epoch #156: Mean LOSS = 31.99380291832818\n",
      "Epoch #157: Mean LOSS = 31.84120123726981\n",
      "Epoch #158: Mean LOSS = 32.063338627890936\n",
      "Epoch #159: Mean LOSS = 31.45000736297123\n",
      "Epoch #160: Mean LOSS = 31.437567029680526\n",
      "Epoch #161: Mean LOSS = 31.60678712148515\n",
      "Epoch #162: Mean LOSS = 31.306302872915115\n",
      "Epoch #163: Mean LOSS = 30.753570586916002\n",
      "Epoch #164: Mean LOSS = 30.775753339131672\n",
      "Epoch #165: Mean LOSS = 30.820866085234144\n",
      "Epoch #166: Mean LOSS = 30.431501176622177\n",
      "Epoch #167: Mean LOSS = 29.972780394175697\n",
      "Epoch #168: Mean LOSS = 30.068639664422896\n",
      "Epoch #169: Mean LOSS = 29.891481278434632\n",
      "Epoch #170: Mean LOSS = 29.84804430462065\n",
      "Epoch #171: Mean LOSS = 29.70009337531196\n",
      "Epoch #172: Mean LOSS = 29.36411003839402\n",
      "Epoch #173: Mean LOSS = 29.74256333850679\n",
      "Epoch #174: Mean LOSS = 29.704579792325458\n",
      "Epoch #175: Mean LOSS = 28.82719531891838\n",
      "Epoch #176: Mean LOSS = 29.297626949491956\n",
      "Epoch #177: Mean LOSS = 28.761150011940607\n",
      "Epoch #178: Mean LOSS = 29.20151692345029\n",
      "Epoch #179: Mean LOSS = 29.080337433587935\n",
      "Epoch #180: Mean LOSS = 28.12743067362952\n",
      "Epoch #181: Mean LOSS = 28.420632165575785\n",
      "Epoch #182: Mean LOSS = 28.27865715632363\n",
      "Epoch #183: Mean LOSS = 27.819449651808966\n",
      "Epoch #184: Mean LOSS = 27.828611025734553\n",
      "Epoch #185: Mean LOSS = 27.659426901075577\n",
      "Epoch #186: Mean LOSS = 27.683153061639693\n",
      "Epoch #187: Mean LOSS = 27.709885460989817\n",
      "Epoch #188: Mean LOSS = 27.43249598003569\n",
      "Epoch #189: Mean LOSS = 27.437129777575297\n",
      "Epoch #190: Mean LOSS = 27.486371676127117\n",
      "Epoch #191: Mean LOSS = 27.127419638255287\n",
      "Epoch #192: Mean LOSS = 26.886956578209286\n",
      "Epoch #193: Mean LOSS = 26.68930875687372\n",
      "Epoch #194: Mean LOSS = 26.193098227183025\n",
      "Epoch #195: Mean LOSS = 26.5251490426442\n"
     ]
    },
    {
     "name": "stdout",
     "output_type": "stream",
     "text": [
      "Epoch #196: Mean LOSS = 27.117486015198722\n",
      "Epoch #197: Mean LOSS = 26.441777093069895\n",
      "Epoch #198: Mean LOSS = 26.50876591697572\n",
      "Epoch #199: Mean LOSS = 26.293163950481112\n"
     ]
    }
   ],
   "source": [
    "SIGMOID_MNIST.fit(train, loss, optimizer, 200, 128)"
   ]
  },
  {
   "cell_type": "code",
   "execution_count": 273,
   "metadata": {},
   "outputs": [
    {
     "name": "stdout",
     "output_type": "stream",
     "text": [
      "Accuracy of 0: 0.939\n",
      "Accuracy of 1: 0.96\n",
      "Accuracy of 2: 0.905\n",
      "Accuracy of 3: 0.907\n",
      "Accuracy of 4: 0.891\n",
      "Accuracy of 5: 0.855\n",
      "Accuracy of 6: 0.934\n",
      "Accuracy of 7: 0.829\n",
      "Accuracy of 8: 0.828\n",
      "Accuracy of 9: 0.909\n",
      "\n",
      "Total accuracy = 0.896\n"
     ]
    }
   ],
   "source": [
    "SIGMOID_MNIST.assess_accuracy(test)"
   ]
  },
  {
   "cell_type": "markdown",
   "metadata": {},
   "source": [
    "### Tanh activation:"
   ]
  },
  {
   "cell_type": "code",
   "execution_count": 279,
   "metadata": {},
   "outputs": [],
   "source": [
    "TANH_MNIST = CNN_MNIST(nn.Tanh)\n",
    "\n",
    "optimizer = torch.optim.Adam(TANH_MNIST.parameters(), weight_decay=0.01)\n",
    "loss = nn.CrossEntropyLoss(reduction='sum')"
   ]
  },
  {
   "cell_type": "code",
   "execution_count": 280,
   "metadata": {},
   "outputs": [
    {
     "data": {
      "application/vnd.jupyter.widget-view+json": {
       "model_id": "37bf256f46744abea23cef2de18fed82",
       "version_major": 2,
       "version_minor": 0
      },
      "text/plain": [
       "HBox(children=(IntProgress(value=0), HTML(value='')))"
      ]
     },
     "metadata": {},
     "output_type": "display_data"
    },
    {
     "name": "stdout",
     "output_type": "stream",
     "text": [
      "Epoch #0: Mean LOSS = 254.2985359070793\n",
      "Epoch #1: Mean LOSS = 144.12471232338558\n",
      "Epoch #2: Mean LOSS = 91.4571410285102\n",
      "Epoch #3: Mean LOSS = 68.87169084094819\n",
      "Epoch #4: Mean LOSS = 56.37097270905026\n",
      "Epoch #5: Mean LOSS = 48.336078341045074\n",
      "Epoch #6: Mean LOSS = 43.78484898521786\n",
      "Epoch #7: Mean LOSS = 38.92613338288807\n",
      "Epoch #8: Mean LOSS = 35.72431500752767\n",
      "Epoch #9: Mean LOSS = 33.30994627210829\n",
      "Epoch #10: Mean LOSS = 31.93095004369342\n",
      "Epoch #11: Mean LOSS = 29.183512188139417\n",
      "Epoch #12: Mean LOSS = 27.77998103792705\n",
      "Epoch #13: Mean LOSS = 26.481946990603493\n",
      "Epoch #14: Mean LOSS = 26.06136617206392\n",
      "Epoch #15: Mean LOSS = 24.626864039708696\n",
      "Epoch #16: Mean LOSS = 23.117916379656112\n",
      "Epoch #17: Mean LOSS = 22.625355508592392\n",
      "Epoch #18: Mean LOSS = 21.968732879275368\n",
      "Epoch #19: Mean LOSS = 21.001605321490576\n",
      "Epoch #20: Mean LOSS = 20.10993828849187\n",
      "Epoch #21: Mean LOSS = 19.623528283739848\n",
      "Epoch #22: Mean LOSS = 19.110522958967422\n",
      "Epoch #23: Mean LOSS = 18.61676047340272\n",
      "Epoch #24: Mean LOSS = 17.661860632517982\n",
      "Epoch #25: Mean LOSS = 16.815864805191282\n",
      "Epoch #26: Mean LOSS = 16.17584773472377\n",
      "Epoch #27: Mean LOSS = 16.418698840671116\n",
      "Epoch #28: Mean LOSS = 15.73347837205917\n",
      "Epoch #29: Mean LOSS = 15.089274519965763\n",
      "Epoch #30: Mean LOSS = 15.10866241606455\n",
      "Epoch #31: Mean LOSS = 13.864533606029692\n",
      "Epoch #32: Mean LOSS = 13.49089843507797\n",
      "Epoch #33: Mean LOSS = 13.134128699226984\n",
      "Epoch #34: Mean LOSS = 13.554260087391686\n",
      "Epoch #35: Mean LOSS = 12.694954183366564\n",
      "Epoch #36: Mean LOSS = 11.549502259209042\n",
      "Epoch #37: Mean LOSS = 12.350930652921162\n",
      "Epoch #38: Mean LOSS = 11.40132450678992\n",
      "Epoch #39: Mean LOSS = 10.945466192941817\n",
      "Epoch #40: Mean LOSS = 10.92554211238074\n",
      "Epoch #41: Mean LOSS = 11.056975622025748\n",
      "Epoch #42: Mean LOSS = 10.402206148420062\n",
      "Epoch #43: Mean LOSS = 10.386113916124616\n",
      "Epoch #44: Mean LOSS = 9.98912285244654\n",
      "Epoch #45: Mean LOSS = 9.928272996629987\n",
      "Epoch #46: Mean LOSS = 9.844995271591912\n",
      "Epoch #47: Mean LOSS = 8.903360767970009\n",
      "Epoch #48: Mean LOSS = 9.615267791445293\n",
      "Epoch #49: Mean LOSS = 9.775109994979132\n",
      "Epoch #50: Mean LOSS = 8.818696529146225\n",
      "Epoch #51: Mean LOSS = 8.685196490514846\n",
      "Epoch #52: Mean LOSS = 8.747925977858285\n",
      "Epoch #53: Mean LOSS = 7.9775006884620305\n",
      "Epoch #54: Mean LOSS = 7.796234971001034\n",
      "Epoch #55: Mean LOSS = 7.67468572041345\n",
      "Epoch #56: Mean LOSS = 7.707676683153425\n",
      "Epoch #57: Mean LOSS = 6.995977288200741\n",
      "Epoch #58: Mean LOSS = 7.194583794427296\n",
      "Epoch #59: Mean LOSS = 7.926520188649495\n",
      "Epoch #60: Mean LOSS = 7.53433758871896\n",
      "Epoch #61: Mean LOSS = 7.334135017697773\n",
      "Epoch #62: Mean LOSS = 6.345948196592785\n",
      "Epoch #63: Mean LOSS = 6.62963196587941\n",
      "Epoch #64: Mean LOSS = 7.215141462901282\n",
      "Epoch #65: Mean LOSS = 6.593625802842397\n",
      "Epoch #66: Mean LOSS = 6.4125218315730015\n",
      "Epoch #67: Mean LOSS = 6.235588770064097\n",
      "Epoch #68: Mean LOSS = 5.626982514820401\n",
      "Epoch #69: Mean LOSS = 7.262383347465878\n",
      "Epoch #70: Mean LOSS = 6.787282421475365\n",
      "Epoch #71: Mean LOSS = 5.982817589290558\n",
      "Epoch #72: Mean LOSS = 5.441894099825904\n",
      "Epoch #73: Mean LOSS = 5.089655747489323\n",
      "Epoch #74: Mean LOSS = 5.314376959725032\n",
      "Epoch #75: Mean LOSS = 5.6534555071876165\n",
      "Epoch #76: Mean LOSS = 5.948072758931962\n",
      "Epoch #77: Mean LOSS = 6.368262480175685\n",
      "Epoch #78: Mean LOSS = 5.628045960078164\n",
      "Epoch #79: Mean LOSS = 4.659693309238979\n",
      "Epoch #80: Mean LOSS = 4.901367618924096\n",
      "Epoch #81: Mean LOSS = 4.50483378909883\n",
      "Epoch #82: Mean LOSS = 4.728311856587728\n",
      "Epoch #83: Mean LOSS = 4.41288249454801\n",
      "Epoch #84: Mean LOSS = 4.338247670067681\n",
      "Epoch #85: Mean LOSS = 4.915820447225419\n",
      "Epoch #86: Mean LOSS = 4.93120673346141\n",
      "Epoch #87: Mean LOSS = 6.143317548055498\n",
      "Epoch #88: Mean LOSS = 4.815381701030429\n",
      "Epoch #89: Mean LOSS = 4.72208219104343\n",
      "Epoch #90: Mean LOSS = 3.9123715748862615\n",
      "Epoch #91: Mean LOSS = 4.232577672080388\n",
      "Epoch #92: Mean LOSS = 4.179659858582512\n",
      "Epoch #93: Mean LOSS = 3.8677826381865\n",
      "Epoch #94: Mean LOSS = 3.7255990618751165\n",
      "Epoch #95: Mean LOSS = 3.6510998029557484\n",
      "Epoch #96: Mean LOSS = 4.573480643923321\n",
      "Epoch #97: Mean LOSS = 5.425983663589236\n",
      "Epoch #98: Mean LOSS = 3.748054867699033\n",
      "Epoch #99: Mean LOSS = 3.4405159041995095\n"
     ]
    }
   ],
   "source": [
    "TANH_MNIST.fit(train, loss, optimizer, 100, 128)"
   ]
  },
  {
   "cell_type": "markdown",
   "metadata": {},
   "source": [
    "Tanh converges faster than sigmoid."
   ]
  },
  {
   "cell_type": "code",
   "execution_count": 281,
   "metadata": {},
   "outputs": [
    {
     "name": "stdout",
     "output_type": "stream",
     "text": [
      "Accuracy of 0: 0.949\n",
      "Accuracy of 1: 0.96\n",
      "Accuracy of 2: 0.905\n",
      "Accuracy of 3: 0.912\n",
      "Accuracy of 4: 0.87\n",
      "Accuracy of 5: 0.907\n",
      "Accuracy of 6: 0.929\n",
      "Accuracy of 7: 0.912\n",
      "Accuracy of 8: 0.874\n",
      "Accuracy of 9: 0.919\n",
      "\n",
      "Total accuracy = 0.914\n"
     ]
    }
   ],
   "source": [
    "TANH_MNIST.assess_accuracy(test)"
   ]
  },
  {
   "cell_type": "markdown",
   "metadata": {},
   "source": [
    "### ReLU activation:"
   ]
  },
  {
   "cell_type": "code",
   "execution_count": 283,
   "metadata": {},
   "outputs": [],
   "source": [
    "RELU_MNIST = CNN_MNIST(nn.ReLU)\n",
    "\n",
    "optimizer = torch.optim.Adam(RELU_MNIST.parameters(), weight_decay=0.01)\n",
    "loss = nn.CrossEntropyLoss(reduction='sum')"
   ]
  },
  {
   "cell_type": "code",
   "execution_count": 284,
   "metadata": {},
   "outputs": [
    {
     "data": {
      "application/vnd.jupyter.widget-view+json": {
       "model_id": "1af7915b19d74f8c81eec451b4c76542",
       "version_major": 2,
       "version_minor": 0
      },
      "text/plain": [
       "HBox(children=(IntProgress(value=0), HTML(value='')))"
      ]
     },
     "metadata": {},
     "output_type": "display_data"
    },
    {
     "name": "stdout",
     "output_type": "stream",
     "text": [
      "Epoch #0: Mean LOSS = 198.74525621202258\n",
      "Epoch #1: Mean LOSS = 83.47246145823645\n",
      "Epoch #2: Mean LOSS = 57.52038289630224\n",
      "Epoch #3: Mean LOSS = 46.29170281546457\n",
      "Epoch #4: Mean LOSS = 39.55557750520252\n",
      "Epoch #5: Mean LOSS = 34.88693773178827\n",
      "Epoch #6: Mean LOSS = 31.183220999581472\n",
      "Epoch #7: Mean LOSS = 29.069204451545836\n",
      "Epoch #8: Mean LOSS = 26.750705794682577\n",
      "Epoch #9: Mean LOSS = 25.641151988317095\n",
      "Epoch #10: Mean LOSS = 22.410862559363956\n",
      "Epoch #11: Mean LOSS = 21.596875296698677\n",
      "Epoch #12: Mean LOSS = 19.774228005182174\n",
      "Epoch #13: Mean LOSS = 18.322747253236315\n",
      "Epoch #14: Mean LOSS = 18.412992333608962\n",
      "Epoch #15: Mean LOSS = 16.603400767795623\n",
      "Epoch #16: Mean LOSS = 16.77733492472815\n",
      "Epoch #17: Mean LOSS = 15.148555975111703\n",
      "Epoch #18: Mean LOSS = 15.178980865175761\n",
      "Epoch #19: Mean LOSS = 15.866049781678216\n",
      "Epoch #20: Mean LOSS = 13.678682130480569\n",
      "Epoch #21: Mean LOSS = 13.031716914404006\n",
      "Epoch #22: Mean LOSS = 11.902560559530107\n",
      "Epoch #23: Mean LOSS = 12.194136104886494\n",
      "Epoch #24: Mean LOSS = 13.254435198647636\n",
      "Epoch #25: Mean LOSS = 10.695756223466661\n",
      "Epoch #26: Mean LOSS = 11.342609783959768\n",
      "Epoch #27: Mean LOSS = 10.450024548031035\n",
      "Epoch #28: Mean LOSS = 9.779868027520559\n",
      "Epoch #29: Mean LOSS = 10.639608882722401\n",
      "Epoch #30: Mean LOSS = 9.71228083353194\n",
      "Epoch #31: Mean LOSS = 9.055885485240392\n",
      "Epoch #32: Mean LOSS = 8.280297408028254\n",
      "Epoch #33: Mean LOSS = 8.844882571508014\n",
      "Epoch #34: Mean LOSS = 8.906661185007247\n",
      "Epoch #35: Mean LOSS = 8.493383210802834\n",
      "Epoch #36: Mean LOSS = 7.862566728440542\n",
      "Epoch #37: Mean LOSS = 8.496292352676392\n",
      "Epoch #38: Mean LOSS = 7.256091027032761\n",
      "Epoch #39: Mean LOSS = 7.632116658346994\n",
      "Epoch #40: Mean LOSS = 7.359903948647635\n",
      "Epoch #41: Mean LOSS = 6.591076377838377\n",
      "Epoch #42: Mean LOSS = 5.982118125945803\n",
      "Epoch #43: Mean LOSS = 7.507221017565046\n",
      "Epoch #44: Mean LOSS = 6.530948264258249\n",
      "Epoch #45: Mean LOSS = 6.1706121232774525\n",
      "Epoch #46: Mean LOSS = 6.0088370565384155\n",
      "Epoch #47: Mean LOSS = 5.460313728877476\n",
      "Epoch #48: Mean LOSS = 5.589140888244387\n",
      "Epoch #49: Mean LOSS = 7.235976101860167\n",
      "Epoch #50: Mean LOSS = 5.667985953981915\n",
      "Epoch #51: Mean LOSS = 6.299152548350985\n",
      "Epoch #52: Mean LOSS = 4.726950679506574\n",
      "Epoch #53: Mean LOSS = 4.697416740750509\n",
      "Epoch #54: Mean LOSS = 4.585245185428196\n",
      "Epoch #55: Mean LOSS = 5.417205693229796\n",
      "Epoch #56: Mean LOSS = 3.8828098130604576\n",
      "Epoch #57: Mean LOSS = 3.246728533790225\n",
      "Epoch #58: Mean LOSS = 4.951496392961532\n",
      "Epoch #59: Mean LOSS = 3.0542766177465044\n",
      "Epoch #60: Mean LOSS = 4.029381842840285\n",
      "Epoch #61: Mean LOSS = 6.338298941415454\n",
      "Epoch #62: Mean LOSS = 7.130610833092342\n",
      "Epoch #63: Mean LOSS = 4.322908938877166\n",
      "Epoch #64: Mean LOSS = 2.895550739197504\n",
      "Epoch #65: Mean LOSS = 3.153682527087984\n",
      "Epoch #66: Mean LOSS = 2.2837506059616333\n",
      "Epoch #67: Mean LOSS = 2.3157187832726374\n",
      "Epoch #68: Mean LOSS = 3.8284824235098704\n",
      "Epoch #69: Mean LOSS = 5.800458828608195\n",
      "Epoch #70: Mean LOSS = 4.903653023734925\n",
      "Epoch #71: Mean LOSS = 3.8739834021008206\n",
      "Epoch #72: Mean LOSS = 2.618084574502612\n",
      "Epoch #73: Mean LOSS = 1.646462527532426\n",
      "Epoch #74: Mean LOSS = 1.580677520661127\n",
      "Epoch #75: Mean LOSS = 2.0543932195693726\n",
      "Epoch #76: Mean LOSS = 1.309848528059702\n",
      "Epoch #77: Mean LOSS = 1.5189245806799994\n",
      "Epoch #78: Mean LOSS = 1.932172457377116\n",
      "Epoch #79: Mean LOSS = 8.503548357221815\n",
      "Epoch #80: Mean LOSS = 9.150865672126649\n",
      "Epoch #81: Mean LOSS = 4.336925113011921\n",
      "Epoch #82: Mean LOSS = 3.8668744980342806\n",
      "Epoch #83: Mean LOSS = 2.4379233443547808\n",
      "Epoch #84: Mean LOSS = 1.8414370067535886\n",
      "Epoch #85: Mean LOSS = 3.0668648235381597\n",
      "Epoch #86: Mean LOSS = 1.8290086738646976\n",
      "Epoch #87: Mean LOSS = 2.1958973748343333\n",
      "Epoch #88: Mean LOSS = 3.4052939187912714\n",
      "Epoch #89: Mean LOSS = 3.8799842690664623\n",
      "Epoch #90: Mean LOSS = 1.7640899173797122\n",
      "Epoch #91: Mean LOSS = 1.697708837569706\n",
      "Epoch #92: Mean LOSS = 3.798760796350146\n",
      "Epoch #93: Mean LOSS = 4.738692870215764\n",
      "Epoch #94: Mean LOSS = 2.6702807782188294\n",
      "Epoch #95: Mean LOSS = 1.1389068648928689\n",
      "Epoch #96: Mean LOSS = 0.6714126685309032\n",
      "Epoch #97: Mean LOSS = 0.30048067607576884\n",
      "Epoch #98: Mean LOSS = 0.35753173676748123\n",
      "Epoch #99: Mean LOSS = 0.25293357031685965\n"
     ]
    }
   ],
   "source": [
    "RELU_MNIST.fit(train, loss, optimizer, 100, 128)"
   ]
  },
  {
   "cell_type": "markdown",
   "metadata": {},
   "source": [
    "ReLU is the fastest of the three."
   ]
  },
  {
   "cell_type": "code",
   "execution_count": 285,
   "metadata": {},
   "outputs": [
    {
     "name": "stdout",
     "output_type": "stream",
     "text": [
      "Accuracy of 0: 0.974\n",
      "Accuracy of 1: 0.973\n",
      "Accuracy of 2: 0.965\n",
      "Accuracy of 3: 0.956\n",
      "Accuracy of 4: 0.918\n",
      "Accuracy of 5: 0.912\n",
      "Accuracy of 6: 0.944\n",
      "Accuracy of 7: 0.922\n",
      "Accuracy of 8: 0.874\n",
      "Accuracy of 9: 0.97\n",
      "\n",
      "Total accuracy = 0.941\n"
     ]
    }
   ],
   "source": [
    "RELU_MNIST.assess_accuracy(test)"
   ]
  },
  {
   "cell_type": "markdown",
   "metadata": {},
   "source": [
    "# Letters data set:"
   ]
  },
  {
   "cell_type": "code",
   "execution_count": 466,
   "metadata": {},
   "outputs": [],
   "source": [
    "import os\n",
    "from skimage import io\n",
    "\n",
    "class Letters_dataset(Dataset):\n",
    "    \n",
    "    def __init__(self, path, transforms=None):\n",
    "        self.transforms = transforms\n",
    "        self.enc = {}\n",
    "        self.df = {}\n",
    "        self.labels = []\n",
    "        j = 0\n",
    "        for i, folder in enumerate(os.listdir(path)):\n",
    "            self.enc[i] = folder\n",
    "            for file in os.listdir(os.path.join(path, folder)):\n",
    "                self.df[j] = os.path.join(path, folder, file)\n",
    "                self.labels.append(i)\n",
    "                j += 1\n",
    "                #self.df.append([os.path.join(path, folder, file), i])\n",
    "        #self.df = pd.DataFrame(self.df, columns=['path', 'label'])\n",
    "        self.labels = torch.LongTensor(self.labels)\n",
    "    \n",
    "    def __len__(self):\n",
    "        return len(self.df)\n",
    "    \n",
    "    def __getitem__(self, idx):\n",
    "        #path, label = self.df.iloc[idx]\n",
    "        path = self.df[idx.item()]\n",
    "        label = self.labels[idx.item()]\n",
    "        image = io.imread(path)\n",
    "        image = image.reshape((*image.shape, 1))\n",
    "        if self.transforms:\n",
    "            image = self.transforms(image)\n",
    "        return image, label\n",
    "    \n",
    "    def train_test_split(self, test_size):\n",
    "        test_length = int(test_size * len(self))\n",
    "        train_length = len(self) - test_length\n",
    "        return random_split(self, [train_length, test_length])\n",
    "    \n",
    "    def draw(self, idx):\n",
    "        #path, label = self.df.iloc[idx]\n",
    "        path = self.df[idx]\n",
    "        label = self.labels[idx]\n",
    "        image = io.imread(path)\n",
    "        plt.imshow(image)\n",
    "        plt.title(self.enc[label.item()])\n",
    "    \n",
    "    def draw_sample(self, n=4):\n",
    "        indices = np.random.choice(len(self), size=n, replace=False)\n",
    "        fig, axarr = plt.subplots(n//2, 2, figsize = [7, 7])\n",
    "        for i, idx in enumerate(indices):\n",
    "            #path, label = self.df.iloc[idx]\n",
    "            \n",
    "            path = self.df[idx.item()]\n",
    "            label = self.labels[idx.item()]\n",
    "            \n",
    "            image = io.imread(path)\n",
    "            ax = axarr[i//2, i%2]\n",
    "            ax.imshow(image)\n",
    "            ax.set_title(self.enc[label.item()])"
   ]
  },
  {
   "cell_type": "code",
   "execution_count": 467,
   "metadata": {},
   "outputs": [],
   "source": [
    "letters_transforms = transforms.Compose([transforms.ToTensor(),\n",
    "                                        transforms.ToPILImage(),\n",
    "                                        transforms.RandomRotation(40),\n",
    "                                        transforms.ToTensor()])\n",
    "letters = Letters_dataset(data_path, transforms=letters_transforms)"
   ]
  },
  {
   "cell_type": "code",
   "execution_count": 468,
   "metadata": {},
   "outputs": [
    {
     "data": {
      "image/png": "[encoded data removed]",
      "text/plain": [
       "<Figure size 504x504 with 4 Axes>"
      ]
     },
     "metadata": {},
     "output_type": "display_data"
    }
   ],
   "source": [
    "letters.draw_sample()"
   ]
  },
  {
   "cell_type": "code",
   "execution_count": 469,
   "metadata": {},
   "outputs": [],
   "source": [
    "l_train, l_test = letters.train_test_split(test_size=0.2)"
   ]
  },
  {
   "cell_type": "code",
   "execution_count": 488,
   "metadata": {},
   "outputs": [],
   "source": [
    "class LETTERS_CNN(nn.Module):\n",
    "    \n",
    "    def __init__(self):\n",
    "        super().__init__()\n",
    "        self.activation = nn.ReLU()\n",
    "        self.pool = nn.MaxPool2d(2, 2)\n",
    "        self.convolve = nn.Sequential(nn.Conv2d(1, 16, 3, padding=1), \n",
    "                                      self.activation,\n",
    "                                      self.pool,\n",
    "                                      nn.BatchNorm2d(16),\n",
    "                                      nn.Dropout2d(p=0.2),\n",
    "                                      nn.Conv2d(16, 32, 5),\n",
    "                                      self.activation,\n",
    "                                      self.pool)\n",
    "        self.flat = Flatten()\n",
    "        self.fc1 = nn.Linear(800, 128)\n",
    "        self.d_out1 = nn.Dropout(p=0.5)\n",
    "        self.fc2 = nn.Linear(128, 64)\n",
    "        self.d_out2 = nn.Dropout(p=0.25)\n",
    "        self.out = nn.Linear(64, 10)\n",
    "    \n",
    "    def forward(self, x):\n",
    "        x = self.convolve(x)\n",
    "        x = self.flat(x)\n",
    "        #print(x.shape)\n",
    "        x = self.activation(self.fc1(self.d_out1(x)))\n",
    "        x = self.activation(self.fc2(self.d_out2(x)))\n",
    "        x = self.out(x)\n",
    "        return x\n",
    "    \n",
    "    def fit(self, dataset, loss, opt, n_epochs, batch_size):\n",
    "        self.train()\n",
    "        data_loader = DataLoader(dataset, batch_size=batch_size, shuffle=True)\n",
    "        for i in tqdm_notebook(range(n_epochs)):\n",
    "            rloss = 0\n",
    "            j = 0\n",
    "            for X_batch, y_batch in data_loader:\n",
    "                \n",
    "                opt.zero_grad()\n",
    "                \n",
    "                out = self(X_batch)\n",
    "                \n",
    "                loss_val = loss(out, y_batch)\n",
    "                \n",
    "                rloss += loss_val.item()\n",
    "                j+= 1\n",
    "                \n",
    "                loss_val.backward()\n",
    "                \n",
    "                opt.step()\n",
    "            print(f'Epoch #{i}: Mean LOSS = {rloss/j}')\n",
    "            \n",
    "    \n",
    "    def assess_accuracy(self, dataset, labels):\n",
    "        self.eval()\n",
    "        \n",
    "        corr = torch.zeros(10)\n",
    "        total = torch.zeros(10)\n",
    "        for X, y in DataLoader(dataset, batch_size=1024):\n",
    "            \n",
    "            out = torch.argmax(self(X), 1)\n",
    "            \n",
    "            res = out == y\n",
    "            for i, lab in enumerate(y):\n",
    "                corr[lab] += res[i]\n",
    "                total[lab] += 1\n",
    "        \n",
    "        o_string = ''\n",
    "        acc = corr.div(total)\n",
    "        for i in range(10):\n",
    "            o_string += f'Accuracy of {labels[i]}: {round(acc[i].item(), 3)}\\n'\n",
    "        print(o_string)\n",
    "        print(f'Total accuracy = {round(torch.mean(acc).item(), 3)}')"
   ]
  },
  {
   "cell_type": "markdown",
   "metadata": {},
   "source": [
    "### Training:"
   ]
  },
  {
   "cell_type": "code",
   "execution_count": 489,
   "metadata": {},
   "outputs": [],
   "source": [
    "NET = LETTERS_CNN()\n",
    "\n",
    "optimizer = torch.optim.Adam(NET.parameters(), weight_decay=0.005)\n",
    "loss = nn.CrossEntropyLoss(reduction='sum')"
   ]
  },
  {
   "cell_type": "code",
   "execution_count": 490,
   "metadata": {},
   "outputs": [
    {
     "data": {
      "application/vnd.jupyter.widget-view+json": {
       "model_id": "2e1c3ad0a6b54b73a97824414aec2d21",
       "version_major": 2,
       "version_minor": 0
      },
      "text/plain": [
       "HBox(children=(IntProgress(value=0, max=200), HTML(value='')))"
      ]
     },
     "metadata": {},
     "output_type": "display_data"
    },
    {
     "name": "stdout",
     "output_type": "stream",
     "text": [
      "Epoch #0: Mean LOSS = 137.8264233176991\n",
      "Epoch #1: Mean LOSS = 82.6313179731369\n",
      "Epoch #2: Mean LOSS = 70.77797585523734\n",
      "Epoch #3: Mean LOSS = 64.39844090857748\n",
      "Epoch #4: Mean LOSS = 61.59676790237427\n",
      "Epoch #5: Mean LOSS = 56.46248682474686\n",
      "Epoch #6: Mean LOSS = 54.11720935773041\n",
      "Epoch #7: Mean LOSS = 52.69561835870905\n",
      "Epoch #8: Mean LOSS = 49.066121889373\n",
      "Epoch #9: Mean LOSS = 49.64433024091235\n",
      "Epoch #10: Mean LOSS = 48.4564253758576\n",
      "Epoch #11: Mean LOSS = 48.55729836528584\n",
      "Epoch #12: Mean LOSS = 45.662021010608996\n",
      "Epoch #13: Mean LOSS = 45.9668705705869\n",
      "Epoch #14: Mean LOSS = 44.45197754391169\n",
      "Epoch #15: Mean LOSS = 43.71859372268289\n",
      "Epoch #16: Mean LOSS = 43.46866899425701\n",
      "Epoch #17: Mean LOSS = 42.821286064083296\n",
      "Epoch #18: Mean LOSS = 42.49818214723619\n",
      "Epoch #19: Mean LOSS = 41.1814859277111\n",
      "Epoch #20: Mean LOSS = 40.932172979338695\n",
      "Epoch #21: Mean LOSS = 39.98135268486152\n",
      "Epoch #22: Mean LOSS = 40.6795534491539\n",
      "Epoch #23: Mean LOSS = 39.899101922067544\n",
      "Epoch #24: Mean LOSS = 39.88628947128684\n",
      "Epoch #25: Mean LOSS = 39.03246580948264\n",
      "Epoch #26: Mean LOSS = 39.29119403483504\n",
      "Epoch #27: Mean LOSS = 39.243200386984874\n",
      "Epoch #28: Mean LOSS = 38.47665162005667\n",
      "Epoch #29: Mean LOSS = 38.59334312758203\n",
      "Epoch #30: Mean LOSS = 37.41566070459657\n",
      "Epoch #31: Mean LOSS = 36.90735457105151\n",
      "Epoch #32: Mean LOSS = 36.50508091409328\n",
      "Epoch #33: Mean LOSS = 36.499180421990864\n",
      "Epoch #34: Mean LOSS = 35.79669794793856\n",
      "Epoch #35: Mean LOSS = 35.96709482144501\n",
      "Epoch #36: Mean LOSS = 36.47448879985486\n",
      "Epoch #37: Mean LOSS = 35.18430522639873\n",
      "Epoch #38: Mean LOSS = 35.36730627286232\n",
      "Epoch #39: Mean LOSS = 36.476138252322954\n",
      "Epoch #40: Mean LOSS = 35.24922465469878\n",
      "Epoch #41: Mean LOSS = 33.92050734212843\n",
      "Epoch #42: Mean LOSS = 35.09988192380485\n",
      "Epoch #43: Mean LOSS = 33.84728426650419\n",
      "Epoch #44: Mean LOSS = 33.67610131683996\n",
      "Epoch #45: Mean LOSS = 34.66337711528196\n",
      "Epoch #46: Mean LOSS = 34.115845710544264\n",
      "Epoch #47: Mean LOSS = 34.364439519785215\n",
      "Epoch #48: Mean LOSS = 33.682684138669806\n",
      "Epoch #49: Mean LOSS = 33.21551239288459\n",
      "Epoch #50: Mean LOSS = 33.13962754152589\n",
      "Epoch #51: Mean LOSS = 32.88884010153302\n",
      "Epoch #52: Mean LOSS = 32.93004690590551\n",
      "Epoch #53: Mean LOSS = 33.00298228506315\n",
      "Epoch #54: Mean LOSS = 33.680793333861786\n",
      "Epoch #55: Mean LOSS = 32.991125880661656\n",
      "Epoch #56: Mean LOSS = 32.625718852220956\n",
      "Epoch #57: Mean LOSS = 32.408930406732075\n",
      "Epoch #58: Mean LOSS = 32.5755662837271\n",
      "Epoch #59: Mean LOSS = 32.23567425598532\n",
      "Epoch #60: Mean LOSS = 32.474236484301294\n",
      "Epoch #61: Mean LOSS = 31.81085293979968\n",
      "Epoch #62: Mean LOSS = 32.88386243480747\n",
      "Epoch #63: Mean LOSS = 32.357182591648424\n",
      "Epoch #64: Mean LOSS = 33.02791782556954\n",
      "Epoch #65: Mean LOSS = 30.98355541794987\n",
      "Epoch #66: Mean LOSS = 31.497198541285627\n",
      "Epoch #67: Mean LOSS = 30.943388350939347\n",
      "Epoch #68: Mean LOSS = 31.333188509537003\n",
      "Epoch #69: Mean LOSS = 31.932045329425293\n",
      "Epoch #70: Mean LOSS = 31.659239486112433\n",
      "Epoch #71: Mean LOSS = 31.076978125814666\n",
      "Epoch #72: Mean LOSS = 30.858982526649864\n",
      "Epoch #73: Mean LOSS = 31.11261373859341\n",
      "Epoch #74: Mean LOSS = 30.76335673413034\n",
      "Epoch #75: Mean LOSS = 30.568684525408987\n",
      "Epoch #76: Mean LOSS = 31.192135366342836\n",
      "Epoch #77: Mean LOSS = 31.01268538782152\n",
      "Epoch #78: Mean LOSS = 29.905767545861714\n",
      "Epoch #79: Mean LOSS = 30.651190515291894\n",
      "Epoch #80: Mean LOSS = 29.69663139116966\n",
      "Epoch #81: Mean LOSS = 30.96430603528427\n",
      "Epoch #82: Mean LOSS = 30.26360485311282\n",
      "Epoch #83: Mean LOSS = 30.172935189837116\n",
      "Epoch #84: Mean LOSS = 29.74148423995002\n",
      "Epoch #85: Mean LOSS = 30.098707389023346\n",
      "Epoch #86: Mean LOSS = 30.373974084854126\n",
      "Epoch #87: Mean LOSS = 28.82111537153438\n",
      "Epoch #88: Mean LOSS = 30.0366107851772\n",
      "Epoch #89: Mean LOSS = 29.589236408977186\n",
      "Epoch #90: Mean LOSS = 29.22017333871227\n",
      "Epoch #91: Mean LOSS = 29.238002021433942\n",
      "Epoch #92: Mean LOSS = 29.156232062032668\n",
      "Epoch #93: Mean LOSS = 29.052777751017427\n",
      "Epoch #94: Mean LOSS = 29.24867397647793\n",
      "Epoch #95: Mean LOSS = 28.67062271651575\n",
      "Epoch #96: Mean LOSS = 29.313186766737598\n",
      "Epoch #97: Mean LOSS = 29.15757406364053\n",
      "Epoch #98: Mean LOSS = 28.972415481583546\n",
      "Epoch #99: Mean LOSS = 29.15675537060883\n",
      "Epoch #100: Mean LOSS = 29.231825885126145\n",
      "Epoch #101: Mean LOSS = 27.86787147239103\n",
      "Epoch #102: Mean LOSS = 29.250563722545817\n",
      "Epoch #103: Mean LOSS = 29.133205575458074\n",
      "Epoch #104: Mean LOSS = 27.60467606883938\n",
      "Epoch #105: Mean LOSS = 28.63538700645253\n",
      "Epoch #106: Mean LOSS = 28.552835046234776\n",
      "Epoch #107: Mean LOSS = 28.75078313633547\n",
      "Epoch #108: Mean LOSS = 28.585691589420126\n",
      "Epoch #109: Mean LOSS = 28.4663914664317\n",
      "Epoch #110: Mean LOSS = 29.4376413862584\n",
      "Epoch #111: Mean LOSS = 28.790112735861438\n",
      "Epoch #112: Mean LOSS = 27.82457537772292\n",
      "Epoch #113: Mean LOSS = 28.563276432328305\n",
      "Epoch #114: Mean LOSS = 28.660301784337577\n",
      "Epoch #115: Mean LOSS = 28.226163419626527\n",
      "Epoch #116: Mean LOSS = 28.44484277498924\n",
      "Epoch #117: Mean LOSS = 28.94070986569938\n",
      "Epoch #118: Mean LOSS = 27.95289248127048\n",
      "Epoch #119: Mean LOSS = 28.431426430152634\n",
      "Epoch #120: Mean LOSS = 28.015823238987032\n",
      "Epoch #121: Mean LOSS = 28.365736068305324\n",
      "Epoch #122: Mean LOSS = 27.522099448462665\n",
      "Epoch #123: Mean LOSS = 28.786922149739024\n",
      "Epoch #124: Mean LOSS = 28.186229469412464\n",
      "Epoch #125: Mean LOSS = 28.476148952872066\n",
      "Epoch #126: Mean LOSS = 27.79431511992115\n",
      "Epoch #127: Mean LOSS = 27.076156678846328\n",
      "Epoch #128: Mean LOSS = 28.231146313376346\n",
      "Epoch #129: Mean LOSS = 28.700882564156743\n",
      "Epoch #130: Mean LOSS = 26.988691810834204\n",
      "Epoch #131: Mean LOSS = 27.898311687728107\n",
      "Epoch #132: Mean LOSS = 28.585121461900613\n",
      "Epoch #133: Mean LOSS = 27.191578844846305\n",
      "Epoch #134: Mean LOSS = 26.819109116570424\n",
      "Epoch #135: Mean LOSS = 27.55807508452464\n",
      "Epoch #136: Mean LOSS = 26.745422050104303\n",
      "Epoch #137: Mean LOSS = 28.109359312865692\n",
      "Epoch #138: Mean LOSS = 27.041805816909015\n",
      "Epoch #139: Mean LOSS = 26.65082821603549\n",
      "Epoch #140: Mean LOSS = 26.690297199507892\n",
      "Epoch #141: Mean LOSS = 27.378036240399894\n",
      "Epoch #142: Mean LOSS = 27.29000471810163\n",
      "Epoch #143: Mean LOSS = 27.022777981677297\n",
      "Epoch #144: Mean LOSS = 26.875712212869676\n",
      "Epoch #145: Mean LOSS = 26.959171246674103\n",
      "Epoch #146: Mean LOSS = 27.328642784538914\n",
      "Epoch #147: Mean LOSS = 27.289061776662276\n",
      "Epoch #148: Mean LOSS = 27.432451963424683\n",
      "Epoch #149: Mean LOSS = 26.751129756539555\n",
      "Epoch #150: Mean LOSS = 27.078383825593075\n",
      "Epoch #151: Mean LOSS = 26.95790329626051\n",
      "Epoch #152: Mean LOSS = 26.209016104875985\n",
      "Epoch #153: Mean LOSS = 27.101889594126558\n",
      "Epoch #154: Mean LOSS = 26.689639164229572\n",
      "Epoch #155: Mean LOSS = 25.884775060718344\n",
      "Epoch #156: Mean LOSS = 26.327664965290133\n",
      "Epoch #157: Mean LOSS = 26.33254815966396\n",
      "Epoch #158: Mean LOSS = 26.53263913170766\n",
      "Epoch #159: Mean LOSS = 26.20432710647583\n",
      "Epoch #160: Mean LOSS = 27.637091804358917\n",
      "Epoch #161: Mean LOSS = 26.482152593337883\n",
      "Epoch #162: Mean LOSS = 27.076384210990646\n",
      "Epoch #163: Mean LOSS = 26.487994420326363\n",
      "Epoch #164: Mean LOSS = 26.10854277974468\n",
      "Epoch #165: Mean LOSS = 26.925092365782138\n",
      "Epoch #166: Mean LOSS = 26.368347608436974\n",
      "Epoch #167: Mean LOSS = 25.620157839888233\n",
      "Epoch #168: Mean LOSS = 26.87889797404661\n",
      "Epoch #169: Mean LOSS = 26.184671052431657\n",
      "Epoch #170: Mean LOSS = 26.478378239324538\n",
      "Epoch #171: Mean LOSS = 26.586079409566977\n",
      "Epoch #172: Mean LOSS = 25.950558723029445\n",
      "Epoch #173: Mean LOSS = 26.423995553436924\n",
      "Epoch #174: Mean LOSS = 26.271171266749754\n",
      "Epoch #175: Mean LOSS = 25.55203454777346\n",
      "Epoch #176: Mean LOSS = 25.399982007883363\n",
      "Epoch #177: Mean LOSS = 25.537991184299276\n",
      "Epoch #178: Mean LOSS = 26.25266443470777\n",
      "Epoch #179: Mean LOSS = 26.85778883352118\n",
      "Epoch #180: Mean LOSS = 25.333524158445456\n",
      "Epoch #181: Mean LOSS = 26.679907491651633\n",
      "Epoch #182: Mean LOSS = 26.329806830923435\n",
      "Epoch #183: Mean LOSS = 26.06793110249406\n",
      "Epoch #184: Mean LOSS = 25.75166011664827\n",
      "Epoch #185: Mean LOSS = 25.89803591421095\n",
      "Epoch #186: Mean LOSS = 25.50813164953458\n",
      "Epoch #187: Mean LOSS = 25.07650899887085\n",
      "Epoch #188: Mean LOSS = 25.105786499330552\n",
      "Epoch #189: Mean LOSS = 25.615574677111738\n",
      "Epoch #190: Mean LOSS = 26.067880697169546\n",
      "Epoch #191: Mean LOSS = 25.86888593637337\n",
      "Epoch #192: Mean LOSS = 25.374122995441244\n",
      "Epoch #193: Mean LOSS = 25.120109911692346\n",
      "Epoch #194: Mean LOSS = 25.54951725874917\n",
      "Epoch #195: Mean LOSS = 25.451073840513068\n"
     ]
    },
    {
     "name": "stdout",
     "output_type": "stream",
     "text": [
      "Epoch #196: Mean LOSS = 25.781280255923836\n",
      "Epoch #197: Mean LOSS = 26.471170174873482\n",
      "Epoch #198: Mean LOSS = 25.665268881846284\n",
      "Epoch #199: Mean LOSS = 25.081053291336964\n"
     ]
    }
   ],
   "source": [
    "NET.fit(l_train, loss, optimizer, 200, 128)"
   ]
  },
  {
   "cell_type": "code",
   "execution_count": 491,
   "metadata": {},
   "outputs": [
    {
     "name": "stdout",
     "output_type": "stream",
     "text": [
      "Accuracy of A: 0.981\n",
      "Accuracy of B: 0.975\n",
      "Accuracy of C: 0.97\n",
      "Accuracy of D: 0.977\n",
      "Accuracy of E: 0.981\n",
      "Accuracy of F: 0.983\n",
      "Accuracy of G: 0.967\n",
      "Accuracy of H: 0.989\n",
      "Accuracy of I: 0.952\n",
      "Accuracy of J: 0.971\n",
      "\n",
      "Total accuracy = 0.975\n"
     ]
    }
   ],
   "source": [
    "LETTERS_CNN.assess_accuracy(NET, l_train, letters.enc)"
   ]
  },
  {
   "cell_type": "code",
   "execution_count": 494,
   "metadata": {},
   "outputs": [
    {
     "name": "stdout",
     "output_type": "stream",
     "text": [
      "Accuracy of A: 0.96\n",
      "Accuracy of B: 0.951\n",
      "Accuracy of C: 0.955\n",
      "Accuracy of D: 0.951\n",
      "Accuracy of E: 0.941\n",
      "Accuracy of F: 0.945\n",
      "Accuracy of G: 0.944\n",
      "Accuracy of H: 0.964\n",
      "Accuracy of I: 0.887\n",
      "Accuracy of J: 0.947\n",
      "\n",
      "Total accuracy = 0.945\n"
     ]
    }
   ],
   "source": [
    "LETTERS_CNN.assess_accuracy(NET, l_test, letters.enc)"
   ]
  }
 ],
 "metadata": {
  "kernelspec": {
   "display_name": "Python 3",
   "language": "python",
   "name": "python3"
  },
  "language_info": {
   "codemirror_mode": {
    "name": "ipython",
    "version": 3
   },
   "file_extension": ".py",
   "mimetype": "text/x-python",
   "name": "python",
   "nbconvert_exporter": "python",
   "pygments_lexer": "ipython3",
   "version": "3.6.8"
  },
  "widgets": {
   "application/vnd.jupyter.widget-state+json": {
    "state": {
     "0026a2d1880d4cdd908da1aeffa6a7c3": {
      "model_module": "@jupyter-widgets/controls",
      "model_module_version": "1.4.0",
      "model_name": "IntProgressModel",
      "state": {
       "bar_style": "success",
       "layout": "IPY_MODEL_7035a5be303a498890375cfaf994377b",
       "style": "IPY_MODEL_eaa88f3c0467433295502899d032e9c7",
       "value": 100
      }
     },
     "0078a31f6bb746238b7c85c8b7957a9c": {
      "model_module": "@jupyter-widgets/controls",
      "model_module_version": "1.4.0",
      "model_name": "ProgressStyleModel",
      "state": {
       "description_width": ""
      }
     },
     "008d434f7c0846ad97b79bbdbafabde3": {
      "model_module": "@jupyter-widgets/controls",
      "model_module_version": "1.4.0",
      "model_name": "ProgressStyleModel",
      "state": {
       "description_width": ""
      }
     },
     "027a81f7b44441269535e00c5c5a8b5b": {
      "model_module": "@jupyter-widgets/controls",
      "model_module_version": "1.4.0",
      "model_name": "HBoxModel",
      "state": {
       "children": [
        "IPY_MODEL_2dc5571b648c4839a98aef7651075c5f",
        "IPY_MODEL_cd081f9ddbd54e4e8e9079cdb9c5ef35"
       ],
       "layout": "IPY_MODEL_0aa0b99ea41f4e2bb01c7b7b3fac7f28"
      }
     },
     "032ad174185f4afab00aabc77f3528f1": {
      "model_module": "@jupyter-widgets/base",
      "model_module_version": "1.1.0",
      "model_name": "LayoutModel",
      "state": {}
     },
     "0332c3d0a2284ccebb30717a33c92138": {
      "model_module": "@jupyter-widgets/controls",
      "model_module_version": "1.4.0",
      "model_name": "HTMLModel",
      "state": {
       "layout": "IPY_MODEL_4a9d56e43fee471da4a248db33b35698",
       "style": "IPY_MODEL_c6791bb03e2e476cbe13f60497ec3356",
       "value": "  0% 0/100 [00:00&lt;?, ?it/s]"
      }
     },
     "0340afb60b62473bad7900ffbf53ed0e": {
      "model_module": "@jupyter-widgets/base",
      "model_module_version": "1.1.0",
      "model_name": "LayoutModel",
      "state": {}
     },
     "03dd4074a5254d5c8823119edf30d33a": {
      "model_module": "@jupyter-widgets/base",
      "model_module_version": "1.1.0",
      "model_name": "LayoutModel",
      "state": {}
     },
     "054e8df4722248aeb1c93f637a43a81b": {
      "model_module": "@jupyter-widgets/controls",
      "model_module_version": "1.4.0",
      "model_name": "HTMLModel",
      "state": {
       "layout": "IPY_MODEL_15525803d951441e8e58975b1f85e268",
       "style": "IPY_MODEL_4f83e252daf64ff0af6aa5a5bfa6f0db",
       "value": "  0% 0/100 [00:00&lt;?, ?it/s]"
      }
     },
     "055593a32ff5493dbc2d5da0cba071fb": {
      "model_module": "@jupyter-widgets/base",
      "model_module_version": "1.1.0",
      "model_name": "LayoutModel",
      "state": {}
     },
     "057e48ac28cf4978aa2eb0568e177ce3": {
      "model_module": "@jupyter-widgets/base",
      "model_module_version": "1.1.0",
      "model_name": "LayoutModel",
      "state": {}
     },
     "05a39fc4f5bb476f8b8c7652f9c59d19": {
      "model_module": "@jupyter-widgets/controls",
      "model_module_version": "1.4.0",
      "model_name": "ProgressStyleModel",
      "state": {
       "description_width": ""
      }
     },
     "05f4df595a074affafd641095f81acec": {
      "model_module": "@jupyter-widgets/controls",
      "model_module_version": "1.4.0",
      "model_name": "HTMLModel",
      "state": {
       "layout": "IPY_MODEL_80c40c4202a242d58f0003ae1f7683d2",
       "style": "IPY_MODEL_f4489080c48244cd92b5705387c92c9d",
       "value": "100% 100/100 [05:13&lt;00:00,  3.30s/it]"
      }
     },
     "06dfb51557de45868b41d8df20cea010": {
      "model_module": "@jupyter-widgets/controls",
      "model_module_version": "1.4.0",
      "model_name": "HBoxModel",
      "state": {
       "children": [
        "IPY_MODEL_ad52cc36e52a4350bb689d33bb9004e5",
        "IPY_MODEL_ecb44745930c4680a0bca10f7eead7c9"
       ],
       "layout": "IPY_MODEL_f0d46c31991a44d6b68ea6f7f0c32799"
      }
     },
     "06eed6ef0e9643738310b98c79fd4a94": {
      "model_module": "@jupyter-widgets/base",
      "model_module_version": "1.1.0",
      "model_name": "LayoutModel",
      "state": {}
     },
     "07618b20e43c43f0931b8542117e3be9": {
      "model_module": "@jupyter-widgets/base",
      "model_module_version": "1.1.0",
      "model_name": "LayoutModel",
      "state": {}
     },
     "07a13014dcaa40bb9d17492a59edbad5": {
      "model_module": "@jupyter-widgets/base",
      "model_module_version": "1.1.0",
      "model_name": "LayoutModel",
      "state": {}
     },
     "07b58e3901d54bd6b71d16cdf242b948": {
      "model_module": "@jupyter-widgets/base",
      "model_module_version": "1.1.0",
      "model_name": "LayoutModel",
      "state": {}
     },
     "07e815d4e8a74c18b72e3543cf19ebe1": {
      "model_module": "@jupyter-widgets/controls",
      "model_module_version": "1.4.0",
      "model_name": "IntProgressModel",
      "state": {
       "bar_style": "success",
       "layout": "IPY_MODEL_c9898b1959d34a0c83fd8700a5e9a324",
       "style": "IPY_MODEL_e97b3e52f53b481e8976f4e1714757a8",
       "value": 100
      }
     },
     "0805851774d94fafae4e8c7860b2145d": {
      "model_module": "@jupyter-widgets/controls",
      "model_module_version": "1.4.0",
      "model_name": "ProgressStyleModel",
      "state": {
       "description_width": ""
      }
     },
     "08d53edf54504dd9989b69df19b6e43c": {
      "model_module": "@jupyter-widgets/controls",
      "model_module_version": "1.4.0",
      "model_name": "HTMLModel",
      "state": {
       "layout": "IPY_MODEL_f322979be4ec434985e79091e1dc994c",
       "style": "IPY_MODEL_9aaf9fe4bace467dba1a054ba9d482b3",
       "value": "  1% 1/100 [00:03&lt;05:30,  3.34s/it]"
      }
     },
     "0921e5cf8e88431593f21b85b164de4d": {
      "model_module": "@jupyter-widgets/base",
      "model_module_version": "1.1.0",
      "model_name": "LayoutModel",
      "state": {}
     },
     "09432bb1d04648a3a8553069409da98d": {
      "model_module": "@jupyter-widgets/controls",
      "model_module_version": "1.4.0",
      "model_name": "HTMLModel",
      "state": {
       "layout": "IPY_MODEL_a36082d38c8c49f9b2a75becb111463f",
       "style": "IPY_MODEL_ebd334b315ae441dbbfe1fb8da3899c2",
       "value": "  0% 0/100 [00:00&lt;?, ?it/s]"
      }
     },
     "09486ee4df25440caccc6cca25689d5b": {
      "model_module": "@jupyter-widgets/base",
      "model_module_version": "1.1.0",
      "model_name": "LayoutModel",
      "state": {}
     },
     "094d4a1c30304e1280e4deacd264e2c3": {
      "model_module": "@jupyter-widgets/controls",
      "model_module_version": "1.4.0",
      "model_name": "ProgressStyleModel",
      "state": {
       "description_width": ""
      }
     },
     "09cc0f6bfe58482eb7c356dcf6b1d9e6": {
      "model_module": "@jupyter-widgets/controls",
      "model_module_version": "1.4.0",
      "model_name": "DescriptionStyleModel",
      "state": {
       "description_width": ""
      }
     },
     "0aa0b99ea41f4e2bb01c7b7b3fac7f28": {
      "model_module": "@jupyter-widgets/base",
      "model_module_version": "1.1.0",
      "model_name": "LayoutModel",
      "state": {}
     },
     "0bab274b3cad4499aac91743cef49ecd": {
      "model_module": "@jupyter-widgets/controls",
      "model_module_version": "1.4.0",
      "model_name": "HBoxModel",
      "state": {
       "children": [
        "IPY_MODEL_8848b1a0aafe49479ed1cedad8dda1d0",
        "IPY_MODEL_420f2d12cf574196ba7068bc7ab15bfe"
       ],
       "layout": "IPY_MODEL_41d536acb0794a98b8fe2d7b60d6198e"
      }
     },
     "0bab92a5c4624b6cb318beda1dbbae44": {
      "model_module": "@jupyter-widgets/base",
      "model_module_version": "1.1.0",
      "model_name": "LayoutModel",
      "state": {}
     },
     "0bba9f68600d4fac85893a10ec8eae2d": {
      "model_module": "@jupyter-widgets/controls",
      "model_module_version": "1.4.0",
      "model_name": "ProgressStyleModel",
      "state": {
       "description_width": ""
      }
     },
     "0cc6633b9cc44072874b0529057eafec": {
      "model_module": "@jupyter-widgets/base",
      "model_module_version": "1.1.0",
      "model_name": "LayoutModel",
      "state": {}
     },
     "0ccfecab841042c2bdcda215ea506e99": {
      "model_module": "@jupyter-widgets/controls",
      "model_module_version": "1.4.0",
      "model_name": "IntProgressModel",
      "state": {
       "bar_style": "danger",
       "layout": "IPY_MODEL_3dc1882a0d62403785b0b74b405f877c",
       "max": 200,
       "style": "IPY_MODEL_738a9c67b3394624861da9e588ad7f55",
       "value": 59
      }
     },
     "0d6bc37b87764e9da768cc052aeb9480": {
      "model_module": "@jupyter-widgets/controls",
      "model_module_version": "1.4.0",
      "model_name": "HBoxModel",
      "state": {
       "children": [
        "IPY_MODEL_0ccfecab841042c2bdcda215ea506e99",
        "IPY_MODEL_a8b9983d42a540aa80ce18379b70d47d"
       ],
       "layout": "IPY_MODEL_2f449e0936cb40799ff9467a9f974ec7"
      }
     },
     "0e02500411384ad9a81467f0885c157b": {
      "model_module": "@jupyter-widgets/controls",
      "model_module_version": "1.4.0",
      "model_name": "HTMLModel",
      "state": {
       "layout": "IPY_MODEL_f9848a6add2640438da89772abf6b908",
       "style": "IPY_MODEL_b8d75fbb45b84beab23359df8ff00726",
       "value": "  0% 0/100 [00:00&lt;?, ?it/s]"
      }
     },
     "0e6111b1a93b4219b48eabab63851ef6": {
      "model_module": "@jupyter-widgets/controls",
      "model_module_version": "1.4.0",
      "model_name": "IntProgressModel",
      "state": {
       "bar_style": "danger",
       "layout": "IPY_MODEL_1fa5f390749d4181a04814d09ee5ab96",
       "style": "IPY_MODEL_ec45462704494270a8b5f7902f8fdb22"
      }
     },
     "0ede2e7417c04c058f89ee8cd2dd48be": {
      "model_module": "@jupyter-widgets/controls",
      "model_module_version": "1.4.0",
      "model_name": "IntProgressModel",
      "state": {
       "bar_style": "danger",
       "layout": "IPY_MODEL_0340afb60b62473bad7900ffbf53ed0e",
       "style": "IPY_MODEL_d02c65ef918241e5a0a0b7f110e8e4c5"
      }
     },
     "0f2101d4c3724283b85f6b8d4662377a": {
      "model_module": "@jupyter-widgets/base",
      "model_module_version": "1.1.0",
      "model_name": "LayoutModel",
      "state": {}
     },
     "0f71507ef91f4076985d6584c4c946de": {
      "model_module": "@jupyter-widgets/controls",
      "model_module_version": "1.4.0",
      "model_name": "ProgressStyleModel",
      "state": {
       "description_width": ""
      }
     },
     "1036a570649e4657bb7b1097ec923e7d": {
      "model_module": "@jupyter-widgets/controls",
      "model_module_version": "1.4.0",
      "model_name": "HBoxModel",
      "state": {
       "children": [
        "IPY_MODEL_a2c1452f424e495e9b093d9ab88109e7",
        "IPY_MODEL_42307f441fdb4c309383f8901227f175"
       ],
       "layout": "IPY_MODEL_0f2101d4c3724283b85f6b8d4662377a"
      }
     },
     "10fcc71a65264555ae6fe8b1f7f36010": {
      "model_module": "@jupyter-widgets/base",
      "model_module_version": "1.1.0",
      "model_name": "LayoutModel",
      "state": {}
     },
     "115a86d55b8042c9892febc4ea23a086": {
      "model_module": "@jupyter-widgets/controls",
      "model_module_version": "1.4.0",
      "model_name": "HTMLModel",
      "state": {
       "layout": "IPY_MODEL_2c5ff2f7343b402da49b09dc13094abf",
       "style": "IPY_MODEL_7d95f8ad0bd04198adeb42d3cb4ea925",
       "value": "  0% 0/100 [00:00&lt;?, ?it/s]"
      }
     },
     "1184e497dfc0468d910ad408065c2cff": {
      "model_module": "@jupyter-widgets/controls",
      "model_module_version": "1.4.0",
      "model_name": "ProgressStyleModel",
      "state": {
       "description_width": ""
      }
     },
     "11b17d014aef416b8a857a59ae858034": {
      "model_module": "@jupyter-widgets/base",
      "model_module_version": "1.1.0",
      "model_name": "LayoutModel",
      "state": {}
     },
     "11fa163051974cea92459a56f5803cdd": {
      "model_module": "@jupyter-widgets/controls",
      "model_module_version": "1.4.0",
      "model_name": "HTMLModel",
      "state": {
       "layout": "IPY_MODEL_bcd10df31c3d40ee9253c26eb44ffd5a",
       "style": "IPY_MODEL_2f0836d922334eee95146d09887ca9db",
       "value": "100% 200/200 [41:37&lt;00:00, 12.78s/it]"
      }
     },
     "14bf3e294251476b848eaccc653a7d78": {
      "model_module": "@jupyter-widgets/base",
      "model_module_version": "1.1.0",
      "model_name": "LayoutModel",
      "state": {}
     },
     "15525803d951441e8e58975b1f85e268": {
      "model_module": "@jupyter-widgets/base",
      "model_module_version": "1.1.0",
      "model_name": "LayoutModel",
      "state": {}
     },
     "17bd4f2010314ce38373f8cafb490f3b": {
      "model_module": "@jupyter-widgets/base",
      "model_module_version": "1.1.0",
      "model_name": "LayoutModel",
      "state": {}
     },
     "182fc07f7dba4291bf0a5123bab886d3": {
      "model_module": "@jupyter-widgets/controls",
      "model_module_version": "1.4.0",
      "model_name": "HBoxModel",
      "state": {
       "children": [
        "IPY_MODEL_35a37547e17d4abdadb8bcdfb3e994db",
        "IPY_MODEL_afda2d2436654304886ff29de25c1c9b"
       ],
       "layout": "IPY_MODEL_9ce6cf11e1fb4b979708ce8ed2a5b6ce"
      }
     },
     "1867c80449704f209ef5ec0401514fb7": {
      "model_module": "@jupyter-widgets/base",
      "model_module_version": "1.1.0",
      "model_name": "LayoutModel",
      "state": {}
     },
     "1892016aab4c4cc28b8f14833e5f372f": {
      "model_module": "@jupyter-widgets/base",
      "model_module_version": "1.1.0",
      "model_name": "LayoutModel",
      "state": {}
     },
     "193bcf87d0554cd8a51ef5b23da14af5": {
      "model_module": "@jupyter-widgets/controls",
      "model_module_version": "1.4.0",
      "model_name": "IntProgressModel",
      "state": {
       "bar_style": "danger",
       "layout": "IPY_MODEL_7e4eb68b517341e3b9b3bc67ef3a0fa5",
       "style": "IPY_MODEL_fc435c0c07274389933e9f4feec9f6e8",
       "value": 4
      }
     },
     "1ab69c4888f24a2792d0d5b4a6c45bd7": {
      "model_module": "@jupyter-widgets/base",
      "model_module_version": "1.1.0",
      "model_name": "LayoutModel",
      "state": {}
     },
     "1af7915b19d74f8c81eec451b4c76542": {
      "model_module": "@jupyter-widgets/controls",
      "model_module_version": "1.4.0",
      "model_name": "HBoxModel",
      "state": {
       "children": [
        "IPY_MODEL_1f5166d949b9418fb14ab74af6b380c5",
        "IPY_MODEL_ae208ecc4c0e49a881ac3a19b6c62be2"
       ],
       "layout": "IPY_MODEL_9738a7f3a1314efcbfaa5507464d3bd2"
      }
     },
     "1b33431a0cfd43b5a4b7db6ef436b1a3": {
      "model_module": "@jupyter-widgets/controls",
      "model_module_version": "1.4.0",
      "model_name": "IntProgressModel",
      "state": {
       "bar_style": "danger",
       "layout": "IPY_MODEL_f500223568774225857b4edf715585ce",
       "style": "IPY_MODEL_008d434f7c0846ad97b79bbdbafabde3"
      }
     },
     "1c12acf6e2624a3cb504c18f95761534": {
      "model_module": "@jupyter-widgets/controls",
      "model_module_version": "1.4.0",
      "model_name": "ProgressStyleModel",
      "state": {
       "description_width": ""
      }
     },
     "1cc126cf8874402fb8098908dbabb381": {
      "model_module": "@jupyter-widgets/controls",
      "model_module_version": "1.4.0",
      "model_name": "HBoxModel",
      "state": {
       "children": [
        "IPY_MODEL_c1532582100d415cba7c20bea34ad871",
        "IPY_MODEL_8ac594f4d86144c7b9fb3850c333b7be"
       ],
       "layout": "IPY_MODEL_057e48ac28cf4978aa2eb0568e177ce3"
      }
     },
     "1ce0b14b65454a698f6c265b2489df69": {
      "model_module": "@jupyter-widgets/base",
      "model_module_version": "1.1.0",
      "model_name": "LayoutModel",
      "state": {}
     },
     "1cf636dc52c64d799eb3358481af54d0": {
      "model_module": "@jupyter-widgets/controls",
      "model_module_version": "1.4.0",
      "model_name": "HTMLModel",
      "state": {
       "layout": "IPY_MODEL_cc0439b33d3e4e829fe930ad948a827f",
       "style": "IPY_MODEL_50010322969d432ba955ec96ff817419",
       "value": "100% 100/100 [02:11&lt;00:00,  1.33s/it]"
      }
     },
     "1e03eb175234422eb87e62150e444a5a": {
      "model_module": "@jupyter-widgets/base",
      "model_module_version": "1.1.0",
      "model_name": "LayoutModel",
      "state": {}
     },
     "1f5166d949b9418fb14ab74af6b380c5": {
      "model_module": "@jupyter-widgets/controls",
      "model_module_version": "1.4.0",
      "model_name": "IntProgressModel",
      "state": {
       "bar_style": "success",
       "layout": "IPY_MODEL_ac43f9d3adf94ffbaf974b6918cd1cb5",
       "style": "IPY_MODEL_5f6ef99b936a41b9b30da18662d6497e",
       "value": 100
      }
     },
     "1fa5f390749d4181a04814d09ee5ab96": {
      "model_module": "@jupyter-widgets/base",
      "model_module_version": "1.1.0",
      "model_name": "LayoutModel",
      "state": {}
     },
     "2033f7b6e0614a46bccb87daa522c679": {
      "model_module": "@jupyter-widgets/controls",
      "model_module_version": "1.4.0",
      "model_name": "ProgressStyleModel",
      "state": {
       "description_width": ""
      }
     },
     "207a2c93f5c44512979963819d9b1b86": {
      "model_module": "@jupyter-widgets/base",
      "model_module_version": "1.1.0",
      "model_name": "LayoutModel",
      "state": {}
     },
     "21aa0de3bf304f84923e51d225154ab9": {
      "model_module": "@jupyter-widgets/base",
      "model_module_version": "1.1.0",
      "model_name": "LayoutModel",
      "state": {}
     },
     "24c64bbe214645f7a0a53dd963c461a9": {
      "model_module": "@jupyter-widgets/controls",
      "model_module_version": "1.4.0",
      "model_name": "HBoxModel",
      "state": {
       "children": [
        "IPY_MODEL_72326d0064244a2498fd571c3a23dda3",
        "IPY_MODEL_b7558ce99528492d873859b803dbb8e2"
       ],
       "layout": "IPY_MODEL_acc65e4b2fe7472c8b14ad625898cbec"
      }
     },
     "25b53b56cb424041a1004c4c35690444": {
      "model_module": "@jupyter-widgets/controls",
      "model_module_version": "1.4.0",
      "model_name": "IntProgressModel",
      "state": {
       "bar_style": "danger",
       "layout": "IPY_MODEL_8ddc06869d414cb5bfb04af0151a49e1",
       "style": "IPY_MODEL_e441a7643b6147f8b403828d752a4cc1",
       "value": 5
      }
     },
     "26706cd7246e488db9b47d4bd4ff695a": {
      "model_module": "@jupyter-widgets/base",
      "model_module_version": "1.1.0",
      "model_name": "LayoutModel",
      "state": {}
     },
     "2699cbde143a44239feac7cb2202b145": {
      "model_module": "@jupyter-widgets/base",
      "model_module_version": "1.1.0",
      "model_name": "LayoutModel",
      "state": {}
     },
     "271f141d0cdf46e289f603c000f3d18e": {
      "model_module": "@jupyter-widgets/base",
      "model_module_version": "1.1.0",
      "model_name": "LayoutModel",
      "state": {}
     },
     "2750bd840c374f6eb031149a9480a7a8": {
      "model_module": "@jupyter-widgets/controls",
      "model_module_version": "1.4.0",
      "model_name": "HTMLModel",
      "state": {
       "layout": "IPY_MODEL_50811e47ba05429eb2f7a8015c112cf6",
       "style": "IPY_MODEL_9dc84e19744b4cf6ae0c78a626318403",
       "value": "  0% 0/10 [00:00&lt;?, ?it/s]"
      }
     },
     "276fb07ea2dd42b498047c54fca38f4c": {
      "model_module": "@jupyter-widgets/controls",
      "model_module_version": "1.4.0",
      "model_name": "IntProgressModel",
      "state": {
       "bar_style": "danger",
       "layout": "IPY_MODEL_e33eb466af984660bc6515775c4ab06b",
       "max": 10,
       "style": "IPY_MODEL_5e50bfca6a254dc980cc8037563bbff8"
      }
     },
     "27dc8cfc30054b78bd5f2999d13ef275": {
      "model_module": "@jupyter-widgets/controls",
      "model_module_version": "1.4.0",
      "model_name": "HBoxModel",
      "state": {
       "children": [
        "IPY_MODEL_f59d9e7dd7114372a56ec6b9ed543e91",
        "IPY_MODEL_97e68dc3a9cb4508b79970df39b33be3"
       ],
       "layout": "IPY_MODEL_7c727dc4297c4d47b87d57681b6ff561"
      }
     },
     "29bb441dfd5a46c8b2a6c8e670b442a6": {
      "model_module": "@jupyter-widgets/controls",
      "model_module_version": "1.4.0",
      "model_name": "HTMLModel",
      "state": {
       "layout": "IPY_MODEL_5e9804e27b96409ea3f8862b4fe0349a",
       "style": "IPY_MODEL_3960e97823af4a8484225650352ef6a2",
       "value": "100% 100/100 [02:57&lt;00:00,  1.63s/it]"
      }
     },
     "2c5ff2f7343b402da49b09dc13094abf": {
      "model_module": "@jupyter-widgets/base",
      "model_module_version": "1.1.0",
      "model_name": "LayoutModel",
      "state": {}
     },
     "2dbd0bac47934909907f79d157edb210": {
      "model_module": "@jupyter-widgets/base",
      "model_module_version": "1.1.0",
      "model_name": "LayoutModel",
      "state": {}
     },
     "2dc5571b648c4839a98aef7651075c5f": {
      "model_module": "@jupyter-widgets/controls",
      "model_module_version": "1.4.0",
      "model_name": "IntProgressModel",
      "state": {
       "bar_style": "danger",
       "layout": "IPY_MODEL_b8377f971a1d49168ae0017d75a86e70",
       "style": "IPY_MODEL_c84eb01716954d26a3a84fb422f4a717"
      }
     },
     "2e1c3ad0a6b54b73a97824414aec2d21": {
      "model_module": "@jupyter-widgets/controls",
      "model_module_version": "1.4.0",
      "model_name": "HBoxModel",
      "state": {
       "children": [
        "IPY_MODEL_c4df9cfa5d95405595edfb80d6736c1f",
        "IPY_MODEL_11fa163051974cea92459a56f5803cdd"
       ],
       "layout": "IPY_MODEL_92642286270a463d96f96d97997377b2"
      }
     },
     "2f0836d922334eee95146d09887ca9db": {
      "model_module": "@jupyter-widgets/controls",
      "model_module_version": "1.4.0",
      "model_name": "DescriptionStyleModel",
      "state": {
       "description_width": ""
      }
     },
     "2f3c0f323fa04d49a8f1f0efa2c2b5cf": {
      "model_module": "@jupyter-widgets/base",
      "model_module_version": "1.1.0",
      "model_name": "LayoutModel",
      "state": {}
     },
     "2f449e0936cb40799ff9467a9f974ec7": {
      "model_module": "@jupyter-widgets/base",
      "model_module_version": "1.1.0",
      "model_name": "LayoutModel",
      "state": {}
     },
     "2fae50dfe4444bac95fe6ef0a7f125be": {
      "model_module": "@jupyter-widgets/controls",
      "model_module_version": "1.4.0",
      "model_name": "ProgressStyleModel",
      "state": {
       "description_width": ""
      }
     },
     "3020607a17f54fdf8d3a5c822d0813e2": {
      "model_module": "@jupyter-widgets/controls",
      "model_module_version": "1.4.0",
      "model_name": "HBoxModel",
      "state": {
       "children": [
        "IPY_MODEL_b8c5dcb87b1d42b7a29024f6a3562ed5",
        "IPY_MODEL_0e02500411384ad9a81467f0885c157b"
       ],
       "layout": "IPY_MODEL_8a0ae6b901a84e6d9f1385a9ead1891e"
      }
     },
     "305edcfaee7f41009cc74630f5f7dc1b": {
      "model_module": "@jupyter-widgets/controls",
      "model_module_version": "1.4.0",
      "model_name": "IntProgressModel",
      "state": {
       "bar_style": "danger",
       "layout": "IPY_MODEL_c7a89c9b3d48402bb8a3b4c9fd1ead83",
       "style": "IPY_MODEL_0078a31f6bb746238b7c85c8b7957a9c"
      }
     },
     "30807fc14c04472b919a11dc24ef8d12": {
      "model_module": "@jupyter-widgets/controls",
      "model_module_version": "1.4.0",
      "model_name": "HBoxModel",
      "state": {
       "children": [
        "IPY_MODEL_6585ac23e9594c4088dc47cb06c4a280",
        "IPY_MODEL_4462446d012849c1b20e08b984b4fe09"
       ],
       "layout": "IPY_MODEL_e78f662e5f004c10bf212a9b5dc1d4a4"
      }
     },
     "3133732c8b0b422a9d659d0ccb20f30e": {
      "model_module": "@jupyter-widgets/controls",
      "model_module_version": "1.4.0",
      "model_name": "ProgressStyleModel",
      "state": {
       "description_width": ""
      }
     },
     "31d85a886cc94cd6960733505a2360c4": {
      "model_module": "@jupyter-widgets/controls",
      "model_module_version": "1.4.0",
      "model_name": "DescriptionStyleModel",
      "state": {
       "description_width": ""
      }
     },
     "328d6ba3c5b94820946430b443e3c32b": {
      "model_module": "@jupyter-widgets/base",
      "model_module_version": "1.1.0",
      "model_name": "LayoutModel",
      "state": {}
     },
     "32c1e61e13ed412f8638eaa68d177ca6": {
      "model_module": "@jupyter-widgets/base",
      "model_module_version": "1.1.0",
      "model_name": "LayoutModel",
      "state": {}
     },
     "3488dc5cb5954f8cbfd0c89b087afa2a": {
      "model_module": "@jupyter-widgets/controls",
      "model_module_version": "1.4.0",
      "model_name": "HBoxModel",
      "state": {
       "children": [
        "IPY_MODEL_d4c7c0689b2848e696ffd2ba94bac103",
        "IPY_MODEL_7f8dd5aaf9a443e49a1f76bb9ac305b6"
       ],
       "layout": "IPY_MODEL_9afa366c37464a3e87475da241f53850"
      }
     },
     "34a88bb75dcd4596b7823d63a67e6389": {
      "model_module": "@jupyter-widgets/base",
      "model_module_version": "1.1.0",
      "model_name": "LayoutModel",
      "state": {}
     },
     "35018e1bee904a5486667d5b816d40c8": {
      "model_module": "@jupyter-widgets/controls",
      "model_module_version": "1.4.0",
      "model_name": "HTMLModel",
      "state": {
       "layout": "IPY_MODEL_67234f0585064d85b9ded1a174caa3a6",
       "style": "IPY_MODEL_8ce864c82f964899802397a5a4a95049",
       "value": "  0% 0/100 [00:00&lt;?, ?it/s]"
      }
     },
     "3518495e8e8948fdb1d21ed13b83b848": {
      "model_module": "@jupyter-widgets/controls",
      "model_module_version": "1.4.0",
      "model_name": "DescriptionStyleModel",
      "state": {
       "description_width": ""
      }
     },
     "35a37547e17d4abdadb8bcdfb3e994db": {
      "model_module": "@jupyter-widgets/controls",
      "model_module_version": "1.4.0",
      "model_name": "IntProgressModel",
      "state": {
       "bar_style": "danger",
       "layout": "IPY_MODEL_57e61632d8664e1e846c40f800a26132",
       "style": "IPY_MODEL_ee0a97e85f58482196c24a7ead6a0988"
      }
     },
     "373b5ef34b8349e5a5bbc7610a2b916f": {
      "model_module": "@jupyter-widgets/base",
      "model_module_version": "1.1.0",
      "model_name": "LayoutModel",
      "state": {}
     },
     "37bf256f46744abea23cef2de18fed82": {
      "model_module": "@jupyter-widgets/controls",
      "model_module_version": "1.4.0",
      "model_name": "HBoxModel",
      "state": {
       "children": [
        "IPY_MODEL_0026a2d1880d4cdd908da1aeffa6a7c3",
        "IPY_MODEL_1cf636dc52c64d799eb3358481af54d0"
       ],
       "layout": "IPY_MODEL_7de79c208ca94ebfa4022947b9d652c6"
      }
     },
     "3872e0db51b4483e84753b0a6056b4a7": {
      "model_module": "@jupyter-widgets/base",
      "model_module_version": "1.1.0",
      "model_name": "LayoutModel",
      "state": {}
     },
     "3907786c5b034f48848041a3d0106b29": {
      "model_module": "@jupyter-widgets/base",
      "model_module_version": "1.1.0",
      "model_name": "LayoutModel",
      "state": {}
     },
     "3960e97823af4a8484225650352ef6a2": {
      "model_module": "@jupyter-widgets/controls",
      "model_module_version": "1.4.0",
      "model_name": "DescriptionStyleModel",
      "state": {
       "description_width": ""
      }
     },
     "39c9a642047e4b9c8f45e10d5264d5a0": {
      "model_module": "@jupyter-widgets/base",
      "model_module_version": "1.1.0",
      "model_name": "LayoutModel",
      "state": {}
     },
     "3a100f5866ea494abfb8fb0fd13e539a": {
      "model_module": "@jupyter-widgets/controls",
      "model_module_version": "1.4.0",
      "model_name": "IntProgressModel",
      "state": {
       "bar_style": "danger",
       "layout": "IPY_MODEL_876ead46edf3418eb4cf05a13796b255",
       "style": "IPY_MODEL_4329924d63a34788815b7d76112ce47f"
      }
     },
     "3a4efc6cfd72470fb474b386ab398132": {
      "model_module": "@jupyter-widgets/base",
      "model_module_version": "1.1.0",
      "model_name": "LayoutModel",
      "state": {}
     },
     "3b24c387358e4330ad6105d54cda4216": {
      "model_module": "@jupyter-widgets/controls",
      "model_module_version": "1.4.0",
      "model_name": "HTMLModel",
      "state": {
       "layout": "IPY_MODEL_cf1ab719a73f46b5b4030eacb3b66159",
       "style": "IPY_MODEL_5e41cb62b87b44a1a5c9e5ddc1de96fe",
       "value": "  0% 0/100 [00:00&lt;?, ?it/s]"
      }
     },
     "3b71e57276c249ada03f89d7c15f9137": {
      "model_module": "@jupyter-widgets/controls",
      "model_module_version": "1.4.0",
      "model_name": "DescriptionStyleModel",
      "state": {
       "description_width": ""
      }
     },
     "3b74b7077eae4492a063b65af9671700": {
      "model_module": "@jupyter-widgets/controls",
      "model_module_version": "1.4.0",
      "model_name": "IntProgressModel",
      "state": {
       "bar_style": "success",
       "layout": "IPY_MODEL_0cc6633b9cc44072874b0529057eafec",
       "max": 200,
       "style": "IPY_MODEL_1c12acf6e2624a3cb504c18f95761534",
       "value": 200
      }
     },
     "3ba5477929e446c0bfc6a6952389faf0": {
      "model_module": "@jupyter-widgets/base",
      "model_module_version": "1.1.0",
      "model_name": "LayoutModel",
      "state": {}
     },
     "3c1da146ea8d4377aa466514440ac70c": {
      "model_module": "@jupyter-widgets/controls",
      "model_module_version": "1.4.0",
      "model_name": "DescriptionStyleModel",
      "state": {
       "description_width": ""
      }
     },
     "3cd61f4bdeb84beab168e9838a1c1b3e": {
      "model_module": "@jupyter-widgets/controls",
      "model_module_version": "1.4.0",
      "model_name": "IntProgressModel",
      "state": {
       "bar_style": "danger",
       "layout": "IPY_MODEL_2f3c0f323fa04d49a8f1f0efa2c2b5cf",
       "style": "IPY_MODEL_a4dcf677fffb49149157ba8ad4df9396",
       "value": 4
      }
     },
     "3cf3218237864431bc1b0f9276ecd0fd": {
      "model_module": "@jupyter-widgets/base",
      "model_module_version": "1.1.0",
      "model_name": "LayoutModel",
      "state": {}
     },
     "3dc1882a0d62403785b0b74b405f877c": {
      "model_module": "@jupyter-widgets/base",
      "model_module_version": "1.1.0",
      "model_name": "LayoutModel",
      "state": {}
     },
     "3df50e251d704720945eebbbac7be770": {
      "model_module": "@jupyter-widgets/base",
      "model_module_version": "1.1.0",
      "model_name": "LayoutModel",
      "state": {}
     },
     "3e8a806691e741908d46d53ef3246b2d": {
      "model_module": "@jupyter-widgets/base",
      "model_module_version": "1.1.0",
      "model_name": "LayoutModel",
      "state": {}
     },
     "3ec9f2971f054b54af3649e949e75cae": {
      "model_module": "@jupyter-widgets/controls",
      "model_module_version": "1.4.0",
      "model_name": "ProgressStyleModel",
      "state": {
       "description_width": ""
      }
     },
     "3eddc87a705e4e16ba835e2cce0afd7f": {
      "model_module": "@jupyter-widgets/base",
      "model_module_version": "1.1.0",
      "model_name": "LayoutModel",
      "state": {}
     },
     "3f73ac6f1ca64f61bbb75b430b1b14a5": {
      "model_module": "@jupyter-widgets/controls",
      "model_module_version": "1.4.0",
      "model_name": "HTMLModel",
      "state": {
       "layout": "IPY_MODEL_a8a4cf30fd19423cbb5260b5f5d4b43f",
       "style": "IPY_MODEL_6110120206fa468981c6f489293b1e67",
       "value": "  0% 0/100 [00:00&lt;?, ?it/s]"
      }
     },
     "40334eaf819a4b3c84266854413138fe": {
      "model_module": "@jupyter-widgets/controls",
      "model_module_version": "1.4.0",
      "model_name": "IntProgressModel",
      "state": {
       "bar_style": "danger",
       "layout": "IPY_MODEL_07a13014dcaa40bb9d17492a59edbad5",
       "style": "IPY_MODEL_76dd78a544f04ec19f845b3e6e4b97bc"
      }
     },
     "40a02b3175184d0da56736c96674711b": {
      "model_module": "@jupyter-widgets/controls",
      "model_module_version": "1.4.0",
      "model_name": "IntProgressModel",
      "state": {
       "bar_style": "success",
       "layout": "IPY_MODEL_ebb5c1b2f20f48a182c8f7f22663d84d",
       "max": 10,
       "style": "IPY_MODEL_5594fb724d1d4b63935307d9ad000912",
       "value": 10
      }
     },
     "40ec442d0f5a439797e4e70f82a59159": {
      "model_module": "@jupyter-widgets/controls",
      "model_module_version": "1.4.0",
      "model_name": "IntProgressModel",
      "state": {
       "bar_style": "danger",
       "layout": "IPY_MODEL_3872e0db51b4483e84753b0a6056b4a7",
       "style": "IPY_MODEL_7144ff691dd541949eff61c266fc9a5c",
       "value": 56
      }
     },
     "41a09739581b46948b1352539a460bd3": {
      "model_module": "@jupyter-widgets/controls",
      "model_module_version": "1.4.0",
      "model_name": "HTMLModel",
      "state": {
       "layout": "IPY_MODEL_51839bc767074aa7940bc854d5508b94",
       "style": "IPY_MODEL_9448a8723e284129ac52aeba903b47a9",
       "value": "  0% 0/100 [00:00&lt;?, ?it/s]"
      }
     },
     "41d536acb0794a98b8fe2d7b60d6198e": {
      "model_module": "@jupyter-widgets/base",
      "model_module_version": "1.1.0",
      "model_name": "LayoutModel",
      "state": {}
     },
     "41f168ca7a184bfa87d51551560d13d9": {
      "model_module": "@jupyter-widgets/base",
      "model_module_version": "1.1.0",
      "model_name": "LayoutModel",
      "state": {}
     },
     "420f2d12cf574196ba7068bc7ab15bfe": {
      "model_module": "@jupyter-widgets/controls",
      "model_module_version": "1.4.0",
      "model_name": "HTMLModel",
      "state": {
       "layout": "IPY_MODEL_cc75c6b76dba43e2b663d108afdbb620",
       "style": "IPY_MODEL_b38e5d62ced647258830aa6cb9361910",
       "value": "  0% 0/100 [00:00&lt;?, ?it/s]"
      }
     },
     "42307f441fdb4c309383f8901227f175": {
      "model_module": "@jupyter-widgets/controls",
      "model_module_version": "1.4.0",
      "model_name": "HTMLModel",
      "state": {
       "layout": "IPY_MODEL_f431e3373fb2429988c2ca305236661c",
       "style": "IPY_MODEL_dd56c6c6cac54a3687ce85edda088f03",
       "value": "  0% 0/100 [00:00&lt;?, ?it/s]"
      }
     },
     "42311b90a5474f358ca2cedeb6a916f9": {
      "model_module": "@jupyter-widgets/base",
      "model_module_version": "1.1.0",
      "model_name": "LayoutModel",
      "state": {}
     },
     "42659e36b62e4c618576a7527bc9e13e": {
      "model_module": "@jupyter-widgets/controls",
      "model_module_version": "1.4.0",
      "model_name": "IntProgressModel",
      "state": {
       "bar_style": "danger",
       "layout": "IPY_MODEL_5dc8d2cfbe684c2aa3e026a21f9847ed",
       "style": "IPY_MODEL_094d4a1c30304e1280e4deacd264e2c3"
      }
     },
     "4329924d63a34788815b7d76112ce47f": {
      "model_module": "@jupyter-widgets/controls",
      "model_module_version": "1.4.0",
      "model_name": "ProgressStyleModel",
      "state": {
       "description_width": ""
      }
     },
     "43d05ac8dc0947aeaa38bedf60d81cc8": {
      "model_module": "@jupyter-widgets/base",
      "model_module_version": "1.1.0",
      "model_name": "LayoutModel",
      "state": {}
     },
     "43d9a01d1136443d9003b3e2dd5eee73": {
      "model_module": "@jupyter-widgets/controls",
      "model_module_version": "1.4.0",
      "model_name": "HBoxModel",
      "state": {
       "children": [
        "IPY_MODEL_1b33431a0cfd43b5a4b7db6ef436b1a3",
        "IPY_MODEL_e5be850e8f46498ba0787930ac9b57c7"
       ],
       "layout": "IPY_MODEL_4819f0fcaa394f6889c1936f870821c6"
      }
     },
     "440ad5e5bd8e4545b3533285b65f0e9b": {
      "model_module": "@jupyter-widgets/base",
      "model_module_version": "1.1.0",
      "model_name": "LayoutModel",
      "state": {}
     },
     "44467fd72e3a4f0bba6ea5831c6b7d24": {
      "model_module": "@jupyter-widgets/controls",
      "model_module_version": "1.4.0",
      "model_name": "IntProgressModel",
      "state": {
       "bar_style": "danger",
       "layout": "IPY_MODEL_4f5a5b0fa1b14991ace6cd78ff0279c3",
       "style": "IPY_MODEL_a3295db2e0484c4fbc111d2fb924304c",
       "value": 7
      }
     },
     "4462446d012849c1b20e08b984b4fe09": {
      "model_module": "@jupyter-widgets/controls",
      "model_module_version": "1.4.0",
      "model_name": "HTMLModel",
      "state": {
       "layout": "IPY_MODEL_b21f32e5fd1f4048a09083f921b99e89",
       "style": "IPY_MODEL_44af7d684ceb4be1aa4fd16bc338dae6",
       "value": "  0% 0/100 [00:00&lt;?, ?it/s]"
      }
     },
     "4464e04e635141d7836036db22a88c35": {
      "model_module": "@jupyter-widgets/controls",
      "model_module_version": "1.4.0",
      "model_name": "HBoxModel",
      "state": {
       "children": [
        "IPY_MODEL_c26f475e9c36469a87580cc0c35e8f2e",
        "IPY_MODEL_5ece2aae51dd4676b1171cd91ce22c12"
       ],
       "layout": "IPY_MODEL_505a6639cab5410aac8c32834bd89b5b"
      }
     },
     "44a73715d2eb427fa6a70f8b62771a32": {
      "model_module": "@jupyter-widgets/controls",
      "model_module_version": "1.4.0",
      "model_name": "DescriptionStyleModel",
      "state": {
       "description_width": ""
      }
     },
     "44af7d684ceb4be1aa4fd16bc338dae6": {
      "model_module": "@jupyter-widgets/controls",
      "model_module_version": "1.4.0",
      "model_name": "DescriptionStyleModel",
      "state": {
       "description_width": ""
      }
     },
     "45ccf8d885544c248c8c5a2aec20b630": {
      "model_module": "@jupyter-widgets/base",
      "model_module_version": "1.1.0",
      "model_name": "LayoutModel",
      "state": {}
     },
     "47ae1a945f05448bb025d6b06baf56f0": {
      "model_module": "@jupyter-widgets/base",
      "model_module_version": "1.1.0",
      "model_name": "LayoutModel",
      "state": {}
     },
     "4819f0fcaa394f6889c1936f870821c6": {
      "model_module": "@jupyter-widgets/base",
      "model_module_version": "1.1.0",
      "model_name": "LayoutModel",
      "state": {}
     },
     "482121fc55bd4d698801ceeeaa451653": {
      "model_module": "@jupyter-widgets/base",
      "model_module_version": "1.1.0",
      "model_name": "LayoutModel",
      "state": {}
     },
     "48c0e124918e400981adc21d18063afe": {
      "model_module": "@jupyter-widgets/controls",
      "model_module_version": "1.4.0",
      "model_name": "ProgressStyleModel",
      "state": {
       "description_width": ""
      }
     },
     "4a9d56e43fee471da4a248db33b35698": {
      "model_module": "@jupyter-widgets/base",
      "model_module_version": "1.1.0",
      "model_name": "LayoutModel",
      "state": {}
     },
     "4ad1eea1bb9844e783c5efcc4c818cce": {
      "model_module": "@jupyter-widgets/base",
      "model_module_version": "1.1.0",
      "model_name": "LayoutModel",
      "state": {}
     },
     "4c4df4d20014459f8a2753d0dea0a5df": {
      "model_module": "@jupyter-widgets/controls",
      "model_module_version": "1.4.0",
      "model_name": "ProgressStyleModel",
      "state": {
       "description_width": ""
      }
     },
     "4d077a67cffc4f2385031af3f620a5ea": {
      "model_module": "@jupyter-widgets/base",
      "model_module_version": "1.1.0",
      "model_name": "LayoutModel",
      "state": {}
     },
     "4dcd681a934a4139a6a941e288e96598": {
      "model_module": "@jupyter-widgets/controls",
      "model_module_version": "1.4.0",
      "model_name": "HBoxModel",
      "state": {
       "children": [
        "IPY_MODEL_3a100f5866ea494abfb8fb0fd13e539a",
        "IPY_MODEL_910367f0c15a40d8b9f9374a078341bf"
       ],
       "layout": "IPY_MODEL_6229cf734cff41a3b05bac98919dc12a"
      }
     },
     "4f0a12988ab1442e94a70770711ee935": {
      "model_module": "@jupyter-widgets/controls",
      "model_module_version": "1.4.0",
      "model_name": "IntProgressModel",
      "state": {
       "bar_style": "danger",
       "layout": "IPY_MODEL_5400569703a14b6fa522b93086bbdf25",
       "max": 50,
       "style": "IPY_MODEL_c372dd9e665e4a72a71543a4ba5018ec",
       "value": 3
      }
     },
     "4f5a5b0fa1b14991ace6cd78ff0279c3": {
      "model_module": "@jupyter-widgets/base",
      "model_module_version": "1.1.0",
      "model_name": "LayoutModel",
      "state": {}
     },
     "4f83e252daf64ff0af6aa5a5bfa6f0db": {
      "model_module": "@jupyter-widgets/controls",
      "model_module_version": "1.4.0",
      "model_name": "DescriptionStyleModel",
      "state": {
       "description_width": ""
      }
     },
     "50010322969d432ba955ec96ff817419": {
      "model_module": "@jupyter-widgets/controls",
      "model_module_version": "1.4.0",
      "model_name": "DescriptionStyleModel",
      "state": {
       "description_width": ""
      }
     },
     "505a6639cab5410aac8c32834bd89b5b": {
      "model_module": "@jupyter-widgets/base",
      "model_module_version": "1.1.0",
      "model_name": "LayoutModel",
      "state": {}
     },
     "50811e47ba05429eb2f7a8015c112cf6": {
      "model_module": "@jupyter-widgets/base",
      "model_module_version": "1.1.0",
      "model_name": "LayoutModel",
      "state": {}
     },
     "50be8b0ef6e6437e9cd4b920ecf8fe82": {
      "model_module": "@jupyter-widgets/base",
      "model_module_version": "1.1.0",
      "model_name": "LayoutModel",
      "state": {}
     },
     "510f137f762147929d26d75fd87732e9": {
      "model_module": "@jupyter-widgets/controls",
      "model_module_version": "1.4.0",
      "model_name": "IntProgressModel",
      "state": {
       "bar_style": "danger",
       "layout": "IPY_MODEL_7fae2fe467bc4a96b676103cc52ff245",
       "style": "IPY_MODEL_e91dc8de600844daa4fb281c20e0f876"
      }
     },
     "512212f9273649c493bd6eac2dd13046": {
      "model_module": "@jupyter-widgets/base",
      "model_module_version": "1.1.0",
      "model_name": "LayoutModel",
      "state": {}
     },
     "516aa7c67bae44d8885516a870fba32e": {
      "model_module": "@jupyter-widgets/controls",
      "model_module_version": "1.4.0",
      "model_name": "DescriptionStyleModel",
      "state": {
       "description_width": ""
      }
     },
     "51839bc767074aa7940bc854d5508b94": {
      "model_module": "@jupyter-widgets/base",
      "model_module_version": "1.1.0",
      "model_name": "LayoutModel",
      "state": {}
     },
     "51fedc641da249f48fdfb295a90ff769": {
      "model_module": "@jupyter-widgets/base",
      "model_module_version": "1.1.0",
      "model_name": "LayoutModel",
      "state": {}
     },
     "5251b216635f4adc86f9b95d2f7ce41a": {
      "model_module": "@jupyter-widgets/controls",
      "model_module_version": "1.4.0",
      "model_name": "HBoxModel",
      "state": {
       "children": [
        "IPY_MODEL_89d3564ec9954d51bc39c66570ce2587",
        "IPY_MODEL_bf8e34ed2d514a3680eeb364c870c795"
       ],
       "layout": "IPY_MODEL_b80ed7c5122d4c75b17a8b531a238fc0"
      }
     },
     "525660f63c6549ecb112a72b17e262f8": {
      "model_module": "@jupyter-widgets/base",
      "model_module_version": "1.1.0",
      "model_name": "LayoutModel",
      "state": {}
     },
     "52709cd44f424c71a642603737d3e056": {
      "model_module": "@jupyter-widgets/controls",
      "model_module_version": "1.4.0",
      "model_name": "DescriptionStyleModel",
      "state": {
       "description_width": ""
      }
     },
     "52fc17e3de9e41cb8e71475e0d817c3c": {
      "model_module": "@jupyter-widgets/base",
      "model_module_version": "1.1.0",
      "model_name": "LayoutModel",
      "state": {}
     },
     "531180c09278454cb249b6cd7776ae6e": {
      "model_module": "@jupyter-widgets/controls",
      "model_module_version": "1.4.0",
      "model_name": "HBoxModel",
      "state": {
       "children": [
        "IPY_MODEL_79c140cf120042f594e498fdd6d5b1a4",
        "IPY_MODEL_81d2aba73ba44e4e94da9e49317c448b"
       ],
       "layout": "IPY_MODEL_57b436c2ffe84a40a2a03559aea514f0"
      }
     },
     "53b1fb9b37de4781b3c9520c6e2b6ba5": {
      "model_module": "@jupyter-widgets/base",
      "model_module_version": "1.1.0",
      "model_name": "LayoutModel",
      "state": {}
     },
     "53b32cf7accc44ebae23b0fe2faeb317": {
      "model_module": "@jupyter-widgets/base",
      "model_module_version": "1.1.0",
      "model_name": "LayoutModel",
      "state": {}
     },
     "53d536e4a60d44ef953ec2fc753587ba": {
      "model_module": "@jupyter-widgets/controls",
      "model_module_version": "1.4.0",
      "model_name": "ProgressStyleModel",
      "state": {
       "description_width": ""
      }
     },
     "5400569703a14b6fa522b93086bbdf25": {
      "model_module": "@jupyter-widgets/base",
      "model_module_version": "1.1.0",
      "model_name": "LayoutModel",
      "state": {}
     },
     "54608d90c3d94fac8f3cddb292d7baf8": {
      "model_module": "@jupyter-widgets/base",
      "model_module_version": "1.1.0",
      "model_name": "LayoutModel",
      "state": {}
     },
     "54e4e64b3b3e4d1a94edaaefb11fa7b4": {
      "model_module": "@jupyter-widgets/base",
      "model_module_version": "1.1.0",
      "model_name": "LayoutModel",
      "state": {}
     },
     "554da2f355aa4a0da1d5f44036a24f59": {
      "model_module": "@jupyter-widgets/controls",
      "model_module_version": "1.4.0",
      "model_name": "HTMLModel",
      "state": {
       "layout": "IPY_MODEL_ed98658d5d0946cd8df4a492880e52a7",
       "style": "IPY_MODEL_f9d8d532e0f1416e9e5df482020d90bf",
       "value": "  0% 0/100 [00:00&lt;?, ?it/s]"
      }
     },
     "5594fb724d1d4b63935307d9ad000912": {
      "model_module": "@jupyter-widgets/controls",
      "model_module_version": "1.4.0",
      "model_name": "ProgressStyleModel",
      "state": {
       "description_width": ""
      }
     },
     "55d11b1ef6934d34991164feb6cd5f53": {
      "model_module": "@jupyter-widgets/base",
      "model_module_version": "1.1.0",
      "model_name": "LayoutModel",
      "state": {}
     },
     "5673614805ae4ae99cb752879ab19bb0": {
      "model_module": "@jupyter-widgets/base",
      "model_module_version": "1.1.0",
      "model_name": "LayoutModel",
      "state": {}
     },
     "56d22a03ae5e4400a046b5fdab21508f": {
      "model_module": "@jupyter-widgets/controls",
      "model_module_version": "1.4.0",
      "model_name": "ProgressStyleModel",
      "state": {
       "description_width": ""
      }
     },
     "5749bbced00444d48ebb62f809595a51": {
      "model_module": "@jupyter-widgets/controls",
      "model_module_version": "1.4.0",
      "model_name": "ProgressStyleModel",
      "state": {
       "description_width": ""
      }
     },
     "5755d9c0ad9a483b80ba6222bd77be6f": {
      "model_module": "@jupyter-widgets/controls",
      "model_module_version": "1.4.0",
      "model_name": "HBoxModel",
      "state": {
       "children": [
        "IPY_MODEL_40a02b3175184d0da56736c96674711b",
        "IPY_MODEL_8f46bce3dc784a45ba87d5b7867385c6"
       ],
       "layout": "IPY_MODEL_440ad5e5bd8e4545b3533285b65f0e9b"
      }
     },
     "57b436c2ffe84a40a2a03559aea514f0": {
      "model_module": "@jupyter-widgets/base",
      "model_module_version": "1.1.0",
      "model_name": "LayoutModel",
      "state": {}
     },
     "57e61632d8664e1e846c40f800a26132": {
      "model_module": "@jupyter-widgets/base",
      "model_module_version": "1.1.0",
      "model_name": "LayoutModel",
      "state": {}
     },
     "58970e3ee4f0452495c836b87d88c0bd": {
      "model_module": "@jupyter-widgets/controls",
      "model_module_version": "1.4.0",
      "model_name": "ProgressStyleModel",
      "state": {
       "description_width": ""
      }
     },
     "59c3975870da4e9fb4858bc8709dac0b": {
      "model_module": "@jupyter-widgets/controls",
      "model_module_version": "1.4.0",
      "model_name": "ProgressStyleModel",
      "state": {
       "description_width": ""
      }
     },
     "59e4e80c75fe423fadf9f08d2f61bd90": {
      "model_module": "@jupyter-widgets/controls",
      "model_module_version": "1.4.0",
      "model_name": "HTMLModel",
      "state": {
       "layout": "IPY_MODEL_f3da977c870146739e25bb65282c9fdf",
       "style": "IPY_MODEL_d62a096169d64680817550a6856d4df8",
       "value": "  0% 0/100 [00:00&lt;?, ?it/s]"
      }
     },
     "5abd0c9556074dff86528efdbdfe1cda": {
      "model_module": "@jupyter-widgets/controls",
      "model_module_version": "1.4.0",
      "model_name": "HBoxModel",
      "state": {
       "children": [
        "IPY_MODEL_42659e36b62e4c618576a7527bc9e13e",
        "IPY_MODEL_b6fce08b3de84bfcbf3af8d57ba87386"
       ],
       "layout": "IPY_MODEL_baf12c45e96645f795f10b0414cbbdbf"
      }
     },
     "5bc643806e1246a1b7e5f89cb7d9df76": {
      "model_module": "@jupyter-widgets/controls",
      "model_module_version": "1.4.0",
      "model_name": "HTMLModel",
      "state": {
       "layout": "IPY_MODEL_a53cde7a91a14acb97e8e10dfabe7f75",
       "style": "IPY_MODEL_9ca55d55d25f47f1aec6ee5c19473e8c",
       "value": "  0% 0/100 [00:00&lt;?, ?it/s]"
      }
     },
     "5c1e2aa1602b42729ed270d19c79cb19": {
      "model_module": "@jupyter-widgets/controls",
      "model_module_version": "1.4.0",
      "model_name": "HBoxModel",
      "state": {
       "children": [
        "IPY_MODEL_bf7c12125d7e409b95431cb88af01fc3",
        "IPY_MODEL_115a86d55b8042c9892febc4ea23a086"
       ],
       "layout": "IPY_MODEL_7c6661b04f3e46b7a6b9b5ec69a97d1b"
      }
     },
     "5dbe746491454bde9b9744d4362628f3": {
      "model_module": "@jupyter-widgets/controls",
      "model_module_version": "1.4.0",
      "model_name": "HBoxModel",
      "state": {
       "children": [
        "IPY_MODEL_d4e93dfc93394d8191b659e347486291",
        "IPY_MODEL_05f4df595a074affafd641095f81acec"
       ],
       "layout": "IPY_MODEL_edba5cd1f4d348eb9d8b439030739c4c"
      }
     },
     "5dc8d2cfbe684c2aa3e026a21f9847ed": {
      "model_module": "@jupyter-widgets/base",
      "model_module_version": "1.1.0",
      "model_name": "LayoutModel",
      "state": {}
     },
     "5e41cb62b87b44a1a5c9e5ddc1de96fe": {
      "model_module": "@jupyter-widgets/controls",
      "model_module_version": "1.4.0",
      "model_name": "DescriptionStyleModel",
      "state": {
       "description_width": ""
      }
     },
     "5e50bfca6a254dc980cc8037563bbff8": {
      "model_module": "@jupyter-widgets/controls",
      "model_module_version": "1.4.0",
      "model_name": "ProgressStyleModel",
      "state": {
       "description_width": ""
      }
     },
     "5e9804e27b96409ea3f8862b4fe0349a": {
      "model_module": "@jupyter-widgets/base",
      "model_module_version": "1.1.0",
      "model_name": "LayoutModel",
      "state": {}
     },
     "5ece2aae51dd4676b1171cd91ce22c12": {
      "model_module": "@jupyter-widgets/controls",
      "model_module_version": "1.4.0",
      "model_name": "HTMLModel",
      "state": {
       "layout": "IPY_MODEL_d1dc0b74966e40a092c4c4af2a2db98a",
       "style": "IPY_MODEL_44a73715d2eb427fa6a70f8b62771a32",
       "value": "  0% 0/100 [00:00&lt;?, ?it/s]"
      }
     },
     "5f6ef99b936a41b9b30da18662d6497e": {
      "model_module": "@jupyter-widgets/controls",
      "model_module_version": "1.4.0",
      "model_name": "ProgressStyleModel",
      "state": {
       "description_width": ""
      }
     },
     "603b7d4a701f4dfca2882dffd821070a": {
      "model_module": "@jupyter-widgets/controls",
      "model_module_version": "1.4.0",
      "model_name": "ProgressStyleModel",
      "state": {
       "description_width": ""
      }
     },
     "60a0d48000664ce196057b57c8df9209": {
      "model_module": "@jupyter-widgets/controls",
      "model_module_version": "1.4.0",
      "model_name": "DescriptionStyleModel",
      "state": {
       "description_width": ""
      }
     },
     "6110120206fa468981c6f489293b1e67": {
      "model_module": "@jupyter-widgets/controls",
      "model_module_version": "1.4.0",
      "model_name": "DescriptionStyleModel",
      "state": {
       "description_width": ""
      }
     },
     "615b2e440274435aa17b1f1796a6605b": {
      "model_module": "@jupyter-widgets/controls",
      "model_module_version": "1.4.0",
      "model_name": "HBoxModel",
      "state": {
       "children": [
        "IPY_MODEL_c5c9840d551e4950b1defede028328bd",
        "IPY_MODEL_5bc643806e1246a1b7e5f89cb7d9df76"
       ],
       "layout": "IPY_MODEL_7f19a4ce498a43148a6b5553dad249d6"
      }
     },
     "617802fe3f0b45ed8412cc3cfdd6fef3": {
      "model_module": "@jupyter-widgets/controls",
      "model_module_version": "1.4.0",
      "model_name": "IntProgressModel",
      "state": {
       "bar_style": "success",
       "layout": "IPY_MODEL_ac049fd51dd048838bb30cc4a5155ea4",
       "max": 10,
       "style": "IPY_MODEL_0805851774d94fafae4e8c7860b2145d",
       "value": 10
      }
     },
     "621bc24d28854593810abd7280bdcdd0": {
      "model_module": "@jupyter-widgets/base",
      "model_module_version": "1.1.0",
      "model_name": "LayoutModel",
      "state": {}
     },
     "6229cf734cff41a3b05bac98919dc12a": {
      "model_module": "@jupyter-widgets/base",
      "model_module_version": "1.1.0",
      "model_name": "LayoutModel",
      "state": {}
     },
     "630383993df147ec80989c20a387e782": {
      "model_module": "@jupyter-widgets/controls",
      "model_module_version": "1.4.0",
      "model_name": "HBoxModel",
      "state": {
       "children": [
        "IPY_MODEL_3cd61f4bdeb84beab168e9838a1c1b3e",
        "IPY_MODEL_b15b30a8536844ebab17bb214abb0ddc"
       ],
       "layout": "IPY_MODEL_fc09116d28474ca9b3b59efbdc8b40e2"
      }
     },
     "63e23daad3754a329408958a39a25506": {
      "model_module": "@jupyter-widgets/base",
      "model_module_version": "1.1.0",
      "model_name": "LayoutModel",
      "state": {}
     },
     "640aea7521eb48e281911cf57f43f16a": {
      "model_module": "@jupyter-widgets/controls",
      "model_module_version": "1.4.0",
      "model_name": "IntProgressModel",
      "state": {
       "bar_style": "danger",
       "layout": "IPY_MODEL_03dd4074a5254d5c8823119edf30d33a",
       "style": "IPY_MODEL_f6cd0b6d5ae049da84e6c1ec54ec9044",
       "value": 11
      }
     },
     "64bad229d63e43a7b7318863707627dd": {
      "model_module": "@jupyter-widgets/controls",
      "model_module_version": "1.4.0",
      "model_name": "HTMLModel",
      "state": {
       "layout": "IPY_MODEL_de5a1d45dd594abc8e5f22a76a6d77af",
       "style": "IPY_MODEL_31d85a886cc94cd6960733505a2360c4",
       "value": "  6% 3/50 [00:28&lt;07:21,  9.39s/it]"
      }
     },
     "650df31c4be747fe88f6fc56194ab98a": {
      "model_module": "@jupyter-widgets/controls",
      "model_module_version": "1.4.0",
      "model_name": "IntProgressModel",
      "state": {
       "bar_style": "danger",
       "layout": "IPY_MODEL_dde11320f00a48e081cd3c09409dd104",
       "style": "IPY_MODEL_d3ad792bd5e14f299208bb09009fdfde",
       "value": 1
      }
     },
     "6585ac23e9594c4088dc47cb06c4a280": {
      "model_module": "@jupyter-widgets/controls",
      "model_module_version": "1.4.0",
      "model_name": "IntProgressModel",
      "state": {
       "bar_style": "danger",
       "layout": "IPY_MODEL_09486ee4df25440caccc6cca25689d5b",
       "style": "IPY_MODEL_cfa7ee7887fd422da2b10db5aa817f5b"
      }
     },
     "67234f0585064d85b9ded1a174caa3a6": {
      "model_module": "@jupyter-widgets/base",
      "model_module_version": "1.1.0",
      "model_name": "LayoutModel",
      "state": {}
     },
     "67a6efe9f44c4ca0973d29e51a9b4a7f": {
      "model_module": "@jupyter-widgets/controls",
      "model_module_version": "1.4.0",
      "model_name": "HTMLModel",
      "state": {
       "layout": "IPY_MODEL_6ec13fb989be4c85a6b77bdd13d926d2",
       "style": "IPY_MODEL_e1af56fc99b14933b72c10dced40da84",
       "value": "  4% 4/100 [00:12&lt;04:50,  3.03s/it]"
      }
     },
     "690406839b7f4ab18022bff83ca9063a": {
      "model_module": "@jupyter-widgets/controls",
      "model_module_version": "1.4.0",
      "model_name": "HBoxModel",
      "state": {
       "children": [
        "IPY_MODEL_97d276d28b9d45a49bec099271a0504b",
        "IPY_MODEL_a66973a034fd48a2bb90ed25bce16902"
       ],
       "layout": "IPY_MODEL_8cf4f329da7947538b74c00147bd1b3b"
      }
     },
     "69be108686ca4bd8bcbd2a4f54c7bcd0": {
      "model_module": "@jupyter-widgets/controls",
      "model_module_version": "1.4.0",
      "model_name": "DescriptionStyleModel",
      "state": {
       "description_width": ""
      }
     },
     "6a6127fc95e941099b928e86cfefe5be": {
      "model_module": "@jupyter-widgets/base",
      "model_module_version": "1.1.0",
      "model_name": "LayoutModel",
      "state": {}
     },
     "6bcfbc964da9464b91da677a1a1790ca": {
      "model_module": "@jupyter-widgets/controls",
      "model_module_version": "1.4.0",
      "model_name": "DescriptionStyleModel",
      "state": {
       "description_width": ""
      }
     },
     "6bd1dbe15cd94776877aaa0d8103dab2": {
      "model_module": "@jupyter-widgets/controls",
      "model_module_version": "1.4.0",
      "model_name": "HTMLModel",
      "state": {
       "layout": "IPY_MODEL_43d05ac8dc0947aeaa38bedf60d81cc8",
       "style": "IPY_MODEL_7b52bfd2f4614018ab784ef3ccdca85e",
       "value": " 56% 56/100 [09:16&lt;07:36, 10.38s/it]"
      }
     },
     "6c30f4c00bff4e27bd1dddbb29b4009a": {
      "model_module": "@jupyter-widgets/controls",
      "model_module_version": "1.4.0",
      "model_name": "DescriptionStyleModel",
      "state": {
       "description_width": ""
      }
     },
     "6d3c3ecdf565487ebfa489770e371a4f": {
      "model_module": "@jupyter-widgets/base",
      "model_module_version": "1.1.0",
      "model_name": "LayoutModel",
      "state": {}
     },
     "6ec13fb989be4c85a6b77bdd13d926d2": {
      "model_module": "@jupyter-widgets/base",
      "model_module_version": "1.1.0",
      "model_name": "LayoutModel",
      "state": {}
     },
     "6f0a1a633b1c4c3db29babcd52c2d424": {
      "model_module": "@jupyter-widgets/controls",
      "model_module_version": "1.4.0",
      "model_name": "IntProgressModel",
      "state": {
       "bar_style": "danger",
       "layout": "IPY_MODEL_ab2c2a74da264f76b62aa22685a73b06",
       "style": "IPY_MODEL_94232ea8b12641689970ab6ad7b34094"
      }
     },
     "6fde06e842d044efbd00ec7d8722a71b": {
      "model_module": "@jupyter-widgets/controls",
      "model_module_version": "1.4.0",
      "model_name": "HTMLModel",
      "state": {
       "layout": "IPY_MODEL_3eddc87a705e4e16ba835e2cce0afd7f",
       "style": "IPY_MODEL_a759a6bd8a4a45e7bf9a2310cdad9a0f",
       "value": "  0% 0/100 [00:00&lt;?, ?it/s]"
      }
     },
     "7035a5be303a498890375cfaf994377b": {
      "model_module": "@jupyter-widgets/base",
      "model_module_version": "1.1.0",
      "model_name": "LayoutModel",
      "state": {}
     },
     "70b611adf1a6401781e484f1a211d0fd": {
      "model_module": "@jupyter-widgets/controls",
      "model_module_version": "1.4.0",
      "model_name": "HTMLModel",
      "state": {
       "layout": "IPY_MODEL_51fedc641da249f48fdfb295a90ff769",
       "style": "IPY_MODEL_bbe0ee0f3176467b8f9b9de99cabac0a",
       "value": "  0% 0/100 [00:00&lt;?, ?it/s]"
      }
     },
     "711a6ac06db4480183af79259ca8e346": {
      "model_module": "@jupyter-widgets/controls",
      "model_module_version": "1.4.0",
      "model_name": "IntProgressModel",
      "state": {
       "bar_style": "success",
       "layout": "IPY_MODEL_0921e5cf8e88431593f21b85b164de4d",
       "max": 10,
       "style": "IPY_MODEL_db21ba15d25746fc9999f3c6acc058a4",
       "value": 10
      }
     },
     "712581eff39b4d20b16f257cbcbad6d1": {
      "model_module": "@jupyter-widgets/controls",
      "model_module_version": "1.4.0",
      "model_name": "ProgressStyleModel",
      "state": {
       "description_width": ""
      }
     },
     "7144ff691dd541949eff61c266fc9a5c": {
      "model_module": "@jupyter-widgets/controls",
      "model_module_version": "1.4.0",
      "model_name": "ProgressStyleModel",
      "state": {
       "description_width": ""
      }
     },
     "721d33b54a604b67a0f07bf06bde1279": {
      "model_module": "@jupyter-widgets/controls",
      "model_module_version": "1.4.0",
      "model_name": "IntProgressModel",
      "state": {
       "bar_style": "danger",
       "layout": "IPY_MODEL_055593a32ff5493dbc2d5da0cba071fb",
       "style": "IPY_MODEL_af88fd487ba841a488da5082f4e16790",
       "value": 8
      }
     },
     "72326d0064244a2498fd571c3a23dda3": {
      "model_module": "@jupyter-widgets/controls",
      "model_module_version": "1.4.0",
      "model_name": "IntProgressModel",
      "state": {
       "bar_style": "danger",
       "layout": "IPY_MODEL_b7f4038085c6455fa271465e774d99ba",
       "max": 10,
       "style": "IPY_MODEL_1184e497dfc0468d910ad408065c2cff"
      }
     },
     "724334867b0c46a2a47da27365bd1507": {
      "model_module": "@jupyter-widgets/controls",
      "model_module_version": "1.4.0",
      "model_name": "IntProgressModel",
      "state": {
       "bar_style": "danger",
       "layout": "IPY_MODEL_328d6ba3c5b94820946430b443e3c32b",
       "style": "IPY_MODEL_2033f7b6e0614a46bccb87daa522c679"
      }
     },
     "72a82acb66dd4edfb00524a2fa195828": {
      "model_module": "@jupyter-widgets/controls",
      "model_module_version": "1.4.0",
      "model_name": "HBoxModel",
      "state": {
       "children": [
        "IPY_MODEL_724334867b0c46a2a47da27365bd1507",
        "IPY_MODEL_70b611adf1a6401781e484f1a211d0fd"
       ],
       "layout": "IPY_MODEL_14bf3e294251476b848eaccc653a7d78"
      }
     },
     "72df37cce9214ac796ac423a985647bf": {
      "model_module": "@jupyter-widgets/base",
      "model_module_version": "1.1.0",
      "model_name": "LayoutModel",
      "state": {}
     },
     "738a9c67b3394624861da9e588ad7f55": {
      "model_module": "@jupyter-widgets/controls",
      "model_module_version": "1.4.0",
      "model_name": "ProgressStyleModel",
      "state": {
       "description_width": ""
      }
     },
     "76dd78a544f04ec19f845b3e6e4b97bc": {
      "model_module": "@jupyter-widgets/controls",
      "model_module_version": "1.4.0",
      "model_name": "ProgressStyleModel",
      "state": {
       "description_width": ""
      }
     },
     "78a4e8e4f99646629b9d046a96192b7c": {
      "model_module": "@jupyter-widgets/controls",
      "model_module_version": "1.4.0",
      "model_name": "HBoxModel",
      "state": {
       "children": [
        "IPY_MODEL_6f0a1a633b1c4c3db29babcd52c2d424",
        "IPY_MODEL_35018e1bee904a5486667d5b816d40c8"
       ],
       "layout": "IPY_MODEL_a34a01bcba4140d4bd9788c22376876a"
      }
     },
     "78d133e19fef454094f36016b8a7e95c": {
      "model_module": "@jupyter-widgets/controls",
      "model_module_version": "1.4.0",
      "model_name": "IntProgressModel",
      "state": {
       "bar_style": "danger",
       "layout": "IPY_MODEL_c2a668734ac24f54b1372205064f0493",
       "style": "IPY_MODEL_2fae50dfe4444bac95fe6ef0a7f125be",
       "value": 3
      }
     },
     "78fb495a86b44ca6bd614769d4930a87": {
      "model_module": "@jupyter-widgets/controls",
      "model_module_version": "1.4.0",
      "model_name": "HBoxModel",
      "state": {
       "children": [
        "IPY_MODEL_0ede2e7417c04c058f89ee8cd2dd48be",
        "IPY_MODEL_054e8df4722248aeb1c93f637a43a81b"
       ],
       "layout": "IPY_MODEL_26706cd7246e488db9b47d4bd4ff695a"
      }
     },
     "7922dc5ee1274c2aab2e1f1820e8b23e": {
      "model_module": "@jupyter-widgets/controls",
      "model_module_version": "1.4.0",
      "model_name": "DescriptionStyleModel",
      "state": {
       "description_width": ""
      }
     },
     "79832e80b5ba4486bd0b19f70929c43b": {
      "model_module": "@jupyter-widgets/base",
      "model_module_version": "1.1.0",
      "model_name": "LayoutModel",
      "state": {}
     },
     "799cba16bf454c1cb5b46f46cea13126": {
      "model_module": "@jupyter-widgets/controls",
      "model_module_version": "1.4.0",
      "model_name": "DescriptionStyleModel",
      "state": {
       "description_width": ""
      }
     },
     "79c140cf120042f594e498fdd6d5b1a4": {
      "model_module": "@jupyter-widgets/controls",
      "model_module_version": "1.4.0",
      "model_name": "IntProgressModel",
      "state": {
       "bar_style": "danger",
       "layout": "IPY_MODEL_932bb6a1fb5741a795ce913212e693f1",
       "style": "IPY_MODEL_eaeca7c76afa4ea5a85fa59f3a9a8d4b"
      }
     },
     "79e2491e1f7d4c409fa0db77e2e8f4a8": {
      "model_module": "@jupyter-widgets/controls",
      "model_module_version": "1.4.0",
      "model_name": "ProgressStyleModel",
      "state": {
       "description_width": ""
      }
     },
     "7b52bfd2f4614018ab784ef3ccdca85e": {
      "model_module": "@jupyter-widgets/controls",
      "model_module_version": "1.4.0",
      "model_name": "DescriptionStyleModel",
      "state": {
       "description_width": ""
      }
     },
     "7ba07398bb77442886dc24f47ee1cd2e": {
      "model_module": "@jupyter-widgets/base",
      "model_module_version": "1.1.0",
      "model_name": "LayoutModel",
      "state": {}
     },
     "7c6661b04f3e46b7a6b9b5ec69a97d1b": {
      "model_module": "@jupyter-widgets/base",
      "model_module_version": "1.1.0",
      "model_name": "LayoutModel",
      "state": {}
     },
     "7c727dc4297c4d47b87d57681b6ff561": {
      "model_module": "@jupyter-widgets/base",
      "model_module_version": "1.1.0",
      "model_name": "LayoutModel",
      "state": {}
     },
     "7cf58432543c4907bfc7ebb9c8dff3ec": {
      "model_module": "@jupyter-widgets/controls",
      "model_module_version": "1.4.0",
      "model_name": "HBoxModel",
      "state": {
       "children": [
        "IPY_MODEL_b4ca1b9c6747421698f5b4e76c40aadf",
        "IPY_MODEL_6fde06e842d044efbd00ec7d8722a71b"
       ],
       "layout": "IPY_MODEL_32c1e61e13ed412f8638eaa68d177ca6"
      }
     },
     "7d409c1ca10d45f6ab0f1af9dd58d7ca": {
      "model_module": "@jupyter-widgets/controls",
      "model_module_version": "1.4.0",
      "model_name": "HBoxModel",
      "state": {
       "children": [
        "IPY_MODEL_3b74b7077eae4492a063b65af9671700",
        "IPY_MODEL_ba413581be9b4531a29eadf4e31bd911"
       ],
       "layout": "IPY_MODEL_5673614805ae4ae99cb752879ab19bb0"
      }
     },
     "7d95f8ad0bd04198adeb42d3cb4ea925": {
      "model_module": "@jupyter-widgets/controls",
      "model_module_version": "1.4.0",
      "model_name": "DescriptionStyleModel",
      "state": {
       "description_width": ""
      }
     },
     "7dd294775536467ebbc8cdb13bb80f48": {
      "model_module": "@jupyter-widgets/base",
      "model_module_version": "1.1.0",
      "model_name": "LayoutModel",
      "state": {}
     },
     "7de79c208ca94ebfa4022947b9d652c6": {
      "model_module": "@jupyter-widgets/base",
      "model_module_version": "1.1.0",
      "model_name": "LayoutModel",
      "state": {}
     },
     "7e4eb68b517341e3b9b3bc67ef3a0fa5": {
      "model_module": "@jupyter-widgets/base",
      "model_module_version": "1.1.0",
      "model_name": "LayoutModel",
      "state": {}
     },
     "7e5153b322e04bcf88a546d87dcf994e": {
      "model_module": "@jupyter-widgets/controls",
      "model_module_version": "1.4.0",
      "model_name": "HBoxModel",
      "state": {
       "children": [
        "IPY_MODEL_193bcf87d0554cd8a51ef5b23da14af5",
        "IPY_MODEL_67a6efe9f44c4ca0973d29e51a9b4a7f"
       ],
       "layout": "IPY_MODEL_8a7823c2804f452b82ed0577119bdd39"
      }
     },
     "7ec06598dca14a86ab7f52b697fc072e": {
      "model_module": "@jupyter-widgets/base",
      "model_module_version": "1.1.0",
      "model_name": "LayoutModel",
      "state": {}
     },
     "7f19a4ce498a43148a6b5553dad249d6": {
      "model_module": "@jupyter-widgets/base",
      "model_module_version": "1.1.0",
      "model_name": "LayoutModel",
      "state": {}
     },
     "7f8dd5aaf9a443e49a1f76bb9ac305b6": {
      "model_module": "@jupyter-widgets/controls",
      "model_module_version": "1.4.0",
      "model_name": "HTMLModel",
      "state": {
       "layout": "IPY_MODEL_93b79158cb0c4325bf9178b8e6fab772",
       "style": "IPY_MODEL_909ecc66b27047f880374c9728c090a5",
       "value": "  0% 0/100 [00:00&lt;?, ?it/s]"
      }
     },
     "7fae2fe467bc4a96b676103cc52ff245": {
      "model_module": "@jupyter-widgets/base",
      "model_module_version": "1.1.0",
      "model_name": "LayoutModel",
      "state": {}
     },
     "7ff530cc260a40498590a3d773a6a45f": {
      "model_module": "@jupyter-widgets/base",
      "model_module_version": "1.1.0",
      "model_name": "LayoutModel",
      "state": {}
     },
     "800f39c067d949e692fb2774b217f80d": {
      "model_module": "@jupyter-widgets/controls",
      "model_module_version": "1.4.0",
      "model_name": "HBoxModel",
      "state": {
       "children": [
        "IPY_MODEL_f6fce4982a594e618b14a7fd3b65b47e",
        "IPY_MODEL_82878edd16e8420c991de22006078293"
       ],
       "layout": "IPY_MODEL_eacce04fef44417a9eee710bcf630e47"
      }
     },
     "80af5621774e42da8bf799e7db31b41d": {
      "model_module": "@jupyter-widgets/base",
      "model_module_version": "1.1.0",
      "model_name": "LayoutModel",
      "state": {}
     },
     "80bcc87af2fe4bffae201a4221fd4e3f": {
      "model_module": "@jupyter-widgets/controls",
      "model_module_version": "1.4.0",
      "model_name": "ProgressStyleModel",
      "state": {
       "description_width": ""
      }
     },
     "80c40c4202a242d58f0003ae1f7683d2": {
      "model_module": "@jupyter-widgets/base",
      "model_module_version": "1.1.0",
      "model_name": "LayoutModel",
      "state": {}
     },
     "80d19c4b7c6b4336954d7b78e403d7f0": {
      "model_module": "@jupyter-widgets/controls",
      "model_module_version": "1.4.0",
      "model_name": "HBoxModel",
      "state": {
       "children": [
        "IPY_MODEL_e4b39551500a46d9a0c39acaee034b0b",
        "IPY_MODEL_ae9cf2dd64754942bebb96730f1de75e"
       ],
       "layout": "IPY_MODEL_1ab69c4888f24a2792d0d5b4a6c45bd7"
      }
     },
     "81d2aba73ba44e4e94da9e49317c448b": {
      "model_module": "@jupyter-widgets/controls",
      "model_module_version": "1.4.0",
      "model_name": "HTMLModel",
      "state": {
       "layout": "IPY_MODEL_21aa0de3bf304f84923e51d225154ab9",
       "style": "IPY_MODEL_9437cdeb1b244423ac33d44f803e1c6e",
       "value": "  0% 0/100 [00:00&lt;?, ?it/s]"
      }
     },
     "8258913f3dce44debcb87483272b7e7d": {
      "model_module": "@jupyter-widgets/controls",
      "model_module_version": "1.4.0",
      "model_name": "DescriptionStyleModel",
      "state": {
       "description_width": ""
      }
     },
     "82878edd16e8420c991de22006078293": {
      "model_module": "@jupyter-widgets/controls",
      "model_module_version": "1.4.0",
      "model_name": "HTMLModel",
      "state": {
       "layout": "IPY_MODEL_72df37cce9214ac796ac423a985647bf",
       "style": "IPY_MODEL_cddbde470d7b4fa9931b1f146829519d",
       "value": "100% 50/50 [08:23&lt;00:00, 10.17s/it]"
      }
     },
     "8296dfd444a3404b9ef1050e46e72c41": {
      "model_module": "@jupyter-widgets/controls",
      "model_module_version": "1.4.0",
      "model_name": "DescriptionStyleModel",
      "state": {
       "description_width": ""
      }
     },
     "876ead46edf3418eb4cf05a13796b255": {
      "model_module": "@jupyter-widgets/base",
      "model_module_version": "1.1.0",
      "model_name": "LayoutModel",
      "state": {}
     },
     "87cd936bd6a34ec09eae6747b004f505": {
      "model_module": "@jupyter-widgets/controls",
      "model_module_version": "1.4.0",
      "model_name": "HBoxModel",
      "state": {
       "children": [
        "IPY_MODEL_b357a529d34e460b8fc70ffb381a9451",
        "IPY_MODEL_41a09739581b46948b1352539a460bd3"
       ],
       "layout": "IPY_MODEL_2dbd0bac47934909907f79d157edb210"
      }
     },
     "8848b1a0aafe49479ed1cedad8dda1d0": {
      "model_module": "@jupyter-widgets/controls",
      "model_module_version": "1.4.0",
      "model_name": "IntProgressModel",
      "state": {
       "bar_style": "danger",
       "layout": "IPY_MODEL_2699cbde143a44239feac7cb2202b145",
       "style": "IPY_MODEL_4c4df4d20014459f8a2753d0dea0a5df"
      }
     },
     "888c4cad835c4b018bf8ead0e8e69d3e": {
      "model_module": "@jupyter-widgets/controls",
      "model_module_version": "1.4.0",
      "model_name": "HTMLModel",
      "state": {
       "layout": "IPY_MODEL_fb8367fb662743bda0155f20da4ed488",
       "style": "IPY_MODEL_3518495e8e8948fdb1d21ed13b83b848",
       "value": "  0% 0/100 [00:00&lt;?, ?it/s]"
      }
     },
     "896c3e5ebcbb449e88ea583d76aaf550": {
      "model_module": "@jupyter-widgets/base",
      "model_module_version": "1.1.0",
      "model_name": "LayoutModel",
      "state": {}
     },
     "89d3564ec9954d51bc39c66570ce2587": {
      "model_module": "@jupyter-widgets/controls",
      "model_module_version": "1.4.0",
      "model_name": "IntProgressModel",
      "state": {
       "bar_style": "danger",
       "layout": "IPY_MODEL_1ce0b14b65454a698f6c265b2489df69",
       "style": "IPY_MODEL_966ff9deb46044c88e69fca6f3a276a7",
       "value": 8
      }
     },
     "8a0ae6b901a84e6d9f1385a9ead1891e": {
      "model_module": "@jupyter-widgets/base",
      "model_module_version": "1.1.0",
      "model_name": "LayoutModel",
      "state": {}
     },
     "8a7823c2804f452b82ed0577119bdd39": {
      "model_module": "@jupyter-widgets/base",
      "model_module_version": "1.1.0",
      "model_name": "LayoutModel",
      "state": {}
     },
     "8ac594f4d86144c7b9fb3850c333b7be": {
      "model_module": "@jupyter-widgets/controls",
      "model_module_version": "1.4.0",
      "model_name": "HTMLModel",
      "state": {
       "layout": "IPY_MODEL_42311b90a5474f358ca2cedeb6a916f9",
       "style": "IPY_MODEL_ce8c907139b745b1894e02acd4963425",
       "value": "100% 100/100 [02:28&lt;00:00,  1.50s/it]"
      }
     },
     "8adb4be8196f4b449146168cf6a94a2e": {
      "model_module": "@jupyter-widgets/base",
      "model_module_version": "1.1.0",
      "model_name": "LayoutModel",
      "state": {}
     },
     "8c87580fe1984195b49109146ef9d1b8": {
      "model_module": "@jupyter-widgets/controls",
      "model_module_version": "1.4.0",
      "model_name": "DescriptionStyleModel",
      "state": {
       "description_width": ""
      }
     },
     "8ce864c82f964899802397a5a4a95049": {
      "model_module": "@jupyter-widgets/controls",
      "model_module_version": "1.4.0",
      "model_name": "DescriptionStyleModel",
      "state": {
       "description_width": ""
      }
     },
     "8cf4f329da7947538b74c00147bd1b3b": {
      "model_module": "@jupyter-widgets/base",
      "model_module_version": "1.1.0",
      "model_name": "LayoutModel",
      "state": {}
     },
     "8cfb3fd6903440a6a5e74f70d6058a8f": {
      "model_module": "@jupyter-widgets/controls",
      "model_module_version": "1.4.0",
      "model_name": "ProgressStyleModel",
      "state": {
       "description_width": ""
      }
     },
     "8ddc06869d414cb5bfb04af0151a49e1": {
      "model_module": "@jupyter-widgets/base",
      "model_module_version": "1.1.0",
      "model_name": "LayoutModel",
      "state": {}
     },
     "8e09f498d06a4572967dc83fb74670c9": {
      "model_module": "@jupyter-widgets/controls",
      "model_module_version": "1.4.0",
      "model_name": "IntProgressModel",
      "state": {
       "bar_style": "danger",
       "layout": "IPY_MODEL_be97b0407adb4686b4685209d247ad85",
       "style": "IPY_MODEL_3133732c8b0b422a9d659d0ccb20f30e"
      }
     },
     "8f46bce3dc784a45ba87d5b7867385c6": {
      "model_module": "@jupyter-widgets/controls",
      "model_module_version": "1.4.0",
      "model_name": "HTMLModel",
      "state": {
       "layout": "IPY_MODEL_4ad1eea1bb9844e783c5efcc4c818cce",
       "style": "IPY_MODEL_799cba16bf454c1cb5b46f46cea13126",
       "value": "100% 10/10 [01:11&lt;00:00,  7.16s/it]"
      }
     },
     "8fc7c794d4e14d02bcd79f337956984b": {
      "model_module": "@jupyter-widgets/controls",
      "model_module_version": "1.4.0",
      "model_name": "HBoxModel",
      "state": {
       "children": [
        "IPY_MODEL_510f137f762147929d26d75fd87732e9",
        "IPY_MODEL_3f73ac6f1ca64f61bbb75b430b1b14a5"
       ],
       "layout": "IPY_MODEL_032ad174185f4afab00aabc77f3528f1"
      }
     },
     "909ecc66b27047f880374c9728c090a5": {
      "model_module": "@jupyter-widgets/controls",
      "model_module_version": "1.4.0",
      "model_name": "DescriptionStyleModel",
      "state": {
       "description_width": ""
      }
     },
     "910367f0c15a40d8b9f9374a078341bf": {
      "model_module": "@jupyter-widgets/controls",
      "model_module_version": "1.4.0",
      "model_name": "HTMLModel",
      "state": {
       "layout": "IPY_MODEL_07b58e3901d54bd6b71d16cdf242b948",
       "style": "IPY_MODEL_bcef9d73ca5c42ba9c68454d21090d4d",
       "value": "  0% 0/100 [00:00&lt;?, ?it/s]"
      }
     },
     "91eb0c33f5fc4573ab96aa58b07d4836": {
      "model_module": "@jupyter-widgets/controls",
      "model_module_version": "1.4.0",
      "model_name": "HBoxModel",
      "state": {
       "children": [
        "IPY_MODEL_78d133e19fef454094f36016b8a7e95c",
        "IPY_MODEL_d778f46b38e64290b40115711e832c6b"
       ],
       "layout": "IPY_MODEL_1867c80449704f209ef5ec0401514fb7"
      }
     },
     "922c92f562cb45508f654c9a26ab7b56": {
      "model_module": "@jupyter-widgets/controls",
      "model_module_version": "1.4.0",
      "model_name": "HTMLModel",
      "state": {
       "layout": "IPY_MODEL_b59f4a2781ab4e57a82b09bdfb9c35be",
       "style": "IPY_MODEL_f5909c6573564be89a3e411271af7848",
       "value": "  7% 7/100 [00:10&lt;02:19,  1.50s/it]"
      }
     },
     "9244a4b6df044807941053a9e40ec4b2": {
      "model_module": "@jupyter-widgets/controls",
      "model_module_version": "1.4.0",
      "model_name": "DescriptionStyleModel",
      "state": {
       "description_width": ""
      }
     },
     "92642286270a463d96f96d97997377b2": {
      "model_module": "@jupyter-widgets/base",
      "model_module_version": "1.1.0",
      "model_name": "LayoutModel",
      "state": {}
     },
     "927b413d4db5417f9c9c4dc925985f86": {
      "model_module": "@jupyter-widgets/base",
      "model_module_version": "1.1.0",
      "model_name": "LayoutModel",
      "state": {}
     },
     "932bb6a1fb5741a795ce913212e693f1": {
      "model_module": "@jupyter-widgets/base",
      "model_module_version": "1.1.0",
      "model_name": "LayoutModel",
      "state": {}
     },
     "93b79158cb0c4325bf9178b8e6fab772": {
      "model_module": "@jupyter-widgets/base",
      "model_module_version": "1.1.0",
      "model_name": "LayoutModel",
      "state": {}
     },
     "94232ea8b12641689970ab6ad7b34094": {
      "model_module": "@jupyter-widgets/controls",
      "model_module_version": "1.4.0",
      "model_name": "ProgressStyleModel",
      "state": {
       "description_width": ""
      }
     },
     "9437cdeb1b244423ac33d44f803e1c6e": {
      "model_module": "@jupyter-widgets/controls",
      "model_module_version": "1.4.0",
      "model_name": "DescriptionStyleModel",
      "state": {
       "description_width": ""
      }
     },
     "9448a8723e284129ac52aeba903b47a9": {
      "model_module": "@jupyter-widgets/controls",
      "model_module_version": "1.4.0",
      "model_name": "DescriptionStyleModel",
      "state": {
       "description_width": ""
      }
     },
     "9564cd21b8e34b70a715f176cbefa6ab": {
      "model_module": "@jupyter-widgets/controls",
      "model_module_version": "1.4.0",
      "model_name": "ProgressStyleModel",
      "state": {
       "description_width": ""
      }
     },
     "961eb7c8a3d044a3a00091e0ba321530": {
      "model_module": "@jupyter-widgets/base",
      "model_module_version": "1.1.0",
      "model_name": "LayoutModel",
      "state": {}
     },
     "962f50641b924c7480d9b439f22f00e6": {
      "model_module": "@jupyter-widgets/controls",
      "model_module_version": "1.4.0",
      "model_name": "HBoxModel",
      "state": {
       "children": [
        "IPY_MODEL_650df31c4be747fe88f6fc56194ab98a",
        "IPY_MODEL_08d53edf54504dd9989b69df19b6e43c"
       ],
       "layout": "IPY_MODEL_9c8cdb2dbfbb4727ac74f811f183ea3e"
      }
     },
     "9651cb9824ab469abcfdf276ad4fbe32": {
      "model_module": "@jupyter-widgets/controls",
      "model_module_version": "1.4.0",
      "model_name": "DescriptionStyleModel",
      "state": {
       "description_width": ""
      }
     },
     "966ff9deb46044c88e69fca6f3a276a7": {
      "model_module": "@jupyter-widgets/controls",
      "model_module_version": "1.4.0",
      "model_name": "ProgressStyleModel",
      "state": {
       "description_width": ""
      }
     },
     "96d5584f7f07478fb20230b51c4784bc": {
      "model_module": "@jupyter-widgets/base",
      "model_module_version": "1.1.0",
      "model_name": "LayoutModel",
      "state": {}
     },
     "9738a7f3a1314efcbfaa5507464d3bd2": {
      "model_module": "@jupyter-widgets/base",
      "model_module_version": "1.1.0",
      "model_name": "LayoutModel",
      "state": {}
     },
     "97d276d28b9d45a49bec099271a0504b": {
      "model_module": "@jupyter-widgets/controls",
      "model_module_version": "1.4.0",
      "model_name": "IntProgressModel",
      "state": {
       "bar_style": "danger",
       "layout": "IPY_MODEL_df3f485e3c454a6998c939cd9b35660a",
       "style": "IPY_MODEL_c70b02bb3790475e88ee3b0a791fa72d"
      }
     },
     "97e68dc3a9cb4508b79970df39b33be3": {
      "model_module": "@jupyter-widgets/controls",
      "model_module_version": "1.4.0",
      "model_name": "HTMLModel",
      "state": {
       "layout": "IPY_MODEL_3df50e251d704720945eebbbac7be770",
       "style": "IPY_MODEL_6c30f4c00bff4e27bd1dddbb29b4009a",
       "value": "  1% 1/100 [00:10&lt;16:57, 10.28s/it]"
      }
     },
     "98b4a2db654141c9b4d198aaf5489fd6": {
      "model_module": "@jupyter-widgets/controls",
      "model_module_version": "1.4.0",
      "model_name": "DescriptionStyleModel",
      "state": {
       "description_width": ""
      }
     },
     "99b62c64a7024f5f84f2d9096ce1f8c3": {
      "model_module": "@jupyter-widgets/controls",
      "model_module_version": "1.4.0",
      "model_name": "ProgressStyleModel",
      "state": {
       "description_width": ""
      }
     },
     "9aaf9fe4bace467dba1a054ba9d482b3": {
      "model_module": "@jupyter-widgets/controls",
      "model_module_version": "1.4.0",
      "model_name": "DescriptionStyleModel",
      "state": {
       "description_width": ""
      }
     },
     "9afa366c37464a3e87475da241f53850": {
      "model_module": "@jupyter-widgets/base",
      "model_module_version": "1.1.0",
      "model_name": "LayoutModel",
      "state": {}
     },
     "9c5d100f00c94fff9417d8a05693ce1b": {
      "model_module": "@jupyter-widgets/controls",
      "model_module_version": "1.4.0",
      "model_name": "DescriptionStyleModel",
      "state": {
       "description_width": ""
      }
     },
     "9c614a59c76946dd95858fa4d4b24091": {
      "model_module": "@jupyter-widgets/base",
      "model_module_version": "1.1.0",
      "model_name": "LayoutModel",
      "state": {}
     },
     "9c8cdb2dbfbb4727ac74f811f183ea3e": {
      "model_module": "@jupyter-widgets/base",
      "model_module_version": "1.1.0",
      "model_name": "LayoutModel",
      "state": {}
     },
     "9ca55d55d25f47f1aec6ee5c19473e8c": {
      "model_module": "@jupyter-widgets/controls",
      "model_module_version": "1.4.0",
      "model_name": "DescriptionStyleModel",
      "state": {
       "description_width": ""
      }
     },
     "9ce6cf11e1fb4b979708ce8ed2a5b6ce": {
      "model_module": "@jupyter-widgets/base",
      "model_module_version": "1.1.0",
      "model_name": "LayoutModel",
      "state": {}
     },
     "9d4dad677f924ab5a5f5926c86638dec": {
      "model_module": "@jupyter-widgets/controls",
      "model_module_version": "1.4.0",
      "model_name": "DescriptionStyleModel",
      "state": {
       "description_width": ""
      }
     },
     "9d892fbcc99744c9beccba1b7576b243": {
      "model_module": "@jupyter-widgets/controls",
      "model_module_version": "1.4.0",
      "model_name": "DescriptionStyleModel",
      "state": {
       "description_width": ""
      }
     },
     "9dc84e19744b4cf6ae0c78a626318403": {
      "model_module": "@jupyter-widgets/controls",
      "model_module_version": "1.4.0",
      "model_name": "DescriptionStyleModel",
      "state": {
       "description_width": ""
      }
     },
     "9f18acadf58a474db6c1dd72c59da80f": {
      "model_module": "@jupyter-widgets/controls",
      "model_module_version": "1.4.0",
      "model_name": "ProgressStyleModel",
      "state": {
       "description_width": ""
      }
     },
     "a2c1452f424e495e9b093d9ab88109e7": {
      "model_module": "@jupyter-widgets/controls",
      "model_module_version": "1.4.0",
      "model_name": "IntProgressModel",
      "state": {
       "bar_style": "danger",
       "layout": "IPY_MODEL_3ba5477929e446c0bfc6a6952389faf0",
       "style": "IPY_MODEL_3ec9f2971f054b54af3649e949e75cae"
      }
     },
     "a3295db2e0484c4fbc111d2fb924304c": {
      "model_module": "@jupyter-widgets/controls",
      "model_module_version": "1.4.0",
      "model_name": "ProgressStyleModel",
      "state": {
       "description_width": ""
      }
     },
     "a34a01bcba4140d4bd9788c22376876a": {
      "model_module": "@jupyter-widgets/base",
      "model_module_version": "1.1.0",
      "model_name": "LayoutModel",
      "state": {}
     },
     "a36082d38c8c49f9b2a75becb111463f": {
      "model_module": "@jupyter-widgets/base",
      "model_module_version": "1.1.0",
      "model_name": "LayoutModel",
      "state": {}
     },
     "a3fd9da3dbdb4ee7a960a4248d37a407": {
      "model_module": "@jupyter-widgets/base",
      "model_module_version": "1.1.0",
      "model_name": "LayoutModel",
      "state": {}
     },
     "a4485ea5ec464cfcb82798ee3d6f96fd": {
      "model_module": "@jupyter-widgets/controls",
      "model_module_version": "1.4.0",
      "model_name": "HTMLModel",
      "state": {
       "layout": "IPY_MODEL_961eb7c8a3d044a3a00091e0ba321530",
       "style": "IPY_MODEL_9d892fbcc99744c9beccba1b7576b243",
       "value": "  0% 0/100 [00:00&lt;?, ?it/s]"
      }
     },
     "a4b301229553450f9c98dcd4f658c4a8": {
      "model_module": "@jupyter-widgets/base",
      "model_module_version": "1.1.0",
      "model_name": "LayoutModel",
      "state": {}
     },
     "a4dcf677fffb49149157ba8ad4df9396": {
      "model_module": "@jupyter-widgets/controls",
      "model_module_version": "1.4.0",
      "model_name": "ProgressStyleModel",
      "state": {
       "description_width": ""
      }
     },
     "a533bced06864094a803f41290b325e6": {
      "model_module": "@jupyter-widgets/controls",
      "model_module_version": "1.4.0",
      "model_name": "IntProgressModel",
      "state": {
       "bar_style": "danger",
       "layout": "IPY_MODEL_96d5584f7f07478fb20230b51c4784bc",
       "style": "IPY_MODEL_05a39fc4f5bb476f8b8c7652f9c59d19"
      }
     },
     "a53cde7a91a14acb97e8e10dfabe7f75": {
      "model_module": "@jupyter-widgets/base",
      "model_module_version": "1.1.0",
      "model_name": "LayoutModel",
      "state": {}
     },
     "a66973a034fd48a2bb90ed25bce16902": {
      "model_module": "@jupyter-widgets/controls",
      "model_module_version": "1.4.0",
      "model_name": "HTMLModel",
      "state": {
       "layout": "IPY_MODEL_efbee07d70494d63a9310f4eabda2ecf",
       "style": "IPY_MODEL_09cc0f6bfe58482eb7c356dcf6b1d9e6",
       "value": "  0% 0/100 [00:00&lt;?, ?it/s]"
      }
     },
     "a6f62d1901004e79ad0168a014665999": {
      "model_module": "@jupyter-widgets/controls",
      "model_module_version": "1.4.0",
      "model_name": "DescriptionStyleModel",
      "state": {
       "description_width": ""
      }
     },
     "a759a6bd8a4a45e7bf9a2310cdad9a0f": {
      "model_module": "@jupyter-widgets/controls",
      "model_module_version": "1.4.0",
      "model_name": "DescriptionStyleModel",
      "state": {
       "description_width": ""
      }
     },
     "a81df9e8fee044ebae020f581be84d81": {
      "model_module": "@jupyter-widgets/base",
      "model_module_version": "1.1.0",
      "model_name": "LayoutModel",
      "state": {}
     },
     "a856f0327ff94ec7b785f8f4f6642f66": {
      "model_module": "@jupyter-widgets/controls",
      "model_module_version": "1.4.0",
      "model_name": "HBoxModel",
      "state": {
       "children": [
        "IPY_MODEL_276fb07ea2dd42b498047c54fca38f4c",
        "IPY_MODEL_2750bd840c374f6eb031149a9480a7a8"
       ],
       "layout": "IPY_MODEL_adaa6d3f7eb447aebd73464764a594af"
      }
     },
     "a8894a7864bc440dbcbc0a3d2914e6b6": {
      "model_module": "@jupyter-widgets/base",
      "model_module_version": "1.1.0",
      "model_name": "LayoutModel",
      "state": {}
     },
     "a88e248626fa4f689a54589360f637d2": {
      "model_module": "@jupyter-widgets/base",
      "model_module_version": "1.1.0",
      "model_name": "LayoutModel",
      "state": {}
     },
     "a8a4cf30fd19423cbb5260b5f5d4b43f": {
      "model_module": "@jupyter-widgets/base",
      "model_module_version": "1.1.0",
      "model_name": "LayoutModel",
      "state": {}
     },
     "a8b9983d42a540aa80ce18379b70d47d": {
      "model_module": "@jupyter-widgets/controls",
      "model_module_version": "1.4.0",
      "model_name": "HTMLModel",
      "state": {
       "layout": "IPY_MODEL_45ccf8d885544c248c8c5a2aec20b630",
       "style": "IPY_MODEL_c5c2db3ebb634dd6b956a76455857481",
       "value": " 30% 59/200 [01:15&lt;03:01,  1.29s/it]"
      }
     },
     "a93859eb79c14a7eb0df91abb27d5fe5": {
      "model_module": "@jupyter-widgets/controls",
      "model_module_version": "1.4.0",
      "model_name": "HTMLModel",
      "state": {
       "layout": "IPY_MODEL_207a2c93f5c44512979963819d9b1b86",
       "style": "IPY_MODEL_3b71e57276c249ada03f89d7c15f9137",
       "value": "  4% 8/200 [00:11&lt;04:43,  1.48s/it]"
      }
     },
     "aaad4606b70b48259d16ab3a63998f8c": {
      "model_module": "@jupyter-widgets/controls",
      "model_module_version": "1.4.0",
      "model_name": "HTMLModel",
      "state": {
       "layout": "IPY_MODEL_0bab92a5c4624b6cb318beda1dbbae44",
       "style": "IPY_MODEL_bc4a410888e04466a9f53b3c5d2ae522",
       "value": " 28% 28/100 [01:38&lt;04:13,  3.52s/it]"
      }
     },
     "ab2c2a74da264f76b62aa22685a73b06": {
      "model_module": "@jupyter-widgets/base",
      "model_module_version": "1.1.0",
      "model_name": "LayoutModel",
      "state": {}
     },
     "ac049fd51dd048838bb30cc4a5155ea4": {
      "model_module": "@jupyter-widgets/base",
      "model_module_version": "1.1.0",
      "model_name": "LayoutModel",
      "state": {}
     },
     "ac43f9d3adf94ffbaf974b6918cd1cb5": {
      "model_module": "@jupyter-widgets/base",
      "model_module_version": "1.1.0",
      "model_name": "LayoutModel",
      "state": {}
     },
     "aca36b58ed1147a09295bb6ffbfc4bf4": {
      "model_module": "@jupyter-widgets/controls",
      "model_module_version": "1.4.0",
      "model_name": "HBoxModel",
      "state": {
       "children": [
        "IPY_MODEL_b18c4027b0184ecb83ac085212a79145",
        "IPY_MODEL_3b24c387358e4330ad6105d54cda4216"
       ],
       "layout": "IPY_MODEL_7ec06598dca14a86ab7f52b697fc072e"
      }
     },
     "acc65e4b2fe7472c8b14ad625898cbec": {
      "model_module": "@jupyter-widgets/base",
      "model_module_version": "1.1.0",
      "model_name": "LayoutModel",
      "state": {}
     },
     "ad52cc36e52a4350bb689d33bb9004e5": {
      "model_module": "@jupyter-widgets/controls",
      "model_module_version": "1.4.0",
      "model_name": "IntProgressModel",
      "state": {
       "bar_style": "danger",
       "layout": "IPY_MODEL_63e23daad3754a329408958a39a25506",
       "style": "IPY_MODEL_0f71507ef91f4076985d6584c4c946de",
       "value": 2
      }
     },
     "ad53198bc5814aa484f9d379a316aeb7": {
      "model_module": "@jupyter-widgets/controls",
      "model_module_version": "1.4.0",
      "model_name": "HBoxModel",
      "state": {
       "children": [
        "IPY_MODEL_40334eaf819a4b3c84266854413138fe",
        "IPY_MODEL_f2897a016ee943b6a41082115f3b1cca"
       ],
       "layout": "IPY_MODEL_b4658b23f0454bfa810a08e21ab8dfad"
      }
     },
     "adaa6d3f7eb447aebd73464764a594af": {
      "model_module": "@jupyter-widgets/base",
      "model_module_version": "1.1.0",
      "model_name": "LayoutModel",
      "state": {}
     },
     "adbb99bc9ac34026a8b55bdc53480e82": {
      "model_module": "@jupyter-widgets/base",
      "model_module_version": "1.1.0",
      "model_name": "LayoutModel",
      "state": {}
     },
     "ae208ecc4c0e49a881ac3a19b6c62be2": {
      "model_module": "@jupyter-widgets/controls",
      "model_module_version": "1.4.0",
      "model_name": "HTMLModel",
      "state": {
       "layout": "IPY_MODEL_52fc17e3de9e41cb8e71475e0d817c3c",
       "style": "IPY_MODEL_52709cd44f424c71a642603737d3e056",
       "value": "100% 100/100 [02:13&lt;00:00,  1.25s/it]"
      }
     },
     "ae5906f563c448b083e0adc7e46a1b50": {
      "model_module": "@jupyter-widgets/controls",
      "model_module_version": "1.4.0",
      "model_name": "HBoxModel",
      "state": {
       "children": [
        "IPY_MODEL_711a6ac06db4480183af79259ca8e346",
        "IPY_MODEL_fc95fb767c68496d80b7dc6d5e0ff628"
       ],
       "layout": "IPY_MODEL_6d3c3ecdf565487ebfa489770e371a4f"
      }
     },
     "ae9cf2dd64754942bebb96730f1de75e": {
      "model_module": "@jupyter-widgets/controls",
      "model_module_version": "1.4.0",
      "model_name": "HTMLModel",
      "state": {
       "layout": "IPY_MODEL_53b1fb9b37de4781b3c9520c6e2b6ba5",
       "style": "IPY_MODEL_8258913f3dce44debcb87483272b7e7d",
       "value": "  0% 0/100 [00:00&lt;?, ?it/s]"
      }
     },
     "af88fd487ba841a488da5082f4e16790": {
      "model_module": "@jupyter-widgets/controls",
      "model_module_version": "1.4.0",
      "model_name": "ProgressStyleModel",
      "state": {
       "description_width": ""
      }
     },
     "afb649eb88ed4dbe84719bb3860bc9fd": {
      "model_module": "@jupyter-widgets/controls",
      "model_module_version": "1.4.0",
      "model_name": "IntProgressModel",
      "state": {
       "bar_style": "danger",
       "layout": "IPY_MODEL_80af5621774e42da8bf799e7db31b41d",
       "style": "IPY_MODEL_79e2491e1f7d4c409fa0db77e2e8f4a8"
      }
     },
     "afda2d2436654304886ff29de25c1c9b": {
      "model_module": "@jupyter-widgets/controls",
      "model_module_version": "1.4.0",
      "model_name": "HTMLModel",
      "state": {
       "layout": "IPY_MODEL_dbb3e2e0e9b5474b8ba62b373c39dfa8",
       "style": "IPY_MODEL_6bcfbc964da9464b91da677a1a1790ca",
       "value": "  0% 0/100 [00:00&lt;?, ?it/s]"
      }
     },
     "aff02920678f4944b7cad91f9cdfedc7": {
      "model_module": "@jupyter-widgets/controls",
      "model_module_version": "1.4.0",
      "model_name": "HTMLModel",
      "state": {
       "layout": "IPY_MODEL_54608d90c3d94fac8f3cddb292d7baf8",
       "style": "IPY_MODEL_8c87580fe1984195b49109146ef9d1b8",
       "value": "  4% 4/100 [00:11&lt;04:40,  2.93s/it]"
      }
     },
     "b10e7d726a754be7af1dd22e817acc95": {
      "model_module": "@jupyter-widgets/base",
      "model_module_version": "1.1.0",
      "model_name": "LayoutModel",
      "state": {}
     },
     "b15b30a8536844ebab17bb214abb0ddc": {
      "model_module": "@jupyter-widgets/controls",
      "model_module_version": "1.4.0",
      "model_name": "HTMLModel",
      "state": {
       "layout": "IPY_MODEL_e5b02317d3dd45d18c7430cb4e75b09f",
       "style": "IPY_MODEL_9651cb9824ab469abcfdf276ad4fbe32",
       "value": "  4% 4/100 [00:11&lt;04:46,  2.98s/it]"
      }
     },
     "b18c4027b0184ecb83ac085212a79145": {
      "model_module": "@jupyter-widgets/controls",
      "model_module_version": "1.4.0",
      "model_name": "IntProgressModel",
      "state": {
       "bar_style": "danger",
       "layout": "IPY_MODEL_7ba07398bb77442886dc24f47ee1cd2e",
       "style": "IPY_MODEL_f894c1e8b7734ff494e39c8ef68cfb15"
      }
     },
     "b1b970a2f9124a8caa7dee29a755b966": {
      "model_module": "@jupyter-widgets/controls",
      "model_module_version": "1.4.0",
      "model_name": "HBoxModel",
      "state": {
       "children": [
        "IPY_MODEL_b2b899e1423740489879ab599991a347",
        "IPY_MODEL_aaad4606b70b48259d16ab3a63998f8c"
       ],
       "layout": "IPY_MODEL_79832e80b5ba4486bd0b19f70929c43b"
      }
     },
     "b21f32e5fd1f4048a09083f921b99e89": {
      "model_module": "@jupyter-widgets/base",
      "model_module_version": "1.1.0",
      "model_name": "LayoutModel",
      "state": {}
     },
     "b274795a10d347ecbd1b1f6c943ee87e": {
      "model_module": "@jupyter-widgets/controls",
      "model_module_version": "1.4.0",
      "model_name": "HBoxModel",
      "state": {
       "children": [
        "IPY_MODEL_25b53b56cb424041a1004c4c35690444",
        "IPY_MODEL_d519eaa34fb84cad987a62d816cb75fb"
       ],
       "layout": "IPY_MODEL_7dd294775536467ebbc8cdb13bb80f48"
      }
     },
     "b2886d67141541ebb5fe7aa020481c0e": {
      "model_module": "@jupyter-widgets/controls",
      "model_module_version": "1.4.0",
      "model_name": "HBoxModel",
      "state": {
       "children": [
        "IPY_MODEL_07e815d4e8a74c18b72e3543cf19ebe1",
        "IPY_MODEL_29bb441dfd5a46c8b2a6c8e670b442a6"
       ],
       "layout": "IPY_MODEL_a4b301229553450f9c98dcd4f658c4a8"
      }
     },
     "b2b899e1423740489879ab599991a347": {
      "model_module": "@jupyter-widgets/controls",
      "model_module_version": "1.4.0",
      "model_name": "IntProgressModel",
      "state": {
       "bar_style": "danger",
       "layout": "IPY_MODEL_7ff530cc260a40498590a3d773a6a45f",
       "style": "IPY_MODEL_b624f29cd9fe4dfe9ba04434765c9799",
       "value": 28
      }
     },
     "b357a529d34e460b8fc70ffb381a9451": {
      "model_module": "@jupyter-widgets/controls",
      "model_module_version": "1.4.0",
      "model_name": "IntProgressModel",
      "state": {
       "bar_style": "danger",
       "layout": "IPY_MODEL_39c9a642047e4b9c8f45e10d5264d5a0",
       "style": "IPY_MODEL_80bcc87af2fe4bffae201a4221fd4e3f"
      }
     },
     "b38e5d62ced647258830aa6cb9361910": {
      "model_module": "@jupyter-widgets/controls",
      "model_module_version": "1.4.0",
      "model_name": "DescriptionStyleModel",
      "state": {
       "description_width": ""
      }
     },
     "b4658b23f0454bfa810a08e21ab8dfad": {
      "model_module": "@jupyter-widgets/base",
      "model_module_version": "1.1.0",
      "model_name": "LayoutModel",
      "state": {}
     },
     "b4957bd390444204b40078a9216e66a7": {
      "model_module": "@jupyter-widgets/controls",
      "model_module_version": "1.4.0",
      "model_name": "HBoxModel",
      "state": {
       "children": [
        "IPY_MODEL_c85004dd8c5a4b638ff70b4c89a0d4c1",
        "IPY_MODEL_a93859eb79c14a7eb0df91abb27d5fe5"
       ],
       "layout": "IPY_MODEL_512212f9273649c493bd6eac2dd13046"
      }
     },
     "b4ca1b9c6747421698f5b4e76c40aadf": {
      "model_module": "@jupyter-widgets/controls",
      "model_module_version": "1.4.0",
      "model_name": "IntProgressModel",
      "state": {
       "bar_style": "danger",
       "layout": "IPY_MODEL_47ae1a945f05448bb025d6b06baf56f0",
       "style": "IPY_MODEL_fb58fe747abe445dabcdb56444a4f8a2"
      }
     },
     "b59f4a2781ab4e57a82b09bdfb9c35be": {
      "model_module": "@jupyter-widgets/base",
      "model_module_version": "1.1.0",
      "model_name": "LayoutModel",
      "state": {}
     },
     "b624f29cd9fe4dfe9ba04434765c9799": {
      "model_module": "@jupyter-widgets/controls",
      "model_module_version": "1.4.0",
      "model_name": "ProgressStyleModel",
      "state": {
       "description_width": ""
      }
     },
     "b6bda0f2112a4c5da31d2bb558e076db": {
      "model_module": "@jupyter-widgets/controls",
      "model_module_version": "1.4.0",
      "model_name": "HBoxModel",
      "state": {
       "children": [
        "IPY_MODEL_4f0a12988ab1442e94a70770711ee935",
        "IPY_MODEL_64bad229d63e43a7b7318863707627dd"
       ],
       "layout": "IPY_MODEL_3a4efc6cfd72470fb474b386ab398132"
      }
     },
     "b6fce08b3de84bfcbf3af8d57ba87386": {
      "model_module": "@jupyter-widgets/controls",
      "model_module_version": "1.4.0",
      "model_name": "HTMLModel",
      "state": {
       "layout": "IPY_MODEL_3cf3218237864431bc1b0f9276ecd0fd",
       "style": "IPY_MODEL_ce137dc0b9cd4673923b0a2716dbaa7b",
       "value": "  0% 0/100 [00:00&lt;?, ?it/s]"
      }
     },
     "b7558ce99528492d873859b803dbb8e2": {
      "model_module": "@jupyter-widgets/controls",
      "model_module_version": "1.4.0",
      "model_name": "HTMLModel",
      "state": {
       "layout": "IPY_MODEL_07618b20e43c43f0931b8542117e3be9",
       "style": "IPY_MODEL_9244a4b6df044807941053a9e40ec4b2",
       "value": "  0% 0/10 [00:00&lt;?, ?it/s]"
      }
     },
     "b7f4038085c6455fa271465e774d99ba": {
      "model_module": "@jupyter-widgets/base",
      "model_module_version": "1.1.0",
      "model_name": "LayoutModel",
      "state": {}
     },
     "b80ed7c5122d4c75b17a8b531a238fc0": {
      "model_module": "@jupyter-widgets/base",
      "model_module_version": "1.1.0",
      "model_name": "LayoutModel",
      "state": {}
     },
     "b8377f971a1d49168ae0017d75a86e70": {
      "model_module": "@jupyter-widgets/base",
      "model_module_version": "1.1.0",
      "model_name": "LayoutModel",
      "state": {}
     },
     "b86a11646c7a4d9686244384c8f5c787": {
      "model_module": "@jupyter-widgets/base",
      "model_module_version": "1.1.0",
      "model_name": "LayoutModel",
      "state": {}
     },
     "b8c5dcb87b1d42b7a29024f6a3562ed5": {
      "model_module": "@jupyter-widgets/controls",
      "model_module_version": "1.4.0",
      "model_name": "IntProgressModel",
      "state": {
       "bar_style": "danger",
       "layout": "IPY_MODEL_b10e7d726a754be7af1dd22e817acc95",
       "style": "IPY_MODEL_58970e3ee4f0452495c836b87d88c0bd"
      }
     },
     "b8d75fbb45b84beab23359df8ff00726": {
      "model_module": "@jupyter-widgets/controls",
      "model_module_version": "1.4.0",
      "model_name": "DescriptionStyleModel",
      "state": {
       "description_width": ""
      }
     },
     "ba413581be9b4531a29eadf4e31bd911": {
      "model_module": "@jupyter-widgets/controls",
      "model_module_version": "1.4.0",
      "model_name": "HTMLModel",
      "state": {
       "layout": "IPY_MODEL_621bc24d28854593810abd7280bdcdd0",
       "style": "IPY_MODEL_dada2a8655e5409a8e94fc61b3013418",
       "value": "100% 200/200 [05:06&lt;00:00,  1.57s/it]"
      }
     },
     "bab2c1bb59f344f4b6a9593c3f28cc59": {
      "model_module": "@jupyter-widgets/controls",
      "model_module_version": "1.4.0",
      "model_name": "HTMLModel",
      "state": {
       "layout": "IPY_MODEL_a88e248626fa4f689a54589360f637d2",
       "style": "IPY_MODEL_e912ac0a1a2a4c27ba38f47e010bc249",
       "value": "100% 10/10 [01:33&lt;00:00,  9.35s/it]"
      }
     },
     "baf12c45e96645f795f10b0414cbbdbf": {
      "model_module": "@jupyter-widgets/base",
      "model_module_version": "1.1.0",
      "model_name": "LayoutModel",
      "state": {}
     },
     "bb6b391010754848a8a8465b1acda84d": {
      "model_module": "@jupyter-widgets/controls",
      "model_module_version": "1.4.0",
      "model_name": "HBoxModel",
      "state": {
       "children": [
        "IPY_MODEL_44467fd72e3a4f0bba6ea5831c6b7d24",
        "IPY_MODEL_922c92f562cb45508f654c9a26ab7b56"
       ],
       "layout": "IPY_MODEL_3907786c5b034f48848041a3d0106b29"
      }
     },
     "bbe0ee0f3176467b8f9b9de99cabac0a": {
      "model_module": "@jupyter-widgets/controls",
      "model_module_version": "1.4.0",
      "model_name": "DescriptionStyleModel",
      "state": {
       "description_width": ""
      }
     },
     "bc4a410888e04466a9f53b3c5d2ae522": {
      "model_module": "@jupyter-widgets/controls",
      "model_module_version": "1.4.0",
      "model_name": "DescriptionStyleModel",
      "state": {
       "description_width": ""
      }
     },
     "bcd10df31c3d40ee9253c26eb44ffd5a": {
      "model_module": "@jupyter-widgets/base",
      "model_module_version": "1.1.0",
      "model_name": "LayoutModel",
      "state": {}
     },
     "bcef9d73ca5c42ba9c68454d21090d4d": {
      "model_module": "@jupyter-widgets/controls",
      "model_module_version": "1.4.0",
      "model_name": "DescriptionStyleModel",
      "state": {
       "description_width": ""
      }
     },
     "be97b0407adb4686b4685209d247ad85": {
      "model_module": "@jupyter-widgets/base",
      "model_module_version": "1.1.0",
      "model_name": "LayoutModel",
      "state": {}
     },
     "bf7c12125d7e409b95431cb88af01fc3": {
      "model_module": "@jupyter-widgets/controls",
      "model_module_version": "1.4.0",
      "model_name": "IntProgressModel",
      "state": {
       "bar_style": "danger",
       "layout": "IPY_MODEL_de865f2fe7744a19aa60abbc93812ff7",
       "style": "IPY_MODEL_48c0e124918e400981adc21d18063afe"
      }
     },
     "bf8e34ed2d514a3680eeb364c870c795": {
      "model_module": "@jupyter-widgets/controls",
      "model_module_version": "1.4.0",
      "model_name": "HTMLModel",
      "state": {
       "layout": "IPY_MODEL_927b413d4db5417f9c9c4dc925985f86",
       "style": "IPY_MODEL_8296dfd444a3404b9ef1050e46e72c41",
       "value": "  8% 8/100 [00:10&lt;01:59,  1.30s/it]"
      }
     },
     "c1532582100d415cba7c20bea34ad871": {
      "model_module": "@jupyter-widgets/controls",
      "model_module_version": "1.4.0",
      "model_name": "IntProgressModel",
      "state": {
       "bar_style": "success",
       "layout": "IPY_MODEL_e993887ce38f47ca873f9be69d45e7e0",
       "style": "IPY_MODEL_9f18acadf58a474db6c1dd72c59da80f",
       "value": 100
      }
     },
     "c17c046d3a46465d85c92e2f7f421325": {
      "model_module": "@jupyter-widgets/controls",
      "model_module_version": "1.4.0",
      "model_name": "HBoxModel",
      "state": {
       "children": [
        "IPY_MODEL_c459f5e9183543f6b058f2ebecd963b1",
        "IPY_MODEL_aff02920678f4944b7cad91f9cdfedc7"
       ],
       "layout": "IPY_MODEL_482121fc55bd4d698801ceeeaa451653"
      }
     },
     "c26f475e9c36469a87580cc0c35e8f2e": {
      "model_module": "@jupyter-widgets/controls",
      "model_module_version": "1.4.0",
      "model_name": "IntProgressModel",
      "state": {
       "bar_style": "danger",
       "layout": "IPY_MODEL_ef29e21ddb52401cab15431db9a38106",
       "style": "IPY_MODEL_5749bbced00444d48ebb62f809595a51"
      }
     },
     "c2a668734ac24f54b1372205064f0493": {
      "model_module": "@jupyter-widgets/base",
      "model_module_version": "1.1.0",
      "model_name": "LayoutModel",
      "state": {}
     },
     "c372dd9e665e4a72a71543a4ba5018ec": {
      "model_module": "@jupyter-widgets/controls",
      "model_module_version": "1.4.0",
      "model_name": "ProgressStyleModel",
      "state": {
       "description_width": ""
      }
     },
     "c44e0c5a127a4ceea80e799b84c4ba63": {
      "model_module": "@jupyter-widgets/controls",
      "model_module_version": "1.4.0",
      "model_name": "HBoxModel",
      "state": {
       "children": [
        "IPY_MODEL_40ec442d0f5a439797e4e70f82a59159",
        "IPY_MODEL_6bd1dbe15cd94776877aaa0d8103dab2"
       ],
       "layout": "IPY_MODEL_c457caa6d70c49fd987deef980816360"
      }
     },
     "c457caa6d70c49fd987deef980816360": {
      "model_module": "@jupyter-widgets/base",
      "model_module_version": "1.1.0",
      "model_name": "LayoutModel",
      "state": {}
     },
     "c459f5e9183543f6b058f2ebecd963b1": {
      "model_module": "@jupyter-widgets/controls",
      "model_module_version": "1.4.0",
      "model_name": "IntProgressModel",
      "state": {
       "bar_style": "danger",
       "layout": "IPY_MODEL_c9ec582e66024db499d91f08b6451512",
       "style": "IPY_MODEL_53d536e4a60d44ef953ec2fc753587ba",
       "value": 4
      }
     },
     "c4df9cfa5d95405595edfb80d6736c1f": {
      "model_module": "@jupyter-widgets/controls",
      "model_module_version": "1.4.0",
      "model_name": "IntProgressModel",
      "state": {
       "bar_style": "success",
       "layout": "IPY_MODEL_6a6127fc95e941099b928e86cfefe5be",
       "max": 200,
       "style": "IPY_MODEL_99b62c64a7024f5f84f2d9096ce1f8c3",
       "value": 200
      }
     },
     "c4fdeec32bae430dbe1ef1ec2be0d39e": {
      "model_module": "@jupyter-widgets/controls",
      "model_module_version": "1.4.0",
      "model_name": "HBoxModel",
      "state": {
       "children": [
        "IPY_MODEL_d1afe0fa38fc44fea6e161bf681aff46",
        "IPY_MODEL_d65114feead44f0b967ae96b265b3829"
       ],
       "layout": "IPY_MODEL_1892016aab4c4cc28b8f14833e5f372f"
      }
     },
     "c5c2db3ebb634dd6b956a76455857481": {
      "model_module": "@jupyter-widgets/controls",
      "model_module_version": "1.4.0",
      "model_name": "DescriptionStyleModel",
      "state": {
       "description_width": ""
      }
     },
     "c5c9840d551e4950b1defede028328bd": {
      "model_module": "@jupyter-widgets/controls",
      "model_module_version": "1.4.0",
      "model_name": "IntProgressModel",
      "state": {
       "bar_style": "danger",
       "layout": "IPY_MODEL_dccf4ce8dd4e48849c99d88243d16d1c",
       "style": "IPY_MODEL_8cfb3fd6903440a6a5e74f70d6058a8f"
      }
     },
     "c6791bb03e2e476cbe13f60497ec3356": {
      "model_module": "@jupyter-widgets/controls",
      "model_module_version": "1.4.0",
      "model_name": "DescriptionStyleModel",
      "state": {
       "description_width": ""
      }
     },
     "c70b02bb3790475e88ee3b0a791fa72d": {
      "model_module": "@jupyter-widgets/controls",
      "model_module_version": "1.4.0",
      "model_name": "ProgressStyleModel",
      "state": {
       "description_width": ""
      }
     },
     "c7a89c9b3d48402bb8a3b4c9fd1ead83": {
      "model_module": "@jupyter-widgets/base",
      "model_module_version": "1.1.0",
      "model_name": "LayoutModel",
      "state": {}
     },
     "c84eb01716954d26a3a84fb422f4a717": {
      "model_module": "@jupyter-widgets/controls",
      "model_module_version": "1.4.0",
      "model_name": "ProgressStyleModel",
      "state": {
       "description_width": ""
      }
     },
     "c85004dd8c5a4b638ff70b4c89a0d4c1": {
      "model_module": "@jupyter-widgets/controls",
      "model_module_version": "1.4.0",
      "model_name": "IntProgressModel",
      "state": {
       "bar_style": "danger",
       "layout": "IPY_MODEL_a81df9e8fee044ebae020f581be84d81",
       "max": 200,
       "style": "IPY_MODEL_d1b69d9913504e3395bf0545090e58c1",
       "value": 8
      }
     },
     "c9898b1959d34a0c83fd8700a5e9a324": {
      "model_module": "@jupyter-widgets/base",
      "model_module_version": "1.1.0",
      "model_name": "LayoutModel",
      "state": {}
     },
     "c9ec582e66024db499d91f08b6451512": {
      "model_module": "@jupyter-widgets/base",
      "model_module_version": "1.1.0",
      "model_name": "LayoutModel",
      "state": {}
     },
     "cc0439b33d3e4e829fe930ad948a827f": {
      "model_module": "@jupyter-widgets/base",
      "model_module_version": "1.1.0",
      "model_name": "LayoutModel",
      "state": {}
     },
     "cc75c6b76dba43e2b663d108afdbb620": {
      "model_module": "@jupyter-widgets/base",
      "model_module_version": "1.1.0",
      "model_name": "LayoutModel",
      "state": {}
     },
     "cd081f9ddbd54e4e8e9079cdb9c5ef35": {
      "model_module": "@jupyter-widgets/controls",
      "model_module_version": "1.4.0",
      "model_name": "HTMLModel",
      "state": {
       "layout": "IPY_MODEL_55d11b1ef6934d34991164feb6cd5f53",
       "style": "IPY_MODEL_60a0d48000664ce196057b57c8df9209",
       "value": "  0% 0/100 [00:00&lt;?, ?it/s]"
      }
     },
     "cddbde470d7b4fa9931b1f146829519d": {
      "model_module": "@jupyter-widgets/controls",
      "model_module_version": "1.4.0",
      "model_name": "DescriptionStyleModel",
      "state": {
       "description_width": ""
      }
     },
     "ce137dc0b9cd4673923b0a2716dbaa7b": {
      "model_module": "@jupyter-widgets/controls",
      "model_module_version": "1.4.0",
      "model_name": "DescriptionStyleModel",
      "state": {
       "description_width": ""
      }
     },
     "ce8c907139b745b1894e02acd4963425": {
      "model_module": "@jupyter-widgets/controls",
      "model_module_version": "1.4.0",
      "model_name": "DescriptionStyleModel",
      "state": {
       "description_width": ""
      }
     },
     "cf1ab719a73f46b5b4030eacb3b66159": {
      "model_module": "@jupyter-widgets/base",
      "model_module_version": "1.1.0",
      "model_name": "LayoutModel",
      "state": {}
     },
     "cf1c2a016fa9492da0f712bc6528e11c": {
      "model_module": "@jupyter-widgets/controls",
      "model_module_version": "1.4.0",
      "model_name": "ProgressStyleModel",
      "state": {
       "description_width": ""
      }
     },
     "cfa7ee7887fd422da2b10db5aa817f5b": {
      "model_module": "@jupyter-widgets/controls",
      "model_module_version": "1.4.0",
      "model_name": "ProgressStyleModel",
      "state": {
       "description_width": ""
      }
     },
     "d02c65ef918241e5a0a0b7f110e8e4c5": {
      "model_module": "@jupyter-widgets/controls",
      "model_module_version": "1.4.0",
      "model_name": "ProgressStyleModel",
      "state": {
       "description_width": ""
      }
     },
     "d0704523f5ae45858b03d45383fe7ed5": {
      "model_module": "@jupyter-widgets/controls",
      "model_module_version": "1.4.0",
      "model_name": "HTMLModel",
      "state": {
       "layout": "IPY_MODEL_a8894a7864bc440dbcbc0a3d2914e6b6",
       "style": "IPY_MODEL_98b4a2db654141c9b4d198aaf5489fd6",
       "value": "  8% 8/100 [01:09&lt;12:50,  8.37s/it]"
      }
     },
     "d0b8189670774f0a9c2c78628fd53a73": {
      "model_module": "@jupyter-widgets/controls",
      "model_module_version": "1.4.0",
      "model_name": "HBoxModel",
      "state": {
       "children": [
        "IPY_MODEL_0e6111b1a93b4219b48eabab63851ef6",
        "IPY_MODEL_59e4e80c75fe423fadf9f08d2f61bd90"
       ],
       "layout": "IPY_MODEL_53b32cf7accc44ebae23b0fe2faeb317"
      }
     },
     "d1afe0fa38fc44fea6e161bf681aff46": {
      "model_module": "@jupyter-widgets/controls",
      "model_module_version": "1.4.0",
      "model_name": "IntProgressModel",
      "state": {
       "bar_style": "danger",
       "layout": "IPY_MODEL_1e03eb175234422eb87e62150e444a5a",
       "style": "IPY_MODEL_712581eff39b4d20b16f257cbcbad6d1",
       "value": 2
      }
     },
     "d1b69d9913504e3395bf0545090e58c1": {
      "model_module": "@jupyter-widgets/controls",
      "model_module_version": "1.4.0",
      "model_name": "ProgressStyleModel",
      "state": {
       "description_width": ""
      }
     },
     "d1dc0b74966e40a092c4c4af2a2db98a": {
      "model_module": "@jupyter-widgets/base",
      "model_module_version": "1.1.0",
      "model_name": "LayoutModel",
      "state": {}
     },
     "d3086fa4ce0145fc9e4408c63171443a": {
      "model_module": "@jupyter-widgets/controls",
      "model_module_version": "1.4.0",
      "model_name": "HBoxModel",
      "state": {
       "children": [
        "IPY_MODEL_ed49200e435448399e7cea9931d9fa63",
        "IPY_MODEL_554da2f355aa4a0da1d5f44036a24f59"
       ],
       "layout": "IPY_MODEL_525660f63c6549ecb112a72b17e262f8"
      }
     },
     "d3ad792bd5e14f299208bb09009fdfde": {
      "model_module": "@jupyter-widgets/controls",
      "model_module_version": "1.4.0",
      "model_name": "ProgressStyleModel",
      "state": {
       "description_width": ""
      }
     },
     "d3e1b76bd0d94f90bec82f1a80710899": {
      "model_module": "@jupyter-widgets/base",
      "model_module_version": "1.1.0",
      "model_name": "LayoutModel",
      "state": {}
     },
     "d4c7c0689b2848e696ffd2ba94bac103": {
      "model_module": "@jupyter-widgets/controls",
      "model_module_version": "1.4.0",
      "model_name": "IntProgressModel",
      "state": {
       "bar_style": "danger",
       "layout": "IPY_MODEL_50be8b0ef6e6437e9cd4b920ecf8fe82",
       "style": "IPY_MODEL_cf1c2a016fa9492da0f712bc6528e11c"
      }
     },
     "d4e93dfc93394d8191b659e347486291": {
      "model_module": "@jupyter-widgets/controls",
      "model_module_version": "1.4.0",
      "model_name": "IntProgressModel",
      "state": {
       "bar_style": "success",
       "layout": "IPY_MODEL_11b17d014aef416b8a857a59ae858034",
       "style": "IPY_MODEL_603b7d4a701f4dfca2882dffd821070a",
       "value": 100
      }
     },
     "d519eaa34fb84cad987a62d816cb75fb": {
      "model_module": "@jupyter-widgets/controls",
      "model_module_version": "1.4.0",
      "model_name": "HTMLModel",
      "state": {
       "layout": "IPY_MODEL_a3fd9da3dbdb4ee7a960a4248d37a407",
       "style": "IPY_MODEL_69be108686ca4bd8bcbd2a4f54c7bcd0",
       "value": "  5% 5/100 [00:07&lt;02:29,  1.58s/it]"
      }
     },
     "d62a096169d64680817550a6856d4df8": {
      "model_module": "@jupyter-widgets/controls",
      "model_module_version": "1.4.0",
      "model_name": "DescriptionStyleModel",
      "state": {
       "description_width": ""
      }
     },
     "d65114feead44f0b967ae96b265b3829": {
      "model_module": "@jupyter-widgets/controls",
      "model_module_version": "1.4.0",
      "model_name": "HTMLModel",
      "state": {
       "layout": "IPY_MODEL_fd8d155b9aa34257bee4af7adb58703c",
       "style": "IPY_MODEL_9d4dad677f924ab5a5f5926c86638dec",
       "value": "  2% 2/100 [00:03&lt;02:39,  1.63s/it]"
      }
     },
     "d778f46b38e64290b40115711e832c6b": {
      "model_module": "@jupyter-widgets/controls",
      "model_module_version": "1.4.0",
      "model_name": "HTMLModel",
      "state": {
       "layout": "IPY_MODEL_8adb4be8196f4b449146168cf6a94a2e",
       "style": "IPY_MODEL_a6f62d1901004e79ad0168a014665999",
       "value": "  3% 3/100 [00:04&lt;02:22,  1.47s/it]"
      }
     },
     "d9d5e81894a44a428889935e669c1547": {
      "model_module": "@jupyter-widgets/controls",
      "model_module_version": "1.4.0",
      "model_name": "HBoxModel",
      "state": {
       "children": [
        "IPY_MODEL_721d33b54a604b67a0f07bf06bde1279",
        "IPY_MODEL_d0704523f5ae45858b03d45383fe7ed5"
       ],
       "layout": "IPY_MODEL_41f168ca7a184bfa87d51551560d13d9"
      }
     },
     "dada2a8655e5409a8e94fc61b3013418": {
      "model_module": "@jupyter-widgets/controls",
      "model_module_version": "1.4.0",
      "model_name": "DescriptionStyleModel",
      "state": {
       "description_width": ""
      }
     },
     "db21ba15d25746fc9999f3c6acc058a4": {
      "model_module": "@jupyter-widgets/controls",
      "model_module_version": "1.4.0",
      "model_name": "ProgressStyleModel",
      "state": {
       "description_width": ""
      }
     },
     "dbb3e2e0e9b5474b8ba62b373c39dfa8": {
      "model_module": "@jupyter-widgets/base",
      "model_module_version": "1.1.0",
      "model_name": "LayoutModel",
      "state": {}
     },
     "dbe03d40a1074a339c915284c6980830": {
      "model_module": "@jupyter-widgets/controls",
      "model_module_version": "1.4.0",
      "model_name": "HBoxModel",
      "state": {
       "children": [
        "IPY_MODEL_305edcfaee7f41009cc74630f5f7dc1b",
        "IPY_MODEL_09432bb1d04648a3a8553069409da98d"
       ],
       "layout": "IPY_MODEL_271f141d0cdf46e289f603c000f3d18e"
      }
     },
     "dccf4ce8dd4e48849c99d88243d16d1c": {
      "model_module": "@jupyter-widgets/base",
      "model_module_version": "1.1.0",
      "model_name": "LayoutModel",
      "state": {}
     },
     "dd56c6c6cac54a3687ce85edda088f03": {
      "model_module": "@jupyter-widgets/controls",
      "model_module_version": "1.4.0",
      "model_name": "DescriptionStyleModel",
      "state": {
       "description_width": ""
      }
     },
     "dde11320f00a48e081cd3c09409dd104": {
      "model_module": "@jupyter-widgets/base",
      "model_module_version": "1.1.0",
      "model_name": "LayoutModel",
      "state": {}
     },
     "de5a1d45dd594abc8e5f22a76a6d77af": {
      "model_module": "@jupyter-widgets/base",
      "model_module_version": "1.1.0",
      "model_name": "LayoutModel",
      "state": {}
     },
     "de865f2fe7744a19aa60abbc93812ff7": {
      "model_module": "@jupyter-widgets/base",
      "model_module_version": "1.1.0",
      "model_name": "LayoutModel",
      "state": {}
     },
     "deee8f0b8bfb4c108cf216dfd7395322": {
      "model_module": "@jupyter-widgets/controls",
      "model_module_version": "1.4.0",
      "model_name": "HTMLModel",
      "state": {
       "layout": "IPY_MODEL_e59ad47370d646c89c2e6be517aa05df",
       "style": "IPY_MODEL_7922dc5ee1274c2aab2e1f1820e8b23e",
       "value": " 11% 11/100 [00:16&lt;02:15,  1.53s/it]"
      }
     },
     "df3f485e3c454a6998c939cd9b35660a": {
      "model_module": "@jupyter-widgets/base",
      "model_module_version": "1.1.0",
      "model_name": "LayoutModel",
      "state": {}
     },
     "e1af56fc99b14933b72c10dced40da84": {
      "model_module": "@jupyter-widgets/controls",
      "model_module_version": "1.4.0",
      "model_name": "DescriptionStyleModel",
      "state": {
       "description_width": ""
      }
     },
     "e33eb466af984660bc6515775c4ab06b": {
      "model_module": "@jupyter-widgets/base",
      "model_module_version": "1.1.0",
      "model_name": "LayoutModel",
      "state": {}
     },
     "e441a7643b6147f8b403828d752a4cc1": {
      "model_module": "@jupyter-widgets/controls",
      "model_module_version": "1.4.0",
      "model_name": "ProgressStyleModel",
      "state": {
       "description_width": ""
      }
     },
     "e4b39551500a46d9a0c39acaee034b0b": {
      "model_module": "@jupyter-widgets/controls",
      "model_module_version": "1.4.0",
      "model_name": "IntProgressModel",
      "state": {
       "bar_style": "danger",
       "layout": "IPY_MODEL_896c3e5ebcbb449e88ea583d76aaf550",
       "style": "IPY_MODEL_59c3975870da4e9fb4858bc8709dac0b"
      }
     },
     "e59ad47370d646c89c2e6be517aa05df": {
      "model_module": "@jupyter-widgets/base",
      "model_module_version": "1.1.0",
      "model_name": "LayoutModel",
      "state": {}
     },
     "e5b02317d3dd45d18c7430cb4e75b09f": {
      "model_module": "@jupyter-widgets/base",
      "model_module_version": "1.1.0",
      "model_name": "LayoutModel",
      "state": {}
     },
     "e5bb54fc457540209ebc61d0bd38193c": {
      "model_module": "@jupyter-widgets/controls",
      "model_module_version": "1.4.0",
      "model_name": "HBoxModel",
      "state": {
       "children": [
        "IPY_MODEL_617802fe3f0b45ed8412cc3cfdd6fef3",
        "IPY_MODEL_bab2c1bb59f344f4b6a9593c3f28cc59"
       ],
       "layout": "IPY_MODEL_3e8a806691e741908d46d53ef3246b2d"
      }
     },
     "e5be850e8f46498ba0787930ac9b57c7": {
      "model_module": "@jupyter-widgets/controls",
      "model_module_version": "1.4.0",
      "model_name": "HTMLModel",
      "state": {
       "layout": "IPY_MODEL_d3e1b76bd0d94f90bec82f1a80710899",
       "style": "IPY_MODEL_9c5d100f00c94fff9417d8a05693ce1b",
       "value": "  0% 0/100 [00:00&lt;?, ?it/s]"
      }
     },
     "e78f662e5f004c10bf212a9b5dc1d4a4": {
      "model_module": "@jupyter-widgets/base",
      "model_module_version": "1.1.0",
      "model_name": "LayoutModel",
      "state": {}
     },
     "e912ac0a1a2a4c27ba38f47e010bc249": {
      "model_module": "@jupyter-widgets/controls",
      "model_module_version": "1.4.0",
      "model_name": "DescriptionStyleModel",
      "state": {
       "description_width": ""
      }
     },
     "e91dc8de600844daa4fb281c20e0f876": {
      "model_module": "@jupyter-widgets/controls",
      "model_module_version": "1.4.0",
      "model_name": "ProgressStyleModel",
      "state": {
       "description_width": ""
      }
     },
     "e97b3e52f53b481e8976f4e1714757a8": {
      "model_module": "@jupyter-widgets/controls",
      "model_module_version": "1.4.0",
      "model_name": "ProgressStyleModel",
      "state": {
       "description_width": ""
      }
     },
     "e993887ce38f47ca873f9be69d45e7e0": {
      "model_module": "@jupyter-widgets/base",
      "model_module_version": "1.1.0",
      "model_name": "LayoutModel",
      "state": {}
     },
     "eaa88f3c0467433295502899d032e9c7": {
      "model_module": "@jupyter-widgets/controls",
      "model_module_version": "1.4.0",
      "model_name": "ProgressStyleModel",
      "state": {
       "description_width": ""
      }
     },
     "eacce04fef44417a9eee710bcf630e47": {
      "model_module": "@jupyter-widgets/base",
      "model_module_version": "1.1.0",
      "model_name": "LayoutModel",
      "state": {}
     },
     "eaeca7c76afa4ea5a85fa59f3a9a8d4b": {
      "model_module": "@jupyter-widgets/controls",
      "model_module_version": "1.4.0",
      "model_name": "ProgressStyleModel",
      "state": {
       "description_width": ""
      }
     },
     "ebb5c1b2f20f48a182c8f7f22663d84d": {
      "model_module": "@jupyter-widgets/base",
      "model_module_version": "1.1.0",
      "model_name": "LayoutModel",
      "state": {}
     },
     "ebd334b315ae441dbbfe1fb8da3899c2": {
      "model_module": "@jupyter-widgets/controls",
      "model_module_version": "1.4.0",
      "model_name": "DescriptionStyleModel",
      "state": {
       "description_width": ""
      }
     },
     "ec45462704494270a8b5f7902f8fdb22": {
      "model_module": "@jupyter-widgets/controls",
      "model_module_version": "1.4.0",
      "model_name": "ProgressStyleModel",
      "state": {
       "description_width": ""
      }
     },
     "ecb44745930c4680a0bca10f7eead7c9": {
      "model_module": "@jupyter-widgets/controls",
      "model_module_version": "1.4.0",
      "model_name": "HTMLModel",
      "state": {
       "layout": "IPY_MODEL_adbb99bc9ac34026a8b55bdc53480e82",
       "style": "IPY_MODEL_f47fef85f7424b50b50f1001d712bd64",
       "value": "  2% 2/100 [00:03&lt;02:31,  1.54s/it]"
      }
     },
     "ed49200e435448399e7cea9931d9fa63": {
      "model_module": "@jupyter-widgets/controls",
      "model_module_version": "1.4.0",
      "model_name": "IntProgressModel",
      "state": {
       "bar_style": "danger",
       "layout": "IPY_MODEL_373b5ef34b8349e5a5bbc7610a2b916f",
       "style": "IPY_MODEL_0bba9f68600d4fac85893a10ec8eae2d"
      }
     },
     "ed98658d5d0946cd8df4a492880e52a7": {
      "model_module": "@jupyter-widgets/base",
      "model_module_version": "1.1.0",
      "model_name": "LayoutModel",
      "state": {}
     },
     "edba5cd1f4d348eb9d8b439030739c4c": {
      "model_module": "@jupyter-widgets/base",
      "model_module_version": "1.1.0",
      "model_name": "LayoutModel",
      "state": {}
     },
     "ee0a97e85f58482196c24a7ead6a0988": {
      "model_module": "@jupyter-widgets/controls",
      "model_module_version": "1.4.0",
      "model_name": "ProgressStyleModel",
      "state": {
       "description_width": ""
      }
     },
     "ef29e21ddb52401cab15431db9a38106": {
      "model_module": "@jupyter-widgets/base",
      "model_module_version": "1.1.0",
      "model_name": "LayoutModel",
      "state": {}
     },
     "efbee07d70494d63a9310f4eabda2ecf": {
      "model_module": "@jupyter-widgets/base",
      "model_module_version": "1.1.0",
      "model_name": "LayoutModel",
      "state": {}
     },
     "f0d46c31991a44d6b68ea6f7f0c32799": {
      "model_module": "@jupyter-widgets/base",
      "model_module_version": "1.1.0",
      "model_name": "LayoutModel",
      "state": {}
     },
     "f2897a016ee943b6a41082115f3b1cca": {
      "model_module": "@jupyter-widgets/controls",
      "model_module_version": "1.4.0",
      "model_name": "HTMLModel",
      "state": {
       "layout": "IPY_MODEL_17bd4f2010314ce38373f8cafb490f3b",
       "style": "IPY_MODEL_3c1da146ea8d4377aa466514440ac70c",
       "value": "  0% 0/100 [00:00&lt;?, ?it/s]"
      }
     },
     "f322979be4ec434985e79091e1dc994c": {
      "model_module": "@jupyter-widgets/base",
      "model_module_version": "1.1.0",
      "model_name": "LayoutModel",
      "state": {}
     },
     "f3da977c870146739e25bb65282c9fdf": {
      "model_module": "@jupyter-widgets/base",
      "model_module_version": "1.1.0",
      "model_name": "LayoutModel",
      "state": {}
     },
     "f431e3373fb2429988c2ca305236661c": {
      "model_module": "@jupyter-widgets/base",
      "model_module_version": "1.1.0",
      "model_name": "LayoutModel",
      "state": {}
     },
     "f4489080c48244cd92b5705387c92c9d": {
      "model_module": "@jupyter-widgets/controls",
      "model_module_version": "1.4.0",
      "model_name": "DescriptionStyleModel",
      "state": {
       "description_width": ""
      }
     },
     "f47fef85f7424b50b50f1001d712bd64": {
      "model_module": "@jupyter-widgets/controls",
      "model_module_version": "1.4.0",
      "model_name": "DescriptionStyleModel",
      "state": {
       "description_width": ""
      }
     },
     "f500223568774225857b4edf715585ce": {
      "model_module": "@jupyter-widgets/base",
      "model_module_version": "1.1.0",
      "model_name": "LayoutModel",
      "state": {}
     },
     "f52cab0f94e34cb0aa0e61cc7c8f629d": {
      "model_module": "@jupyter-widgets/controls",
      "model_module_version": "1.4.0",
      "model_name": "HBoxModel",
      "state": {
       "children": [
        "IPY_MODEL_a533bced06864094a803f41290b325e6",
        "IPY_MODEL_888c4cad835c4b018bf8ead0e8e69d3e"
       ],
       "layout": "IPY_MODEL_10fcc71a65264555ae6fe8b1f7f36010"
      }
     },
     "f5909c6573564be89a3e411271af7848": {
      "model_module": "@jupyter-widgets/controls",
      "model_module_version": "1.4.0",
      "model_name": "DescriptionStyleModel",
      "state": {
       "description_width": ""
      }
     },
     "f59d9e7dd7114372a56ec6b9ed543e91": {
      "model_module": "@jupyter-widgets/controls",
      "model_module_version": "1.4.0",
      "model_name": "IntProgressModel",
      "state": {
       "bar_style": "danger",
       "layout": "IPY_MODEL_9c614a59c76946dd95858fa4d4b24091",
       "style": "IPY_MODEL_9564cd21b8e34b70a715f176cbefa6ab",
       "value": 1
      }
     },
     "f6cd0b6d5ae049da84e6c1ec54ec9044": {
      "model_module": "@jupyter-widgets/controls",
      "model_module_version": "1.4.0",
      "model_name": "ProgressStyleModel",
      "state": {
       "description_width": ""
      }
     },
     "f6fce4982a594e618b14a7fd3b65b47e": {
      "model_module": "@jupyter-widgets/controls",
      "model_module_version": "1.4.0",
      "model_name": "IntProgressModel",
      "state": {
       "bar_style": "success",
       "layout": "IPY_MODEL_54e4e64b3b3e4d1a94edaaefb11fa7b4",
       "max": 50,
       "style": "IPY_MODEL_56d22a03ae5e4400a046b5fdab21508f",
       "value": 50
      }
     },
     "f894c1e8b7734ff494e39c8ef68cfb15": {
      "model_module": "@jupyter-widgets/controls",
      "model_module_version": "1.4.0",
      "model_name": "ProgressStyleModel",
      "state": {
       "description_width": ""
      }
     },
     "f9848a6add2640438da89772abf6b908": {
      "model_module": "@jupyter-widgets/base",
      "model_module_version": "1.1.0",
      "model_name": "LayoutModel",
      "state": {}
     },
     "f9d8d532e0f1416e9e5df482020d90bf": {
      "model_module": "@jupyter-widgets/controls",
      "model_module_version": "1.4.0",
      "model_name": "DescriptionStyleModel",
      "state": {
       "description_width": ""
      }
     },
     "fb427e10e68b40049c54aa25c027970b": {
      "model_module": "@jupyter-widgets/controls",
      "model_module_version": "1.4.0",
      "model_name": "HBoxModel",
      "state": {
       "children": [
        "IPY_MODEL_8e09f498d06a4572967dc83fb74670c9",
        "IPY_MODEL_0332c3d0a2284ccebb30717a33c92138"
       ],
       "layout": "IPY_MODEL_b86a11646c7a4d9686244384c8f5c787"
      }
     },
     "fb58fe747abe445dabcdb56444a4f8a2": {
      "model_module": "@jupyter-widgets/controls",
      "model_module_version": "1.4.0",
      "model_name": "ProgressStyleModel",
      "state": {
       "description_width": ""
      }
     },
     "fb8367fb662743bda0155f20da4ed488": {
      "model_module": "@jupyter-widgets/base",
      "model_module_version": "1.1.0",
      "model_name": "LayoutModel",
      "state": {}
     },
     "fc09116d28474ca9b3b59efbdc8b40e2": {
      "model_module": "@jupyter-widgets/base",
      "model_module_version": "1.1.0",
      "model_name": "LayoutModel",
      "state": {}
     },
     "fc435c0c07274389933e9f4feec9f6e8": {
      "model_module": "@jupyter-widgets/controls",
      "model_module_version": "1.4.0",
      "model_name": "ProgressStyleModel",
      "state": {
       "description_width": ""
      }
     },
     "fc95fb767c68496d80b7dc6d5e0ff628": {
      "model_module": "@jupyter-widgets/controls",
      "model_module_version": "1.4.0",
      "model_name": "HTMLModel",
      "state": {
       "layout": "IPY_MODEL_06eed6ef0e9643738310b98c79fd4a94",
       "style": "IPY_MODEL_516aa7c67bae44d8885516a870fba32e",
       "value": "100% 10/10 [01:36&lt;00:00,  9.65s/it]"
      }
     },
     "fd8d155b9aa34257bee4af7adb58703c": {
      "model_module": "@jupyter-widgets/base",
      "model_module_version": "1.1.0",
      "model_name": "LayoutModel",
      "state": {}
     },
     "ff17db2217fc4684bc80853d432196f1": {
      "model_module": "@jupyter-widgets/controls",
      "model_module_version": "1.4.0",
      "model_name": "HBoxModel",
      "state": {
       "children": [
        "IPY_MODEL_640aea7521eb48e281911cf57f43f16a",
        "IPY_MODEL_deee8f0b8bfb4c108cf216dfd7395322"
       ],
       "layout": "IPY_MODEL_34a88bb75dcd4596b7823d63a67e6389"
      }
     },
     "ffa5c5eca4a74bfe88d83c00e8734450": {
      "model_module": "@jupyter-widgets/controls",
      "model_module_version": "1.4.0",
      "model_name": "HBoxModel",
      "state": {
       "children": [
        "IPY_MODEL_afb649eb88ed4dbe84719bb3860bc9fd",
        "IPY_MODEL_a4485ea5ec464cfcb82798ee3d6f96fd"
       ],
       "layout": "IPY_MODEL_4d077a67cffc4f2385031af3f620a5ea"
      }
     }
    },
    "version_major": 2,
    "version_minor": 0
   }
  }
 },
 "nbformat": 4,
 "nbformat_minor": 2
}
