{
 "cells": [
  {
   "cell_type": "code",
   "execution_count": 1,
   "metadata": {},
   "outputs": [],
   "source": [
    "import pandas as pd\n",
    "import numpy as np\n",
    "from sklearn.model_selection import train_test_split\n",
    "from sklearn.metrics import accuracy_score, roc_auc_score, roc_curve\n",
    "import matplotlib.pyplot as plt\n",
    "import gc"
   ]
  },
  {
   "cell_type": "markdown",
   "metadata": {},
   "source": [
    "## Gaussian NB for spam.csv:"
   ]
  },
  {
   "cell_type": "code",
   "execution_count": 2,
   "metadata": {},
   "outputs": [],
   "source": [
    "class GaussianNB:\n",
    "    \n",
    "    def __init__(self):\n",
    "        pass\n",
    "        \n",
    "    def fit(self, data, labels):\n",
    "        self.classes, self.prior = np.unique(labels, return_counts=True)\n",
    "        self.prior = np.divide(self.prior, self.prior.sum())\n",
    "        self.n_classes = len(self.classes)\n",
    "        self.mu = np.zeros((self.n_classes, data.shape[1]))\n",
    "        self.sigma = np.zeros((self.n_classes, data.shape[1]))\n",
    "        for i in range(self.n_classes):\n",
    "            self.mu[i, :] = data[labels==self.classes[i]].mean(axis=0)\n",
    "            self.sigma[i, :] = data[labels==self.classes[i]].std(axis=0)\n",
    "\n",
    "    def predict_proba(self, data):\n",
    "        exp_ = - np.power(data[:, np.newaxis] - self.mu, 2)/(2*np.power(self.sigma, 2))\n",
    "        likelihood = np.prod(np.exp(exp_)/(self.sigma * np.sqrt(2*np.pi)), axis=2)\n",
    "        posterior = np.multiply(likelihood, self.prior)\n",
    "        norm_coeff = posterior.sum(axis=1)\n",
    "        posterior[norm_coeff != 0] = posterior[norm_coeff != 0]/norm_coeff[norm_coeff != 0].reshape(-1, 1)\n",
    "        return posterior\n",
    "    \n",
    "    def predict(self, data, th=0.5):\n",
    "        posterior = self.predict_proba(data)\n",
    "        return (posterior[:, 1]>th).astype(int)\n",
    "    \n",
    "def assess(model, data, labels, th=0.5):\n",
    "    posterior = model.predict_proba(data)\n",
    "    preds = (posterior>th).astype(int)\n",
    "    acc = round(accuracy_score(labels, preds[:, 1]), 3)\n",
    "    auc = round(roc_auc_score(labels, posterior[:, 1]), 3)\n",
    "    fpr, tpr, _ = roc_curve(labels, posterior[:, 1])\n",
    "    fig, ax = plt.subplots(figsize=[7, 7])\n",
    "    ax.plot(fpr, tpr, label=f'Accuracy = {acc}\\nROC AUC = {auc}')\n",
    "    ax.set_xlabel('FPR')\n",
    "    ax.set_ylabel('TPR')\n",
    "    ax.set_title(model.__class__.__name__)\n",
    "    ax.legend()\n",
    "    ax.grid()"
   ]
  },
  {
   "cell_type": "code",
   "execution_count": 3,
   "metadata": {},
   "outputs": [],
   "source": [
    "df = pd.read_csv('Data/spam.csv')\n",
    "labels_spam = df['label'].values\n",
    "data_spam = df.drop(columns='label').values"
   ]
  },
  {
   "cell_type": "code",
   "execution_count": 4,
   "metadata": {},
   "outputs": [],
   "source": [
    "X_tr_spam, X_te_spam, y_tr_spam, y_te_spam = train_test_split(data_spam,\n",
    "                                                              labels_spam,\n",
    "                                                              test_size=0.2, \n",
    "                                                              stratify=labels_spam)"
   ]
  },
  {
   "cell_type": "code",
   "execution_count": 5,
   "metadata": {},
   "outputs": [
    {
     "data": {
      "image/png": "[encoded data removed]",
      "text/plain": [
       "<Figure size 504x504 with 1 Axes>"
      ]
     },
     "metadata": {},
     "output_type": "display_data"
    }
   ],
   "source": [
    "GNB = GaussianNB()\n",
    "GNB.fit(X_tr_spam, y_tr_spam)\n",
    "assess(GNB, X_te_spam, y_te_spam)"
   ]
  },
  {
   "cell_type": "markdown",
   "metadata": {},
   "source": [
    "## Multinomial NB for smsspam.csv:"
   ]
  },
  {
   "cell_type": "code",
   "execution_count": 22,
   "metadata": {},
   "outputs": [],
   "source": [
    "from nltk.stem import SnowballStemmer\n",
    "from sklearn.feature_extraction.text import CountVectorizer\n",
    "from sklearn.pipeline import make_pipeline\n",
    "from sklearn.base import TransformerMixin, BaseEstimator\n",
    "\n",
    "class Preprocesser(TransformerMixin):\n",
    "    \n",
    "    def __init__(self, tokenizer='bow'):\n",
    "        self.stemmer = SnowballStemmer('english')\n",
    "        self.tokenizer = CountVectorizer()\n",
    "            \n",
    "    def stem_text(self, text):\n",
    "        text = text.split(' ')\n",
    "        stemmed = [self.stemmer.stem(word) for word in text]\n",
    "        stemmed = ' '.join(stemmed)\n",
    "        return stemmed\n",
    "    \n",
    "    def fit(self, text_series, y=None):\n",
    "        stemmed_series = text_series.apply(self.stem_text)\n",
    "        vectorized = self.tokenizer.fit(stemmed_series)\n",
    "        return self\n",
    "        \n",
    "    def transform(self, text_series, y=None):\n",
    "        stemmed_series = text_series.apply(self.stem_text)\n",
    "        vectorized = self.tokenizer.transform(stemmed_series)\n",
    "        return vectorized\n",
    "    \n",
    "class MultinomialNB(BaseEstimator):\n",
    "    \n",
    "    def __init__(self, alpha=0.05):\n",
    "        self.prior = None\n",
    "        self.params = None\n",
    "        self.alpha = alpha\n",
    "        \n",
    "    def fit(self, data, labels):\n",
    "        data = data.toarray()\n",
    "        self.classes, self.prior = np.unique(labels, return_counts=True)\n",
    "        self.prior = np.divide(self.prior, self.prior.sum())\n",
    "        self.n_classes = len(self.classes)\n",
    "        self.max_count = np.max(data)\n",
    "        self.prob_mat = np.zeros((self.n_classes, data.shape[1], self.max_count+1))\n",
    "        self.class_counts = np.bincount(labels)\n",
    "        for i in self.classes:\n",
    "            temp = np.apply_along_axis(lambda x: np.bincount(x, minlength=self.max_count+1),\n",
    "                                       axis=0, \n",
    "                                       arr=data[labels==i]).T\n",
    "            temp = (temp + self.alpha)/(self.class_counts[i] + self.alpha * (self.max_count + 1))\n",
    "            self.prob_mat[i] = temp\n",
    "        return self\n",
    "    \n",
    "    def get_likelihood(self, vec):\n",
    "        return np.product(self.prob_mat[:, self.ll_index, vec], axis=1).reshape(-1, 1)\n",
    "        \n",
    "    def predict_proba(self, data):\n",
    "        data = data.toarray()\n",
    "        \n",
    "        if np.max(data) > self.max_count:\n",
    "            print('There are counts larger than in train')\n",
    "            new_max = np.max(data)\n",
    "            to_app = np.zeros((self.prob_mat.shape[0], \n",
    "                               self.prob_mat.shape[1],\n",
    "                               new_max - self.max_count))\n",
    "            self.prob_mat = self.prob_mat * (self.class_counts[:,np.newaxis, np.newaxis] + \\\n",
    "                                             self.alpha * (self.max_count + 1)) - \\\n",
    "                                             self.alpha\n",
    "            self.prob_mat = np.concatenate([self.prob_mat, to_app], axis=2)\n",
    "            self.prob_mat = (self.prob_mat + self.alpha)/(self.class_counts[:, np.newaxis, np.newaxis] + \\\n",
    "                                                 self.alpha * (new_max + 1))\n",
    "            self.max_count = new_max\n",
    "        \n",
    "        self.ll_index = np.arange(self.prob_mat.shape[1])\n",
    "        LL = np.apply_along_axis(self.get_likelihood, axis=1, arr=data)\n",
    "        LL = np.squeeze(np.swapaxes(LL, 0, 1), axis=2)\n",
    "        posterior = np.multiply(LL, self.prior.reshape(2, -1)).T\n",
    "        norm_coeff = posterior.sum(axis=1)\n",
    "        posterior[norm_coeff != 0] = posterior[norm_coeff != 0]/norm_coeff[norm_coeff != 0].reshape(-1, 1)\n",
    "        return posterior\n",
    "        \n",
    "    def predict(self, data):\n",
    "        posterior = self.predict_proba(data)\n",
    "        return (posterior[:, 1]>th).astype(int)"
   ]
  },
  {
   "cell_type": "code",
   "execution_count": 23,
   "metadata": {},
   "outputs": [
    {
     "name": "stdout",
     "output_type": "stream",
     "text": [
      "(5572, 2)\n",
      "Index(['ham', 'spam'], dtype='object')\n"
     ]
    },
    {
     "data": {
      "text/html": [
       "<div>\n",
       "<style scoped>\n",
       "    .dataframe tbody tr th:only-of-type {\n",
       "        vertical-align: middle;\n",
       "    }\n",
       "\n",
       "    .dataframe tbody tr th {\n",
       "        vertical-align: top;\n",
       "    }\n",
       "\n",
       "    .dataframe thead th {\n",
       "        text-align: right;\n",
       "    }\n",
       "</style>\n",
       "<table border=\"1\" class=\"dataframe\">\n",
       "  <thead>\n",
       "    <tr style=\"text-align: right;\">\n",
       "      <th></th>\n",
       "      <th>label</th>\n",
       "      <th>text</th>\n",
       "    </tr>\n",
       "  </thead>\n",
       "  <tbody>\n",
       "    <tr>\n",
       "      <th>0</th>\n",
       "      <td>0</td>\n",
       "      <td>Go until jurong point, crazy.. Available only ...</td>\n",
       "    </tr>\n",
       "    <tr>\n",
       "      <th>1</th>\n",
       "      <td>0</td>\n",
       "      <td>Ok lar... Joking wif u oni...</td>\n",
       "    </tr>\n",
       "    <tr>\n",
       "      <th>2</th>\n",
       "      <td>1</td>\n",
       "      <td>Free entry in 2 a wkly comp to win FA Cup fina...</td>\n",
       "    </tr>\n",
       "    <tr>\n",
       "      <th>3</th>\n",
       "      <td>0</td>\n",
       "      <td>U dun say so early hor... U c already then say...</td>\n",
       "    </tr>\n",
       "    <tr>\n",
       "      <th>4</th>\n",
       "      <td>0</td>\n",
       "      <td>Nah I don't think he goes to usf, he lives aro...</td>\n",
       "    </tr>\n",
       "    <tr>\n",
       "      <th>5</th>\n",
       "      <td>1</td>\n",
       "      <td>FreeMsg Hey there darling it's been 3 week's n...</td>\n",
       "    </tr>\n",
       "    <tr>\n",
       "      <th>6</th>\n",
       "      <td>0</td>\n",
       "      <td>Even my brother is not like to speak with me. ...</td>\n",
       "    </tr>\n",
       "    <tr>\n",
       "      <th>7</th>\n",
       "      <td>0</td>\n",
       "      <td>As per your request 'Melle Melle (Oru Minnamin...</td>\n",
       "    </tr>\n",
       "    <tr>\n",
       "      <th>8</th>\n",
       "      <td>1</td>\n",
       "      <td>WINNER!! As a valued network customer you have...</td>\n",
       "    </tr>\n",
       "    <tr>\n",
       "      <th>9</th>\n",
       "      <td>1</td>\n",
       "      <td>Had your mobile 11 months or more? U R entitle...</td>\n",
       "    </tr>\n",
       "  </tbody>\n",
       "</table>\n",
       "</div>"
      ],
      "text/plain": [
       "   label                                               text\n",
       "0      0  Go until jurong point, crazy.. Available only ...\n",
       "1      0                      Ok lar... Joking wif u oni...\n",
       "2      1  Free entry in 2 a wkly comp to win FA Cup fina...\n",
       "3      0  U dun say so early hor... U c already then say...\n",
       "4      0  Nah I don't think he goes to usf, he lives aro...\n",
       "5      1  FreeMsg Hey there darling it's been 3 week's n...\n",
       "6      0  Even my brother is not like to speak with me. ...\n",
       "7      0  As per your request 'Melle Melle (Oru Minnamin...\n",
       "8      1  WINNER!! As a valued network customer you have...\n",
       "9      1  Had your mobile 11 months or more? U R entitle..."
      ]
     },
     "execution_count": 23,
     "metadata": {},
     "output_type": "execute_result"
    }
   ],
   "source": [
    "sms = pd.read_csv('Data/smsspam.csv')\n",
    "sms['label'], sms_enc = pd.factorize(sms['label'])\n",
    "print(sms.shape)\n",
    "print(sms_enc)\n",
    "labels_sms = sms['label']\n",
    "text_sms = sms['text']\n",
    "sms.head(10)"
   ]
  },
  {
   "cell_type": "code",
   "execution_count": 24,
   "metadata": {},
   "outputs": [],
   "source": [
    "X_tr_sms, X_te_sms, y_tr_sms, y_te_sms = train_test_split(text_sms, \n",
    "                                                          labels_sms, \n",
    "                                                          test_size=0.2,\n",
    "                                                          stratify=labels_sms)"
   ]
  },
  {
   "cell_type": "code",
   "execution_count": 25,
   "metadata": {},
   "outputs": [],
   "source": [
    "pipe = make_pipeline(Preprocesser(), MultinomialNB())"
   ]
  },
  {
   "cell_type": "code",
   "execution_count": 26,
   "metadata": {},
   "outputs": [],
   "source": [
    "_ = pipe.fit(X_tr_sms, y_tr_sms)"
   ]
  },
  {
   "cell_type": "code",
   "execution_count": 27,
   "metadata": {},
   "outputs": [
    {
     "data": {
      "image/png": "[encoded data removed]",
      "text/plain": [
       "<Figure size 504x504 with 1 Axes>"
      ]
     },
     "metadata": {},
     "output_type": "display_data"
    }
   ],
   "source": [
    "assess(pipe, X_te_sms, y_te_sms)"
   ]
  }
 ],
 "metadata": {
  "kernelspec": {
   "display_name": "Python 3",
   "language": "python",
   "name": "python3"
  },
  "language_info": {
   "codemirror_mode": {
    "name": "ipython",
    "version": 3
   },
   "file_extension": ".py",
   "mimetype": "text/x-python",
   "name": "python",
   "nbconvert_exporter": "python",
   "pygments_lexer": "ipython3",
   "version": "3.6.8"
  }
 },
 "nbformat": 4,
 "nbformat_minor": 2
}
