{
 "cells": [
  {
   "cell_type": "code",
   "execution_count": 1,
   "metadata": {},
   "outputs": [],
   "source": [
    "from RandomForest_MPI import *\n",
    "from os import system\n",
    "from os import path\n",
    "from os import listdir\n",
    "import matplotlib.pyplot as plt\n",
    "import pandas as pd\n",
    "import numpy as np\n",
    "from sklearn.model_selection import StratifiedKFold\n",
    "from sklearn.model_selection import train_test_split\n",
    "from sklearn.metrics import roc_curve\n",
    "from sklearn.metrics import roc_auc_score\n",
    "import pickle\n",
    "import gc\n",
    "from tqdm import tqdm_notebook\n",
    "\n",
    "def split_and_save(data, labels, savepath):\n",
    "    Splitted = train_test_split(data, labels, test_size=0.2, shuffle=True, stratify=labels)\n",
    "    names = ['X_tr', 'X_v', 'y_tr', 'y_v']\n",
    "    for vals, name in zip(Splitted, names):\n",
    "        np.save(path.join(savepath, name), vals)\n",
    "    return Splitted\n",
    "\n",
    "#CORRECT SCRIPT NAME\n",
    "def call_forest(n_jobs, data, labels, n_trees, max_depth, feature_size, out):\n",
    "    call_str = 'mpirun -np {} python RandomForest_MPI.py -d {} -l {} -nt {} -md {} -fs {} -o {}'\n",
    "    call_str = call_str.format(n_jobs, data, labels, n_trees, max_depth, feature_size, out)\n",
    "    print(call_str)\n",
    "    system(call_str)\n",
    "    return out, data, labels, n_trees, max_depth\n",
    "\n",
    "def get_model(out):\n",
    "    with open(out, 'rb') as fn:\n",
    "        model = pickle.load(fn)\n",
    "    return model\n",
    "\n",
    "def build_curve(labels, preds):\n",
    "    #fpr, tpr, _ = roc_curve(labels, preds[:, 1])\n",
    "    #score = roc_auc_score(labels, preds[:, 1])\n",
    "    fpr, tpr, _ = roc_curve(labels, preds)\n",
    "    score = roc_auc_score(labels, preds)\n",
    "    fpr = np.pad(fpr, (1, 1), mode='constant', constant_values=(0,1))\n",
    "    tpr = np.pad(tpr, (1, 1), mode='constant', constant_values=(0,1))\n",
    "    fig, ax = plt.subplots(figsize=[9, 9])\n",
    "    \n",
    "    ax.plot(np.linspace(0, 1, 20), np.linspace(0, 1, 20), linestyle='--')\n",
    "    ax.plot(fpr, tpr,label='ROC AUC = {}'.format(round(score, 3)))\n",
    "    ax.legend(loc=4)\n",
    "    ax.grid()\n",
    "    ax.set_xlabel('FPR')\n",
    "    ax.set_ylabel('TPR')\n",
    "\n",
    "def BFS(model):\n",
    "    queue = [model.root]\n",
    "    while queue:\n",
    "        curr = queue.pop(0)\n",
    "        if not curr.is_leaf:\n",
    "            print(f'Feature index = {curr.feature}')\n",
    "            print(f'Best threshold = {curr.threshold}')\n",
    "            queue.append(curr.left_child)\n",
    "            queue.append(curr.right_child)"
   ]
  },
  {
   "cell_type": "markdown",
   "metadata": {},
   "source": [
    "## Cancer data:"
   ]
  },
  {
   "cell_type": "code",
   "execution_count": 2,
   "metadata": {},
   "outputs": [
    {
     "name": "stdout",
     "output_type": "stream",
     "text": [
      "Index(['M', 'B'], dtype='object')\n"
     ]
    },
    {
     "data": {
      "text/html": [
       "<div>\n",
       "<style scoped>\n",
       "    .dataframe tbody tr th:only-of-type {\n",
       "        vertical-align: middle;\n",
       "    }\n",
       "\n",
       "    .dataframe tbody tr th {\n",
       "        vertical-align: top;\n",
       "    }\n",
       "\n",
       "    .dataframe thead th {\n",
       "        text-align: right;\n",
       "    }\n",
       "</style>\n",
       "<table border=\"1\" class=\"dataframe\">\n",
       "  <thead>\n",
       "    <tr style=\"text-align: right;\">\n",
       "      <th></th>\n",
       "      <th>label</th>\n",
       "      <th>1</th>\n",
       "      <th>2</th>\n",
       "      <th>3</th>\n",
       "      <th>4</th>\n",
       "      <th>5</th>\n",
       "      <th>6</th>\n",
       "      <th>7</th>\n",
       "      <th>8</th>\n",
       "      <th>9</th>\n",
       "      <th>...</th>\n",
       "      <th>21</th>\n",
       "      <th>22</th>\n",
       "      <th>23</th>\n",
       "      <th>24</th>\n",
       "      <th>25</th>\n",
       "      <th>26</th>\n",
       "      <th>27</th>\n",
       "      <th>28</th>\n",
       "      <th>29</th>\n",
       "      <th>30</th>\n",
       "    </tr>\n",
       "  </thead>\n",
       "  <tbody>\n",
       "    <tr>\n",
       "      <th>0</th>\n",
       "      <td>0</td>\n",
       "      <td>17.99</td>\n",
       "      <td>10.38</td>\n",
       "      <td>122.80</td>\n",
       "      <td>1001.0</td>\n",
       "      <td>0.11840</td>\n",
       "      <td>0.27760</td>\n",
       "      <td>0.3001</td>\n",
       "      <td>0.14710</td>\n",
       "      <td>0.2419</td>\n",
       "      <td>...</td>\n",
       "      <td>25.38</td>\n",
       "      <td>17.33</td>\n",
       "      <td>184.60</td>\n",
       "      <td>2019.0</td>\n",
       "      <td>0.1622</td>\n",
       "      <td>0.6656</td>\n",
       "      <td>0.7119</td>\n",
       "      <td>0.2654</td>\n",
       "      <td>0.4601</td>\n",
       "      <td>0.11890</td>\n",
       "    </tr>\n",
       "    <tr>\n",
       "      <th>1</th>\n",
       "      <td>0</td>\n",
       "      <td>20.57</td>\n",
       "      <td>17.77</td>\n",
       "      <td>132.90</td>\n",
       "      <td>1326.0</td>\n",
       "      <td>0.08474</td>\n",
       "      <td>0.07864</td>\n",
       "      <td>0.0869</td>\n",
       "      <td>0.07017</td>\n",
       "      <td>0.1812</td>\n",
       "      <td>...</td>\n",
       "      <td>24.99</td>\n",
       "      <td>23.41</td>\n",
       "      <td>158.80</td>\n",
       "      <td>1956.0</td>\n",
       "      <td>0.1238</td>\n",
       "      <td>0.1866</td>\n",
       "      <td>0.2416</td>\n",
       "      <td>0.1860</td>\n",
       "      <td>0.2750</td>\n",
       "      <td>0.08902</td>\n",
       "    </tr>\n",
       "    <tr>\n",
       "      <th>2</th>\n",
       "      <td>0</td>\n",
       "      <td>19.69</td>\n",
       "      <td>21.25</td>\n",
       "      <td>130.00</td>\n",
       "      <td>1203.0</td>\n",
       "      <td>0.10960</td>\n",
       "      <td>0.15990</td>\n",
       "      <td>0.1974</td>\n",
       "      <td>0.12790</td>\n",
       "      <td>0.2069</td>\n",
       "      <td>...</td>\n",
       "      <td>23.57</td>\n",
       "      <td>25.53</td>\n",
       "      <td>152.50</td>\n",
       "      <td>1709.0</td>\n",
       "      <td>0.1444</td>\n",
       "      <td>0.4245</td>\n",
       "      <td>0.4504</td>\n",
       "      <td>0.2430</td>\n",
       "      <td>0.3613</td>\n",
       "      <td>0.08758</td>\n",
       "    </tr>\n",
       "    <tr>\n",
       "      <th>3</th>\n",
       "      <td>0</td>\n",
       "      <td>11.42</td>\n",
       "      <td>20.38</td>\n",
       "      <td>77.58</td>\n",
       "      <td>386.1</td>\n",
       "      <td>0.14250</td>\n",
       "      <td>0.28390</td>\n",
       "      <td>0.2414</td>\n",
       "      <td>0.10520</td>\n",
       "      <td>0.2597</td>\n",
       "      <td>...</td>\n",
       "      <td>14.91</td>\n",
       "      <td>26.50</td>\n",
       "      <td>98.87</td>\n",
       "      <td>567.7</td>\n",
       "      <td>0.2098</td>\n",
       "      <td>0.8663</td>\n",
       "      <td>0.6869</td>\n",
       "      <td>0.2575</td>\n",
       "      <td>0.6638</td>\n",
       "      <td>0.17300</td>\n",
       "    </tr>\n",
       "    <tr>\n",
       "      <th>4</th>\n",
       "      <td>0</td>\n",
       "      <td>20.29</td>\n",
       "      <td>14.34</td>\n",
       "      <td>135.10</td>\n",
       "      <td>1297.0</td>\n",
       "      <td>0.10030</td>\n",
       "      <td>0.13280</td>\n",
       "      <td>0.1980</td>\n",
       "      <td>0.10430</td>\n",
       "      <td>0.1809</td>\n",
       "      <td>...</td>\n",
       "      <td>22.54</td>\n",
       "      <td>16.67</td>\n",
       "      <td>152.20</td>\n",
       "      <td>1575.0</td>\n",
       "      <td>0.1374</td>\n",
       "      <td>0.2050</td>\n",
       "      <td>0.4000</td>\n",
       "      <td>0.1625</td>\n",
       "      <td>0.2364</td>\n",
       "      <td>0.07678</td>\n",
       "    </tr>\n",
       "  </tbody>\n",
       "</table>\n",
       "<p>5 rows × 31 columns</p>\n",
       "</div>"
      ],
      "text/plain": [
       "   label      1      2       3       4        5        6       7        8  \\\n",
       "0      0  17.99  10.38  122.80  1001.0  0.11840  0.27760  0.3001  0.14710   \n",
       "1      0  20.57  17.77  132.90  1326.0  0.08474  0.07864  0.0869  0.07017   \n",
       "2      0  19.69  21.25  130.00  1203.0  0.10960  0.15990  0.1974  0.12790   \n",
       "3      0  11.42  20.38   77.58   386.1  0.14250  0.28390  0.2414  0.10520   \n",
       "4      0  20.29  14.34  135.10  1297.0  0.10030  0.13280  0.1980  0.10430   \n",
       "\n",
       "        9   ...        21     22      23      24      25      26      27  \\\n",
       "0  0.2419   ...     25.38  17.33  184.60  2019.0  0.1622  0.6656  0.7119   \n",
       "1  0.1812   ...     24.99  23.41  158.80  1956.0  0.1238  0.1866  0.2416   \n",
       "2  0.2069   ...     23.57  25.53  152.50  1709.0  0.1444  0.4245  0.4504   \n",
       "3  0.2597   ...     14.91  26.50   98.87   567.7  0.2098  0.8663  0.6869   \n",
       "4  0.1809   ...     22.54  16.67  152.20  1575.0  0.1374  0.2050  0.4000   \n",
       "\n",
       "       28      29       30  \n",
       "0  0.2654  0.4601  0.11890  \n",
       "1  0.1860  0.2750  0.08902  \n",
       "2  0.2430  0.3613  0.08758  \n",
       "3  0.2575  0.6638  0.17300  \n",
       "4  0.1625  0.2364  0.07678  \n",
       "\n",
       "[5 rows x 31 columns]"
      ]
     },
     "execution_count": 2,
     "metadata": {},
     "output_type": "execute_result"
    }
   ],
   "source": [
    "df_cancer = pd.read_csv('Data/cancer.csv')\n",
    "df_cancer['label'], enc_c = pd.factorize(df_cancer['label'])\n",
    "print(enc_c)\n",
    "df_cancer.head()"
   ]
  },
  {
   "cell_type": "code",
   "execution_count": 3,
   "metadata": {},
   "outputs": [],
   "source": [
    "num_data_canc = df_cancer.drop(columns='label').values\n",
    "labels_canc = df_cancer['label'].values"
   ]
  },
  {
   "cell_type": "markdown",
   "metadata": {},
   "source": [
    "### Building a single forest:"
   ]
  },
  {
   "cell_type": "code",
   "execution_count": 4,
   "metadata": {},
   "outputs": [],
   "source": [
    "savepath_c = 'Data/CancerTrainVal'\n",
    "X_trc, X_vc, y_trc, y_vc = split_and_save(num_data_canc, labels_canc, savepath_c)"
   ]
  },
  {
   "cell_type": "code",
   "execution_count": 21,
   "metadata": {},
   "outputs": [
    {
     "name": "stdout",
     "output_type": "stream",
     "text": [
      "mpirun -np 4 python RandomForest_MPI.py -d Data/CancerTrainVal/X_tr.npy -l Data/CancerTrainVal/y_tr.npy -nt 20 -md 3 -fs 0.15 -o Cancer.p\n",
      "CPU times: user 1.02 ms, sys: 8.12 ms, total: 9.14 ms\n",
      "Wall time: 1 s\n"
     ]
    },
    {
     "data": {
      "text/plain": [
       "('Cancer.p',\n",
       " 'Data/CancerTrainVal/X_tr.npy',\n",
       " 'Data/CancerTrainVal/y_tr.npy',\n",
       " 20,\n",
       " 3)"
      ]
     },
     "execution_count": 21,
     "metadata": {},
     "output_type": "execute_result"
    }
   ],
   "source": [
    "n_jobs = 4\n",
    "data = 'Data/CancerTrainVal/X_tr.npy'\n",
    "labels = 'Data/CancerTrainVal/y_tr.npy'\n",
    "n_trees = 20\n",
    "max_depth = 3\n",
    "feature_size = 0.15\n",
    "out = 'Cancer.p'\n",
    "\n",
    "% time call_forest(n_jobs, data, labels, n_trees, max_depth, feature_size, out)"
   ]
  },
  {
   "cell_type": "code",
   "execution_count": 22,
   "metadata": {},
   "outputs": [],
   "source": [
    "model = get_model(out)\n",
    "preds = model.predict_proba(X_vc)"
   ]
  },
  {
   "cell_type": "code",
   "execution_count": 23,
   "metadata": {},
   "outputs": [
    {
     "data": {
      "image/png": "[encoded data removed]",
      "text/plain": [
       "<Figure size 648x648 with 1 Axes>"
      ]
     },
     "metadata": {},
     "output_type": "display_data"
    }
   ],
   "source": [
    "build_curve(y_vc, preds)"
   ]
  },
  {
   "cell_type": "markdown",
   "metadata": {},
   "source": [
    "### Using CV to find best parameters:"
   ]
  },
  {
   "cell_type": "code",
   "execution_count": 72,
   "metadata": {},
   "outputs": [],
   "source": [
    "def CV_split_and_save(data, labels, save_path):\n",
    "    from sklearn.model_selection import StratifiedKFold\n",
    "    skf = StratifiedKFold(n_splits=5, shuffle=True)\n",
    "    i = 1\n",
    "    for train_index, test_index in skf.split(data, labels):\n",
    "        np.save(path.join(save_path, f'Fold{i}/X_tr'), data[train_index])\n",
    "        np.save(path.join(save_path, f'Fold{i}/X_v'), data[test_index])\n",
    "        np.save(path.join(save_path, f'Fold{i}/y_tr'), labels[train_index])\n",
    "        np.save(path.join(save_path, f'Fold{i}/y_v'), labels[test_index])\n",
    "        i += 1\n",
    "    \n",
    "def get_forests(CVdata_path, njobs, n_trees=100, max_depth=10, feature_size=0.3):\n",
    "    from os import listdir\n",
    "    import time\n",
    "    for folder in tqdm_notebook(listdir(CVdata_path)):\n",
    "        start = time.clock()\n",
    "        out = path.join(CVdata_path, folder)\n",
    "        X_tr = path.join(out, 'X_tr.npy')\n",
    "        y_tr = path.join(out, 'y_tr.npy')\n",
    "        out = path.join(out, f'RF_{folder}.p')\n",
    "        call_forest(n_jobs, X_tr, y_tr, n_trees, max_depth, feature_size, out)\n",
    "\n",
    "def metrics_on_prunned(CVdata_path, new_ntrees, new_max_depth):\n",
    "    from itertools import product\n",
    "    from os import listdir\n",
    "    folders = listdir(CVdata_path)\n",
    "    results = []\n",
    "    models = []\n",
    "    data = []\n",
    "    labels = []\n",
    "    for folder in folders:\n",
    "        model = get_model(path.join(CVdata_path, folder, f'RF_{folder}.p'))\n",
    "        model.prunify()\n",
    "        models.append(model)\n",
    "        data.append(np.load(path.join(CVdata_path, folder, 'X_v.npy')))\n",
    "        labels.append(np.load(path.join(CVdata_path, folder, 'y_v.npy')))\n",
    "    for n_tree, depth in product(new_ntrees, new_max_depth):\n",
    "        info = {'score': None, 'n_tree': n_tree, 'max_depth': depth}\n",
    "        temp_roc = []\n",
    "        for i, model in enumerate(models):\n",
    "            p = model.predit_proba_prunned(data[i], n_tree, depth)\n",
    "            score = roc_auc_score(labels[i], p)\n",
    "            temp_roc.append(score)\n",
    "        info['score'] = np.mean(temp_roc)\n",
    "        results.append(info)\n",
    "    return results\n",
    "\n",
    "def mean_ROC(CVdata_path, n_trees, max_depth):\n",
    "    from os import listdir\n",
    "    from scipy import interp\n",
    "    folders = listdir(CVdata_path)\n",
    "    nfolds = len(folders)\n",
    "    \n",
    "    scores = []\n",
    "    fprs = []\n",
    "    tprs = []\n",
    "    \n",
    "    fig, ax = plt.subplots(figsize = [10, 10])\n",
    "    ax.set_title('Best model ROC curve')\n",
    "    ax.plot(np.linspace(0, 1, 20), np.linspace(0, 1, 20), linestyle='--')\n",
    "    ax.grid()\n",
    "    ax.set_xlabel('FPR')\n",
    "    ax.set_ylabel('TPR')\n",
    "    \n",
    "    for folder in folders:\n",
    "        model = get_model(path.join(CVdata_path, folder, f'RF_{folder}.p'))\n",
    "        model.prunify()\n",
    "        y_v = np.load(path.join(CVdata_path, folder, 'y_v.npy'))\n",
    "        X_v = np.load(path.join(CVdata_path, folder, 'X_v.npy'))\n",
    "        p = model.predit_proba_prunned(X_v, n_trees, max_depth)\n",
    "        fpr, tpr, _ = roc_curve(y_v, p)\n",
    "        fprs.append(fpr)\n",
    "        tprs.append(tpr)\n",
    "        score = roc_auc_score(y_v, p)\n",
    "        scores.append(score)\n",
    "        ax.plot(fpr, tpr, label=f'Fold {folder[-1]}', linestyle='--', alpha=0.5)\n",
    "    #INTERPOLATE\n",
    "    unique_fprs = np.unique(np.concatenate(fprs, axis=0))\n",
    "    mean_tpr = np.zeros_like(unique_fprs)\n",
    "    for i in range(nfolds):\n",
    "        mean_tpr += interp(unique_fprs, fprs[i], tprs[i])\n",
    "    mean_tpr /= nfolds\n",
    "    unique_fprs = np.pad(unique_fprs, (1, 1), mode='constant', constant_values=(0,1))\n",
    "    mean_tpr = np.pad(mean_tpr, (1, 1), mode='constant', constant_values=(0,1))\n",
    "    ax.plot(unique_fprs, mean_tpr, label=f'Mean ROC\\nMean AUC = {round(np.mean(scores), 3)}', color='red')\n",
    "    ax.legend(loc=4)\n",
    "        "
   ]
  },
  {
   "cell_type": "code",
   "execution_count": 81,
   "metadata": {},
   "outputs": [],
   "source": [
    "savepath = 'Data/CancerCV/'"
   ]
  },
  {
   "cell_type": "code",
   "execution_count": 36,
   "metadata": {},
   "outputs": [],
   "source": [
    "CV_split_and_save(num_data_canc, labels_canc, savepath)"
   ]
  },
  {
   "cell_type": "code",
   "execution_count": 37,
   "metadata": {},
   "outputs": [
    {
     "data": {
      "application/vnd.jupyter.widget-view+json": {
       "model_id": "72a5f22bb3bc47fcbb29bacc6f511143",
       "version_major": 2,
       "version_minor": 0
      },
      "text/html": [
       "<p>Failed to display Jupyter Widget of type <code>HBox</code>.</p>\n",
       "<p>\n",
       "  If you're reading this message in the Jupyter Notebook or JupyterLab Notebook, it may mean\n",
       "  that the widgets JavaScript is still loading. If this message persists, it\n",
       "  likely means that the widgets JavaScript library is either not installed or\n",
       "  not enabled. See the <a href=\"https://ipywidgets.readthedocs.io/en/stable/user_install.html\">Jupyter\n",
       "  Widgets Documentation</a> for setup instructions.\n",
       "</p>\n",
       "<p>\n",
       "  If you're reading this message in another frontend (for example, a static\n",
       "  rendering on GitHub or <a href=\"https://nbviewer.jupyter.org/\">NBViewer</a>),\n",
       "  it may mean that your frontend doesn't currently support widgets.\n",
       "</p>\n"
      ],
      "text/plain": [
       "HBox(children=(IntProgress(value=0, max=5), HTML(value='')))"
      ]
     },
     "metadata": {},
     "output_type": "display_data"
    },
    {
     "name": "stdout",
     "output_type": "stream",
     "text": [
      "mpirun -np 4 python RandomForest_MPI.py -d Data/CancerCV/Fold1/X_tr.npy -l Data/CancerCV/Fold1/y_tr.npy -nt 100 -md 10 -fs 0.3 -o Data/CancerCV/Fold1/RF_Fold1.p\n",
      "mpirun -np 4 python RandomForest_MPI.py -d Data/CancerCV/Fold2/X_tr.npy -l Data/CancerCV/Fold2/y_tr.npy -nt 100 -md 10 -fs 0.3 -o Data/CancerCV/Fold2/RF_Fold2.p\n",
      "mpirun -np 4 python RandomForest_MPI.py -d Data/CancerCV/Fold3/X_tr.npy -l Data/CancerCV/Fold3/y_tr.npy -nt 100 -md 10 -fs 0.3 -o Data/CancerCV/Fold3/RF_Fold3.p\n",
      "mpirun -np 4 python RandomForest_MPI.py -d Data/CancerCV/Fold4/X_tr.npy -l Data/CancerCV/Fold4/y_tr.npy -nt 100 -md 10 -fs 0.3 -o Data/CancerCV/Fold4/RF_Fold4.p\n",
      "mpirun -np 4 python RandomForest_MPI.py -d Data/CancerCV/Fold5/X_tr.npy -l Data/CancerCV/Fold5/y_tr.npy -nt 100 -md 10 -fs 0.3 -o Data/CancerCV/Fold5/RF_Fold5.p\n",
      "\n"
     ]
    }
   ],
   "source": [
    "get_forests(savepath, njobs=4)"
   ]
  },
  {
   "cell_type": "code",
   "execution_count": 82,
   "metadata": {},
   "outputs": [],
   "source": [
    "result = metrics_on_prunned(savepath, new_ntrees=[5, 10, 20, 30, 50, 100], new_max_depth=[2, 3, 5, 7, 10])"
   ]
  },
  {
   "cell_type": "code",
   "execution_count": 83,
   "metadata": {},
   "outputs": [
    {
     "name": "stdout",
     "output_type": "stream",
     "text": [
      "Best parameters are: \n",
      "{'score': 0.99146909883071044, 'n_tree': 50, 'max_depth': 7}\n"
     ]
    }
   ],
   "source": [
    "print('Best parameters are: ')\n",
    "print(sorted(result, key=lambda x: x['score'], reverse = True)[0])"
   ]
  },
  {
   "cell_type": "code",
   "execution_count": 84,
   "metadata": {},
   "outputs": [
    {
     "data": {
      "image/png": "[encoded data removed]",
      "text/plain": [
       "<Figure size 720x720 with 1 Axes>"
      ]
     },
     "metadata": {},
     "output_type": "display_data"
    }
   ],
   "source": [
    "mean_ROC(savepath, 50, 7)"
   ]
  },
  {
   "cell_type": "markdown",
   "metadata": {},
   "source": [
    "## Spam data:"
   ]
  },
  {
   "cell_type": "code",
   "execution_count": 74,
   "metadata": {},
   "outputs": [
    {
     "data": {
      "text/html": [
       "<div>\n",
       "<style scoped>\n",
       "    .dataframe tbody tr th:only-of-type {\n",
       "        vertical-align: middle;\n",
       "    }\n",
       "\n",
       "    .dataframe tbody tr th {\n",
       "        vertical-align: top;\n",
       "    }\n",
       "\n",
       "    .dataframe thead th {\n",
       "        text-align: right;\n",
       "    }\n",
       "</style>\n",
       "<table border=\"1\" class=\"dataframe\">\n",
       "  <thead>\n",
       "    <tr style=\"text-align: right;\">\n",
       "      <th></th>\n",
       "      <th>word_freq_make</th>\n",
       "      <th>word_freq_address</th>\n",
       "      <th>word_freq_all</th>\n",
       "      <th>word_freq_3d</th>\n",
       "      <th>word_freq_our</th>\n",
       "      <th>word_freq_over</th>\n",
       "      <th>word_freq_remove</th>\n",
       "      <th>word_freq_internet</th>\n",
       "      <th>word_freq_order</th>\n",
       "      <th>word_freq_mail</th>\n",
       "      <th>...</th>\n",
       "      <th>char_freq_:</th>\n",
       "      <th>char_freq_(</th>\n",
       "      <th>char_freq_[</th>\n",
       "      <th>char_freq_!</th>\n",
       "      <th>char_freq_$</th>\n",
       "      <th>char_freq_#</th>\n",
       "      <th>capital_run_length_average</th>\n",
       "      <th>capital_run_length_longest</th>\n",
       "      <th>capital_run_length_total</th>\n",
       "      <th>label</th>\n",
       "    </tr>\n",
       "  </thead>\n",
       "  <tbody>\n",
       "    <tr>\n",
       "      <th>0</th>\n",
       "      <td>0.00</td>\n",
       "      <td>0.64</td>\n",
       "      <td>0.64</td>\n",
       "      <td>0.0</td>\n",
       "      <td>0.32</td>\n",
       "      <td>0.00</td>\n",
       "      <td>0.00</td>\n",
       "      <td>0.00</td>\n",
       "      <td>0.00</td>\n",
       "      <td>0.00</td>\n",
       "      <td>...</td>\n",
       "      <td>0.00</td>\n",
       "      <td>0.000</td>\n",
       "      <td>0.0</td>\n",
       "      <td>0.778</td>\n",
       "      <td>0.000</td>\n",
       "      <td>0.000</td>\n",
       "      <td>3.756</td>\n",
       "      <td>61</td>\n",
       "      <td>278</td>\n",
       "      <td>1</td>\n",
       "    </tr>\n",
       "    <tr>\n",
       "      <th>1</th>\n",
       "      <td>0.21</td>\n",
       "      <td>0.28</td>\n",
       "      <td>0.50</td>\n",
       "      <td>0.0</td>\n",
       "      <td>0.14</td>\n",
       "      <td>0.28</td>\n",
       "      <td>0.21</td>\n",
       "      <td>0.07</td>\n",
       "      <td>0.00</td>\n",
       "      <td>0.94</td>\n",
       "      <td>...</td>\n",
       "      <td>0.00</td>\n",
       "      <td>0.132</td>\n",
       "      <td>0.0</td>\n",
       "      <td>0.372</td>\n",
       "      <td>0.180</td>\n",
       "      <td>0.048</td>\n",
       "      <td>5.114</td>\n",
       "      <td>101</td>\n",
       "      <td>1028</td>\n",
       "      <td>1</td>\n",
       "    </tr>\n",
       "    <tr>\n",
       "      <th>2</th>\n",
       "      <td>0.06</td>\n",
       "      <td>0.00</td>\n",
       "      <td>0.71</td>\n",
       "      <td>0.0</td>\n",
       "      <td>1.23</td>\n",
       "      <td>0.19</td>\n",
       "      <td>0.19</td>\n",
       "      <td>0.12</td>\n",
       "      <td>0.64</td>\n",
       "      <td>0.25</td>\n",
       "      <td>...</td>\n",
       "      <td>0.01</td>\n",
       "      <td>0.143</td>\n",
       "      <td>0.0</td>\n",
       "      <td>0.276</td>\n",
       "      <td>0.184</td>\n",
       "      <td>0.010</td>\n",
       "      <td>9.821</td>\n",
       "      <td>485</td>\n",
       "      <td>2259</td>\n",
       "      <td>1</td>\n",
       "    </tr>\n",
       "    <tr>\n",
       "      <th>3</th>\n",
       "      <td>0.00</td>\n",
       "      <td>0.00</td>\n",
       "      <td>0.00</td>\n",
       "      <td>0.0</td>\n",
       "      <td>0.63</td>\n",
       "      <td>0.00</td>\n",
       "      <td>0.31</td>\n",
       "      <td>0.63</td>\n",
       "      <td>0.31</td>\n",
       "      <td>0.63</td>\n",
       "      <td>...</td>\n",
       "      <td>0.00</td>\n",
       "      <td>0.137</td>\n",
       "      <td>0.0</td>\n",
       "      <td>0.137</td>\n",
       "      <td>0.000</td>\n",
       "      <td>0.000</td>\n",
       "      <td>3.537</td>\n",
       "      <td>40</td>\n",
       "      <td>191</td>\n",
       "      <td>1</td>\n",
       "    </tr>\n",
       "    <tr>\n",
       "      <th>4</th>\n",
       "      <td>0.00</td>\n",
       "      <td>0.00</td>\n",
       "      <td>0.00</td>\n",
       "      <td>0.0</td>\n",
       "      <td>0.63</td>\n",
       "      <td>0.00</td>\n",
       "      <td>0.31</td>\n",
       "      <td>0.63</td>\n",
       "      <td>0.31</td>\n",
       "      <td>0.63</td>\n",
       "      <td>...</td>\n",
       "      <td>0.00</td>\n",
       "      <td>0.135</td>\n",
       "      <td>0.0</td>\n",
       "      <td>0.135</td>\n",
       "      <td>0.000</td>\n",
       "      <td>0.000</td>\n",
       "      <td>3.537</td>\n",
       "      <td>40</td>\n",
       "      <td>191</td>\n",
       "      <td>1</td>\n",
       "    </tr>\n",
       "  </tbody>\n",
       "</table>\n",
       "<p>5 rows × 58 columns</p>\n",
       "</div>"
      ],
      "text/plain": [
       "   word_freq_make  word_freq_address  word_freq_all  word_freq_3d  \\\n",
       "0            0.00               0.64           0.64           0.0   \n",
       "1            0.21               0.28           0.50           0.0   \n",
       "2            0.06               0.00           0.71           0.0   \n",
       "3            0.00               0.00           0.00           0.0   \n",
       "4            0.00               0.00           0.00           0.0   \n",
       "\n",
       "   word_freq_our  word_freq_over  word_freq_remove  word_freq_internet  \\\n",
       "0           0.32            0.00              0.00                0.00   \n",
       "1           0.14            0.28              0.21                0.07   \n",
       "2           1.23            0.19              0.19                0.12   \n",
       "3           0.63            0.00              0.31                0.63   \n",
       "4           0.63            0.00              0.31                0.63   \n",
       "\n",
       "   word_freq_order  word_freq_mail  ...    char_freq_:  char_freq_(  \\\n",
       "0             0.00            0.00  ...           0.00        0.000   \n",
       "1             0.00            0.94  ...           0.00        0.132   \n",
       "2             0.64            0.25  ...           0.01        0.143   \n",
       "3             0.31            0.63  ...           0.00        0.137   \n",
       "4             0.31            0.63  ...           0.00        0.135   \n",
       "\n",
       "   char_freq_[  char_freq_!  char_freq_$  char_freq_#  \\\n",
       "0          0.0        0.778        0.000        0.000   \n",
       "1          0.0        0.372        0.180        0.048   \n",
       "2          0.0        0.276        0.184        0.010   \n",
       "3          0.0        0.137        0.000        0.000   \n",
       "4          0.0        0.135        0.000        0.000   \n",
       "\n",
       "   capital_run_length_average  capital_run_length_longest  \\\n",
       "0                       3.756                          61   \n",
       "1                       5.114                         101   \n",
       "2                       9.821                         485   \n",
       "3                       3.537                          40   \n",
       "4                       3.537                          40   \n",
       "\n",
       "   capital_run_length_total  label  \n",
       "0                       278      1  \n",
       "1                      1028      1  \n",
       "2                      2259      1  \n",
       "3                       191      1  \n",
       "4                       191      1  \n",
       "\n",
       "[5 rows x 58 columns]"
      ]
     },
     "execution_count": 74,
     "metadata": {},
     "output_type": "execute_result"
    }
   ],
   "source": [
    "df_spam = pd.read_csv('Data/spam.csv')\n",
    "df_spam.head()"
   ]
  },
  {
   "cell_type": "code",
   "execution_count": 75,
   "metadata": {},
   "outputs": [],
   "source": [
    "num_data_spam = df_spam.drop(columns='label').values\n",
    "labels_spam = df_spam['label'].values"
   ]
  },
  {
   "cell_type": "markdown",
   "metadata": {},
   "source": [
    "savepath_s = 'Data/SpamTrainVal'\n",
    "X_trs, X_vs, y_trs, y_vs = split_and_save(df_spam.drop(columns='label'), df_spam['label'], savepath_s)"
   ]
  },
  {
   "cell_type": "code",
   "execution_count": 55,
   "metadata": {},
   "outputs": [
    {
     "name": "stdout",
     "output_type": "stream",
     "text": [
      "mpirun -np 4 python RandomForest_MPI.py -d Data/SpamTrainVal/X_tr.npy -l Data/SpamTrainVal/y_tr.npy -nt 20 -md 3 -fs 0.15 -o Spam.p\n",
      "CPU times: user 3.31 ms, sys: 8.39 ms, total: 11.7 ms\n",
      "Wall time: 3.34 s\n"
     ]
    },
    {
     "data": {
      "text/plain": [
       "('Spam.p', 'Data/SpamTrainVal/X_tr.npy', 'Data/SpamTrainVal/y_tr.npy', 20, 3)"
      ]
     },
     "execution_count": 55,
     "metadata": {},
     "output_type": "execute_result"
    }
   ],
   "source": [
    "n_jobs = 4\n",
    "data = 'Data/SpamTrainVal/X_tr.npy'\n",
    "labels = 'Data/SpamTrainVal/y_tr.npy'\n",
    "n_trees = 20\n",
    "max_depth = 3\n",
    "feature_size = 0.15\n",
    "out = 'Spam.p'\n",
    "\n",
    "% time call_forest(n_jobs, data, labels, n_trees, max_depth, feature_size, out)"
   ]
  },
  {
   "cell_type": "code",
   "execution_count": 56,
   "metadata": {},
   "outputs": [],
   "source": [
    "model = get_model(out)\n",
    "preds = model.predict_proba(X_vs)"
   ]
  },
  {
   "cell_type": "code",
   "execution_count": 57,
   "metadata": {},
   "outputs": [
    {
     "data": {
      "image/png": "[encoded data removed]",
      "text/plain": [
       "<Figure size 648x648 with 1 Axes>"
      ]
     },
     "metadata": {},
     "output_type": "display_data"
    }
   ],
   "source": [
    "build_curve(y_vs, preds)"
   ]
  },
  {
   "cell_type": "markdown",
   "metadata": {},
   "source": [
    "### Using CV to find best parameters"
   ]
  },
  {
   "cell_type": "code",
   "execution_count": 85,
   "metadata": {},
   "outputs": [],
   "source": [
    "savepath = 'Data/SpamCV/'"
   ]
  },
  {
   "cell_type": "code",
   "execution_count": 76,
   "metadata": {},
   "outputs": [],
   "source": [
    "CV_split_and_save(num_data_spam, labels_spam, savepath)"
   ]
  },
  {
   "cell_type": "code",
   "execution_count": 78,
   "metadata": {},
   "outputs": [
    {
     "data": {
      "application/vnd.jupyter.widget-view+json": {
       "model_id": "1aac03cc0e9142a18e96c93f9919b73f",
       "version_major": 2,
       "version_minor": 0
      },
      "text/html": [
       "<p>Failed to display Jupyter Widget of type <code>HBox</code>.</p>\n",
       "<p>\n",
       "  If you're reading this message in the Jupyter Notebook or JupyterLab Notebook, it may mean\n",
       "  that the widgets JavaScript is still loading. If this message persists, it\n",
       "  likely means that the widgets JavaScript library is either not installed or\n",
       "  not enabled. See the <a href=\"https://ipywidgets.readthedocs.io/en/stable/user_install.html\">Jupyter\n",
       "  Widgets Documentation</a> for setup instructions.\n",
       "</p>\n",
       "<p>\n",
       "  If you're reading this message in another frontend (for example, a static\n",
       "  rendering on GitHub or <a href=\"https://nbviewer.jupyter.org/\">NBViewer</a>),\n",
       "  it may mean that your frontend doesn't currently support widgets.\n",
       "</p>\n"
      ],
      "text/plain": [
       "HBox(children=(IntProgress(value=0, max=5), HTML(value='')))"
      ]
     },
     "metadata": {},
     "output_type": "display_data"
    },
    {
     "name": "stdout",
     "output_type": "stream",
     "text": [
      "mpirun -np 4 python RandomForest_MPI.py -d Data/SpamCV/Fold1/X_tr.npy -l Data/SpamCV/Fold1/y_tr.npy -nt 100 -md 10 -fs 0.3 -o Data/SpamCV/Fold1/RF_Fold1.p\n",
      "mpirun -np 4 python RandomForest_MPI.py -d Data/SpamCV/Fold2/X_tr.npy -l Data/SpamCV/Fold2/y_tr.npy -nt 100 -md 10 -fs 0.3 -o Data/SpamCV/Fold2/RF_Fold2.p\n",
      "mpirun -np 4 python RandomForest_MPI.py -d Data/SpamCV/Fold3/X_tr.npy -l Data/SpamCV/Fold3/y_tr.npy -nt 100 -md 10 -fs 0.3 -o Data/SpamCV/Fold3/RF_Fold3.p\n",
      "mpirun -np 4 python RandomForest_MPI.py -d Data/SpamCV/Fold4/X_tr.npy -l Data/SpamCV/Fold4/y_tr.npy -nt 100 -md 10 -fs 0.3 -o Data/SpamCV/Fold4/RF_Fold4.p\n",
      "mpirun -np 4 python RandomForest_MPI.py -d Data/SpamCV/Fold5/X_tr.npy -l Data/SpamCV/Fold5/y_tr.npy -nt 100 -md 10 -fs 0.3 -o Data/SpamCV/Fold5/RF_Fold5.p\n",
      "\n"
     ]
    }
   ],
   "source": [
    "get_forests(savepath, njobs=4)"
   ]
  },
  {
   "cell_type": "code",
   "execution_count": 87,
   "metadata": {},
   "outputs": [],
   "source": [
    "result = metrics_on_prunned(savepath, new_ntrees=[5, 10, 20, 30, 50, 100], new_max_depth=[2, 3, 5, 7, 10])"
   ]
  },
  {
   "cell_type": "code",
   "execution_count": 88,
   "metadata": {},
   "outputs": [
    {
     "name": "stdout",
     "output_type": "stream",
     "text": [
      "Best parameters are: \n",
      "{'score': 0.98354772117465961, 'n_tree': 100, 'max_depth': 10}\n"
     ]
    }
   ],
   "source": [
    "print('Best parameters are: ')\n",
    "print(sorted(result, key=lambda x: x['score'], reverse = True)[0])"
   ]
  },
  {
   "cell_type": "code",
   "execution_count": 89,
   "metadata": {},
   "outputs": [
    {
     "data": {
      "image/png": "[encoded data removed]",
      "text/plain": [
       "<Figure size 720x720 with 1 Axes>"
      ]
     },
     "metadata": {},
     "output_type": "display_data"
    }
   ],
   "source": [
    "mean_ROC(savepath, 100, 10)"
   ]
  }
 ],
 "metadata": {
  "kernelspec": {
   "display_name": "Python 3",
   "language": "python",
   "name": "python3"
  },
  "language_info": {
   "codemirror_mode": {
    "name": "ipython",
    "version": 3
   },
   "file_extension": ".py",
   "mimetype": "text/x-python",
   "name": "python",
   "nbconvert_exporter": "python",
   "pygments_lexer": "ipython3",
   "version": "3.6.8"
  }
 },
 "nbformat": 4,
 "nbformat_minor": 2
}
