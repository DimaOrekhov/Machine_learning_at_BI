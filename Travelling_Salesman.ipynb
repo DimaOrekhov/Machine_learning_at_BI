{
 "cells": [
  {
   "cell_type": "code",
   "execution_count": 3,
   "metadata": {},
   "outputs": [],
   "source": [
    "import numpy as np\n",
    "import pandas as pd\n",
    "import matplotlib.pyplot as plt\n",
    "from scipy.spatial import distance_matrix\n",
    "from tqdm import tqdm_notebook"
   ]
  },
  {
   "cell_type": "code",
   "execution_count": 101,
   "metadata": {},
   "outputs": [],
   "source": [
    "def eval_path(path, dist_mat):\n",
    "    return dist_mat[path[:-1], path[1:]].sum()\n",
    "\n",
    "def draw_path(path, points, cost):\n",
    "    fig, ax = plt.subplots(figsize=[12, 10])\n",
    "    x_ax = []\n",
    "    y_ax = []\n",
    "    for i in range(len(path)-1):\n",
    "        curr_p = points[path[i]]\n",
    "        next_p = points[path[i+1]]\n",
    "        x_ax += [curr_p[0], next_p[0]]\n",
    "        y_ax += [curr_p[1], curr_p[1]]\n",
    "    x_ax += [next_p[0]]\n",
    "    y_ax += [next_p[1]]\n",
    "    ax.plot(x_ax, y_ax, label=f'Path length = {cost}', alpha=0.8)\n",
    "    ax.scatter(points[path][:, 0], points[path][:, 1], c='r')\n",
    "    ax.legend()\n",
    "    ax.grid()\n",
    "    \n",
    "def MonteCarloSearch(dist_mat, sample_size):\n",
    "    n = dist_mat.shape[0]\n",
    "    best_path = None\n",
    "    best_cost = np.Inf\n",
    "    for i in tqdm_notebook(range(sample_size)):\n",
    "        path = np.random.permutation(n)\n",
    "        cost = eval_path(path, dist_mat)\n",
    "        if cost < best_cost:\n",
    "            best_cost = cost\n",
    "            best_path = path\n",
    "    return best_path, best_cost\n",
    "\n",
    "def RandomWalk(dist_mat, n_iter=1000000):\n",
    "    n = dist_mat.shape[0]\n",
    "    current_path = np.random.permutation(n)\n",
    "    best_cost = eval_path(current_path, dist_mat)\n",
    "    best_path = np.copy(current_path)\n",
    "    \n",
    "    for i in tqdm_notebook(range(n_iter)):\n",
    "        swap = np.random.choice(n, size=2, replace=False)\n",
    "        current_path[swap] = current_path[swap[::-1]]\n",
    "        cost = eval_path(current_path, dist_mat)\n",
    "        if cost < best_cost:\n",
    "            best_cost = cost\n",
    "            best_path = np.copy(current_path)\n",
    "    \n",
    "    return best_path, best_cost\n",
    "\n",
    "def HillClimbing(dist_mat, n_runs=100):\n",
    "    n = dist_mat.shape[0]\n",
    "    best_path = None\n",
    "    best_cost = np.Inf\n",
    "    \n",
    "    for _ in tqdm_notebook(range(n_runs)):\n",
    "        current_path = np.random.permutation(n)\n",
    "        cost = eval_path(current_path, dist_mat)\n",
    "        if cost < best_cost:\n",
    "            best_path = np.copy(current_path)\n",
    "            best_cost = cost\n",
    "        \n",
    "        changed = True\n",
    "        while changed:\n",
    "            changed = False\n",
    "            costs = []\n",
    "            for i in range(n-1):    \n",
    "                neighbor = np.copy(current_path)\n",
    "                neighbor[i], neighbor[i+1] = neighbor[i+1], neighbor[i]\n",
    "                costs.append(eval_path(neighbor, dist_mat))\n",
    "            minind = np.argmin(costs)\n",
    "            if costs[minind] < cost:\n",
    "                current_path[minind], current_path[minind+1] = \\\n",
    "                current_path[minind+1], current_path[minind]\n",
    "                \n",
    "                cost = costs[minind]\n",
    "                changed = True\n",
    "                    \n",
    "    return best_path, best_cost\n",
    "    \n",
    "def SimulatedAnnealing(dist_mat, n_iter):\n",
    "    \n",
    "    def transit(e1, e2, T):\n",
    "        if e2 < e1:\n",
    "            return 1\n",
    "        else:\n",
    "            return np.exp(-(e2 - e1)/T)\n",
    "        \n",
    "    n = dist_mat.shape[0]\n",
    "    current_path = np.random.permutation(n)\n",
    "    curr_cost = eval_path(current_path, dist_mat)\n",
    "    \n",
    "    for i in tqdm_notebook(range(n_iter)):\n",
    "        T = n_iter/(i+1)\n",
    "        \n",
    "        neighbor = np.copy(current_path)\n",
    "        swap = np.random.choice(n, size=2, replace=False)\n",
    "        neighbor[swap] = neighbor[swap[::-1]]\n",
    "        \n",
    "        n_cost = eval_path(neighbor, dist_mat)\n",
    "        p_transit = transit(curr_cost, n_cost, T)\n",
    "        if np.random.rand() <= p_transit:\n",
    "            current_path = neighbor\n",
    "            curr_cost = n_cost\n",
    "    \n",
    "    return current_path, curr_cost"
   ]
  },
  {
   "cell_type": "code",
   "execution_count": 92,
   "metadata": {},
   "outputs": [],
   "source": [
    "cities = pd.read_csv('Data/tsp.csv', header=None, index_col=0).values\n",
    "dmat = distance_matrix(cities, cities, p=1)"
   ]
  },
  {
   "cell_type": "markdown",
   "metadata": {},
   "source": [
    "### Monte Carlo search:"
   ]
  },
  {
   "cell_type": "code",
   "execution_count": 75,
   "metadata": {},
   "outputs": [
    {
     "data": {
      "application/vnd.jupyter.widget-view+json": {
       "model_id": "decba4b2719147a4842e2941ad0eb412",
       "version_major": 2,
       "version_minor": 0
      },
      "text/plain": [
       "HBox(children=(IntProgress(value=0, max=1000000), HTML(value='')))"
      ]
     },
     "metadata": {},
     "output_type": "display_data"
    }
   ],
   "source": [
    "bp_mc, cost_mc = MonteCarloSearch(dmat, int(10e5))"
   ]
  },
  {
   "cell_type": "code",
   "execution_count": 76,
   "metadata": {},
   "outputs": [
    {
     "data": {
      "image/png": "[encoded data removed]",
      "text/plain": [
       "<Figure size 864x720 with 1 Axes>"
      ]
     },
     "metadata": {},
     "output_type": "display_data"
    }
   ],
   "source": [
    "draw_path(bp_mc, cities, cost_mc)"
   ]
  },
  {
   "cell_type": "markdown",
   "metadata": {},
   "source": [
    "### Random Walk search:"
   ]
  },
  {
   "cell_type": "code",
   "execution_count": 77,
   "metadata": {},
   "outputs": [
    {
     "data": {
      "application/vnd.jupyter.widget-view+json": {
       "model_id": "34f9d1d83fd44f08be704f6316b509df",
       "version_major": 2,
       "version_minor": 0
      },
      "text/plain": [
       "HBox(children=(IntProgress(value=0, max=1000000), HTML(value='')))"
      ]
     },
     "metadata": {},
     "output_type": "display_data"
    }
   ],
   "source": [
    "bp_rw, cost_rw = RandomWalk(dmat, int(10e5))"
   ]
  },
  {
   "cell_type": "code",
   "execution_count": 78,
   "metadata": {},
   "outputs": [
    {
     "data": {
      "image/png": "[encoded data removed]",
      "text/plain": [
       "<Figure size 864x720 with 1 Axes>"
      ]
     },
     "metadata": {},
     "output_type": "display_data"
    }
   ],
   "source": [
    "draw_path(bp_rw, cities, cost_rw)"
   ]
  },
  {
   "cell_type": "markdown",
   "metadata": {},
   "source": [
    "### Hill Climbing:"
   ]
  },
  {
   "cell_type": "code",
   "execution_count": 18,
   "metadata": {},
   "outputs": [
    {
     "data": {
      "application/vnd.jupyter.widget-view+json": {
       "model_id": "ae00ffa0011f402488b7521a2bd770c8",
       "version_major": 2,
       "version_minor": 0
      },
      "text/plain": [
       "HBox(children=(IntProgress(value=0, max=1000), HTML(value='')))"
      ]
     },
     "metadata": {},
     "output_type": "display_data"
    }
   ],
   "source": [
    "bp_hc, cost_hc = HillClimbing(dmat, 1000)"
   ]
  },
  {
   "cell_type": "code",
   "execution_count": 58,
   "metadata": {},
   "outputs": [
    {
     "data": {
      "image/png": "[encoded data removed]",
      "text/plain": [
       "<Figure size 864x720 with 1 Axes>"
      ]
     },
     "metadata": {},
     "output_type": "display_data"
    }
   ],
   "source": [
    "draw_path(bp_hc, cities, cost_hc)"
   ]
  },
  {
   "cell_type": "markdown",
   "metadata": {},
   "source": [
    "### Simulated annealing:"
   ]
  },
  {
   "cell_type": "code",
   "execution_count": 102,
   "metadata": {},
   "outputs": [
    {
     "data": {
      "application/vnd.jupyter.widget-view+json": {
       "model_id": "c8ff806a10e5486f81c4b9ec95f29b24",
       "version_major": 2,
       "version_minor": 0
      },
      "text/plain": [
       "HBox(children=(IntProgress(value=0, max=1000000), HTML(value='')))"
      ]
     },
     "metadata": {},
     "output_type": "display_data"
    }
   ],
   "source": [
    "bp_sa, cost_sa = SimulatedAnnealing(dmat, int(10e5))"
   ]
  },
  {
   "cell_type": "code",
   "execution_count": 103,
   "metadata": {},
   "outputs": [
    {
     "data": {
      "image/png": "[encoded data removed]",
      "text/plain": [
       "<Figure size 864x720 with 1 Axes>"
      ]
     },
     "metadata": {},
     "output_type": "display_data"
    }
   ],
   "source": [
    "draw_path(bp_sa, cities, cost_sa)"
   ]
  },
  {
   "cell_type": "code",
   "execution_count": null,
   "metadata": {},
   "outputs": [],
   "source": []
  }
 ],
 "metadata": {
  "kernelspec": {
   "display_name": "Python 3",
   "language": "python",
   "name": "python3"
  },
  "language_info": {
   "codemirror_mode": {
    "name": "ipython",
    "version": 3
   },
   "file_extension": ".py",
   "mimetype": "text/x-python",
   "name": "python",
   "nbconvert_exporter": "python",
   "pygments_lexer": "ipython3",
   "version": "3.6.8"
  },
  "widgets": {
   "application/vnd.jupyter.widget-state+json": {
    "state": {
     "008e466e305648a3a585c45437df1e97": {
      "model_module": "@jupyter-widgets/controls",
      "model_module_version": "1.4.0",
      "model_name": "HTMLModel",
      "state": {
       "layout": "IPY_MODEL_b7ee73bdd2c2445a9c6a0ea880f687be",
       "style": "IPY_MODEL_2f9566ca3fc04393a622bba1165f4ac3",
       "value": "100% 10000/10000 [00:00&lt;00:00, 50045.51it/s]"
      }
     },
     "032b70c2087844d5b4c7b57bbca5cdf7": {
      "model_module": "@jupyter-widgets/base",
      "model_module_version": "1.1.0",
      "model_name": "LayoutModel",
      "state": {}
     },
     "044c7440216540238a72241925aab332": {
      "model_module": "@jupyter-widgets/controls",
      "model_module_version": "1.4.0",
      "model_name": "HTMLModel",
      "state": {
       "layout": "IPY_MODEL_e0fdd4860871443dbab380cbb933c9f0",
       "style": "IPY_MODEL_0ba01ea56cc34d5bbb0e65cc866d5e72",
       "value": "100% 1000000/1000000 [00:29&lt;00:00, 33699.27it/s]"
      }
     },
     "0509d36513d846dba88e22c774afa27b": {
      "model_module": "@jupyter-widgets/base",
      "model_module_version": "1.1.0",
      "model_name": "LayoutModel",
      "state": {}
     },
     "06875a85fb114d3cbb852def355ad971": {
      "model_module": "@jupyter-widgets/controls",
      "model_module_version": "1.4.0",
      "model_name": "HTMLModel",
      "state": {
       "layout": "IPY_MODEL_685be9a124654eb5b0c93219937473e1",
       "style": "IPY_MODEL_5f61c234fcf244558d7ccefb66a7d0c4",
       "value": "100% 10000/10000 [00:00&lt;00:00, 53037.61it/s]"
      }
     },
     "07f28c861881482fa38e86cc7b05ee9b": {
      "model_module": "@jupyter-widgets/base",
      "model_module_version": "1.1.0",
      "model_name": "LayoutModel",
      "state": {}
     },
     "0b26b23ed0f945d586c1b69fd63acc29": {
      "model_module": "@jupyter-widgets/controls",
      "model_module_version": "1.4.0",
      "model_name": "HBoxModel",
      "state": {
       "children": [
        "IPY_MODEL_eab8299906e64709b4e282dfcd262507",
        "IPY_MODEL_5a7bf9e5e4c44d0db0d3454e294757e0"
       ],
       "layout": "IPY_MODEL_0ebe8af4b696423cbaaa2bd24d141dd4"
      }
     },
     "0ba01ea56cc34d5bbb0e65cc866d5e72": {
      "model_module": "@jupyter-widgets/controls",
      "model_module_version": "1.4.0",
      "model_name": "DescriptionStyleModel",
      "state": {
       "description_width": ""
      }
     },
     "0ebe8af4b696423cbaaa2bd24d141dd4": {
      "model_module": "@jupyter-widgets/base",
      "model_module_version": "1.1.0",
      "model_name": "LayoutModel",
      "state": {}
     },
     "134e49c960014bba9037e1df16fa34b9": {
      "model_module": "@jupyter-widgets/base",
      "model_module_version": "1.1.0",
      "model_name": "LayoutModel",
      "state": {}
     },
     "141bd1eaaba846a3936095c3a085cd61": {
      "model_module": "@jupyter-widgets/controls",
      "model_module_version": "1.4.0",
      "model_name": "HTMLModel",
      "state": {
       "layout": "IPY_MODEL_c091b1392071487e87f89f430bbfbf40",
       "style": "IPY_MODEL_73d62a39e0d845d3a4c3e305cb36bf3d",
       "value": "100% 100000/100000 [00:01&lt;00:00, 57131.76it/s]"
      }
     },
     "181efe2d6a1445c384dd77fc84105a9d": {
      "model_module": "@jupyter-widgets/controls",
      "model_module_version": "1.4.0",
      "model_name": "DescriptionStyleModel",
      "state": {
       "description_width": ""
      }
     },
     "188163d45f674720849bff3a9f6f0915": {
      "model_module": "@jupyter-widgets/controls",
      "model_module_version": "1.4.0",
      "model_name": "IntProgressModel",
      "state": {
       "bar_style": "success",
       "layout": "IPY_MODEL_619fd361783546708714154348273528",
       "max": 1000000,
       "style": "IPY_MODEL_3c12fb3685ba4829a114c2ec67950257",
       "value": 1000000
      }
     },
     "22451f162d5b4740b27817c6dca85cb4": {
      "model_module": "@jupyter-widgets/controls",
      "model_module_version": "1.4.0",
      "model_name": "HBoxModel",
      "state": {
       "children": [
        "IPY_MODEL_a6c9eb34fcaa49188f7f55204785d205",
        "IPY_MODEL_41fab77d0764447fbf65b67860794395"
       ],
       "layout": "IPY_MODEL_07f28c861881482fa38e86cc7b05ee9b"
      }
     },
     "23eb317993e1487f93950b7b13efd13d": {
      "model_module": "@jupyter-widgets/controls",
      "model_module_version": "1.4.0",
      "model_name": "HBoxModel",
      "state": {
       "children": [
        "IPY_MODEL_45155007e368467c9cd20c4a91b83be9",
        "IPY_MODEL_975d97d664b84ddaa221f188f93bd62f"
       ],
       "layout": "IPY_MODEL_2ed749d148dc4b03a2bf94870fc95bb8"
      }
     },
     "26f1ee9ec6ea4b4db4977f8405388f91": {
      "model_module": "@jupyter-widgets/controls",
      "model_module_version": "1.4.0",
      "model_name": "ProgressStyleModel",
      "state": {
       "description_width": ""
      }
     },
     "2b1ce70eb8604f04896c0d45aedab94c": {
      "model_module": "@jupyter-widgets/controls",
      "model_module_version": "1.4.0",
      "model_name": "DescriptionStyleModel",
      "state": {
       "description_width": ""
      }
     },
     "2ed749d148dc4b03a2bf94870fc95bb8": {
      "model_module": "@jupyter-widgets/base",
      "model_module_version": "1.1.0",
      "model_name": "LayoutModel",
      "state": {}
     },
     "2f9566ca3fc04393a622bba1165f4ac3": {
      "model_module": "@jupyter-widgets/controls",
      "model_module_version": "1.4.0",
      "model_name": "DescriptionStyleModel",
      "state": {
       "description_width": ""
      }
     },
     "32b953437a234c37aa7e1e29e8a74ca5": {
      "model_module": "@jupyter-widgets/controls",
      "model_module_version": "1.4.0",
      "model_name": "IntProgressModel",
      "state": {
       "bar_style": "success",
       "layout": "IPY_MODEL_e048d755179643fbae1af7f80db49e0e",
       "max": 1000,
       "style": "IPY_MODEL_ad60a2f0e52e4e5ea161ef3cb857d648",
       "value": 1000
      }
     },
     "34cbd4d5fa56409abea3a28d57742375": {
      "model_module": "@jupyter-widgets/controls",
      "model_module_version": "1.4.0",
      "model_name": "HTMLModel",
      "state": {
       "layout": "IPY_MODEL_f457efd0da624890993ed19ac5885f6c",
       "style": "IPY_MODEL_80efae3dc2664c2a875a57c73f36df5d",
       "value": "100% 1000000/1000000 [00:17&lt;00:00, 57524.45it/s]"
      }
     },
     "34f9d1d83fd44f08be704f6316b509df": {
      "model_module": "@jupyter-widgets/controls",
      "model_module_version": "1.4.0",
      "model_name": "HBoxModel",
      "state": {
       "children": [
        "IPY_MODEL_70a634acaddf451ca2a1896493c901e6",
        "IPY_MODEL_044c7440216540238a72241925aab332"
       ],
       "layout": "IPY_MODEL_b6d215edcf0b460da321f9bdd37b7b48"
      }
     },
     "354d0f083cc44b8bb5a4b91abbea5b65": {
      "model_module": "@jupyter-widgets/controls",
      "model_module_version": "1.4.0",
      "model_name": "ProgressStyleModel",
      "state": {
       "description_width": ""
      }
     },
     "36de2f089e564adc80e84a8f21bde2af": {
      "model_module": "@jupyter-widgets/base",
      "model_module_version": "1.1.0",
      "model_name": "LayoutModel",
      "state": {}
     },
     "36f36b25be234f59a2888a0252a0a005": {
      "model_module": "@jupyter-widgets/controls",
      "model_module_version": "1.4.0",
      "model_name": "ProgressStyleModel",
      "state": {
       "description_width": ""
      }
     },
     "3c12fb3685ba4829a114c2ec67950257": {
      "model_module": "@jupyter-widgets/controls",
      "model_module_version": "1.4.0",
      "model_name": "ProgressStyleModel",
      "state": {
       "description_width": ""
      }
     },
     "3c2a2a1a7cec4da5b5671556fd1bd1e6": {
      "model_module": "@jupyter-widgets/controls",
      "model_module_version": "1.4.0",
      "model_name": "HTMLModel",
      "state": {
       "layout": "IPY_MODEL_f0ec71434f78452ca2ab83ec5a77ec15",
       "style": "IPY_MODEL_2b1ce70eb8604f04896c0d45aedab94c",
       "value": "100% 1000000/1000000 [00:17&lt;00:00, 58468.07it/s]"
      }
     },
     "3cae9cbe556b4f8795bb6d86e9bcffac": {
      "model_module": "@jupyter-widgets/controls",
      "model_module_version": "1.4.0",
      "model_name": "IntProgressModel",
      "state": {
       "bar_style": "success",
       "layout": "IPY_MODEL_9a6700044f3d4f9e80ec4292cddef7df",
       "max": 10000,
       "style": "IPY_MODEL_734517780b1f4caa88fdb3bebac3b615",
       "value": 10000
      }
     },
     "3dd5468d6f304afab33fedc31d502b10": {
      "model_module": "@jupyter-widgets/base",
      "model_module_version": "1.1.0",
      "model_name": "LayoutModel",
      "state": {}
     },
     "41fab77d0764447fbf65b67860794395": {
      "model_module": "@jupyter-widgets/controls",
      "model_module_version": "1.4.0",
      "model_name": "HTMLModel",
      "state": {
       "layout": "IPY_MODEL_6528e8f3023e48038ee29ba1b211eaa5",
       "style": "IPY_MODEL_181efe2d6a1445c384dd77fc84105a9d",
       "value": "100% 10000/10000 [00:00&lt;00:00, 47781.35it/s]"
      }
     },
     "45155007e368467c9cd20c4a91b83be9": {
      "model_module": "@jupyter-widgets/controls",
      "model_module_version": "1.4.0",
      "model_name": "IntProgressModel",
      "state": {
       "bar_style": "danger",
       "layout": "IPY_MODEL_3dd5468d6f304afab33fedc31d502b10",
       "max": 10000000,
       "style": "IPY_MODEL_26f1ee9ec6ea4b4db4977f8405388f91",
       "value": 1934050
      }
     },
     "48c43eb1a86044e8a875ed701c35d27a": {
      "model_module": "@jupyter-widgets/base",
      "model_module_version": "1.1.0",
      "model_name": "LayoutModel",
      "state": {}
     },
     "4b4fba3d1b5d464abc8401b7d7d479d5": {
      "model_module": "@jupyter-widgets/controls",
      "model_module_version": "1.4.0",
      "model_name": "HTMLModel",
      "state": {
       "layout": "IPY_MODEL_72b874b932444b52a515ceb35cd49460",
       "style": "IPY_MODEL_766e7e3b9d8d4727b2ce48ada030f923",
       "value": "100% 1000/1000 [00:05&lt;00:00, 167.54it/s]"
      }
     },
     "4e6178744bc5483cad4019b197db16d7": {
      "model_module": "@jupyter-widgets/controls",
      "model_module_version": "1.4.0",
      "model_name": "IntProgressModel",
      "state": {
       "bar_style": "success",
       "layout": "IPY_MODEL_d5718565528048a0ab78516e9056f8a8",
       "max": 1000000,
       "style": "IPY_MODEL_fdd6dfbd07eb4c4b82d2d39d6d893ab9",
       "value": 1000000
      }
     },
     "58f07d355ccb4b74ae3258c43f89b8fa": {
      "model_module": "@jupyter-widgets/controls",
      "model_module_version": "1.4.0",
      "model_name": "HBoxModel",
      "state": {
       "children": [
        "IPY_MODEL_7b7aea8f10f64a4985863c9e4cb183e7",
        "IPY_MODEL_bd30893c572c46b7a65e3e96b165b72f"
       ],
       "layout": "IPY_MODEL_6ebb65047ad14a18b23273cb00e1b1cc"
      }
     },
     "599be5ee3a614048b5acb7a758a6e654": {
      "model_module": "@jupyter-widgets/base",
      "model_module_version": "1.1.0",
      "model_name": "LayoutModel",
      "state": {}
     },
     "5a7bf9e5e4c44d0db0d3454e294757e0": {
      "model_module": "@jupyter-widgets/controls",
      "model_module_version": "1.4.0",
      "model_name": "HTMLModel",
      "state": {
       "layout": "IPY_MODEL_0509d36513d846dba88e22c774afa27b",
       "style": "IPY_MODEL_dd0e6d17c8e9404f916200e33a770caf",
       "value": "100% 1000000/1000000 [00:29&lt;00:00, 33524.66it/s]"
      }
     },
     "5f61c234fcf244558d7ccefb66a7d0c4": {
      "model_module": "@jupyter-widgets/controls",
      "model_module_version": "1.4.0",
      "model_name": "DescriptionStyleModel",
      "state": {
       "description_width": ""
      }
     },
     "619fd361783546708714154348273528": {
      "model_module": "@jupyter-widgets/base",
      "model_module_version": "1.1.0",
      "model_name": "LayoutModel",
      "state": {}
     },
     "6528e8f3023e48038ee29ba1b211eaa5": {
      "model_module": "@jupyter-widgets/base",
      "model_module_version": "1.1.0",
      "model_name": "LayoutModel",
      "state": {}
     },
     "662333c4e1734748865ce03986d2dda7": {
      "model_module": "@jupyter-widgets/controls",
      "model_module_version": "1.4.0",
      "model_name": "HBoxModel",
      "state": {
       "children": [
        "IPY_MODEL_6e15aa2164c046dfb06c3379e0f5a2e9",
        "IPY_MODEL_008e466e305648a3a585c45437df1e97"
       ],
       "layout": "IPY_MODEL_9ee669a35c8a48159b1b31cf24beebd9"
      }
     },
     "6797b74240ed474fa22e01af799102e0": {
      "model_module": "@jupyter-widgets/base",
      "model_module_version": "1.1.0",
      "model_name": "LayoutModel",
      "state": {}
     },
     "67a345182a814f14af870a5cf6ac4a7f": {
      "model_module": "@jupyter-widgets/controls",
      "model_module_version": "1.4.0",
      "model_name": "DescriptionStyleModel",
      "state": {
       "description_width": ""
      }
     },
     "685be9a124654eb5b0c93219937473e1": {
      "model_module": "@jupyter-widgets/base",
      "model_module_version": "1.1.0",
      "model_name": "LayoutModel",
      "state": {}
     },
     "6e15aa2164c046dfb06c3379e0f5a2e9": {
      "model_module": "@jupyter-widgets/controls",
      "model_module_version": "1.4.0",
      "model_name": "IntProgressModel",
      "state": {
       "bar_style": "success",
       "layout": "IPY_MODEL_134e49c960014bba9037e1df16fa34b9",
       "max": 10000,
       "style": "IPY_MODEL_827009c812fa46ce8f4b2b847881e1a8",
       "value": 10000
      }
     },
     "6ebb65047ad14a18b23273cb00e1b1cc": {
      "model_module": "@jupyter-widgets/base",
      "model_module_version": "1.1.0",
      "model_name": "LayoutModel",
      "state": {}
     },
     "700a558134904169a6e7d1559d062e7a": {
      "model_module": "@jupyter-widgets/controls",
      "model_module_version": "1.4.0",
      "model_name": "DescriptionStyleModel",
      "state": {
       "description_width": ""
      }
     },
     "70a634acaddf451ca2a1896493c901e6": {
      "model_module": "@jupyter-widgets/controls",
      "model_module_version": "1.4.0",
      "model_name": "IntProgressModel",
      "state": {
       "bar_style": "success",
       "layout": "IPY_MODEL_cbd31515b44d4b05965ef09f07888d1e",
       "max": 1000000,
       "style": "IPY_MODEL_8fdd98220a0047ada97dadc4484b3d9a",
       "value": 1000000
      }
     },
     "7136e66481d843ea87371fc60ca84603": {
      "model_module": "@jupyter-widgets/base",
      "model_module_version": "1.1.0",
      "model_name": "LayoutModel",
      "state": {}
     },
     "72b874b932444b52a515ceb35cd49460": {
      "model_module": "@jupyter-widgets/base",
      "model_module_version": "1.1.0",
      "model_name": "LayoutModel",
      "state": {}
     },
     "731f0e03ff7b479d81863e02e4f1a54b": {
      "model_module": "@jupyter-widgets/controls",
      "model_module_version": "1.4.0",
      "model_name": "ProgressStyleModel",
      "state": {
       "description_width": ""
      }
     },
     "734517780b1f4caa88fdb3bebac3b615": {
      "model_module": "@jupyter-widgets/controls",
      "model_module_version": "1.4.0",
      "model_name": "ProgressStyleModel",
      "state": {
       "description_width": ""
      }
     },
     "73d62a39e0d845d3a4c3e305cb36bf3d": {
      "model_module": "@jupyter-widgets/controls",
      "model_module_version": "1.4.0",
      "model_name": "DescriptionStyleModel",
      "state": {
       "description_width": ""
      }
     },
     "766e7e3b9d8d4727b2ce48ada030f923": {
      "model_module": "@jupyter-widgets/controls",
      "model_module_version": "1.4.0",
      "model_name": "DescriptionStyleModel",
      "state": {
       "description_width": ""
      }
     },
     "77df9e9723684f86b0d575f8ed0e2971": {
      "model_module": "@jupyter-widgets/controls",
      "model_module_version": "1.4.0",
      "model_name": "ProgressStyleModel",
      "state": {
       "description_width": ""
      }
     },
     "7929c66ab87e4d57b9004436db45f8e7": {
      "model_module": "@jupyter-widgets/base",
      "model_module_version": "1.1.0",
      "model_name": "LayoutModel",
      "state": {}
     },
     "7b2fe58cb44d440ba218496c5c383e1e": {
      "model_module": "@jupyter-widgets/controls",
      "model_module_version": "1.4.0",
      "model_name": "ProgressStyleModel",
      "state": {
       "description_width": ""
      }
     },
     "7b7aea8f10f64a4985863c9e4cb183e7": {
      "model_module": "@jupyter-widgets/controls",
      "model_module_version": "1.4.0",
      "model_name": "IntProgressModel",
      "state": {
       "bar_style": "success",
       "layout": "IPY_MODEL_6797b74240ed474fa22e01af799102e0",
       "max": 1000,
       "style": "IPY_MODEL_c92504bb96ed431a99b4bef4bf64fbab",
       "value": 1000
      }
     },
     "7e030d5d8dbd41fcbd7c43a9d10a3351": {
      "model_module": "@jupyter-widgets/base",
      "model_module_version": "1.1.0",
      "model_name": "LayoutModel",
      "state": {}
     },
     "80efae3dc2664c2a875a57c73f36df5d": {
      "model_module": "@jupyter-widgets/controls",
      "model_module_version": "1.4.0",
      "model_name": "DescriptionStyleModel",
      "state": {
       "description_width": ""
      }
     },
     "8103b3847d974a83b5e5e087f360a5e8": {
      "model_module": "@jupyter-widgets/controls",
      "model_module_version": "1.4.0",
      "model_name": "HTMLModel",
      "state": {
       "layout": "IPY_MODEL_83371387c5f544939b86b7228260f32a",
       "style": "IPY_MODEL_67a345182a814f14af870a5cf6ac4a7f",
       "value": "100% 1000000/1000000 [00:17&lt;00:00, 58639.00it/s]"
      }
     },
     "821abd88359e41378cd09ae5ec808084": {
      "model_module": "@jupyter-widgets/controls",
      "model_module_version": "1.4.0",
      "model_name": "HBoxModel",
      "state": {
       "children": [
        "IPY_MODEL_4e6178744bc5483cad4019b197db16d7",
        "IPY_MODEL_3c2a2a1a7cec4da5b5671556fd1bd1e6"
       ],
       "layout": "IPY_MODEL_f1f15ecbb7794b148214a468771480c5"
      }
     },
     "827009c812fa46ce8f4b2b847881e1a8": {
      "model_module": "@jupyter-widgets/controls",
      "model_module_version": "1.4.0",
      "model_name": "ProgressStyleModel",
      "state": {
       "description_width": ""
      }
     },
     "83371387c5f544939b86b7228260f32a": {
      "model_module": "@jupyter-widgets/base",
      "model_module_version": "1.1.0",
      "model_name": "LayoutModel",
      "state": {}
     },
     "8346517c0fd2406fb187a8beec4e5327": {
      "model_module": "@jupyter-widgets/controls",
      "model_module_version": "1.4.0",
      "model_name": "DescriptionStyleModel",
      "state": {
       "description_width": ""
      }
     },
     "8718c834fe4c458b8a4e38c37dbf4206": {
      "model_module": "@jupyter-widgets/base",
      "model_module_version": "1.1.0",
      "model_name": "LayoutModel",
      "state": {}
     },
     "87a6b006cd154903bcb801df36bf57b8": {
      "model_module": "@jupyter-widgets/controls",
      "model_module_version": "1.4.0",
      "model_name": "IntProgressModel",
      "state": {
       "bar_style": "success",
       "layout": "IPY_MODEL_ca031bfe0d99458980ce985095a752f3",
       "max": 100000,
       "style": "IPY_MODEL_36f36b25be234f59a2888a0252a0a005",
       "value": 100000
      }
     },
     "8b002a5d55654726a0293991232a55dd": {
      "model_module": "@jupyter-widgets/controls",
      "model_module_version": "1.4.0",
      "model_name": "HBoxModel",
      "state": {
       "children": [
        "IPY_MODEL_3cae9cbe556b4f8795bb6d86e9bcffac",
        "IPY_MODEL_06875a85fb114d3cbb852def355ad971"
       ],
       "layout": "IPY_MODEL_de4ffce2789b42608819055d1ce4e176"
      }
     },
     "8c523c1c0af048a7a84b0319171dbd58": {
      "model_module": "@jupyter-widgets/controls",
      "model_module_version": "1.4.0",
      "model_name": "IntProgressModel",
      "state": {
       "bar_style": "success",
       "layout": "IPY_MODEL_8718c834fe4c458b8a4e38c37dbf4206",
       "max": 1000000,
       "style": "IPY_MODEL_354d0f083cc44b8bb5a4b91abbea5b65",
       "value": 1000000
      }
     },
     "8fdd98220a0047ada97dadc4484b3d9a": {
      "model_module": "@jupyter-widgets/controls",
      "model_module_version": "1.4.0",
      "model_name": "ProgressStyleModel",
      "state": {
       "description_width": ""
      }
     },
     "96a9be26f43f41b7a31928caf3dc6183": {
      "model_module": "@jupyter-widgets/controls",
      "model_module_version": "1.4.0",
      "model_name": "ProgressStyleModel",
      "state": {
       "description_width": ""
      }
     },
     "975d97d664b84ddaa221f188f93bd62f": {
      "model_module": "@jupyter-widgets/controls",
      "model_module_version": "1.4.0",
      "model_name": "HTMLModel",
      "state": {
       "layout": "IPY_MODEL_bea02123a85247798d9853db66ebae0a",
       "style": "IPY_MODEL_700a558134904169a6e7d1559d062e7a",
       "value": " 19% 1934050/10000000 [00:50&lt;02:36, 51518.12it/s]"
      }
     },
     "9a6700044f3d4f9e80ec4292cddef7df": {
      "model_module": "@jupyter-widgets/base",
      "model_module_version": "1.1.0",
      "model_name": "LayoutModel",
      "state": {}
     },
     "9c657e037b684c5a96a35e2d3d696250": {
      "model_module": "@jupyter-widgets/base",
      "model_module_version": "1.1.0",
      "model_name": "LayoutModel",
      "state": {}
     },
     "9ee669a35c8a48159b1b31cf24beebd9": {
      "model_module": "@jupyter-widgets/base",
      "model_module_version": "1.1.0",
      "model_name": "LayoutModel",
      "state": {}
     },
     "a1b7fd86ac3d48c7b6e69416d73e9243": {
      "model_module": "@jupyter-widgets/controls",
      "model_module_version": "1.4.0",
      "model_name": "HTMLModel",
      "state": {
       "layout": "IPY_MODEL_48c43eb1a86044e8a875ed701c35d27a",
       "style": "IPY_MODEL_fc0667a5a08841b7ac60027d663c044c",
       "value": "100% 1000000/1000000 [00:45&lt;00:00, 22152.62it/s]"
      }
     },
     "a59d2c55745140d6bfe476315b291bcd": {
      "model_module": "@jupyter-widgets/controls",
      "model_module_version": "1.4.0",
      "model_name": "IntProgressModel",
      "state": {
       "bar_style": "success",
       "layout": "IPY_MODEL_9c657e037b684c5a96a35e2d3d696250",
       "max": 10000,
       "style": "IPY_MODEL_7b2fe58cb44d440ba218496c5c383e1e",
       "value": 10000
      }
     },
     "a6c9eb34fcaa49188f7f55204785d205": {
      "model_module": "@jupyter-widgets/controls",
      "model_module_version": "1.4.0",
      "model_name": "IntProgressModel",
      "state": {
       "bar_style": "success",
       "layout": "IPY_MODEL_7e030d5d8dbd41fcbd7c43a9d10a3351",
       "max": 10000,
       "style": "IPY_MODEL_77df9e9723684f86b0d575f8ed0e2971",
       "value": 10000
      }
     },
     "ad60a2f0e52e4e5ea161ef3cb857d648": {
      "model_module": "@jupyter-widgets/controls",
      "model_module_version": "1.4.0",
      "model_name": "ProgressStyleModel",
      "state": {
       "description_width": ""
      }
     },
     "ae00ffa0011f402488b7521a2bd770c8": {
      "model_module": "@jupyter-widgets/controls",
      "model_module_version": "1.4.0",
      "model_name": "HBoxModel",
      "state": {
       "children": [
        "IPY_MODEL_32b953437a234c37aa7e1e29e8a74ca5",
        "IPY_MODEL_4b4fba3d1b5d464abc8401b7d7d479d5"
       ],
       "layout": "IPY_MODEL_b5753d761db44be3976ea934a9ce6411"
      }
     },
     "b5753d761db44be3976ea934a9ce6411": {
      "model_module": "@jupyter-widgets/base",
      "model_module_version": "1.1.0",
      "model_name": "LayoutModel",
      "state": {}
     },
     "b65837c7b02648319bad06e01b7ca4f2": {
      "model_module": "@jupyter-widgets/controls",
      "model_module_version": "1.4.0",
      "model_name": "HBoxModel",
      "state": {
       "children": [
        "IPY_MODEL_a59d2c55745140d6bfe476315b291bcd",
        "IPY_MODEL_cec60cf806fa4964aad36c4b849b3df1"
       ],
       "layout": "IPY_MODEL_7929c66ab87e4d57b9004436db45f8e7"
      }
     },
     "b6d215edcf0b460da321f9bdd37b7b48": {
      "model_module": "@jupyter-widgets/base",
      "model_module_version": "1.1.0",
      "model_name": "LayoutModel",
      "state": {}
     },
     "b7ee73bdd2c2445a9c6a0ea880f687be": {
      "model_module": "@jupyter-widgets/base",
      "model_module_version": "1.1.0",
      "model_name": "LayoutModel",
      "state": {}
     },
     "bb38d20e4a3c419f9feee1438fb33a11": {
      "model_module": "@jupyter-widgets/controls",
      "model_module_version": "1.4.0",
      "model_name": "HBoxModel",
      "state": {
       "children": [
        "IPY_MODEL_87a6b006cd154903bcb801df36bf57b8",
        "IPY_MODEL_141bd1eaaba846a3936095c3a085cd61"
       ],
       "layout": "IPY_MODEL_cd79e59eee18496dba352ca1f578bef6"
      }
     },
     "bd30893c572c46b7a65e3e96b165b72f": {
      "model_module": "@jupyter-widgets/controls",
      "model_module_version": "1.4.0",
      "model_name": "HTMLModel",
      "state": {
       "layout": "IPY_MODEL_c4e086a21f224a429bad5b3a646d9239",
       "style": "IPY_MODEL_8346517c0fd2406fb187a8beec4e5327",
       "value": "100% 1000/1000 [00:05&lt;00:00, 167.43it/s]"
      }
     },
     "bea02123a85247798d9853db66ebae0a": {
      "model_module": "@jupyter-widgets/base",
      "model_module_version": "1.1.0",
      "model_name": "LayoutModel",
      "state": {}
     },
     "c091b1392071487e87f89f430bbfbf40": {
      "model_module": "@jupyter-widgets/base",
      "model_module_version": "1.1.0",
      "model_name": "LayoutModel",
      "state": {}
     },
     "c4e086a21f224a429bad5b3a646d9239": {
      "model_module": "@jupyter-widgets/base",
      "model_module_version": "1.1.0",
      "model_name": "LayoutModel",
      "state": {}
     },
     "c8ff806a10e5486f81c4b9ec95f29b24": {
      "model_module": "@jupyter-widgets/controls",
      "model_module_version": "1.4.0",
      "model_name": "HBoxModel",
      "state": {
       "children": [
        "IPY_MODEL_8c523c1c0af048a7a84b0319171dbd58",
        "IPY_MODEL_a1b7fd86ac3d48c7b6e69416d73e9243"
       ],
       "layout": "IPY_MODEL_d9181273f5474c16873d36dee83d3d33"
      }
     },
     "c92504bb96ed431a99b4bef4bf64fbab": {
      "model_module": "@jupyter-widgets/controls",
      "model_module_version": "1.4.0",
      "model_name": "ProgressStyleModel",
      "state": {
       "description_width": ""
      }
     },
     "ca031bfe0d99458980ce985095a752f3": {
      "model_module": "@jupyter-widgets/base",
      "model_module_version": "1.1.0",
      "model_name": "LayoutModel",
      "state": {}
     },
     "cbd31515b44d4b05965ef09f07888d1e": {
      "model_module": "@jupyter-widgets/base",
      "model_module_version": "1.1.0",
      "model_name": "LayoutModel",
      "state": {}
     },
     "cd79e59eee18496dba352ca1f578bef6": {
      "model_module": "@jupyter-widgets/base",
      "model_module_version": "1.1.0",
      "model_name": "LayoutModel",
      "state": {}
     },
     "cec60cf806fa4964aad36c4b849b3df1": {
      "model_module": "@jupyter-widgets/controls",
      "model_module_version": "1.4.0",
      "model_name": "HTMLModel",
      "state": {
       "layout": "IPY_MODEL_599be5ee3a614048b5acb7a758a6e654",
       "style": "IPY_MODEL_ea7b6e3b33fd4647bf0dc8a0f8e9798b",
       "value": "100% 10000/10000 [00:00&lt;00:00, 47888.33it/s]"
      }
     },
     "d5718565528048a0ab78516e9056f8a8": {
      "model_module": "@jupyter-widgets/base",
      "model_module_version": "1.1.0",
      "model_name": "LayoutModel",
      "state": {}
     },
     "d7c6dea1db044fa1926127cdcbdb1d7a": {
      "model_module": "@jupyter-widgets/controls",
      "model_module_version": "1.4.0",
      "model_name": "IntProgressModel",
      "state": {
       "bar_style": "success",
       "layout": "IPY_MODEL_36de2f089e564adc80e84a8f21bde2af",
       "max": 1000000,
       "style": "IPY_MODEL_96a9be26f43f41b7a31928caf3dc6183",
       "value": 1000000
      }
     },
     "d81a407999fc4b249b2c361c6a023b83": {
      "model_module": "@jupyter-widgets/controls",
      "model_module_version": "1.4.0",
      "model_name": "HBoxModel",
      "state": {
       "children": [
        "IPY_MODEL_d7c6dea1db044fa1926127cdcbdb1d7a",
        "IPY_MODEL_8103b3847d974a83b5e5e087f360a5e8"
       ],
       "layout": "IPY_MODEL_032b70c2087844d5b4c7b57bbca5cdf7"
      }
     },
     "d9181273f5474c16873d36dee83d3d33": {
      "model_module": "@jupyter-widgets/base",
      "model_module_version": "1.1.0",
      "model_name": "LayoutModel",
      "state": {}
     },
     "dd0e6d17c8e9404f916200e33a770caf": {
      "model_module": "@jupyter-widgets/controls",
      "model_module_version": "1.4.0",
      "model_name": "DescriptionStyleModel",
      "state": {
       "description_width": ""
      }
     },
     "de4ffce2789b42608819055d1ce4e176": {
      "model_module": "@jupyter-widgets/base",
      "model_module_version": "1.1.0",
      "model_name": "LayoutModel",
      "state": {}
     },
     "decba4b2719147a4842e2941ad0eb412": {
      "model_module": "@jupyter-widgets/controls",
      "model_module_version": "1.4.0",
      "model_name": "HBoxModel",
      "state": {
       "children": [
        "IPY_MODEL_188163d45f674720849bff3a9f6f0915",
        "IPY_MODEL_34cbd4d5fa56409abea3a28d57742375"
       ],
       "layout": "IPY_MODEL_fedd7e18e09f4af481127b9a8ec8ac15"
      }
     },
     "e048d755179643fbae1af7f80db49e0e": {
      "model_module": "@jupyter-widgets/base",
      "model_module_version": "1.1.0",
      "model_name": "LayoutModel",
      "state": {}
     },
     "e0fdd4860871443dbab380cbb933c9f0": {
      "model_module": "@jupyter-widgets/base",
      "model_module_version": "1.1.0",
      "model_name": "LayoutModel",
      "state": {}
     },
     "ea7b6e3b33fd4647bf0dc8a0f8e9798b": {
      "model_module": "@jupyter-widgets/controls",
      "model_module_version": "1.4.0",
      "model_name": "DescriptionStyleModel",
      "state": {
       "description_width": ""
      }
     },
     "eab8299906e64709b4e282dfcd262507": {
      "model_module": "@jupyter-widgets/controls",
      "model_module_version": "1.4.0",
      "model_name": "IntProgressModel",
      "state": {
       "bar_style": "success",
       "layout": "IPY_MODEL_7136e66481d843ea87371fc60ca84603",
       "max": 1000000,
       "style": "IPY_MODEL_731f0e03ff7b479d81863e02e4f1a54b",
       "value": 1000000
      }
     },
     "f0ec71434f78452ca2ab83ec5a77ec15": {
      "model_module": "@jupyter-widgets/base",
      "model_module_version": "1.1.0",
      "model_name": "LayoutModel",
      "state": {}
     },
     "f1f15ecbb7794b148214a468771480c5": {
      "model_module": "@jupyter-widgets/base",
      "model_module_version": "1.1.0",
      "model_name": "LayoutModel",
      "state": {}
     },
     "f457efd0da624890993ed19ac5885f6c": {
      "model_module": "@jupyter-widgets/base",
      "model_module_version": "1.1.0",
      "model_name": "LayoutModel",
      "state": {}
     },
     "fc0667a5a08841b7ac60027d663c044c": {
      "model_module": "@jupyter-widgets/controls",
      "model_module_version": "1.4.0",
      "model_name": "DescriptionStyleModel",
      "state": {
       "description_width": ""
      }
     },
     "fdd6dfbd07eb4c4b82d2d39d6d893ab9": {
      "model_module": "@jupyter-widgets/controls",
      "model_module_version": "1.4.0",
      "model_name": "ProgressStyleModel",
      "state": {
       "description_width": ""
      }
     },
     "fedd7e18e09f4af481127b9a8ec8ac15": {
      "model_module": "@jupyter-widgets/base",
      "model_module_version": "1.1.0",
      "model_name": "LayoutModel",
      "state": {}
     }
    },
    "version_major": 2,
    "version_minor": 0
   }
  }
 },
 "nbformat": 4,
 "nbformat_minor": 2
}
